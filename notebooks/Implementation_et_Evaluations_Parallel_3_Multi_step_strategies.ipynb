{
  "nbformat": 4,
  "nbformat_minor": 0,
  "metadata": {
    "colab": {
      "provenance": [],
      "gpuType": "T4"
    },
    "kernelspec": {
      "name": "python3",
      "display_name": "Python 3"
    },
    "language_info": {
      "name": "python"
    },
    "accelerator": "GPU"
  },
  "cells": [
    {
      "cell_type": "code",
      "execution_count": null,
      "metadata": {
        "id": "_P0oAGe0NtYT"
      },
      "outputs": [],
      "source": [
        "# Importing functions and classes we'll use\n",
        "\n",
        "import numpy as np\n",
        "import matplotlib.pyplot as plt\n",
        "import pandas as pd\n",
        "import tensorflow as tf\n",
        "from tensorflow.keras.models import Sequential\n",
        "from tensorflow.keras.layers import Dense\n",
        "from tensorflow.keras.layers import SimpleRNN, LSTM, GRU, Dropout, Flatten\n",
        "from sklearn.preprocessing import MinMaxScaler\n",
        "from sklearn.metrics import mean_squared_error, mean_absolute_error\n",
        "from statsmodels.tsa.statespace.sarimax import SARIMAX\n",
        "from warnings import catch_warnings\n",
        "from warnings import filterwarnings\n",
        "from tqdm import tqdm\n",
        "import keras\n",
        "import sys\n",
        "import scipy.stats\n",
        "import json\n",
        "import numpy.fft\n",
        "import time\n",
        "from decimal import Decimal\n",
        "import math\n",
        "import seaborn as sns\n",
        "%matplotlib inline"
      ]
    },
    {
      "cell_type": "code",
      "source": [
        "# fix random seed for reproducibility\n",
        "tf.random.set_seed(1234)"
      ],
      "metadata": {
        "id": "F9Re14iTN5EU"
      },
      "execution_count": null,
      "outputs": []
    },
    {
      "cell_type": "code",
      "source": [
        "df = pd.read_excel('/content/sample_data/new_dataset.xlsx')\n",
        "node1_delay = df[['node1_delay']]\n",
        "\n",
        "dataset = node1_delay.values"
      ],
      "metadata": {
        "id": "582GZWhRN7I4"
      },
      "execution_count": null,
      "outputs": []
    },
    {
      "cell_type": "markdown",
      "source": [
        "# MA Filter Implementation"
      ],
      "metadata": {
        "id": "qjAkcsCCUssQ"
      }
    },
    {
      "cell_type": "code",
      "source": [
        "# ASAP\n",
        "class Metrics(object):\n",
        "    def __init__(self, values):\n",
        "        self.set_values( values )\n",
        "\n",
        "    def set_values(self, values):\n",
        "        self.values = values\n",
        "        self.r = self.k = None\n",
        "\n",
        "    @property\n",
        "    def kurtosis(self):\n",
        "        if self.k is None:\n",
        "            self.k = scipy.stats.kurtosis(self.values)\n",
        "        return self.k\n",
        "\n",
        "    @property\n",
        "    def roughness(self):\n",
        "        if self.r is None:\n",
        "            self.r = np.std(np.diff(self.values))\n",
        "        return self.r\n",
        "\n",
        "class ACF(Metrics):\n",
        "    CORR_THRESH = 0.2\n",
        "    def __init__(self, values, max_lag=None):\n",
        "        super(ACF, self).__init__(values)\n",
        "        if max_lag is None:\n",
        "            max_lag = len(values) / 5\n",
        "        self.max_lag = int(max_lag)\n",
        "        self.max_acf = 0.0\n",
        "\n",
        "        # Calculate autocorrelation via FFT\n",
        "        # Demean\n",
        "        demeaned = values - np.mean(values)\n",
        "        # Pad data to power of 2\n",
        "        l = int(2.0 ** (int(math.log(len(demeaned),2.0)) + 1))\n",
        "        padded = np.append(demeaned, ([0.0] * (l - len(demeaned))))\n",
        "        # FFT and inverse FFT\n",
        "        F_f = numpy.fft.fft( padded )\n",
        "        R_t = numpy.fft.ifft( F_f * np.conjugate(F_f) )\n",
        "        self.correlations = R_t[:int(max_lag)].real / R_t[0].real\n",
        "\n",
        "        # Find autocorrelation peaks\n",
        "        self.peaks = []\n",
        "        if len(self.correlations) >1 :\n",
        "            positive = self.correlations[1] > self.correlations[0]\n",
        "            max = 1\n",
        "            for i in range(2, len(self.correlations)):\n",
        "                if not positive and self.correlations[i] > self.correlations[i-1]:\n",
        "                    max = i\n",
        "                    positive = not positive\n",
        "                elif positive and self.correlations[i] > self.correlations[max]:\n",
        "                    max = i\n",
        "                elif positive and self.correlations[i] < self.correlations[i-1]:\n",
        "                    if max > 1 and self.correlations[max] > self.CORR_THRESH:\n",
        "                        self.peaks.append(max)\n",
        "                        if self.correlations[max] > self.max_acf:\n",
        "                            self.max_acf = self.correlations[max]\n",
        "                    positive = not positive\n",
        "        # If there is no autocorrelation peak within the MAX_WINDOW boundary,\n",
        "        # try windows from the largest to the smallest\n",
        "        if len(self.peaks) <= 1:\n",
        "            self.peaks = range(2, len(self.correlations))\n",
        "\n",
        "def moving_average(data, _range):\n",
        "    ret = np.cumsum(data)\n",
        "    ret[_range:] = ret[int(_range):] - ret[:-int(_range)]\n",
        "    return ret[int(_range) - 1:] / _range\n",
        "\n",
        "def SMA(data, _range, slide):\n",
        "    ret = moving_average(data, int(_range))[::int(slide)]\n",
        "    return list(ret)\n",
        "\n",
        "def binary_search(head,tail,data,min_obj,orig_kurt,window_size):\n",
        "    while head <= tail:\n",
        "        w = int(round((head + tail) / 2.0))\n",
        "        smoothed = SMA(data,w,1)\n",
        "        metrics  = Metrics(smoothed)\n",
        "        if metrics.kurtosis >= orig_kurt:\n",
        "            if metrics.roughness < min_obj:\n",
        "                window_size = w\n",
        "                min_obj = metrics.roughness\n",
        "            head = w + 1\n",
        "        else:\n",
        "            tail = w - 1\n",
        "    return window_size\n",
        "\n",
        "def smooth_ASAP(data, max_window=5, resolution=None):\n",
        "    data = np.array(data)\n",
        "    # Preaggregate according to resolution\n",
        "    slide_size = 1\n",
        "    window_size = 1\n",
        "    if resolution and len(data) >= 2 * resolution:\n",
        "        slide_size = len(data) / resolution\n",
        "        data = SMA(data, slide_size, slide_size)\n",
        "    acf         = ACF(data, max_lag=len(data) / max_window)\n",
        "    peaks       = acf.peaks\n",
        "    orig_kurt   = acf.kurtosis\n",
        "    min_obj     = acf.roughness\n",
        "    lb          = 1\n",
        "    largest_feasible = -1\n",
        "    tail = len(data) / max_window\n",
        "    for i in range(len(peaks) - 1, -1, -1):\n",
        "        w = peaks[i]\n",
        "\n",
        "        if w < lb or w == 1:\n",
        "            break\n",
        "        elif math.sqrt(1 - acf.correlations[w]) * window_size > math.sqrt(1 - acf.correlations[window_size]) * w:\n",
        "            continue\n",
        "\n",
        "        smoothed = SMA(data, w, 1)\n",
        "        metrics = Metrics(smoothed)\n",
        "        if metrics.roughness < min_obj and metrics.kurtosis >= orig_kurt:\n",
        "            min_obj = metrics.roughness\n",
        "            window_size = w\n",
        "            lb = round( max(w*math.sqrt( (acf.max_acf -1) / (acf.correlations[w]-1) ), lb) )\n",
        "    if largest_feasible > 0:\n",
        "        if largest_feasible < len(peaks) - 2:\n",
        "            tail = peaks[largest_feasible + 1]\n",
        "        lb = max(lb, peaks[largest_feasible] + 1)\n",
        "\n",
        "    window_size = binary_search(lb, tail, data, min_obj, orig_kurt, window_size)\n",
        "    return window_size, slide_size"
      ],
      "metadata": {
        "id": "JClaXWPKUod5"
      },
      "execution_count": null,
      "outputs": []
    },
    {
      "cell_type": "markdown",
      "source": [
        "# Algorithm to transfer data in tabular format"
      ],
      "metadata": {
        "id": "o15lRHTkVj8G"
      }
    },
    {
      "cell_type": "code",
      "source": [
        "def create_multistep_dataset(data, n_input, n_out=1):\n",
        "    X, y = list(), list()\n",
        "    in_start = 0\n",
        "    # step over the entire history one time step at a time\n",
        "    for _ in range(len(data)):\n",
        "        # define the end of the input sequence\n",
        "        in_end = in_start + n_input\n",
        "        out_end = in_end + n_out\n",
        "        # ensure we have enough data for this instance\n",
        "        if out_end <= len(data):\n",
        "            x_input = data[in_start:in_end]\n",
        "            X.append(x_input)\n",
        "            y.append(data[in_end:out_end])\n",
        "        # move along one time step\n",
        "        in_start += 1\n",
        "    return np.array(X), np.array(y)"
      ],
      "metadata": {
        "id": "aknEDSo0VoTd"
      },
      "execution_count": null,
      "outputs": []
    },
    {
      "cell_type": "markdown",
      "source": [
        "# ESN Model Library"
      ],
      "metadata": {
        "id": "REoUU7it1k9l"
      }
    },
    {
      "cell_type": "code",
      "source": [
        "def correct_dimensions(s, targetlength):\n",
        "    \"\"\"checks the dimensionality of some numeric argument s, broadcasts it\n",
        "       to the specified length if possible.\n",
        "\n",
        "    Args:\n",
        "        s: None, scalar or 1D array\n",
        "        targetlength: expected length of s\n",
        "\n",
        "    Returns:\n",
        "        None if s is None, else numpy vector of length targetlength\n",
        "    \"\"\"\n",
        "    if s is not None:\n",
        "        s = np.array(s)\n",
        "        if s.ndim == 0:\n",
        "            s = np.array([s] * targetlength)\n",
        "        elif s.ndim == 1:\n",
        "            if not len(s) == targetlength:\n",
        "                raise ValueError(\"arg must have length \" + str(targetlength))\n",
        "        else:\n",
        "            raise ValueError(\"Invalid argument\")\n",
        "    return s\n",
        "\n",
        "\n",
        "def identity(x):\n",
        "    return x\n",
        "\n",
        "\n",
        "class ESN():\n",
        "\n",
        "    def __init__(self, n_inputs, n_outputs, n_reservoir=200,\n",
        "                 spectral_radius=0.95, sparsity=0, noise=0.001, input_shift=None,\n",
        "                 input_scaling=None, teacher_forcing=True, feedback_scaling=None,\n",
        "                 teacher_scaling=None, teacher_shift=None,\n",
        "                 out_activation=identity, inverse_out_activation=identity,\n",
        "                 random_state=None, silent=True):\n",
        "        \"\"\"\n",
        "        Args:\n",
        "            n_inputs: nr of input dimensions\n",
        "            n_outputs: nr of output dimensions\n",
        "            n_reservoir: nr of reservoir neurons\n",
        "            spectral_radius: spectral radius of the recurrent weight matrix\n",
        "            sparsity: proportion of recurrent weights set to zero\n",
        "            noise: noise added to each neuron (regularization)\n",
        "            input_shift: scalar or vector of length n_inputs to add to each\n",
        "                        input dimension before feeding it to the network.\n",
        "            input_scaling: scalar or vector of length n_inputs to multiply\n",
        "                        with each input dimension before feeding it to the netw.\n",
        "            teacher_forcing: if True, feed the target back into output units\n",
        "            teacher_scaling: factor applied to the target signal\n",
        "            teacher_shift: additive term applied to the target signal\n",
        "            out_activation: output activation function (applied to the readout)\n",
        "            inverse_out_activation: inverse of the output activation function\n",
        "            random_state: positive integer seed, np.rand.RandomState object,\n",
        "                          or None to use numpy's builting RandomState.\n",
        "            silent: supress messages\n",
        "        \"\"\"\n",
        "        # check for proper dimensionality of all arguments and write them down.\n",
        "        self.n_inputs = n_inputs\n",
        "        self.n_reservoir = n_reservoir\n",
        "        self.n_outputs = n_outputs\n",
        "        self.spectral_radius = spectral_radius\n",
        "        self.sparsity = sparsity\n",
        "        self.noise = noise\n",
        "        self.input_shift = correct_dimensions(input_shift, n_inputs)\n",
        "        self.input_scaling = correct_dimensions(input_scaling, n_inputs)\n",
        "\n",
        "        self.teacher_scaling = teacher_scaling\n",
        "        self.teacher_shift = teacher_shift\n",
        "\n",
        "        self.out_activation = out_activation\n",
        "        self.inverse_out_activation = inverse_out_activation\n",
        "        self.random_state = random_state\n",
        "\n",
        "        # the given random_state might be either an actual RandomState object,\n",
        "        # a seed or None (in which case we use numpy's builtin RandomState)\n",
        "        if isinstance(random_state, np.random.RandomState):\n",
        "            self.random_state_ = random_state\n",
        "        elif random_state:\n",
        "            try:\n",
        "                self.random_state_ = np.random.RandomState(random_state)\n",
        "            except TypeError as e:\n",
        "                raise Exception(\"Invalid seed: \" + str(e))\n",
        "        else:\n",
        "            self.random_state_ = np.random.mtrand._rand\n",
        "\n",
        "        self.teacher_forcing = teacher_forcing\n",
        "        self.silent = silent\n",
        "        self.initweights()\n",
        "\n",
        "    def initweights(self):\n",
        "        # initialize recurrent weights:\n",
        "        # begin with a random matrix centered around zero:\n",
        "        W = self.random_state_.rand(self.n_reservoir, self.n_reservoir) - 0.5\n",
        "        # delete the fraction of connections given by (self.sparsity):\n",
        "        W[self.random_state_.rand(*W.shape) < self.sparsity] = 0\n",
        "        # compute the spectral radius of these weights:\n",
        "        radius = np.max(np.abs(np.linalg.eigvals(W)))\n",
        "        # rescale them to reach the requested spectral radius:\n",
        "        self.W = W * (self.spectral_radius / radius)\n",
        "\n",
        "        # random input weights:\n",
        "        self.W_in = self.random_state_.rand(\n",
        "            self.n_reservoir, self.n_inputs) * 2 - 1\n",
        "        # random feedback (teacher forcing) weights:\n",
        "        self.W_feedb = self.random_state_.rand(\n",
        "            self.n_reservoir, self.n_outputs) * 2 - 1\n",
        "\n",
        "    def _update(self, state, input_pattern, output_pattern):\n",
        "        \"\"\"performs one update step.\n",
        "\n",
        "        i.e., computes the next network state by applying the recurrent weights\n",
        "        to the last state & and feeding in the current input and output patterns\n",
        "        \"\"\"\n",
        "        if self.teacher_forcing:\n",
        "            preactivation = (np.dot(self.W, state)\n",
        "                             + np.dot(self.W_in, input_pattern)\n",
        "                             + np.dot(self.W_feedb, output_pattern))\n",
        "        else:\n",
        "            preactivation = (np.dot(self.W, state)\n",
        "                             + np.dot(self.W_in, input_pattern))\n",
        "        return (np.tanh(preactivation)\n",
        "                + self.noise * (self.random_state_.rand(self.n_reservoir) - 0.5))\n",
        "\n",
        "    def _scale_inputs(self, inputs):\n",
        "        \"\"\"for each input dimension j: multiplies by the j'th entry in the\n",
        "        input_scaling argument, then adds the j'th entry of the input_shift\n",
        "        argument.\"\"\"\n",
        "        if self.input_scaling is not None:\n",
        "            inputs = np.dot(inputs, np.diag(self.input_scaling))\n",
        "        if self.input_shift is not None:\n",
        "            inputs = inputs + self.input_shift\n",
        "        return inputs\n",
        "\n",
        "    def _scale_teacher(self, teacher):\n",
        "        \"\"\"multiplies the teacher/target signal by the teacher_scaling argument,\n",
        "        then adds the teacher_shift argument to it.\"\"\"\n",
        "        if self.teacher_scaling is not None:\n",
        "            teacher = teacher * self.teacher_scaling\n",
        "        if self.teacher_shift is not None:\n",
        "            teacher = teacher + self.teacher_shift\n",
        "        return teacher\n",
        "\n",
        "    def _unscale_teacher(self, teacher_scaled):\n",
        "        \"\"\"inverse operation of the _scale_teacher method.\"\"\"\n",
        "        if self.teacher_shift is not None:\n",
        "            teacher_scaled = teacher_scaled - self.teacher_shift\n",
        "        if self.teacher_scaling is not None:\n",
        "            teacher_scaled = teacher_scaled / self.teacher_scaling\n",
        "        return teacher_scaled\n",
        "\n",
        "    def fit(self, inputs, outputs, inspect=False):\n",
        "        \"\"\"\n",
        "        Collect the network's reaction to training data, train readout weights.\n",
        "\n",
        "        Args:\n",
        "            inputs: array of dimensions (N_training_samples x n_inputs)\n",
        "            outputs: array of dimension (N_training_samples x n_outputs)\n",
        "            inspect: show a visualisation of the collected reservoir states\n",
        "\n",
        "        Returns:\n",
        "            the network's output on the training data, using the trained weights\n",
        "        \"\"\"\n",
        "        # transform any vectors of shape (x,) into vectors of shape (x,1):\n",
        "        if inputs.ndim < 2:\n",
        "            inputs = np.reshape(inputs, (len(inputs), -1))\n",
        "        if outputs.ndim < 2:\n",
        "            outputs = np.reshape(outputs, (len(outputs), -1))\n",
        "        # transform input and teacher signal:\n",
        "        inputs_scaled = self._scale_inputs(inputs)\n",
        "        teachers_scaled = self._scale_teacher(outputs)\n",
        "\n",
        "        if not self.silent:\n",
        "            print(\"harvesting states...\")\n",
        "        # step the reservoir through the given input,output pairs:\n",
        "        states = np.zeros((inputs.shape[0], self.n_reservoir))\n",
        "        for n in range(1, inputs.shape[0]):\n",
        "            states[n, :] = self._update(states[n - 1], inputs_scaled[n, :],\n",
        "                                        teachers_scaled[n - 1, :])\n",
        "\n",
        "        # learn the weights, i.e. find the linear combination of collected\n",
        "        # network states that is closest to the target output\n",
        "        if not self.silent:\n",
        "            print(\"fitting...\")\n",
        "        # we'll disregard the first few states:\n",
        "        transient = min(int(inputs.shape[1] / 10), 100)\n",
        "        # include the raw inputs:\n",
        "        extended_states = np.hstack((states, inputs_scaled))\n",
        "        # Solve for W_out:\n",
        "        self.W_out = np.dot(np.linalg.pinv(extended_states[transient:, :]),\n",
        "                            self.inverse_out_activation(teachers_scaled[transient:, :])).T\n",
        "\n",
        "        # remember the last state for later:\n",
        "        self.laststate = states[-1, :]\n",
        "        self.lastinput = inputs[-1, :]\n",
        "        self.lastoutput = teachers_scaled[-1, :]\n",
        "\n",
        "        # optionally visualize the collected states\n",
        "        if inspect:\n",
        "            from matplotlib import pyplot as plt\n",
        "            # (^-- we depend on matplotlib only if this option is used)\n",
        "            plt.figure(\n",
        "                figsize=(states.shape[0] * 0.0025, states.shape[1] * 0.01))\n",
        "            plt.imshow(extended_states.T, aspect='auto',\n",
        "                       interpolation='nearest')\n",
        "            plt.colorbar()\n",
        "\n",
        "        if not self.silent:\n",
        "            print(\"training error:\")\n",
        "        # apply learned weights to the collected states:\n",
        "        pred_train = self._unscale_teacher(self.out_activation(\n",
        "            np.dot(extended_states, self.W_out.T)))\n",
        "        if not self.silent:\n",
        "            print(np.sqrt(np.mean((pred_train - outputs)**2)))\n",
        "        return pred_train\n",
        "\n",
        "    def predict(self, inputs, continuation=True):\n",
        "        \"\"\"\n",
        "        Apply the learned weights to the network's reactions to new input.\n",
        "\n",
        "        Args:\n",
        "            inputs: array of dimensions (N_test_samples x n_inputs)\n",
        "            continuation: if True, start the network from the last training state\n",
        "\n",
        "        Returns:\n",
        "            Array of output activations\n",
        "        \"\"\"\n",
        "        if inputs.ndim < 2:\n",
        "            inputs = np.reshape(inputs, (len(inputs), -1))\n",
        "        n_samples = inputs.shape[0]\n",
        "\n",
        "        if continuation:\n",
        "            laststate = self.laststate\n",
        "            lastinput = self.lastinput\n",
        "            lastoutput = self.lastoutput\n",
        "        else:\n",
        "            laststate = np.zeros(self.n_reservoir)\n",
        "            lastinput = np.zeros(self.n_inputs)\n",
        "            lastoutput = np.zeros(self.n_outputs)\n",
        "\n",
        "        inputs = np.vstack([lastinput, self._scale_inputs(inputs)])\n",
        "        states = np.vstack(\n",
        "            [laststate, np.zeros((n_samples, self.n_reservoir))])\n",
        "        outputs = np.vstack(\n",
        "            [lastoutput, np.zeros((n_samples, self.n_outputs))])\n",
        "\n",
        "        for n in range(n_samples):\n",
        "            states[\n",
        "                n + 1, :] = self._update(states[n, :], inputs[n + 1, :], outputs[n, :])\n",
        "            outputs[n + 1, :] = self.out_activation(np.dot(self.W_out,\n",
        "                                                           np.concatenate([states[n + 1, :], inputs[n + 1, :]])))\n",
        "\n",
        "        return self._unscale_teacher(self.out_activation(outputs[1:]))"
      ],
      "metadata": {
        "id": "nZUjxupO1pYc"
      },
      "execution_count": null,
      "outputs": []
    },
    {
      "cell_type": "markdown",
      "source": [
        "# Function to evaluate multi-step forecasting models"
      ],
      "metadata": {
        "id": "0Ce-fp-VQAlH"
      }
    },
    {
      "cell_type": "code",
      "source": [
        "from sklearn.metrics import mean_squared_error\n",
        "\n",
        "def eval_model(Y_true, Y_pred):\n",
        "    scores = []\n",
        "\n",
        "    # Calculate scores for each value on the horizon\n",
        "    # For each of the col in Y_true we have corresponding y_pred\n",
        "    for i in range(Y_true.shape[1]):\n",
        "        mse = mean_squared_error(Y_true[:, i], Y_pred[:, i])\n",
        "        rmse = np.sqrt(mse)\n",
        "        scores.append(rmse)\n",
        "\n",
        "    # Calculate score for the whole prediction\n",
        "    total_score = 0\n",
        "    for row in range(Y_true.shape[0]):\n",
        "        for col in range(Y_true.shape[1]):\n",
        "            total_score += (Y_true[row, col] - Y_pred[row, col]) ** 2\n",
        "\n",
        "    total_score = np.sqrt(total_score / (Y_true.shape[0] * Y_true.shape[1]))\n",
        "    return total_score, scores"
      ],
      "metadata": {
        "id": "XNneOfmSUpD9"
      },
      "execution_count": null,
      "outputs": []
    },
    {
      "cell_type": "code",
      "source": [
        "def evaluate_multistep_forecast(predictions, actual):\n",
        "    # Calculate RMSE and MAE for each prediction\n",
        "    rmse = np.sqrt(mean_squared_error(actual, predictions))\n",
        "    mae = mean_absolute_error(actual, predictions)\n",
        "\n",
        "    return rmse, mae"
      ],
      "metadata": {
        "id": "TO7-lU-cUpFD"
      },
      "execution_count": null,
      "outputs": []
    },
    {
      "cell_type": "markdown",
      "source": [
        "# Recursive Strategy"
      ],
      "metadata": {
        "id": "kb9oD1SzOkJo"
      }
    },
    {
      "cell_type": "code",
      "source": [
        "def recursive_strategy(model, X_row, n_steps):\n",
        "    forecasts = []\n",
        "    shape_0 = X_row.shape[0]\n",
        "    shape_1 = X_row.shape[1]\n",
        "\n",
        "    for i in range(n_steps):\n",
        "        X_row = np.reshape(X_row, (shape_0, 1, shape_1))\n",
        "        forecast = model.predict(X_row, verbose=0)\n",
        "        X_row.reshape(X_row.shape[2],)\n",
        "        forecasts.append(forecast[0, 0])\n",
        "        X_row = X_row.tolist()\n",
        "        X_row[0][0].append(forecast[0, 0])\n",
        "        X_row = X_row[0][0][1:]\n",
        "        X_row = np.array(X_row)\n",
        "    return forecasts\n",
        "\n",
        "def make_predictions(model, X, n_steps):\n",
        "    predictions = []\n",
        "    for i in tqdm(range(len(X)), desc=\"Progress\"):\n",
        "      row_forecasts = recursive_strategy(model, X[i, :], n_steps)\n",
        "      predictions.append(row_forecasts)\n",
        "    return predictions"
      ],
      "metadata": {
        "id": "IZ2IdGeCdnnV"
      },
      "execution_count": null,
      "outputs": []
    },
    {
      "cell_type": "markdown",
      "source": [
        "## First Dataset : Node1 Delay"
      ],
      "metadata": {
        "id": "QZJA94T3OoUQ"
      }
    },
    {
      "cell_type": "markdown",
      "source": [
        "### Persistance Model"
      ],
      "metadata": {
        "id": "U325rE37OtEg"
      }
    },
    {
      "cell_type": "code",
      "source": [
        "node1_delay = df[['node1_delay']]\n",
        "node1_delay_dataset = node1_delay.values\n",
        "window_size, slide_size = smooth_ASAP(node1_delay_dataset, resolution=50)\n",
        "print(\"Window Size: \", window_size)\n",
        "\n",
        "denoised_node1_delay_dataset = moving_average(node1_delay_dataset, window_size)\n",
        "\n",
        "# split into train and test sets\n",
        "train_size = int(len(denoised_node1_delay_dataset) * 0.9)\n",
        "test_size = len(denoised_node1_delay_dataset) - train_size\n",
        "train, test = denoised_node1_delay_dataset[0:train_size], denoised_node1_delay_dataset[train_size:]\n",
        "print(len(train), len(test))\n",
        "\n",
        "for horizon in range(2, 21):\n",
        "    print(f\"=================== horizon = {horizon}======================\")\n",
        "    # reshape into X=t and Y=t+1\n",
        "    trainX, trainY = create_multistep_dataset(train, 1, horizon)\n",
        "    testX, testY = create_multistep_dataset(test, 1, horizon)\n",
        "\n",
        "    # Record the starting time to generate predictions\n",
        "    start_time = time.time()\n",
        "\n",
        "    last_values = testX[:, -1]\n",
        "    predictions = np.tile(last_values, (horizon, 1)).T\n",
        "\n",
        "    # Record the ending time\n",
        "    end_time = time.time()\n",
        "    elapsed_time = end_time - start_time\n",
        "\n",
        "    testRMSE = np.sqrt(mean_squared_error(testY, predictions))\n",
        "    testMAE = mean_absolute_error(testY, predictions)\n",
        "\n",
        "    print('Persistence Test RMSE : %.5f' % (testRMSE))\n",
        "    print('Persistence Test MAE : %.5f' % (testMAE))\n",
        "    print(\"Persistence Elapsed Time : %.5f\" % (elapsed_time), \"seconds\")"
      ],
      "metadata": {
        "colab": {
          "base_uri": "https://localhost:8080/"
        },
        "id": "TjWNVLNiOi-k",
        "outputId": "d5042773-aea0-4ff1-f9b3-e0a15933edcb"
      },
      "execution_count": null,
      "outputs": [
        {
          "output_type": "stream",
          "name": "stdout",
          "text": [
            "Window Size:  10\n",
            "17991 2000\n",
            "=================== horizon = 2======================\n",
            "Persistence Test RMSE : 0.02720\n",
            "Persistence Test MAE : 0.02189\n",
            "Persistence Elapsed Time : 0.00022 seconds\n",
            "=================== horizon = 3======================\n",
            "Persistence Test RMSE : 0.03144\n",
            "Persistence Test MAE : 0.02507\n",
            "Persistence Elapsed Time : 0.00014 seconds\n",
            "=================== horizon = 4======================\n",
            "Persistence Test RMSE : 0.03517\n",
            "Persistence Test MAE : 0.02787\n",
            "Persistence Elapsed Time : 0.00015 seconds\n",
            "=================== horizon = 5======================\n",
            "Persistence Test RMSE : 0.03849\n",
            "Persistence Test MAE : 0.03028\n",
            "Persistence Elapsed Time : 0.00016 seconds\n",
            "=================== horizon = 6======================\n",
            "Persistence Test RMSE : 0.04156\n",
            "Persistence Test MAE : 0.03246\n",
            "Persistence Elapsed Time : 0.00010 seconds\n",
            "=================== horizon = 7======================\n",
            "Persistence Test RMSE : 0.04448\n",
            "Persistence Test MAE : 0.03456\n",
            "Persistence Elapsed Time : 0.00012 seconds\n",
            "=================== horizon = 8======================\n",
            "Persistence Test RMSE : 0.04730\n",
            "Persistence Test MAE : 0.03661\n",
            "Persistence Elapsed Time : 0.00009 seconds\n",
            "=================== horizon = 9======================\n",
            "Persistence Test RMSE : 0.05003\n",
            "Persistence Test MAE : 0.03866\n",
            "Persistence Elapsed Time : 0.00012 seconds\n",
            "=================== horizon = 10======================\n",
            "Persistence Test RMSE : 0.05270\n",
            "Persistence Test MAE : 0.04064\n",
            "Persistence Elapsed Time : 0.00018 seconds\n",
            "=================== horizon = 11======================\n",
            "Persistence Test RMSE : 0.05486\n",
            "Persistence Test MAE : 0.04232\n",
            "Persistence Elapsed Time : 0.00010 seconds\n",
            "=================== horizon = 12======================\n",
            "Persistence Test RMSE : 0.05667\n",
            "Persistence Test MAE : 0.04376\n",
            "Persistence Elapsed Time : 0.00010 seconds\n",
            "=================== horizon = 13======================\n",
            "Persistence Test RMSE : 0.05820\n",
            "Persistence Test MAE : 0.04501\n",
            "Persistence Elapsed Time : 0.00010 seconds\n",
            "=================== horizon = 14======================\n",
            "Persistence Test RMSE : 0.05954\n",
            "Persistence Test MAE : 0.04611\n",
            "Persistence Elapsed Time : 0.00017 seconds\n",
            "=================== horizon = 15======================\n",
            "Persistence Test RMSE : 0.06071\n",
            "Persistence Test MAE : 0.04708\n",
            "Persistence Elapsed Time : 0.00012 seconds\n",
            "=================== horizon = 16======================\n",
            "Persistence Test RMSE : 0.06176\n",
            "Persistence Test MAE : 0.04795\n",
            "Persistence Elapsed Time : 0.00072 seconds\n",
            "=================== horizon = 17======================\n",
            "Persistence Test RMSE : 0.06269\n",
            "Persistence Test MAE : 0.04873\n",
            "Persistence Elapsed Time : 0.00012 seconds\n",
            "=================== horizon = 18======================\n",
            "Persistence Test RMSE : 0.06353\n",
            "Persistence Test MAE : 0.04945\n",
            "Persistence Elapsed Time : 0.00013 seconds\n",
            "=================== horizon = 19======================\n",
            "Persistence Test RMSE : 0.06425\n",
            "Persistence Test MAE : 0.05009\n",
            "Persistence Elapsed Time : 0.00018 seconds\n",
            "=================== horizon = 20======================\n",
            "Persistence Test RMSE : 0.06489\n",
            "Persistence Test MAE : 0.05067\n",
            "Persistence Elapsed Time : 0.00013 seconds\n"
          ]
        }
      ]
    },
    {
      "cell_type": "code",
      "source": [
        "plt.figure(figsize=(10, 6))\n",
        "plt.plot(testY[0, :], label=\"Actual\", marker='o')\n",
        "plt.plot(predictions[0, :], label=\"Predictions\", marker='x')\n",
        "plt.xlabel(\"Time Step\")\n",
        "plt.ylabel(\"Value\")\n",
        "plt.legend()\n",
        "plt.show()"
      ],
      "metadata": {
        "colab": {
          "base_uri": "https://localhost:8080/",
          "height": 542
        },
        "id": "l-KLY5zidBjf",
        "outputId": "afedab9d-9382-4046-aeb7-cc181f420362"
      },
      "execution_count": null,
      "outputs": [
        {
          "output_type": "display_data",
          "data": {
            "text/plain": [
              "<Figure size 1000x600 with 1 Axes>"
            ],
            "image/png": "[encoded data removed]"
          },
          "metadata": {}
        }
      ]
    },
    {
      "cell_type": "markdown",
      "source": [
        "### LSTM Model"
      ],
      "metadata": {
        "id": "MRnOjx5HeIas"
      }
    },
    {
      "cell_type": "code",
      "source": [
        "# Best Params\n",
        "look_back = 300 #200\n",
        "num_hidden_layers = 2\n",
        "learning_rate = 0.0015250869829489782\n",
        "batch_size = 44\n",
        "epochs = 82\n",
        "lstm_units_layer_0 = 15\n",
        "lstm_units_layer_1 = 32\n",
        "\n",
        "\n",
        "node1_delay = df[['node1_delay']]\n",
        "node1_delay_dataset = node1_delay.values\n",
        "window_size, slide_size = smooth_ASAP(node1_delay_dataset, resolution=50)\n",
        "print(\"Window Size: \", window_size)\n",
        "\n",
        "denoised_node1_delay_dataset = moving_average(node1_delay_dataset, window_size)\n",
        "\n",
        "# split into train and test sets\n",
        "train_size = int(len(denoised_node1_delay_dataset) * 0.9)\n",
        "test_size = len(denoised_node1_delay_dataset) - train_size\n",
        "train, test = denoised_node1_delay_dataset[0:train_size], denoised_node1_delay_dataset[train_size:]\n",
        "\n",
        "print(len(train), len(test))\n",
        "\n",
        "# reshape into X=t and Y=t+1\n",
        "trainX, trainY = create_multistep_dataset(train, look_back, 1)\n",
        "testX, testY = create_multistep_dataset(test, look_back, 1)\n",
        "\n",
        "# reshape input to be [samples, time steps, features]\n",
        "trainX = np.reshape(trainX, (trainX.shape[0], 1, trainX.shape[1]))\n",
        "testX = np.reshape(testX, (testX.shape[0], 1, testX.shape[1]))\n",
        "\n",
        "# Crée et entraîne le modèle pour l'horizon de prévision i\n",
        "model = Sequential()\n",
        "model.add(LSTM(units=lstm_units_layer_0, return_sequences=True))\n",
        "model.add(LSTM(units=lstm_units_layer_1))\n",
        "model.add(Dense(1))\n",
        "optimizer = keras.optimizers.Adam(lr=learning_rate)\n",
        "model.compile(loss='mean_squared_error', optimizer=optimizer)\n",
        "\n",
        "# Record the starting time to training the model\n",
        "training_start_time = time.time()\n",
        "\n",
        "model.fit(trainX, trainY, epochs=epochs, batch_size=batch_size, verbose=1)\n",
        "\n",
        "# Record the ending time of training the model\n",
        "training_end_time = time.time()\n",
        "training_elapsed_time = training_end_time - training_start_time\n",
        "\n",
        "print(\"LSTM Model Training Elapsed Time : %.5f\" % (training_elapsed_time), \"seconds\")\n",
        "\n",
        "# horizons = [2, 4, 6, 8, 10]\n",
        "\n",
        "horizons = [8, 10]\n",
        "\n",
        "for horizon in horizons:\n",
        "    print(f\"=================== horizon = {horizon}======================\")\n",
        "    # Record the starting time to generate predictions\n",
        "    predictions_start_time = time.time()\n",
        "\n",
        "    testPredict = make_predictions(model, testX, horizon)\n",
        "\n",
        "    # Record the ending time of generating predictions\n",
        "    predictions_end_time = time.time()\n",
        "    predictions_elapsed_time = predictions_end_time - predictions_start_time\n",
        "\n",
        "    testPredict = np.array(testPredict)\n",
        "    _, new_testY = create_multistep_dataset(test, look_back, horizon)\n",
        "\n",
        "    testRMSE = np.sqrt(mean_squared_error(new_testY, testPredict[:len(new_testY), :]))\n",
        "    testMAE = mean_absolute_error(new_testY, testPredict[:len(new_testY), :])\n",
        "\n",
        "    print('LSTM Test RMSE : %.5f' % (testRMSE))\n",
        "    print('LSTM Test MAE : %.5f' % (testMAE))\n",
        "    print(\"LSTM Elapsed Time To generate Predictions : %.5f\" % (predictions_elapsed_time), \"seconds\")"
      ],
      "metadata": {
        "colab": {
          "base_uri": "https://localhost:8080/"
        },
        "id": "G9SjvRbyh2S7",
        "outputId": "d196552f-54b4-48bc-a109-60203e47be77"
      },
      "execution_count": null,
      "outputs": [
        {
          "output_type": "stream",
          "name": "stdout",
          "text": [
            "Window Size:  10\n",
            "17991 2000\n",
            "Epoch 1/82\n"
          ]
        },
        {
          "output_type": "stream",
          "name": "stderr",
          "text": [
            "/usr/local/lib/python3.10/dist-packages/keras/optimizers/legacy/adam.py:117: UserWarning: The `lr` argument is deprecated, use `learning_rate` instead.\n",
            "  super().__init__(name, **kwargs)\n"
          ]
        },
        {
          "output_type": "stream",
          "name": "stdout",
          "text": [
            "403/403 [==============================] - 9s 5ms/step - loss: 0.0030\n",
            "Epoch 2/82\n",
            "403/403 [==============================] - 2s 5ms/step - loss: 0.0020\n",
            "Epoch 3/82\n",
            "403/403 [==============================] - 2s 6ms/step - loss: 0.0011\n",
            "Epoch 4/82\n",
            "403/403 [==============================] - 3s 7ms/step - loss: 8.5798e-04\n",
            "Epoch 5/82\n",
            "403/403 [==============================] - 2s 5ms/step - loss: 7.2655e-04\n",
            "Epoch 6/82\n",
            "403/403 [==============================] - 2s 5ms/step - loss: 6.6444e-04\n",
            "Epoch 7/82\n",
            "403/403 [==============================] - 2s 5ms/step - loss: 5.9995e-04\n",
            "Epoch 8/82\n",
            "403/403 [==============================] - 2s 5ms/step - loss: 5.6067e-04\n",
            "Epoch 9/82\n",
            "403/403 [==============================] - 3s 7ms/step - loss: 5.5618e-04\n",
            "Epoch 10/82\n",
            "403/403 [==============================] - 2s 6ms/step - loss: 5.7556e-04\n",
            "Epoch 11/82\n",
            "403/403 [==============================] - 2s 5ms/step - loss: 5.4437e-04\n",
            "Epoch 12/82\n",
            "403/403 [==============================] - 2s 5ms/step - loss: 5.2543e-04\n",
            "Epoch 13/82\n",
            "403/403 [==============================] - 2s 5ms/step - loss: 4.9780e-04\n",
            "Epoch 14/82\n",
            "403/403 [==============================] - 2s 5ms/step - loss: 5.1345e-04\n",
            "Epoch 15/82\n",
            "403/403 [==============================] - 3s 7ms/step - loss: 5.0044e-04\n",
            "Epoch 16/82\n",
            "403/403 [==============================] - 2s 5ms/step - loss: 4.5846e-04\n",
            "Epoch 17/82\n",
            "403/403 [==============================] - 2s 5ms/step - loss: 4.6267e-04\n",
            "Epoch 18/82\n",
            "403/403 [==============================] - 2s 5ms/step - loss: 4.4914e-04\n",
            "Epoch 19/82\n",
            "403/403 [==============================] - 2s 5ms/step - loss: 4.3835e-04\n",
            "Epoch 20/82\n",
            "403/403 [==============================] - 2s 5ms/step - loss: 4.5152e-04\n",
            "Epoch 21/82\n",
            "403/403 [==============================] - 3s 7ms/step - loss: 4.5838e-04\n",
            "Epoch 22/82\n",
            "403/403 [==============================] - 2s 6ms/step - loss: 4.4120e-04\n",
            "Epoch 23/82\n",
            "403/403 [==============================] - 2s 5ms/step - loss: 4.3154e-04\n",
            "Epoch 24/82\n",
            "403/403 [==============================] - 2s 5ms/step - loss: 4.2038e-04\n",
            "Epoch 25/82\n",
            "403/403 [==============================] - 2s 5ms/step - loss: 4.3010e-04\n",
            "Epoch 26/82\n",
            "403/403 [==============================] - 2s 5ms/step - loss: 4.1774e-04\n",
            "Epoch 27/82\n",
            "403/403 [==============================] - 3s 7ms/step - loss: 4.2749e-04\n",
            "Epoch 28/82\n",
            "403/403 [==============================] - 2s 6ms/step - loss: 4.4598e-04\n",
            "Epoch 29/82\n",
            "403/403 [==============================] - 2s 5ms/step - loss: 3.9150e-04\n",
            "Epoch 30/82\n",
            "403/403 [==============================] - 2s 5ms/step - loss: 4.1601e-04\n",
            "Epoch 31/82\n",
            "403/403 [==============================] - 3s 7ms/step - loss: 4.4393e-04\n",
            "Epoch 32/82\n",
            "403/403 [==============================] - 2s 6ms/step - loss: 4.3107e-04\n",
            "Epoch 33/82\n",
            "403/403 [==============================] - 3s 7ms/step - loss: 4.0144e-04\n",
            "Epoch 34/82\n",
            "403/403 [==============================] - 2s 5ms/step - loss: 4.2896e-04\n",
            "Epoch 35/82\n",
            "403/403 [==============================] - 2s 5ms/step - loss: 4.1248e-04\n",
            "Epoch 36/82\n",
            "403/403 [==============================] - 2s 5ms/step - loss: 4.1156e-04\n",
            "Epoch 37/82\n",
            "403/403 [==============================] - 2s 5ms/step - loss: 4.0719e-04\n",
            "Epoch 38/82\n",
            "403/403 [==============================] - 2s 6ms/step - loss: 4.1950e-04\n",
            "Epoch 39/82\n",
            "403/403 [==============================] - 3s 9ms/step - loss: 4.0296e-04\n",
            "Epoch 40/82\n",
            "403/403 [==============================] - 2s 6ms/step - loss: 4.0814e-04\n",
            "Epoch 41/82\n",
            "403/403 [==============================] - 2s 6ms/step - loss: 3.9279e-04\n",
            "Epoch 42/82\n",
            "403/403 [==============================] - 3s 7ms/step - loss: 4.0198e-04\n",
            "Epoch 43/82\n",
            "403/403 [==============================] - 2s 6ms/step - loss: 4.1663e-04\n",
            "Epoch 44/82\n",
            "403/403 [==============================] - 3s 7ms/step - loss: 3.9382e-04\n",
            "Epoch 45/82\n",
            "403/403 [==============================] - 2s 5ms/step - loss: 3.8971e-04\n",
            "Epoch 46/82\n",
            "403/403 [==============================] - 2s 5ms/step - loss: 3.7547e-04\n",
            "Epoch 47/82\n",
            "403/403 [==============================] - 2s 5ms/step - loss: 4.0614e-04\n",
            "Epoch 48/82\n",
            "403/403 [==============================] - 2s 5ms/step - loss: 3.8160e-04\n",
            "Epoch 49/82\n",
            "403/403 [==============================] - 3s 7ms/step - loss: 4.0149e-04\n",
            "Epoch 50/82\n",
            "403/403 [==============================] - 2s 6ms/step - loss: 3.8503e-04\n",
            "Epoch 51/82\n",
            "403/403 [==============================] - 2s 5ms/step - loss: 4.0036e-04\n",
            "Epoch 52/82\n",
            "403/403 [==============================] - 2s 5ms/step - loss: 3.9450e-04\n",
            "Epoch 53/82\n",
            "403/403 [==============================] - 2s 5ms/step - loss: 3.8131e-04\n",
            "Epoch 54/82\n",
            "403/403 [==============================] - 2s 5ms/step - loss: 3.6675e-04\n",
            "Epoch 55/82\n",
            "403/403 [==============================] - 3s 7ms/step - loss: 3.5943e-04\n",
            "Epoch 56/82\n",
            "403/403 [==============================] - 2s 6ms/step - loss: 3.8591e-04\n",
            "Epoch 57/82\n",
            "403/403 [==============================] - 2s 5ms/step - loss: 3.7503e-04\n",
            "Epoch 58/82\n",
            "403/403 [==============================] - 2s 5ms/step - loss: 3.8957e-04\n",
            "Epoch 59/82\n",
            "403/403 [==============================] - 2s 5ms/step - loss: 3.9754e-04\n",
            "Epoch 60/82\n",
            "403/403 [==============================] - 2s 5ms/step - loss: 3.6502e-04\n",
            "Epoch 61/82\n",
            "403/403 [==============================] - 3s 7ms/step - loss: 3.6547e-04\n",
            "Epoch 62/82\n",
            "403/403 [==============================] - 2s 5ms/step - loss: 3.7243e-04\n",
            "Epoch 63/82\n",
            "403/403 [==============================] - 2s 5ms/step - loss: 3.7847e-04\n",
            "Epoch 64/82\n",
            "403/403 [==============================] - 2s 5ms/step - loss: 3.7935e-04\n",
            "Epoch 65/82\n",
            "403/403 [==============================] - 2s 5ms/step - loss: 3.7409e-04\n",
            "Epoch 66/82\n",
            "403/403 [==============================] - 2s 6ms/step - loss: 3.7219e-04\n",
            "Epoch 67/82\n",
            "403/403 [==============================] - 3s 7ms/step - loss: 3.7393e-04\n",
            "Epoch 68/82\n",
            "403/403 [==============================] - 2s 5ms/step - loss: 3.6843e-04\n",
            "Epoch 69/82\n",
            "403/403 [==============================] - 2s 5ms/step - loss: 3.5936e-04\n",
            "Epoch 70/82\n",
            "403/403 [==============================] - 2s 5ms/step - loss: 3.5223e-04\n",
            "Epoch 71/82\n",
            "403/403 [==============================] - 2s 5ms/step - loss: 3.6044e-04\n",
            "Epoch 72/82\n",
            "403/403 [==============================] - 2s 6ms/step - loss: 3.5987e-04\n",
            "Epoch 73/82\n",
            "403/403 [==============================] - 3s 7ms/step - loss: 3.4686e-04\n",
            "Epoch 74/82\n",
            "403/403 [==============================] - 2s 5ms/step - loss: 3.6398e-04\n",
            "Epoch 75/82\n",
            "403/403 [==============================] - 2s 5ms/step - loss: 3.5686e-04\n",
            "Epoch 76/82\n",
            "403/403 [==============================] - 2s 5ms/step - loss: 3.7040e-04\n",
            "Epoch 77/82\n",
            "403/403 [==============================] - 2s 6ms/step - loss: 3.5410e-04\n",
            "Epoch 78/82\n",
            "403/403 [==============================] - 3s 8ms/step - loss: 3.7499e-04\n",
            "Epoch 79/82\n",
            "403/403 [==============================] - 2s 6ms/step - loss: 3.6981e-04\n",
            "Epoch 80/82\n",
            "403/403 [==============================] - 2s 5ms/step - loss: 3.5672e-04\n",
            "Epoch 81/82\n",
            "403/403 [==============================] - 2s 5ms/step - loss: 3.4669e-04\n",
            "Epoch 82/82\n",
            "403/403 [==============================] - 2s 5ms/step - loss: 3.6435e-04\n",
            "LSTM Model Training Elapsed Time : 193.25044 seconds\n",
            "=================== horizon = 8======================\n"
          ]
        },
        {
          "output_type": "stream",
          "name": "stderr",
          "text": [
            "Progress: 100%|██████████| 1700/1700 [17:06<00:00,  1.66it/s]\n"
          ]
        },
        {
          "output_type": "stream",
          "name": "stdout",
          "text": [
            "LSTM Test RMSE : 0.04555\n",
            "LSTM Test MAE : 0.03521\n",
            "LSTM Elapsed Time To generate Predictions : 1026.11798 seconds\n",
            "=================== horizon = 10======================\n"
          ]
        },
        {
          "output_type": "stream",
          "name": "stderr",
          "text": [
            "Progress: 100%|██████████| 1700/1700 [23:54<00:00,  1.18it/s]"
          ]
        },
        {
          "output_type": "stream",
          "name": "stdout",
          "text": [
            "LSTM Test RMSE : 0.05164\n",
            "LSTM Test MAE : 0.03982\n",
            "LSTM Elapsed Time To generate Predictions : 1434.72751 seconds\n"
          ]
        },
        {
          "output_type": "stream",
          "name": "stderr",
          "text": [
            "\n"
          ]
        }
      ]
    },
    {
      "cell_type": "code",
      "source": [
        "plt.figure(figsize=(10, 6))\n",
        "plt.plot(new_testY[1600, :], label=\"Actual\", marker='o')\n",
        "plt.plot(testPredict[1600, :], label=\"Predictions\", marker='x')\n",
        "plt.xlabel(\"Time Step\")\n",
        "plt.ylabel(\"Value\")\n",
        "plt.legend()\n",
        "plt.show()"
      ],
      "metadata": {
        "colab": {
          "base_uri": "https://localhost:8080/",
          "height": 542
        },
        "id": "VasIqFrEwg9R",
        "outputId": "fb4bcd4f-1689-496b-f126-f3e1a0359de8"
      },
      "execution_count": null,
      "outputs": [
        {
          "output_type": "display_data",
          "data": {
            "text/plain": [
              "<Figure size 1000x600 with 1 Axes>"
            ],
            "image/png": "[encoded data removed]"
          },
          "metadata": {}
        }
      ]
    },
    {
      "cell_type": "code",
      "source": [
        "testRMSE = np.sqrt(mean_squared_error(new_testY, testPredict[:len(new_testY), :]))"
      ],
      "metadata": {
        "id": "Qnemerh4mpcs"
      },
      "execution_count": null,
      "outputs": []
    },
    {
      "cell_type": "code",
      "source": [
        "testRMSE"
      ],
      "metadata": {
        "colab": {
          "base_uri": "https://localhost:8080/"
        },
        "id": "M-5iRYJph2WP",
        "outputId": "8e620c37-ecb7-40ad-ceab-d6aab4fb3a8d"
      },
      "execution_count": null,
      "outputs": [
        {
          "output_type": "execute_result",
          "data": {
            "text/plain": [
              "0.02515008767748288"
            ]
          },
          "metadata": {},
          "execution_count": 50
        }
      ]
    },
    {
      "cell_type": "code",
      "source": [
        "plt.figure(figsize=(10, 6))\n",
        "plt.plot(new_testY[0, :], label=\"Actual\", marker='o')\n",
        "plt.plot(testPredict[0, :], label=\"Predictions\", marker='x')\n",
        "plt.xlabel(\"Time Step\")\n",
        "plt.ylabel(\"Value\")\n",
        "plt.legend()\n",
        "plt.show()"
      ],
      "metadata": {
        "colab": {
          "base_uri": "https://localhost:8080/",
          "height": 542
        },
        "id": "tbY0i2aMnYjp",
        "outputId": "8783786a-1cb8-45e4-eb24-164548d21d3e"
      },
      "execution_count": null,
      "outputs": [
        {
          "output_type": "display_data",
          "data": {
            "text/plain": [
              "<Figure size 1000x600 with 1 Axes>"
            ],
            "image/png": "[encoded data removed]"
          },
          "metadata": {}
        }
      ]
    },
    {
      "cell_type": "code",
      "source": [],
      "metadata": {
        "id": "QVW-wyfJnYmk"
      },
      "execution_count": null,
      "outputs": []
    },
    {
      "cell_type": "code",
      "source": [],
      "metadata": {
        "id": "g1M5U3vhnYpU"
      },
      "execution_count": null,
      "outputs": []
    },
    {
      "cell_type": "code",
      "source": [],
      "metadata": {
        "id": "en5mS-C5h2Z1"
      },
      "execution_count": null,
      "outputs": []
    },
    {
      "cell_type": "code",
      "source": [
        "# Best Params\n",
        "look_back = 100\n",
        "num_hidden_layers = 2\n",
        "learning_rate = 0.0015250869829489782\n",
        "batch_size = 44\n",
        "epochs = 82\n",
        "lstm_units_layer_0 = 15\n",
        "lstm_units_layer_1 = 32\n",
        "\n",
        "\n",
        "node1_delay = df[['node1_delay']]\n",
        "node1_delay_dataset = node1_delay.values\n",
        "window_size, slide_size = smooth_ASAP(node1_delay_dataset, resolution=50)\n",
        "print(\"Window Size: \", window_size)\n",
        "\n",
        "denoised_node1_delay_dataset = moving_average(node1_delay_dataset, window_size)\n",
        "\n",
        "# split into train and test sets\n",
        "train_size = int(len(denoised_node1_delay_dataset) * 0.9)\n",
        "test_size = len(denoised_node1_delay_dataset) - train_size\n",
        "train, test = denoised_node1_delay_dataset[0:train_size], denoised_node1_delay_dataset[train_size:]\n",
        "\n",
        "print(len(train), len(test))\n",
        "\n",
        "# reshape into X=t and Y=t+1\n",
        "trainX, trainY = create_multistep_dataset(train, look_back, 1)\n",
        "testX, testY = create_multistep_dataset(test, look_back, 1)\n",
        "\n",
        "# reshape input to be [samples, time steps, features]\n",
        "trainX = np.reshape(trainX, (trainX.shape[0], 1, trainX.shape[1]))\n",
        "testX = np.reshape(testX, (testX.shape[0], 1, testX.shape[1]))\n",
        "print(trainX.shape)\n",
        "\n",
        "# Crée et entraîne le modèle pour l'horizon de prévision i\n",
        "model = Sequential()\n",
        "model.add(LSTM(units=lstm_units_layer_0, return_sequences=True))\n",
        "model.add(LSTM(units=lstm_units_layer_1))\n",
        "model.add(Dense(1))\n",
        "optimizer = keras.optimizers.Adam(lr=learning_rate)\n",
        "model.compile(loss='mean_squared_error', optimizer=optimizer)\n",
        "\n",
        "# Record the starting time to training the model\n",
        "training_start_time = time.time()\n",
        "\n",
        "model.fit(trainX, trainY, epochs=epochs, batch_size=batch_size, verbose=1)\n",
        "\n",
        "# Record the ending time of training the model\n",
        "training_end_time = time.time()\n",
        "training_elapsed_time = training_end_time - training_start_time\n",
        "\n",
        "\n",
        "# Record the starting time to generate predictions\n",
        "predictions_start_time = time.time()\n",
        "\n",
        "testPredict = []\n",
        "last_input = testX[-1]\n",
        "for _ in range(5):  # Predict the next 5 steps\n",
        "    next_pred = model.predict(last_input.reshape(1, n_input, 1))[0][0]\n",
        "    testPredict.append(next_pred)\n",
        "    last_input = np.roll(last_input, -1)\n",
        "    last_input[-1] = next_pred\n",
        "\n",
        "\n",
        "testPredict = model.predict(testX, verbose=0)\n",
        "\n",
        "# Record the ending time of generating predictions\n",
        "predictions_end_time = time.time()\n",
        "predictions_elapsed_time = predictions_end_time - predictions_start_time\n",
        "\n",
        "# calculate root mean squared error\n",
        "LSTM_RMSE = np.sqrt(mean_squared_error(testY, testPredict))\n",
        "LSTM_MAE = mean_absolute_error(testY, testPredict)\n",
        "\n",
        "print(\"LSTM Model Training Elapsed Time : %.5f\" % (training_elapsed_time), \"seconds\")\n",
        "print(\"LSTM Model Generate predictions Elapsed Time : %.5f\" % (predictions_elapsed_time), \"seconds\")\n",
        "print('LSTM Test RMSE : %.5f' % (LSTM_RMSE))\n",
        "print('LSTM Test MAE : %.5f' % (LSTM_MAE))"
      ],
      "metadata": {
        "id": "GhtL9DAuPgg2"
      },
      "execution_count": null,
      "outputs": []
    },
    {
      "cell_type": "markdown",
      "source": [
        "# Direct Strategy"
      ],
      "metadata": {
        "id": "fWH1IxIr8SU7"
      }
    },
    {
      "cell_type": "code",
      "source": [
        "# Best Params\n",
        "look_back = 300\n",
        "num_hidden_layers = 2\n",
        "learning_rate = 0.0015250869829489782\n",
        "batch_size = 44\n",
        "epochs = 82\n",
        "num_units_layer_0 = 15\n",
        "num_units_layer_1 = 32\n",
        "\n",
        "# ESN Params\n",
        "n_reservoir = 10\n",
        "sparsity = 0.4\n",
        "spectral_radius = 10.0\n",
        "noise = 0.001\n",
        "look_back = 342"
      ],
      "metadata": {
        "id": "gphh_qYnAH0M"
      },
      "execution_count": null,
      "outputs": []
    },
    {
      "cell_type": "code",
      "source": [
        "def direct_multistep_strategy(model, trainX, trainY):\n",
        "    n = trainY.shape[1]  # Nombre de colonnes de Y (horizons de prévision)\n",
        "    models = []  # Liste pour stocker les modèles entraînés\n",
        "\n",
        "    if model == 'lstm' :\n",
        "        total_training_elapsed_time = 0\n",
        "        for i in tqdm(range(n)):\n",
        "\n",
        "            y = trainY[:, i]  # Sélectionne la colonne i de Y\n",
        "            # Crée et entraîne le modèle pour l'horizon de prévision i\n",
        "            model = Sequential()\n",
        "            model.add(LSTM(units=num_units_layer_0, return_sequences=True))\n",
        "            model.add(LSTM(units=num_units_layer_1))\n",
        "            model.add(Dense(1))\n",
        "            optimizer = keras.optimizers.Adam(lr=learning_rate)\n",
        "            model.compile(loss='mean_squared_error', optimizer=optimizer)\n",
        "\n",
        "            # Record the starting time to training the model\n",
        "            training_start_time = time.time()\n",
        "\n",
        "            model.fit(trainX, y, epochs=epochs, batch_size=batch_size, verbose=0)\n",
        "\n",
        "            # Record the ending time of training the model\n",
        "            training_end_time = time.time()\n",
        "            training_elapsed_time = training_end_time - training_start_time\n",
        "            total_training_elapsed_time += training_elapsed_time\n",
        "            models.append(model)  # Ajoute le modèle à la liste\n",
        "\n",
        "            print(\"Model Done !\")\n",
        "        print(\"All Models Done !\")\n",
        "\n",
        "    elif model == 'gru' :\n",
        "        total_training_elapsed_time = 0\n",
        "        for i in tqdm(range(n)):\n",
        "            y = trainY[:, i]  # Sélectionne la colonne i de Y\n",
        "\n",
        "            # Crée et entraîne le modèle pour l'horizon de prévision i\n",
        "\n",
        "            model = Sequential()\n",
        "            model.add(GRU(units=num_units_layer_0, return_sequences=True))\n",
        "            model.add(GRU(units=num_units_layer_1))\n",
        "            model.add(Dense(1))\n",
        "            optimizer = keras.optimizers.Adam(lr=learning_rate)\n",
        "            model.compile(loss='mean_squared_error', optimizer=optimizer)\n",
        "\n",
        "            # Record the starting time to training the model\n",
        "            training_start_time = time.time()\n",
        "\n",
        "            model.fit(trainX, y, epochs=epochs, batch_size=batch_size, verbose=0)\n",
        "\n",
        "            # Record the ending time of training the model\n",
        "            training_end_time = time.time()\n",
        "            training_elapsed_time = training_end_time - training_start_time\n",
        "            total_training_elapsed_time += training_elapsed_time\n",
        "            models.append(model)  # Ajoute le modèle à la liste\n",
        "\n",
        "            print(\"Model Done !\")\n",
        "        print(\"All Models Done !\")\n",
        "    elif model == 'rnn' :\n",
        "        total_training_elapsed_time = 0\n",
        "        for i in tqdm(range(n)):\n",
        "            y = trainY[:, i]  # Sélectionne la colonne i de Y\n",
        "\n",
        "            # Crée et entraîne le modèle pour l'horizon de prévision i\n",
        "\n",
        "            model = Sequential()\n",
        "            model.add(SimpleRNN(units=num_units_layer_0, return_sequences=True))\n",
        "            model.add(SimpleRNN(units=num_units_layer_1))\n",
        "            model.add(Dense(1))\n",
        "            optimizer = keras.optimizers.Adam(lr=learning_rate)\n",
        "            model.compile(loss='mean_squared_error', optimizer=optimizer)\n",
        "\n",
        "            # Record the starting time to training the model\n",
        "            training_start_time = time.time()\n",
        "\n",
        "            model.fit(trainX, y, epochs=epochs, batch_size=batch_size, verbose=0)\n",
        "\n",
        "            # Record the ending time of training the model\n",
        "            training_end_time = time.time()\n",
        "            training_elapsed_time = training_end_time - training_start_time\n",
        "            total_training_elapsed_time += training_elapsed_time\n",
        "            models.append(model)  # Ajoute le modèle à la liste\n",
        "\n",
        "            print(\"Model Done !\")\n",
        "        print(\"All Models Done !\")\n",
        "    elif model == 'esn' :\n",
        "        total_training_elapsed_time = 0\n",
        "        for i in tqdm(range(n)):\n",
        "            y = trainY[:, i]  # Sélectionne la colonne i de Y\n",
        "\n",
        "            # Crée et entraîne le modèle pour l'horizon de prévision i\n",
        "\n",
        "            model = ESN(n_inputs = look_back,\n",
        "                n_outputs = 1,\n",
        "                n_reservoir = n_reservoir,\n",
        "                sparsity=sparsity,\n",
        "                random_state=1234,\n",
        "                spectral_radius=spectral_radius,\n",
        "                noise = noise,\n",
        "                silent = False,\n",
        "                teacher_scaling = 10,\n",
        "              )\n",
        "            # Record the starting time to training the model\n",
        "            training_start_time = time.time()\n",
        "\n",
        "            pred_train = model.fit(trainX, y)\n",
        "\n",
        "            # Record the ending time of training the model\n",
        "            training_end_time = time.time()\n",
        "            training_elapsed_time = training_end_time - training_start_time\n",
        "            total_training_elapsed_time += training_elapsed_time\n",
        "            models.append(model)  # Ajoute le modèle à la liste\n",
        "\n",
        "            print(\"Model Done !\")\n",
        "        print(\"All Models Done !\")\n",
        "    return models, total_training_elapsed_time"
      ],
      "metadata": {
        "id": "eBCk-YLOPihE"
      },
      "execution_count": null,
      "outputs": []
    },
    {
      "cell_type": "code",
      "source": [
        "def predict_using_models(models, X, model='all'):\n",
        "    n = len(models)  # Nombre de modèles\n",
        "\n",
        "    # Initialisation d'une matrice pour stocker les prédictions\n",
        "    predictions = np.zeros((X.shape[0], n))\n",
        "\n",
        "    # Record the starting time to generate predictions\n",
        "    predictions_start_time = time.time()\n",
        "\n",
        "    if model == 'esn':\n",
        "      for i, model in tqdm(enumerate(models)):\n",
        "        # Effectue les prédictions pour le modèle i\n",
        "        y_pred = model.predict(X)\n",
        "        predictions[:, i] = np.squeeze(y_pred)\n",
        "    else :\n",
        "\n",
        "      for i, model in tqdm(enumerate(models)):\n",
        "          # Effectue les prédictions pour le modèle i\n",
        "          y_pred = model.predict(X, verbose=0)\n",
        "          predictions[:, i] = np.squeeze(y_pred)\n",
        "\n",
        "    # Record the ending time of generating predictions\n",
        "    predictions_end_time = time.time()\n",
        "    predictions_elapsed_time = predictions_end_time - predictions_start_time\n",
        "\n",
        "    return predictions, predictions_elapsed_time"
      ],
      "metadata": {
        "id": "5YaF7o29A7fh"
      },
      "execution_count": null,
      "outputs": []
    },
    {
      "cell_type": "markdown",
      "source": [
        "### LSTM Model"
      ],
      "metadata": {
        "id": "i6BBAbcMB-dY"
      }
    },
    {
      "cell_type": "markdown",
      "source": [
        "#### Horizon = 2"
      ],
      "metadata": {
        "id": "wB8WmZkfD86H"
      }
    },
    {
      "cell_type": "code",
      "source": [
        "horizon = 2\n",
        "node1_delay = df[['node1_delay']]\n",
        "node1_delay_dataset = node1_delay.values\n",
        "window_size, slide_size = smooth_ASAP(node1_delay_dataset, resolution=50)\n",
        "print(\"Window Size: \", window_size)\n",
        "\n",
        "denoised_node1_delay_dataset = moving_average(node1_delay_dataset, window_size)\n",
        "\n",
        "# split into train and test sets\n",
        "train_size = int(len(denoised_node1_delay_dataset) * 0.9)\n",
        "test_size = len(denoised_node1_delay_dataset) - train_size\n",
        "train, test = denoised_node1_delay_dataset[0:train_size], denoised_node1_delay_dataset[train_size:]\n",
        "\n",
        "print(len(train), len(test))\n",
        "\n",
        "# reshape into X=t and Y=t+1\n",
        "trainX, trainY = create_multistep_dataset(train, look_back, horizon)\n",
        "testX, testY = create_multistep_dataset(test, look_back, horizon)\n",
        "\n",
        "# reshape input to be [samples, time steps, features]\n",
        "trainX = np.reshape(trainX, (trainX.shape[0], 1, trainX.shape[1]))\n",
        "testX = np.reshape(testX, (testX.shape[0], 1, testX.shape[1]))\n",
        "\n",
        "models, training_elapsed_time = direct_multistep_strategy('lstm', trainX, trainY)\n",
        "\n",
        "print(\"LSTM Model Training Elapsed Time : %.5f\" % (training_elapsed_time), \"seconds\")\n",
        "\n",
        "# make predictions\n",
        "testPredict, predictions_elapsed_time = predict_using_models(models, testX)\n",
        "\n",
        "testRMSE = np.sqrt(mean_squared_error(testY, testPredict[:len(testY), :]))\n",
        "testMAE = mean_absolute_error(testY, testPredict[:len(testY), :])\n",
        "\n",
        "print('LSTM Test RMSE : %.5f' % (testRMSE))\n",
        "print('LSTM Test MAE : %.5f' % (testMAE))\n",
        "print(\"LSTM Elapsed Time To generate Predictions : %.5f\" % (predictions_elapsed_time), \"seconds\")"
      ],
      "metadata": {
        "colab": {
          "base_uri": "https://localhost:8080/"
        },
        "id": "Sdw3tRooBMVz",
        "outputId": "60a0890b-dfa6-4e92-d518-88a6fc42ac4f"
      },
      "execution_count": null,
      "outputs": [
        {
          "output_type": "stream",
          "name": "stdout",
          "text": [
            "Window Size:  10\n",
            "17991 2000\n"
          ]
        },
        {
          "output_type": "stream",
          "name": "stderr",
          "text": [
            "\r  0%|          | 0/2 [00:00<?, ?it/s]/usr/local/lib/python3.10/dist-packages/keras/optimizers/legacy/adam.py:117: UserWarning: The `lr` argument is deprecated, use `learning_rate` instead.\n",
            "  super().__init__(name, **kwargs)\n",
            " 50%|█████     | 1/2 [03:26<03:26, 206.56s/it]"
          ]
        },
        {
          "output_type": "stream",
          "name": "stdout",
          "text": [
            "Model Done !\n"
          ]
        },
        {
          "output_type": "stream",
          "name": "stderr",
          "text": [
            "100%|██████████| 2/2 [06:08<00:00, 184.41s/it]\n"
          ]
        },
        {
          "output_type": "stream",
          "name": "stdout",
          "text": [
            "Model Done !\n",
            "All Models Done !\n",
            "LSTM Model Training Elapsed Time : 368.63541 seconds\n"
          ]
        },
        {
          "output_type": "stream",
          "name": "stderr",
          "text": [
            "2it [00:02,  1.06s/it]"
          ]
        },
        {
          "output_type": "stream",
          "name": "stdout",
          "text": [
            "LSTM Test RMSE : 0.02402\n",
            "LSTM Test MAE : 0.01939\n",
            "LSTM Elapsed Time To generate Predictions : 2.13098 seconds\n"
          ]
        },
        {
          "output_type": "stream",
          "name": "stderr",
          "text": [
            "\n"
          ]
        }
      ]
    },
    {
      "cell_type": "markdown",
      "source": [
        "#### Horizon = 4"
      ],
      "metadata": {
        "id": "gHKMPx-AG614"
      }
    },
    {
      "cell_type": "code",
      "source": [
        "horizon = 4\n",
        "node1_delay = df[['node1_delay']]\n",
        "node1_delay_dataset = node1_delay.values\n",
        "window_size, slide_size = smooth_ASAP(node1_delay_dataset, resolution=50)\n",
        "print(\"Window Size: \", window_size)\n",
        "\n",
        "denoised_node1_delay_dataset = moving_average(node1_delay_dataset, window_size)\n",
        "\n",
        "# split into train and test sets\n",
        "train_size = int(len(denoised_node1_delay_dataset) * 0.9)\n",
        "test_size = len(denoised_node1_delay_dataset) - train_size\n",
        "train, test = denoised_node1_delay_dataset[0:train_size], denoised_node1_delay_dataset[train_size:]\n",
        "\n",
        "print(len(train), len(test))\n",
        "\n",
        "# reshape into X=t and Y=t+1\n",
        "trainX, trainY = create_multistep_dataset(train, look_back, horizon)\n",
        "testX, testY = create_multistep_dataset(test, look_back, horizon)\n",
        "\n",
        "# reshape input to be [samples, time steps, features]\n",
        "trainX = np.reshape(trainX, (trainX.shape[0], 1, trainX.shape[1]))\n",
        "testX = np.reshape(testX, (testX.shape[0], 1, testX.shape[1]))\n",
        "\n",
        "models, training_elapsed_time = direct_multistep_strategy('lstm', trainX, trainY)\n",
        "\n",
        "print(\"LSTM Model Training Elapsed Time : %.5f\" % (training_elapsed_time), \"seconds\")\n",
        "\n",
        "# make predictions\n",
        "testPredict, predictions_elapsed_time = predict_using_models(models, testX)\n",
        "\n",
        "testRMSE = np.sqrt(mean_squared_error(testY, testPredict[:len(testY), :]))\n",
        "testMAE = mean_absolute_error(testY, testPredict[:len(testY), :])\n",
        "\n",
        "print('LSTM Test RMSE : %.5f' % (testRMSE))\n",
        "print('LSTM Test MAE : %.5f' % (testMAE))\n",
        "print(\"LSTM Elapsed Time To generate Predictions : %.5f\" % (predictions_elapsed_time), \"seconds\")"
      ],
      "metadata": {
        "colab": {
          "base_uri": "https://localhost:8080/"
        },
        "id": "36oV4nYNEBbh",
        "outputId": "59194174-d235-4273-8968-3c2c7e0b89dd"
      },
      "execution_count": null,
      "outputs": [
        {
          "output_type": "stream",
          "name": "stdout",
          "text": [
            "Window Size:  10\n",
            "17991 2000\n"
          ]
        },
        {
          "output_type": "stream",
          "name": "stderr",
          "text": [
            "\r  0%|          | 0/4 [00:00<?, ?it/s]/usr/local/lib/python3.10/dist-packages/keras/optimizers/legacy/adam.py:117: UserWarning: The `lr` argument is deprecated, use `learning_rate` instead.\n",
            "  super().__init__(name, **kwargs)\n",
            " 25%|██▌       | 1/4 [02:38<07:55, 158.43s/it]"
          ]
        },
        {
          "output_type": "stream",
          "name": "stdout",
          "text": [
            "Model Done !\n"
          ]
        },
        {
          "output_type": "stream",
          "name": "stderr",
          "text": [
            "\r 50%|█████     | 2/4 [05:24<05:25, 162.93s/it]"
          ]
        },
        {
          "output_type": "stream",
          "name": "stdout",
          "text": [
            "Model Done !\n"
          ]
        },
        {
          "output_type": "stream",
          "name": "stderr",
          "text": [
            "\r 75%|███████▌  | 3/4 [08:07<02:43, 163.16s/it]"
          ]
        },
        {
          "output_type": "stream",
          "name": "stdout",
          "text": [
            "Model Done !\n"
          ]
        },
        {
          "output_type": "stream",
          "name": "stderr",
          "text": [
            "100%|██████████| 4/4 [10:47<00:00, 161.83s/it]\n"
          ]
        },
        {
          "output_type": "stream",
          "name": "stdout",
          "text": [
            "Model Done !\n",
            "All Models Done !\n",
            "LSTM Model Training Elapsed Time : 647.23179 seconds\n"
          ]
        },
        {
          "output_type": "stream",
          "name": "stderr",
          "text": [
            "4it [00:04,  1.08s/it]"
          ]
        },
        {
          "output_type": "stream",
          "name": "stdout",
          "text": [
            "LSTM Test RMSE : 0.02877\n",
            "LSTM Test MAE : 0.02307\n",
            "LSTM Elapsed Time To generate Predictions : 4.31572 seconds\n"
          ]
        },
        {
          "output_type": "stream",
          "name": "stderr",
          "text": [
            "\n"
          ]
        }
      ]
    },
    {
      "cell_type": "markdown",
      "source": [
        "#### Horizon = 6"
      ],
      "metadata": {
        "id": "1TtBdF1wLjdF"
      }
    },
    {
      "cell_type": "code",
      "source": [
        "horizon = 6\n",
        "node1_delay = df[['node1_delay']]\n",
        "node1_delay_dataset = node1_delay.values\n",
        "window_size, slide_size = smooth_ASAP(node1_delay_dataset, resolution=50)\n",
        "print(\"Window Size: \", window_size)\n",
        "\n",
        "denoised_node1_delay_dataset = moving_average(node1_delay_dataset, window_size)\n",
        "\n",
        "# split into train and test sets\n",
        "train_size = int(len(denoised_node1_delay_dataset) * 0.9)\n",
        "test_size = len(denoised_node1_delay_dataset) - train_size\n",
        "train, test = denoised_node1_delay_dataset[0:train_size], denoised_node1_delay_dataset[train_size:]\n",
        "\n",
        "print(len(train), len(test))\n",
        "\n",
        "# reshape into X=t and Y=t+1\n",
        "trainX, trainY = create_multistep_dataset(train, look_back, horizon)\n",
        "testX, testY = create_multistep_dataset(test, look_back, horizon)\n",
        "\n",
        "# reshape input to be [samples, time steps, features]\n",
        "trainX = np.reshape(trainX, (trainX.shape[0], 1, trainX.shape[1]))\n",
        "testX = np.reshape(testX, (testX.shape[0], 1, testX.shape[1]))\n",
        "\n",
        "models, training_elapsed_time = direct_multistep_strategy('lstm', trainX, trainY)\n",
        "\n",
        "print(\"LSTM Model Training Elapsed Time : %.5f\" % (training_elapsed_time), \"seconds\")\n",
        "\n",
        "# make predictions\n",
        "testPredict, predictions_elapsed_time = predict_using_models(models, testX)\n",
        "\n",
        "testRMSE = np.sqrt(mean_squared_error(testY, testPredict[:len(testY), :]))\n",
        "testMAE = mean_absolute_error(testY, testPredict[:len(testY), :])\n",
        "\n",
        "print('LSTM Test RMSE : %.5f' % (testRMSE))\n",
        "print('LSTM Test MAE : %.5f' % (testMAE))\n",
        "print(\"LSTM Elapsed Time To generate Predictions : %.5f\" % (predictions_elapsed_time), \"seconds\")"
      ],
      "metadata": {
        "colab": {
          "base_uri": "https://localhost:8080/"
        },
        "id": "8-T2D67LLmy_",
        "outputId": "c795d04e-5507-4986-c09e-d7d503daaf0f"
      },
      "execution_count": null,
      "outputs": [
        {
          "output_type": "stream",
          "name": "stdout",
          "text": [
            "Window Size:  10\n",
            "17991 2000\n"
          ]
        },
        {
          "output_type": "stream",
          "name": "stderr",
          "text": [
            "\r  0%|          | 0/6 [00:00<?, ?it/s]/usr/local/lib/python3.10/dist-packages/keras/optimizers/legacy/adam.py:117: UserWarning: The `lr` argument is deprecated, use `learning_rate` instead.\n",
            "  super().__init__(name, **kwargs)\n",
            " 17%|█▋        | 1/6 [03:27<17:17, 207.43s/it]"
          ]
        },
        {
          "output_type": "stream",
          "name": "stdout",
          "text": [
            "Model Done !\n"
          ]
        },
        {
          "output_type": "stream",
          "name": "stderr",
          "text": [
            "\r 33%|███▎      | 2/6 [06:13<12:13, 183.33s/it]"
          ]
        },
        {
          "output_type": "stream",
          "name": "stdout",
          "text": [
            "Model Done !\n"
          ]
        },
        {
          "output_type": "stream",
          "name": "stderr",
          "text": [
            "\r 50%|█████     | 3/6 [08:59<08:45, 175.07s/it]"
          ]
        },
        {
          "output_type": "stream",
          "name": "stdout",
          "text": [
            "Model Done !\n"
          ]
        },
        {
          "output_type": "stream",
          "name": "stderr",
          "text": [
            "\r 67%|██████▋   | 4/6 [12:24<06:14, 187.21s/it]"
          ]
        },
        {
          "output_type": "stream",
          "name": "stdout",
          "text": [
            "Model Done !\n"
          ]
        },
        {
          "output_type": "stream",
          "name": "stderr",
          "text": [
            "\r 83%|████████▎ | 5/6 [15:14<03:00, 180.87s/it]"
          ]
        },
        {
          "output_type": "stream",
          "name": "stdout",
          "text": [
            "Model Done !\n"
          ]
        },
        {
          "output_type": "stream",
          "name": "stderr",
          "text": [
            "100%|██████████| 6/6 [18:40<00:00, 186.72s/it]\n"
          ]
        },
        {
          "output_type": "stream",
          "name": "stdout",
          "text": [
            "Model Done !\n",
            "All Models Done !\n",
            "LSTM Model Training Elapsed Time : 1120.19067 seconds\n"
          ]
        },
        {
          "output_type": "stream",
          "name": "stderr",
          "text": [
            "6it [00:09,  1.61s/it]"
          ]
        },
        {
          "output_type": "stream",
          "name": "stdout",
          "text": [
            "LSTM Test RMSE : 0.03311\n",
            "LSTM Test MAE : 0.02599\n",
            "LSTM Elapsed Time To generate Predictions : 9.66910 seconds\n"
          ]
        },
        {
          "output_type": "stream",
          "name": "stderr",
          "text": [
            "\n"
          ]
        }
      ]
    },
    {
      "cell_type": "markdown",
      "source": [
        "#### Horizon = 8"
      ],
      "metadata": {
        "id": "O-wjczl6LFzq"
      }
    },
    {
      "cell_type": "code",
      "source": [
        "horizon = 8\n",
        "node1_delay = df[['node1_delay']]\n",
        "node1_delay_dataset = node1_delay.values\n",
        "window_size, slide_size = smooth_ASAP(node1_delay_dataset, resolution=50)\n",
        "print(\"Window Size: \", window_size)\n",
        "\n",
        "denoised_node1_delay_dataset = moving_average(node1_delay_dataset, window_size)\n",
        "\n",
        "# split into train and test sets\n",
        "train_size = int(len(denoised_node1_delay_dataset) * 0.9)\n",
        "test_size = len(denoised_node1_delay_dataset) - train_size\n",
        "train, test = denoised_node1_delay_dataset[0:train_size], denoised_node1_delay_dataset[train_size:]\n",
        "\n",
        "print(len(train), len(test))\n",
        "\n",
        "# reshape into X=t and Y=t+1\n",
        "trainX, trainY = create_multistep_dataset(train, look_back, horizon)\n",
        "testX, testY = create_multistep_dataset(test, look_back, horizon)\n",
        "\n",
        "# reshape input to be [samples, time steps, features]\n",
        "trainX = np.reshape(trainX, (trainX.shape[0], 1, trainX.shape[1]))\n",
        "testX = np.reshape(testX, (testX.shape[0], 1, testX.shape[1]))\n",
        "\n",
        "models, training_elapsed_time = direct_multistep_strategy('lstm', trainX, trainY)\n",
        "\n",
        "print(\"LSTM Model Training Elapsed Time : %.5f\" % (training_elapsed_time), \"seconds\")\n",
        "\n",
        "# make predictions\n",
        "testPredict, predictions_elapsed_time = predict_using_models(models, testX)\n",
        "\n",
        "testRMSE = np.sqrt(mean_squared_error(testY, testPredict[:len(testY), :]))\n",
        "testMAE = mean_absolute_error(testY, testPredict[:len(testY), :])\n",
        "\n",
        "print('LSTM Test RMSE : %.5f' % (testRMSE))\n",
        "print('LSTM Test MAE : %.5f' % (testMAE))\n",
        "print(\"LSTM Elapsed Time To generate Predictions : %.5f\" % (predictions_elapsed_time), \"seconds\")"
      ],
      "metadata": {
        "colab": {
          "base_uri": "https://localhost:8080/"
        },
        "id": "Zjpy-XV6HQf5",
        "outputId": "9a937306-32eb-4a82-bf1f-39083c560479"
      },
      "execution_count": null,
      "outputs": [
        {
          "output_type": "stream",
          "name": "stdout",
          "text": [
            "Window Size:  10\n",
            "17991 2000\n"
          ]
        },
        {
          "output_type": "stream",
          "name": "stderr",
          "text": [
            "\r  0%|          | 0/8 [00:00<?, ?it/s]/usr/local/lib/python3.10/dist-packages/keras/optimizers/legacy/adam.py:117: UserWarning: The `lr` argument is deprecated, use `learning_rate` instead.\n",
            "  super().__init__(name, **kwargs)\n",
            " 12%|█▎        | 1/8 [02:54<20:24, 174.90s/it]"
          ]
        },
        {
          "output_type": "stream",
          "name": "stdout",
          "text": [
            "Model Done !\n"
          ]
        },
        {
          "output_type": "stream",
          "name": "stderr",
          "text": [
            "\r 25%|██▌       | 2/8 [06:20<19:18, 193.16s/it]"
          ]
        },
        {
          "output_type": "stream",
          "name": "stdout",
          "text": [
            "Model Done !\n"
          ]
        },
        {
          "output_type": "stream",
          "name": "stderr",
          "text": [
            "\r 38%|███▊      | 3/8 [09:27<15:50, 190.12s/it]"
          ]
        },
        {
          "output_type": "stream",
          "name": "stdout",
          "text": [
            "Model Done !\n"
          ]
        },
        {
          "output_type": "stream",
          "name": "stderr",
          "text": [
            "\r 50%|█████     | 4/8 [12:53<13:06, 196.58s/it]"
          ]
        },
        {
          "output_type": "stream",
          "name": "stdout",
          "text": [
            "Model Done !\n"
          ]
        },
        {
          "output_type": "stream",
          "name": "stderr",
          "text": [
            "\r 62%|██████▎   | 5/8 [15:33<09:09, 183.26s/it]"
          ]
        },
        {
          "output_type": "stream",
          "name": "stdout",
          "text": [
            "Model Done !\n"
          ]
        },
        {
          "output_type": "stream",
          "name": "stderr",
          "text": [
            "\r 75%|███████▌  | 6/8 [18:04<05:44, 172.25s/it]"
          ]
        },
        {
          "output_type": "stream",
          "name": "stdout",
          "text": [
            "Model Done !\n"
          ]
        },
        {
          "output_type": "stream",
          "name": "stderr",
          "text": [
            "\r 88%|████████▊ | 7/8 [20:44<02:48, 168.44s/it]"
          ]
        },
        {
          "output_type": "stream",
          "name": "stdout",
          "text": [
            "Model Done !\n"
          ]
        },
        {
          "output_type": "stream",
          "name": "stderr",
          "text": [
            "100%|██████████| 8/8 [23:37<00:00, 177.13s/it]\n"
          ]
        },
        {
          "output_type": "stream",
          "name": "stdout",
          "text": [
            "Model Done !\n",
            "All Models Done !\n",
            "LSTM Model Training Elapsed Time : 1416.86246 seconds\n"
          ]
        },
        {
          "output_type": "stream",
          "name": "stderr",
          "text": [
            "8it [00:09,  1.13s/it]"
          ]
        },
        {
          "output_type": "stream",
          "name": "stdout",
          "text": [
            "LSTM Test RMSE : 0.03642\n",
            "LSTM Test MAE : 0.02830\n",
            "LSTM Elapsed Time To generate Predictions : 9.09336 seconds\n"
          ]
        },
        {
          "output_type": "stream",
          "name": "stderr",
          "text": [
            "\n"
          ]
        }
      ]
    },
    {
      "cell_type": "markdown",
      "source": [
        "#### Horizon = 10"
      ],
      "metadata": {
        "id": "EDIDJiXbLq3H"
      }
    },
    {
      "cell_type": "code",
      "source": [
        "horizon = 10\n",
        "node1_delay = df[['node1_delay']]\n",
        "node1_delay_dataset = node1_delay.values\n",
        "window_size, slide_size = smooth_ASAP(node1_delay_dataset, resolution=50)\n",
        "print(\"Window Size: \", window_size)\n",
        "\n",
        "denoised_node1_delay_dataset = moving_average(node1_delay_dataset, window_size)\n",
        "\n",
        "# split into train and test sets\n",
        "train_size = int(len(denoised_node1_delay_dataset) * 0.9)\n",
        "test_size = len(denoised_node1_delay_dataset) - train_size\n",
        "train, test = denoised_node1_delay_dataset[0:train_size], denoised_node1_delay_dataset[train_size:]\n",
        "\n",
        "print(len(train), len(test))\n",
        "\n",
        "# reshape into X=t and Y=t+1\n",
        "trainX, trainY = create_multistep_dataset(train, look_back, horizon)\n",
        "testX, testY = create_multistep_dataset(test, look_back, horizon)\n",
        "\n",
        "# reshape input to be [samples, time steps, features]\n",
        "trainX = np.reshape(trainX, (trainX.shape[0], 1, trainX.shape[1]))\n",
        "testX = np.reshape(testX, (testX.shape[0], 1, testX.shape[1]))\n",
        "\n",
        "models, training_elapsed_time = direct_multistep_strategy('lstm', trainX, trainY)\n",
        "\n",
        "print(\"LSTM Model Training Elapsed Time : %.5f\" % (training_elapsed_time), \"seconds\")\n",
        "\n",
        "# make predictions\n",
        "testPredict, predictions_elapsed_time = predict_using_models(models, testX)\n",
        "\n",
        "testRMSE = np.sqrt(mean_squared_error(testY, testPredict[:len(testY), :]))\n",
        "testMAE = mean_absolute_error(testY, testPredict[:len(testY), :])\n",
        "\n",
        "print('LSTM Test RMSE : %.5f' % (testRMSE))\n",
        "print('LSTM Test MAE : %.5f' % (testMAE))\n",
        "print(\"LSTM Elapsed Time To generate Predictions : %.5f\" % (predictions_elapsed_time), \"seconds\")"
      ],
      "metadata": {
        "colab": {
          "base_uri": "https://localhost:8080/"
        },
        "id": "dIjkZvrxLIaA",
        "outputId": "fdad10b4-8b3f-4a7d-96c4-98d1b2c9d73c"
      },
      "execution_count": null,
      "outputs": [
        {
          "output_type": "stream",
          "name": "stdout",
          "text": [
            "Window Size:  10\n",
            "17991 2000\n"
          ]
        },
        {
          "output_type": "stream",
          "name": "stderr",
          "text": [
            "\r  0%|          | 0/10 [00:00<?, ?it/s]/usr/local/lib/python3.10/dist-packages/keras/optimizers/legacy/adam.py:117: UserWarning: The `lr` argument is deprecated, use `learning_rate` instead.\n",
            "  super().__init__(name, **kwargs)\n",
            " 10%|█         | 1/10 [03:25<30:52, 205.80s/it]"
          ]
        },
        {
          "output_type": "stream",
          "name": "stdout",
          "text": [
            "Model Done !\n"
          ]
        },
        {
          "output_type": "stream",
          "name": "stderr",
          "text": [
            "\r 20%|██        | 2/10 [06:52<27:30, 206.30s/it]"
          ]
        },
        {
          "output_type": "stream",
          "name": "stdout",
          "text": [
            "Model Done !\n"
          ]
        },
        {
          "output_type": "stream",
          "name": "stderr",
          "text": [
            "\r 30%|███       | 3/10 [09:35<21:46, 186.67s/it]"
          ]
        },
        {
          "output_type": "stream",
          "name": "stdout",
          "text": [
            "Model Done !\n"
          ]
        },
        {
          "output_type": "stream",
          "name": "stderr",
          "text": [
            "\r 40%|████      | 4/10 [12:48<18:54, 189.14s/it]"
          ]
        },
        {
          "output_type": "stream",
          "name": "stdout",
          "text": [
            "Model Done !\n"
          ]
        },
        {
          "output_type": "stream",
          "name": "stderr",
          "text": [
            "\r 50%|█████     | 5/10 [15:46<15:25, 185.17s/it]"
          ]
        },
        {
          "output_type": "stream",
          "name": "stdout",
          "text": [
            "Model Done !\n"
          ]
        },
        {
          "output_type": "stream",
          "name": "stderr",
          "text": [
            "\r 60%|██████    | 6/10 [18:32<11:54, 178.53s/it]"
          ]
        },
        {
          "output_type": "stream",
          "name": "stdout",
          "text": [
            "Model Done !\n"
          ]
        },
        {
          "output_type": "stream",
          "name": "stderr",
          "text": [
            "\r 70%|███████   | 7/10 [21:15<08:40, 173.50s/it]"
          ]
        },
        {
          "output_type": "stream",
          "name": "stdout",
          "text": [
            "Model Done !\n"
          ]
        },
        {
          "output_type": "stream",
          "name": "stderr",
          "text": [
            "\r 80%|████████  | 8/10 [24:41<06:07, 183.78s/it]"
          ]
        },
        {
          "output_type": "stream",
          "name": "stdout",
          "text": [
            "Model Done !\n"
          ]
        },
        {
          "output_type": "stream",
          "name": "stderr",
          "text": [
            "\r 90%|█████████ | 9/10 [27:14<02:54, 174.30s/it]"
          ]
        },
        {
          "output_type": "stream",
          "name": "stdout",
          "text": [
            "Model Done !\n"
          ]
        },
        {
          "output_type": "stream",
          "name": "stderr",
          "text": [
            "100%|██████████| 10/10 [30:14<00:00, 181.45s/it]\n"
          ]
        },
        {
          "output_type": "stream",
          "name": "stdout",
          "text": [
            "Model Done !\n",
            "All Models Done !\n",
            "LSTM Model Training Elapsed Time : 1814.29116 seconds\n"
          ]
        },
        {
          "output_type": "stream",
          "name": "stderr",
          "text": [
            "10it [00:11,  1.10s/it]"
          ]
        },
        {
          "output_type": "stream",
          "name": "stdout",
          "text": [
            "LSTM Test RMSE : 0.04218\n",
            "LSTM Test MAE : 0.03298\n",
            "LSTM Elapsed Time To generate Predictions : 11.02615 seconds\n"
          ]
        },
        {
          "output_type": "stream",
          "name": "stderr",
          "text": [
            "\n"
          ]
        }
      ]
    },
    {
      "cell_type": "code",
      "source": [],
      "metadata": {
        "id": "Dh9wmArRLtpZ"
      },
      "execution_count": null,
      "outputs": []
    },
    {
      "cell_type": "markdown",
      "source": [
        "### GRU Model"
      ],
      "metadata": {
        "id": "j-diBIiXIROy"
      }
    },
    {
      "cell_type": "markdown",
      "source": [
        "#### Horizon = 2"
      ],
      "metadata": {
        "id": "2oEViwpkIRO3"
      }
    },
    {
      "cell_type": "code",
      "source": [
        "horizon = 2\n",
        "node1_delay = df[['node1_delay']]\n",
        "node1_delay_dataset = node1_delay.values\n",
        "window_size, slide_size = smooth_ASAP(node1_delay_dataset, resolution=50)\n",
        "print(\"Window Size: \", window_size)\n",
        "\n",
        "denoised_node1_delay_dataset = moving_average(node1_delay_dataset, window_size)\n",
        "\n",
        "# split into train and test sets\n",
        "train_size = int(len(denoised_node1_delay_dataset) * 0.9)\n",
        "test_size = len(denoised_node1_delay_dataset) - train_size\n",
        "train, test = denoised_node1_delay_dataset[0:train_size], denoised_node1_delay_dataset[train_size:]\n",
        "\n",
        "print(len(train), len(test))\n",
        "\n",
        "# reshape into X=t and Y=t+1\n",
        "trainX, trainY = create_multistep_dataset(train, look_back, horizon)\n",
        "testX, testY = create_multistep_dataset(test, look_back, horizon)\n",
        "\n",
        "# reshape input to be [samples, time steps, features]\n",
        "trainX = np.reshape(trainX, (trainX.shape[0], 1, trainX.shape[1]))\n",
        "testX = np.reshape(testX, (testX.shape[0], 1, testX.shape[1]))\n",
        "\n",
        "models, training_elapsed_time = direct_multistep_strategy('gru', trainX, trainY)\n",
        "\n",
        "print(\"GRU Model Training Elapsed Time : %.5f\" % (training_elapsed_time), \"seconds\")\n",
        "\n",
        "# make predictions\n",
        "testPredict, predictions_elapsed_time = predict_using_models(models, testX)\n",
        "\n",
        "testRMSE = np.sqrt(mean_squared_error(testY, testPredict[:len(testY), :]))\n",
        "testMAE = mean_absolute_error(testY, testPredict[:len(testY), :])\n",
        "\n",
        "print('GRU Test RMSE : %.5f' % (testRMSE))\n",
        "print('GRU Test MAE : %.5f' % (testMAE))\n",
        "print(\"GRU Elapsed Time To generate Predictions : %.5f\" % (predictions_elapsed_time), \"seconds\")"
      ],
      "metadata": {
        "colab": {
          "base_uri": "https://localhost:8080/"
        },
        "outputId": "85d29486-c3e0-4696-eb2e-a90eab6fdb52",
        "id": "t5cFzRo-IRO4"
      },
      "execution_count": null,
      "outputs": [
        {
          "output_type": "stream",
          "name": "stdout",
          "text": [
            "Window Size:  10\n",
            "17991 2000\n"
          ]
        },
        {
          "output_type": "stream",
          "name": "stderr",
          "text": [
            "\r  0%|          | 0/2 [00:00<?, ?it/s]/usr/local/lib/python3.10/dist-packages/keras/optimizers/legacy/adam.py:117: UserWarning: The `lr` argument is deprecated, use `learning_rate` instead.\n",
            "  super().__init__(name, **kwargs)\n",
            " 50%|█████     | 1/2 [02:31<02:31, 151.55s/it]"
          ]
        },
        {
          "output_type": "stream",
          "name": "stdout",
          "text": [
            "Model Done !\n"
          ]
        },
        {
          "output_type": "stream",
          "name": "stderr",
          "text": [
            "100%|██████████| 2/2 [04:55<00:00, 147.61s/it]\n"
          ]
        },
        {
          "output_type": "stream",
          "name": "stdout",
          "text": [
            "Model Done !\n",
            "All Models Done !\n",
            "GRU Model Training Elapsed Time : 295.16508 seconds\n"
          ]
        },
        {
          "output_type": "stream",
          "name": "stderr",
          "text": [
            "2it [00:02,  1.42s/it]"
          ]
        },
        {
          "output_type": "stream",
          "name": "stdout",
          "text": [
            "GRU Test RMSE : 0.02470\n",
            "GRU Test MAE : 0.02002\n",
            "GRU Elapsed Time To generate Predictions : 2.84358 seconds\n"
          ]
        },
        {
          "output_type": "stream",
          "name": "stderr",
          "text": [
            "\n"
          ]
        }
      ]
    },
    {
      "cell_type": "markdown",
      "source": [
        "#### Horizon = 4"
      ],
      "metadata": {
        "id": "FoeOyxWKIRO6"
      }
    },
    {
      "cell_type": "code",
      "source": [
        "horizon = 4\n",
        "node1_delay = df[['node1_delay']]\n",
        "node1_delay_dataset = node1_delay.values\n",
        "window_size, slide_size = smooth_ASAP(node1_delay_dataset, resolution=50)\n",
        "print(\"Window Size: \", window_size)\n",
        "\n",
        "denoised_node1_delay_dataset = moving_average(node1_delay_dataset, window_size)\n",
        "\n",
        "# split into train and test sets\n",
        "train_size = int(len(denoised_node1_delay_dataset) * 0.9)\n",
        "test_size = len(denoised_node1_delay_dataset) - train_size\n",
        "train, test = denoised_node1_delay_dataset[0:train_size], denoised_node1_delay_dataset[train_size:]\n",
        "\n",
        "print(len(train), len(test))\n",
        "\n",
        "# reshape into X=t and Y=t+1\n",
        "trainX, trainY = create_multistep_dataset(train, look_back, horizon)\n",
        "testX, testY = create_multistep_dataset(test, look_back, horizon)\n",
        "\n",
        "# reshape input to be [samples, time steps, features]\n",
        "trainX = np.reshape(trainX, (trainX.shape[0], 1, trainX.shape[1]))\n",
        "testX = np.reshape(testX, (testX.shape[0], 1, testX.shape[1]))\n",
        "\n",
        "models, training_elapsed_time = direct_multistep_strategy('gru', trainX, trainY)\n",
        "\n",
        "print(\"GRU Model Training Elapsed Time : %.5f\" % (training_elapsed_time), \"seconds\")\n",
        "\n",
        "# make predictions\n",
        "testPredict, predictions_elapsed_time = predict_using_models(models, testX)\n",
        "\n",
        "testRMSE = np.sqrt(mean_squared_error(testY, testPredict[:len(testY), :]))\n",
        "testMAE = mean_absolute_error(testY, testPredict[:len(testY), :])\n",
        "\n",
        "print('GRU Test RMSE : %.5f' % (testRMSE))\n",
        "print('GRU Test MAE : %.5f' % (testMAE))\n",
        "print(\"GRU Elapsed Time To generate Predictions : %.5f\" % (predictions_elapsed_time), \"seconds\")"
      ],
      "metadata": {
        "colab": {
          "base_uri": "https://localhost:8080/"
        },
        "outputId": "ed6a380d-d0fb-4ae0-c81c-88a5bd10d07e",
        "id": "SeZGllSoIRO7"
      },
      "execution_count": null,
      "outputs": [
        {
          "output_type": "stream",
          "name": "stdout",
          "text": [
            "Window Size:  10\n",
            "17991 2000\n"
          ]
        },
        {
          "output_type": "stream",
          "name": "stderr",
          "text": [
            "\r  0%|          | 0/4 [00:00<?, ?it/s]/usr/local/lib/python3.10/dist-packages/keras/optimizers/legacy/adam.py:117: UserWarning: The `lr` argument is deprecated, use `learning_rate` instead.\n",
            "  super().__init__(name, **kwargs)\n",
            " 25%|██▌       | 1/4 [02:26<07:20, 146.70s/it]"
          ]
        },
        {
          "output_type": "stream",
          "name": "stdout",
          "text": [
            "Model Done !\n"
          ]
        },
        {
          "output_type": "stream",
          "name": "stderr",
          "text": [
            "\r 50%|█████     | 2/4 [04:55<04:56, 148.22s/it]"
          ]
        },
        {
          "output_type": "stream",
          "name": "stdout",
          "text": [
            "Model Done !\n"
          ]
        },
        {
          "output_type": "stream",
          "name": "stderr",
          "text": [
            "\r 75%|███████▌  | 3/4 [08:09<02:48, 168.70s/it]"
          ]
        },
        {
          "output_type": "stream",
          "name": "stdout",
          "text": [
            "Model Done !\n"
          ]
        },
        {
          "output_type": "stream",
          "name": "stderr",
          "text": [
            "100%|██████████| 4/4 [11:13<00:00, 168.42s/it]\n"
          ]
        },
        {
          "output_type": "stream",
          "name": "stdout",
          "text": [
            "Model Done !\n",
            "All Models Done !\n",
            "GRU Model Training Elapsed Time : 673.59231 seconds\n"
          ]
        },
        {
          "output_type": "stream",
          "name": "stderr",
          "text": [
            "4it [00:03,  1.03it/s]"
          ]
        },
        {
          "output_type": "stream",
          "name": "stdout",
          "text": [
            "GRU Test RMSE : 0.02922\n",
            "GRU Test MAE : 0.02353\n",
            "GRU Elapsed Time To generate Predictions : 3.88605 seconds\n"
          ]
        },
        {
          "output_type": "stream",
          "name": "stderr",
          "text": [
            "\n"
          ]
        }
      ]
    },
    {
      "cell_type": "markdown",
      "source": [
        "#### Horizon = 6"
      ],
      "metadata": {
        "id": "3RSaWgV2IRO8"
      }
    },
    {
      "cell_type": "code",
      "source": [
        "horizon = 6\n",
        "node1_delay = df[['node1_delay']]\n",
        "node1_delay_dataset = node1_delay.values\n",
        "window_size, slide_size = smooth_ASAP(node1_delay_dataset, resolution=50)\n",
        "print(\"Window Size: \", window_size)\n",
        "\n",
        "denoised_node1_delay_dataset = moving_average(node1_delay_dataset, window_size)\n",
        "\n",
        "# split into train and test sets\n",
        "train_size = int(len(denoised_node1_delay_dataset) * 0.9)\n",
        "test_size = len(denoised_node1_delay_dataset) - train_size\n",
        "train, test = denoised_node1_delay_dataset[0:train_size], denoised_node1_delay_dataset[train_size:]\n",
        "\n",
        "print(len(train), len(test))\n",
        "\n",
        "# reshape into X=t and Y=t+1\n",
        "trainX, trainY = create_multistep_dataset(train, look_back, horizon)\n",
        "testX, testY = create_multistep_dataset(test, look_back, horizon)\n",
        "\n",
        "# reshape input to be [samples, time steps, features]\n",
        "trainX = np.reshape(trainX, (trainX.shape[0], 1, trainX.shape[1]))\n",
        "testX = np.reshape(testX, (testX.shape[0], 1, testX.shape[1]))\n",
        "\n",
        "models, training_elapsed_time = direct_multistep_strategy('gru', trainX, trainY)\n",
        "\n",
        "print(\"GRU Model Training Elapsed Time : %.5f\" % (training_elapsed_time), \"seconds\")\n",
        "\n",
        "# make predictions\n",
        "testPredict, predictions_elapsed_time = predict_using_models(models, testX)\n",
        "\n",
        "testRMSE = np.sqrt(mean_squared_error(testY, testPredict[:len(testY), :]))\n",
        "testMAE = mean_absolute_error(testY, testPredict[:len(testY), :])\n",
        "\n",
        "print('GRU Test RMSE : %.5f' % (testRMSE))\n",
        "print('GRU Test MAE : %.5f' % (testMAE))\n",
        "print(\"GRU Elapsed Time To generate Predictions : %.5f\" % (predictions_elapsed_time), \"seconds\")"
      ],
      "metadata": {
        "colab": {
          "base_uri": "https://localhost:8080/"
        },
        "outputId": "c6a2c99b-27c4-49d5-eabf-bbf031695671",
        "id": "5n5qoKtJIRO9"
      },
      "execution_count": null,
      "outputs": [
        {
          "output_type": "stream",
          "name": "stdout",
          "text": [
            "Window Size:  10\n",
            "17991 2000\n"
          ]
        },
        {
          "output_type": "stream",
          "name": "stderr",
          "text": [
            "\r  0%|          | 0/6 [00:00<?, ?it/s]/usr/local/lib/python3.10/dist-packages/keras/optimizers/legacy/adam.py:117: UserWarning: The `lr` argument is deprecated, use `learning_rate` instead.\n",
            "  super().__init__(name, **kwargs)\n",
            " 17%|█▋        | 1/6 [02:54<14:33, 174.76s/it]"
          ]
        },
        {
          "output_type": "stream",
          "name": "stdout",
          "text": [
            "Model Done !\n"
          ]
        },
        {
          "output_type": "stream",
          "name": "stderr",
          "text": [
            "\r 33%|███▎      | 2/6 [05:45<11:30, 172.66s/it]"
          ]
        },
        {
          "output_type": "stream",
          "name": "stdout",
          "text": [
            "Model Done !\n"
          ]
        },
        {
          "output_type": "stream",
          "name": "stderr",
          "text": [
            "\r 50%|█████     | 3/6 [08:28<08:24, 168.06s/it]"
          ]
        },
        {
          "output_type": "stream",
          "name": "stdout",
          "text": [
            "Model Done !\n"
          ]
        },
        {
          "output_type": "stream",
          "name": "stderr",
          "text": [
            "\r 67%|██████▋   | 4/6 [11:06<05:28, 164.22s/it]"
          ]
        },
        {
          "output_type": "stream",
          "name": "stdout",
          "text": [
            "Model Done !\n"
          ]
        },
        {
          "output_type": "stream",
          "name": "stderr",
          "text": [
            "\r 83%|████████▎ | 5/6 [14:10<02:51, 171.36s/it]"
          ]
        },
        {
          "output_type": "stream",
          "name": "stdout",
          "text": [
            "Model Done !\n"
          ]
        },
        {
          "output_type": "stream",
          "name": "stderr",
          "text": [
            "100%|██████████| 6/6 [16:59<00:00, 169.87s/it]\n"
          ]
        },
        {
          "output_type": "stream",
          "name": "stdout",
          "text": [
            "Model Done !\n",
            "All Models Done !\n",
            "GRU Model Training Elapsed Time : 1019.08502 seconds\n"
          ]
        },
        {
          "output_type": "stream",
          "name": "stderr",
          "text": [
            "6it [00:05,  1.05it/s]"
          ]
        },
        {
          "output_type": "stream",
          "name": "stdout",
          "text": [
            "GRU Test RMSE : 0.03387\n",
            "GRU Test MAE : 0.02663\n",
            "GRU Elapsed Time To generate Predictions : 5.72668 seconds\n"
          ]
        },
        {
          "output_type": "stream",
          "name": "stderr",
          "text": [
            "\n"
          ]
        }
      ]
    },
    {
      "cell_type": "markdown",
      "source": [
        "#### Horizon = 8"
      ],
      "metadata": {
        "id": "l9ZKcWYIIRO-"
      }
    },
    {
      "cell_type": "code",
      "source": [
        "horizon = 8\n",
        "node1_delay = df[['node1_delay']]\n",
        "node1_delay_dataset = node1_delay.values\n",
        "window_size, slide_size = smooth_ASAP(node1_delay_dataset, resolution=50)\n",
        "print(\"Window Size: \", window_size)\n",
        "\n",
        "denoised_node1_delay_dataset = moving_average(node1_delay_dataset, window_size)\n",
        "\n",
        "# split into train and test sets\n",
        "train_size = int(len(denoised_node1_delay_dataset) * 0.9)\n",
        "test_size = len(denoised_node1_delay_dataset) - train_size\n",
        "train, test = denoised_node1_delay_dataset[0:train_size], denoised_node1_delay_dataset[train_size:]\n",
        "\n",
        "print(len(train), len(test))\n",
        "\n",
        "# reshape into X=t and Y=t+1\n",
        "trainX, trainY = create_multistep_dataset(train, look_back, horizon)\n",
        "testX, testY = create_multistep_dataset(test, look_back, horizon)\n",
        "\n",
        "# reshape input to be [samples, time steps, features]\n",
        "trainX = np.reshape(trainX, (trainX.shape[0], 1, trainX.shape[1]))\n",
        "testX = np.reshape(testX, (testX.shape[0], 1, testX.shape[1]))\n",
        "\n",
        "models, training_elapsed_time = direct_multistep_strategy('gru', trainX, trainY)\n",
        "\n",
        "print(\"GRU Model Training Elapsed Time : %.5f\" % (training_elapsed_time), \"seconds\")\n",
        "\n",
        "# make predictions\n",
        "testPredict, predictions_elapsed_time = predict_using_models(models, testX)\n",
        "\n",
        "testRMSE = np.sqrt(mean_squared_error(testY, testPredict[:len(testY), :]))\n",
        "testMAE = mean_absolute_error(testY, testPredict[:len(testY), :])\n",
        "\n",
        "print('GRU Test RMSE : %.5f' % (testRMSE))\n",
        "print('GRU Test MAE : %.5f' % (testMAE))\n",
        "print(\"GRU Elapsed Time To generate Predictions : %.5f\" % (predictions_elapsed_time), \"seconds\")"
      ],
      "metadata": {
        "colab": {
          "base_uri": "https://localhost:8080/"
        },
        "outputId": "b7364351-03ab-4ebe-bd81-a68cb0efee44",
        "id": "KBMTQEYFIRO_"
      },
      "execution_count": null,
      "outputs": [
        {
          "output_type": "stream",
          "name": "stdout",
          "text": [
            "Window Size:  10\n",
            "17991 2000\n"
          ]
        },
        {
          "output_type": "stream",
          "name": "stderr",
          "text": [
            "\r  0%|          | 0/8 [00:00<?, ?it/s]/usr/local/lib/python3.10/dist-packages/keras/optimizers/legacy/adam.py:117: UserWarning: The `lr` argument is deprecated, use `learning_rate` instead.\n",
            "  super().__init__(name, **kwargs)\n",
            " 12%|█▎        | 1/8 [03:26<24:04, 206.32s/it]"
          ]
        },
        {
          "output_type": "stream",
          "name": "stdout",
          "text": [
            "Model Done !\n"
          ]
        },
        {
          "output_type": "stream",
          "name": "stderr",
          "text": [
            "\r 25%|██▌       | 2/8 [06:04<17:49, 178.26s/it]"
          ]
        },
        {
          "output_type": "stream",
          "name": "stdout",
          "text": [
            "Model Done !\n"
          ]
        },
        {
          "output_type": "stream",
          "name": "stderr",
          "text": [
            "\r 38%|███▊      | 3/8 [09:04<14:55, 179.02s/it]"
          ]
        },
        {
          "output_type": "stream",
          "name": "stdout",
          "text": [
            "Model Done !\n"
          ]
        },
        {
          "output_type": "stream",
          "name": "stderr",
          "text": [
            "\r 50%|█████     | 4/8 [12:30<12:38, 189.56s/it]"
          ]
        },
        {
          "output_type": "stream",
          "name": "stdout",
          "text": [
            "Model Done !\n"
          ]
        },
        {
          "output_type": "stream",
          "name": "stderr",
          "text": [
            "\r 62%|██████▎   | 5/8 [15:57<09:47, 195.67s/it]"
          ]
        },
        {
          "output_type": "stream",
          "name": "stdout",
          "text": [
            "Model Done !\n"
          ]
        },
        {
          "output_type": "stream",
          "name": "stderr",
          "text": [
            "\r 75%|███████▌  | 6/8 [18:36<06:06, 183.34s/it]"
          ]
        },
        {
          "output_type": "stream",
          "name": "stdout",
          "text": [
            "Model Done !\n"
          ]
        },
        {
          "output_type": "stream",
          "name": "stderr",
          "text": [
            "\r 88%|████████▊ | 7/8 [21:10<02:53, 173.76s/it]"
          ]
        },
        {
          "output_type": "stream",
          "name": "stdout",
          "text": [
            "Model Done !\n"
          ]
        },
        {
          "output_type": "stream",
          "name": "stderr",
          "text": [
            "100%|██████████| 8/8 [24:36<00:00, 184.51s/it]\n"
          ]
        },
        {
          "output_type": "stream",
          "name": "stdout",
          "text": [
            "Model Done !\n",
            "All Models Done !\n",
            "GRU Model Training Elapsed Time : 1475.91159 seconds\n"
          ]
        },
        {
          "output_type": "stream",
          "name": "stderr",
          "text": [
            "8it [00:09,  1.19s/it]"
          ]
        },
        {
          "output_type": "stream",
          "name": "stdout",
          "text": [
            "GRU Test RMSE : 0.03666\n",
            "GRU Test MAE : 0.02837\n",
            "GRU Elapsed Time To generate Predictions : 9.50767 seconds\n"
          ]
        },
        {
          "output_type": "stream",
          "name": "stderr",
          "text": [
            "\n"
          ]
        }
      ]
    },
    {
      "cell_type": "markdown",
      "source": [
        "#### Horizon = 10"
      ],
      "metadata": {
        "id": "EOwC0G2nIRPA"
      }
    },
    {
      "cell_type": "code",
      "source": [
        "horizon = 10\n",
        "node1_delay = df[['node1_delay']]\n",
        "node1_delay_dataset = node1_delay.values\n",
        "window_size, slide_size = smooth_ASAP(node1_delay_dataset, resolution=50)\n",
        "print(\"Window Size: \", window_size)\n",
        "\n",
        "denoised_node1_delay_dataset = moving_average(node1_delay_dataset, window_size)\n",
        "\n",
        "# split into train and test sets\n",
        "train_size = int(len(denoised_node1_delay_dataset) * 0.9)\n",
        "test_size = len(denoised_node1_delay_dataset) - train_size\n",
        "train, test = denoised_node1_delay_dataset[0:train_size], denoised_node1_delay_dataset[train_size:]\n",
        "\n",
        "print(len(train), len(test))\n",
        "\n",
        "# reshape into X=t and Y=t+1\n",
        "trainX, trainY = create_multistep_dataset(train, look_back, horizon)\n",
        "testX, testY = create_multistep_dataset(test, look_back, horizon)\n",
        "\n",
        "# reshape input to be [samples, time steps, features]\n",
        "trainX = np.reshape(trainX, (trainX.shape[0], 1, trainX.shape[1]))\n",
        "testX = np.reshape(testX, (testX.shape[0], 1, testX.shape[1]))\n",
        "\n",
        "models, training_elapsed_time = direct_multistep_strategy('gru', trainX, trainY)\n",
        "\n",
        "print(\"GRU Model Training Elapsed Time : %.5f\" % (training_elapsed_time), \"seconds\")\n",
        "\n",
        "# make predictions\n",
        "testPredict, predictions_elapsed_time = predict_using_models(models, testX)\n",
        "\n",
        "testRMSE = np.sqrt(mean_squared_error(testY, testPredict[:len(testY), :]))\n",
        "testMAE = mean_absolute_error(testY, testPredict[:len(testY), :])\n",
        "\n",
        "print('GRU Test RMSE : %.5f' % (testRMSE))\n",
        "print('GRU Test MAE : %.5f' % (testMAE))\n",
        "print(\"GRU Elapsed Time To generate Predictions : %.5f\" % (predictions_elapsed_time), \"seconds\")"
      ],
      "metadata": {
        "colab": {
          "base_uri": "https://localhost:8080/"
        },
        "outputId": "3fcb99e4-ffe6-4894-a6a0-6ea2083af8d9",
        "id": "unJeIwWiIRPB"
      },
      "execution_count": null,
      "outputs": [
        {
          "output_type": "stream",
          "name": "stdout",
          "text": [
            "Window Size:  10\n",
            "17991 2000\n"
          ]
        },
        {
          "output_type": "stream",
          "name": "stderr",
          "text": [
            "\r  0%|          | 0/10 [00:00<?, ?it/s]/usr/local/lib/python3.10/dist-packages/keras/optimizers/legacy/adam.py:117: UserWarning: The `lr` argument is deprecated, use `learning_rate` instead.\n",
            "  super().__init__(name, **kwargs)\n",
            " 10%|█         | 1/10 [02:28<22:16, 148.45s/it]"
          ]
        },
        {
          "output_type": "stream",
          "name": "stdout",
          "text": [
            "Model Done !\n"
          ]
        },
        {
          "output_type": "stream",
          "name": "stderr",
          "text": [
            "\r 20%|██        | 2/10 [05:01<20:07, 150.96s/it]"
          ]
        },
        {
          "output_type": "stream",
          "name": "stdout",
          "text": [
            "Model Done !\n"
          ]
        },
        {
          "output_type": "stream",
          "name": "stderr",
          "text": [
            "\r 30%|███       | 3/10 [07:38<17:55, 153.67s/it]"
          ]
        },
        {
          "output_type": "stream",
          "name": "stdout",
          "text": [
            "Model Done !\n"
          ]
        },
        {
          "output_type": "stream",
          "name": "stderr",
          "text": [
            "\r 40%|████      | 4/10 [10:21<15:46, 157.70s/it]"
          ]
        },
        {
          "output_type": "stream",
          "name": "stdout",
          "text": [
            "Model Done !\n"
          ]
        },
        {
          "output_type": "stream",
          "name": "stderr",
          "text": [
            "\r 50%|█████     | 5/10 [13:50<14:39, 175.88s/it]"
          ]
        },
        {
          "output_type": "stream",
          "name": "stdout",
          "text": [
            "Model Done !\n"
          ]
        },
        {
          "output_type": "stream",
          "name": "stderr",
          "text": [
            "\r 60%|██████    | 6/10 [16:51<11:51, 177.82s/it]"
          ]
        },
        {
          "output_type": "stream",
          "name": "stdout",
          "text": [
            "Model Done !\n"
          ]
        },
        {
          "output_type": "stream",
          "name": "stderr",
          "text": [
            "\r 70%|███████   | 7/10 [19:58<09:02, 180.71s/it]"
          ]
        },
        {
          "output_type": "stream",
          "name": "stdout",
          "text": [
            "Model Done !\n"
          ]
        },
        {
          "output_type": "stream",
          "name": "stderr",
          "text": [
            "\r 80%|████████  | 8/10 [23:24<06:17, 188.82s/it]"
          ]
        },
        {
          "output_type": "stream",
          "name": "stdout",
          "text": [
            "Model Done !\n"
          ]
        },
        {
          "output_type": "stream",
          "name": "stderr",
          "text": [
            "\r 90%|█████████ | 9/10 [26:17<03:03, 183.85s/it]"
          ]
        },
        {
          "output_type": "stream",
          "name": "stdout",
          "text": [
            "Model Done !\n"
          ]
        },
        {
          "output_type": "stream",
          "name": "stderr",
          "text": [
            "100%|██████████| 10/10 [29:43<00:00, 178.32s/it]\n"
          ]
        },
        {
          "output_type": "stream",
          "name": "stdout",
          "text": [
            "Model Done !\n",
            "All Models Done !\n",
            "GRU Model Training Elapsed Time : 1782.99367 seconds\n"
          ]
        },
        {
          "output_type": "stream",
          "name": "stderr",
          "text": [
            "10it [00:16,  1.68s/it]"
          ]
        },
        {
          "output_type": "stream",
          "name": "stdout",
          "text": [
            "GRU Test RMSE : 0.04268\n",
            "GRU Test MAE : 0.03340\n",
            "GRU Elapsed Time To generate Predictions : 16.84478 seconds\n"
          ]
        },
        {
          "output_type": "stream",
          "name": "stderr",
          "text": [
            "\n"
          ]
        }
      ]
    },
    {
      "cell_type": "code",
      "source": [],
      "metadata": {
        "id": "2lerHjAxIYHo"
      },
      "execution_count": null,
      "outputs": []
    },
    {
      "cell_type": "markdown",
      "source": [
        "### RNN Model"
      ],
      "metadata": {
        "id": "e0WNyQX1IYbo"
      }
    },
    {
      "cell_type": "markdown",
      "source": [
        "#### Horizon = 2"
      ],
      "metadata": {
        "id": "cfI__cEDIYbp"
      }
    },
    {
      "cell_type": "code",
      "source": [
        "horizon = 2\n",
        "node1_delay = df[['node1_delay']]\n",
        "node1_delay_dataset = node1_delay.values\n",
        "window_size, slide_size = smooth_ASAP(node1_delay_dataset, resolution=50)\n",
        "print(\"Window Size: \", window_size)\n",
        "\n",
        "denoised_node1_delay_dataset = moving_average(node1_delay_dataset, window_size)\n",
        "\n",
        "# split into train and test sets\n",
        "train_size = int(len(denoised_node1_delay_dataset) * 0.9)\n",
        "test_size = len(denoised_node1_delay_dataset) - train_size\n",
        "train, test = denoised_node1_delay_dataset[0:train_size], denoised_node1_delay_dataset[train_size:]\n",
        "\n",
        "print(len(train), len(test))\n",
        "\n",
        "# reshape into X=t and Y=t+1\n",
        "trainX, trainY = create_multistep_dataset(train, look_back, horizon)\n",
        "testX, testY = create_multistep_dataset(test, look_back, horizon)\n",
        "\n",
        "# reshape input to be [samples, time steps, features]\n",
        "trainX = np.reshape(trainX, (trainX.shape[0], 1, trainX.shape[1]))\n",
        "testX = np.reshape(testX, (testX.shape[0], 1, testX.shape[1]))\n",
        "\n",
        "models, training_elapsed_time = direct_multistep_strategy('rnn', trainX, trainY)\n",
        "\n",
        "print(\"RNN Model Training Elapsed Time : %.5f\" % (training_elapsed_time), \"seconds\")\n",
        "\n",
        "# make predictions\n",
        "testPredict, predictions_elapsed_time = predict_using_models(models, testX)\n",
        "\n",
        "testRMSE = np.sqrt(mean_squared_error(testY, testPredict[:len(testY), :]))\n",
        "testMAE = mean_absolute_error(testY, testPredict[:len(testY), :])\n",
        "\n",
        "print('RNN Test RMSE : %.5f' % (testRMSE))\n",
        "print('RNN Test MAE : %.5f' % (testMAE))\n",
        "print(\"RNN Elapsed Time To generate Predictions : %.5f\" % (predictions_elapsed_time), \"seconds\")"
      ],
      "metadata": {
        "colab": {
          "base_uri": "https://localhost:8080/"
        },
        "outputId": "625a2b31-320b-4ab4-a294-68b70608abc1",
        "id": "t00kIXPfIYbq"
      },
      "execution_count": null,
      "outputs": [
        {
          "output_type": "stream",
          "name": "stdout",
          "text": [
            "Window Size:  10\n",
            "17991 2000\n"
          ]
        },
        {
          "output_type": "stream",
          "name": "stderr",
          "text": [
            "\r  0%|          | 0/2 [00:00<?, ?it/s]/usr/local/lib/python3.10/dist-packages/keras/optimizers/legacy/adam.py:117: UserWarning: The `lr` argument is deprecated, use `learning_rate` instead.\n",
            "  super().__init__(name, **kwargs)\n",
            " 50%|█████     | 1/2 [02:24<02:24, 144.35s/it]"
          ]
        },
        {
          "output_type": "stream",
          "name": "stdout",
          "text": [
            "Model Done !\n"
          ]
        },
        {
          "output_type": "stream",
          "name": "stderr",
          "text": [
            "100%|██████████| 2/2 [04:27<00:00, 133.72s/it]\n"
          ]
        },
        {
          "output_type": "stream",
          "name": "stdout",
          "text": [
            "Model Done !\n",
            "All Models Done !\n",
            "RNN Model Training Elapsed Time : 267.39001 seconds\n"
          ]
        },
        {
          "output_type": "stream",
          "name": "stderr",
          "text": [
            "2it [00:00,  2.24it/s]"
          ]
        },
        {
          "output_type": "stream",
          "name": "stdout",
          "text": [
            "RNN Test RMSE : 0.02391\n",
            "RNN Test MAE : 0.01937\n",
            "RNN Elapsed Time To generate Predictions : 0.90377 seconds\n"
          ]
        },
        {
          "output_type": "stream",
          "name": "stderr",
          "text": [
            "\n"
          ]
        }
      ]
    },
    {
      "cell_type": "markdown",
      "source": [
        "#### Horizon = 4"
      ],
      "metadata": {
        "id": "AO_P2WzUIYbs"
      }
    },
    {
      "cell_type": "code",
      "source": [
        "horizon = 4\n",
        "node1_delay = df[['node1_delay']]\n",
        "node1_delay_dataset = node1_delay.values\n",
        "window_size, slide_size = smooth_ASAP(node1_delay_dataset, resolution=50)\n",
        "print(\"Window Size: \", window_size)\n",
        "\n",
        "denoised_node1_delay_dataset = moving_average(node1_delay_dataset, window_size)\n",
        "\n",
        "# split into train and test sets\n",
        "train_size = int(len(denoised_node1_delay_dataset) * 0.9)\n",
        "test_size = len(denoised_node1_delay_dataset) - train_size\n",
        "train, test = denoised_node1_delay_dataset[0:train_size], denoised_node1_delay_dataset[train_size:]\n",
        "\n",
        "print(len(train), len(test))\n",
        "\n",
        "# reshape into X=t and Y=t+1\n",
        "trainX, trainY = create_multistep_dataset(train, look_back, horizon)\n",
        "testX, testY = create_multistep_dataset(test, look_back, horizon)\n",
        "\n",
        "# reshape input to be [samples, time steps, features]\n",
        "trainX = np.reshape(trainX, (trainX.shape[0], 1, trainX.shape[1]))\n",
        "testX = np.reshape(testX, (testX.shape[0], 1, testX.shape[1]))\n",
        "\n",
        "models, training_elapsed_time = direct_multistep_strategy('rnn', trainX, trainY)\n",
        "\n",
        "print(\"RNN Model Training Elapsed Time : %.5f\" % (training_elapsed_time), \"seconds\")\n",
        "\n",
        "# make predictions\n",
        "testPredict, predictions_elapsed_time = predict_using_models(models, testX)\n",
        "\n",
        "testRMSE = np.sqrt(mean_squared_error(testY, testPredict[:len(testY), :]))\n",
        "testMAE = mean_absolute_error(testY, testPredict[:len(testY), :])\n",
        "\n",
        "print('RNN Test RMSE : %.5f' % (testRMSE))\n",
        "print('RNN Test MAE : %.5f' % (testMAE))\n",
        "print(\"RNN Elapsed Time To generate Predictions : %.5f\" % (predictions_elapsed_time), \"seconds\")"
      ],
      "metadata": {
        "colab": {
          "base_uri": "https://localhost:8080/"
        },
        "outputId": "6dba71b6-0492-46d8-bd62-e11869f6d5e5",
        "id": "yswBfFo6IYbt"
      },
      "execution_count": null,
      "outputs": [
        {
          "output_type": "stream",
          "name": "stdout",
          "text": [
            "Window Size:  10\n",
            "17991 2000\n"
          ]
        },
        {
          "output_type": "stream",
          "name": "stderr",
          "text": [
            "\r  0%|          | 0/4 [00:00<?, ?it/s]/usr/local/lib/python3.10/dist-packages/keras/optimizers/legacy/adam.py:117: UserWarning: The `lr` argument is deprecated, use `learning_rate` instead.\n",
            "  super().__init__(name, **kwargs)\n",
            " 25%|██▌       | 1/4 [02:23<07:11, 143.91s/it]"
          ]
        },
        {
          "output_type": "stream",
          "name": "stdout",
          "text": [
            "Model Done !\n"
          ]
        },
        {
          "output_type": "stream",
          "name": "stderr",
          "text": [
            "\r 50%|█████     | 2/4 [04:09<04:02, 121.09s/it]"
          ]
        },
        {
          "output_type": "stream",
          "name": "stdout",
          "text": [
            "Model Done !\n"
          ]
        },
        {
          "output_type": "stream",
          "name": "stderr",
          "text": [
            "\r 75%|███████▌  | 3/4 [05:55<01:54, 114.52s/it]"
          ]
        },
        {
          "output_type": "stream",
          "name": "stdout",
          "text": [
            "Model Done !\n"
          ]
        },
        {
          "output_type": "stream",
          "name": "stderr",
          "text": [
            "100%|██████████| 4/4 [08:20<00:00, 125.00s/it]\n"
          ]
        },
        {
          "output_type": "stream",
          "name": "stdout",
          "text": [
            "Model Done !\n",
            "All Models Done !\n",
            "RNN Model Training Elapsed Time : 499.90637 seconds\n"
          ]
        },
        {
          "output_type": "stream",
          "name": "stderr",
          "text": [
            "4it [00:01,  2.09it/s]"
          ]
        },
        {
          "output_type": "stream",
          "name": "stdout",
          "text": [
            "RNN Test RMSE : 0.03112\n",
            "RNN Test MAE : 0.02530\n",
            "RNN Elapsed Time To generate Predictions : 1.92336 seconds\n"
          ]
        },
        {
          "output_type": "stream",
          "name": "stderr",
          "text": [
            "\n"
          ]
        }
      ]
    },
    {
      "cell_type": "markdown",
      "source": [
        "#### Horizon = 6"
      ],
      "metadata": {
        "id": "1xTG4_AmIYbu"
      }
    },
    {
      "cell_type": "code",
      "source": [
        "horizon = 6\n",
        "node1_delay = df[['node1_delay']]\n",
        "node1_delay_dataset = node1_delay.values\n",
        "window_size, slide_size = smooth_ASAP(node1_delay_dataset, resolution=50)\n",
        "print(\"Window Size: \", window_size)\n",
        "\n",
        "denoised_node1_delay_dataset = moving_average(node1_delay_dataset, window_size)\n",
        "\n",
        "# split into train and test sets\n",
        "train_size = int(len(denoised_node1_delay_dataset) * 0.9)\n",
        "test_size = len(denoised_node1_delay_dataset) - train_size\n",
        "train, test = denoised_node1_delay_dataset[0:train_size], denoised_node1_delay_dataset[train_size:]\n",
        "\n",
        "print(len(train), len(test))\n",
        "\n",
        "# reshape into X=t and Y=t+1\n",
        "trainX, trainY = create_multistep_dataset(train, look_back, horizon)\n",
        "testX, testY = create_multistep_dataset(test, look_back, horizon)\n",
        "\n",
        "# reshape input to be [samples, time steps, features]\n",
        "trainX = np.reshape(trainX, (trainX.shape[0], 1, trainX.shape[1]))\n",
        "testX = np.reshape(testX, (testX.shape[0], 1, testX.shape[1]))\n",
        "\n",
        "models, training_elapsed_time = direct_multistep_strategy('rnn', trainX, trainY)\n",
        "\n",
        "print(\"RNN Model Training Elapsed Time : %.5f\" % (training_elapsed_time), \"seconds\")\n",
        "\n",
        "# make predictions\n",
        "testPredict, predictions_elapsed_time = predict_using_models(models, testX)\n",
        "\n",
        "testRMSE = np.sqrt(mean_squared_error(testY, testPredict[:len(testY), :]))\n",
        "testMAE = mean_absolute_error(testY, testPredict[:len(testY), :])\n",
        "\n",
        "print('RNN Test RMSE : %.5f' % (testRMSE))\n",
        "print('RNN Test MAE : %.5f' % (testMAE))\n",
        "print(\"RNN Elapsed Time To generate Predictions : %.5f\" % (predictions_elapsed_time), \"seconds\")"
      ],
      "metadata": {
        "colab": {
          "base_uri": "https://localhost:8080/"
        },
        "outputId": "e42eaa62-aeb2-44a2-dc5f-fbb595895c9d",
        "id": "9WZ4xZatIYbv"
      },
      "execution_count": null,
      "outputs": [
        {
          "output_type": "stream",
          "name": "stdout",
          "text": [
            "Window Size:  10\n",
            "17991 2000\n"
          ]
        },
        {
          "output_type": "stream",
          "name": "stderr",
          "text": [
            "\r  0%|          | 0/6 [00:00<?, ?it/s]/usr/local/lib/python3.10/dist-packages/keras/optimizers/legacy/adam.py:117: UserWarning: The `lr` argument is deprecated, use `learning_rate` instead.\n",
            "  super().__init__(name, **kwargs)\n",
            " 17%|█▋        | 1/6 [01:52<09:21, 112.21s/it]"
          ]
        },
        {
          "output_type": "stream",
          "name": "stdout",
          "text": [
            "Model Done !\n"
          ]
        },
        {
          "output_type": "stream",
          "name": "stderr",
          "text": [
            "\r 33%|███▎      | 2/6 [04:15<08:43, 130.78s/it]"
          ]
        },
        {
          "output_type": "stream",
          "name": "stdout",
          "text": [
            "Model Done !\n"
          ]
        },
        {
          "output_type": "stream",
          "name": "stderr",
          "text": [
            "\r 50%|█████     | 3/6 [06:01<05:57, 119.28s/it]"
          ]
        },
        {
          "output_type": "stream",
          "name": "stdout",
          "text": [
            "Model Done !\n"
          ]
        },
        {
          "output_type": "stream",
          "name": "stderr",
          "text": [
            "\r 67%|██████▋   | 4/6 [07:47<03:47, 113.87s/it]"
          ]
        },
        {
          "output_type": "stream",
          "name": "stdout",
          "text": [
            "Model Done !\n"
          ]
        },
        {
          "output_type": "stream",
          "name": "stderr",
          "text": [
            "\r 83%|████████▎ | 5/6 [09:26<01:48, 108.70s/it]"
          ]
        },
        {
          "output_type": "stream",
          "name": "stdout",
          "text": [
            "Model Done !\n"
          ]
        },
        {
          "output_type": "stream",
          "name": "stderr",
          "text": [
            "100%|██████████| 6/6 [11:06<00:00, 111.00s/it]\n"
          ]
        },
        {
          "output_type": "stream",
          "name": "stdout",
          "text": [
            "Model Done !\n",
            "All Models Done !\n",
            "RNN Model Training Elapsed Time : 665.87608 seconds\n"
          ]
        },
        {
          "output_type": "stream",
          "name": "stderr",
          "text": [
            "6it [00:03,  1.77it/s]"
          ]
        },
        {
          "output_type": "stream",
          "name": "stdout",
          "text": [
            "RNN Test RMSE : 0.03439\n",
            "RNN Test MAE : 0.02689\n",
            "RNN Elapsed Time To generate Predictions : 3.40509 seconds\n"
          ]
        },
        {
          "output_type": "stream",
          "name": "stderr",
          "text": [
            "\n"
          ]
        }
      ]
    },
    {
      "cell_type": "markdown",
      "source": [
        "#### Horizon = 8"
      ],
      "metadata": {
        "id": "hMPjLSmoIYbw"
      }
    },
    {
      "cell_type": "code",
      "source": [
        "horizon = 8\n",
        "node1_delay = df[['node1_delay']]\n",
        "node1_delay_dataset = node1_delay.values\n",
        "window_size, slide_size = smooth_ASAP(node1_delay_dataset, resolution=50)\n",
        "print(\"Window Size: \", window_size)\n",
        "\n",
        "denoised_node1_delay_dataset = moving_average(node1_delay_dataset, window_size)\n",
        "\n",
        "# split into train and test sets\n",
        "train_size = int(len(denoised_node1_delay_dataset) * 0.9)\n",
        "test_size = len(denoised_node1_delay_dataset) - train_size\n",
        "train, test = denoised_node1_delay_dataset[0:train_size], denoised_node1_delay_dataset[train_size:]\n",
        "\n",
        "print(len(train), len(test))\n",
        "\n",
        "# reshape into X=t and Y=t+1\n",
        "trainX, trainY = create_multistep_dataset(train, look_back, horizon)\n",
        "testX, testY = create_multistep_dataset(test, look_back, horizon)\n",
        "\n",
        "# reshape input to be [samples, time steps, features]\n",
        "trainX = np.reshape(trainX, (trainX.shape[0], 1, trainX.shape[1]))\n",
        "testX = np.reshape(testX, (testX.shape[0], 1, testX.shape[1]))\n",
        "\n",
        "models, training_elapsed_time = direct_multistep_strategy('rnn', trainX, trainY)\n",
        "\n",
        "print(\"RNN Model Training Elapsed Time : %.5f\" % (training_elapsed_time), \"seconds\")\n",
        "\n",
        "# make predictions\n",
        "testPredict, predictions_elapsed_time = predict_using_models(models, testX)\n",
        "\n",
        "testRMSE = np.sqrt(mean_squared_error(testY, testPredict[:len(testY), :]))\n",
        "testMAE = mean_absolute_error(testY, testPredict[:len(testY), :])\n",
        "\n",
        "print('RNN Test RMSE : %.5f' % (testRMSE))\n",
        "print('RNN Test MAE : %.5f' % (testMAE))\n",
        "print(\"RNN Elapsed Time To generate Predictions : %.5f\" % (predictions_elapsed_time), \"seconds\")"
      ],
      "metadata": {
        "colab": {
          "base_uri": "https://localhost:8080/"
        },
        "outputId": "8c7d4218-06c7-4010-9d7b-0239fd43c171",
        "id": "4TqullL7IYbx"
      },
      "execution_count": null,
      "outputs": [
        {
          "output_type": "stream",
          "name": "stdout",
          "text": [
            "Window Size:  10\n",
            "17991 2000\n"
          ]
        },
        {
          "output_type": "stream",
          "name": "stderr",
          "text": [
            "\r  0%|          | 0/8 [00:00<?, ?it/s]/usr/local/lib/python3.10/dist-packages/keras/optimizers/legacy/adam.py:117: UserWarning: The `lr` argument is deprecated, use `learning_rate` instead.\n",
            "  super().__init__(name, **kwargs)\n",
            " 12%|█▎        | 1/8 [01:34<11:01, 94.50s/it]"
          ]
        },
        {
          "output_type": "stream",
          "name": "stdout",
          "text": [
            "Model Done !\n"
          ]
        },
        {
          "output_type": "stream",
          "name": "stderr",
          "text": [
            "\r 25%|██▌       | 2/8 [03:32<10:49, 108.20s/it]"
          ]
        },
        {
          "output_type": "stream",
          "name": "stdout",
          "text": [
            "Model Done !\n"
          ]
        },
        {
          "output_type": "stream",
          "name": "stderr",
          "text": [
            "\r 38%|███▊      | 3/8 [05:19<08:58, 107.70s/it]"
          ]
        },
        {
          "output_type": "stream",
          "name": "stdout",
          "text": [
            "Model Done !\n"
          ]
        },
        {
          "output_type": "stream",
          "name": "stderr",
          "text": [
            "\r 50%|█████     | 4/8 [07:05<07:08, 107.15s/it]"
          ]
        },
        {
          "output_type": "stream",
          "name": "stdout",
          "text": [
            "Model Done !\n"
          ]
        },
        {
          "output_type": "stream",
          "name": "stderr",
          "text": [
            "\r 62%|██████▎   | 5/8 [09:30<06:01, 120.59s/it]"
          ]
        },
        {
          "output_type": "stream",
          "name": "stdout",
          "text": [
            "Model Done !\n"
          ]
        },
        {
          "output_type": "stream",
          "name": "stderr",
          "text": [
            "\r 75%|███████▌  | 6/8 [11:22<03:55, 117.92s/it]"
          ]
        },
        {
          "output_type": "stream",
          "name": "stdout",
          "text": [
            "Model Done !\n"
          ]
        },
        {
          "output_type": "stream",
          "name": "stderr",
          "text": [
            "\r 88%|████████▊ | 7/8 [13:13<01:55, 115.63s/it]"
          ]
        },
        {
          "output_type": "stream",
          "name": "stdout",
          "text": [
            "Model Done !\n"
          ]
        },
        {
          "output_type": "stream",
          "name": "stderr",
          "text": [
            "100%|██████████| 8/8 [15:37<00:00, 117.20s/it]\n"
          ]
        },
        {
          "output_type": "stream",
          "name": "stdout",
          "text": [
            "Model Done !\n",
            "All Models Done !\n",
            "RNN Model Training Elapsed Time : 937.42033 seconds\n"
          ]
        },
        {
          "output_type": "stream",
          "name": "stderr",
          "text": [
            "8it [00:03,  2.03it/s]"
          ]
        },
        {
          "output_type": "stream",
          "name": "stdout",
          "text": [
            "RNN Test RMSE : 0.03728\n",
            "RNN Test MAE : 0.02886\n",
            "RNN Elapsed Time To generate Predictions : 3.94438 seconds\n"
          ]
        },
        {
          "output_type": "stream",
          "name": "stderr",
          "text": [
            "\n"
          ]
        }
      ]
    },
    {
      "cell_type": "markdown",
      "source": [
        "#### Horizon = 10"
      ],
      "metadata": {
        "id": "TvTsWzLvIYby"
      }
    },
    {
      "cell_type": "code",
      "source": [
        "horizon = 10\n",
        "node1_delay = df[['node1_delay']]\n",
        "node1_delay_dataset = node1_delay.values\n",
        "window_size, slide_size = smooth_ASAP(node1_delay_dataset, resolution=50)\n",
        "print(\"Window Size: \", window_size)\n",
        "\n",
        "denoised_node1_delay_dataset = moving_average(node1_delay_dataset, window_size)\n",
        "\n",
        "# split into train and test sets\n",
        "train_size = int(len(denoised_node1_delay_dataset) * 0.9)\n",
        "test_size = len(denoised_node1_delay_dataset) - train_size\n",
        "train, test = denoised_node1_delay_dataset[0:train_size], denoised_node1_delay_dataset[train_size:]\n",
        "\n",
        "print(len(train), len(test))\n",
        "\n",
        "# reshape into X=t and Y=t+1\n",
        "trainX, trainY = create_multistep_dataset(train, look_back, horizon)\n",
        "testX, testY = create_multistep_dataset(test, look_back, horizon)\n",
        "\n",
        "# reshape input to be [samples, time steps, features]\n",
        "trainX = np.reshape(trainX, (trainX.shape[0], 1, trainX.shape[1]))\n",
        "testX = np.reshape(testX, (testX.shape[0], 1, testX.shape[1]))\n",
        "\n",
        "models, training_elapsed_time = direct_multistep_strategy('rnn', trainX, trainY)\n",
        "\n",
        "print(\"RNN Model Training Elapsed Time : %.5f\" % (training_elapsed_time), \"seconds\")\n",
        "\n",
        "# make predictions\n",
        "testPredict, predictions_elapsed_time = predict_using_models(models, testX)\n",
        "\n",
        "testRMSE = np.sqrt(mean_squared_error(testY, testPredict[:len(testY), :]))\n",
        "testMAE = mean_absolute_error(testY, testPredict[:len(testY), :])\n",
        "\n",
        "print('RNN Test RMSE : %.5f' % (testRMSE))\n",
        "print('RNN Test MAE : %.5f' % (testMAE))\n",
        "print(\"RNN Elapsed Time To generate Predictions : %.5f\" % (predictions_elapsed_time), \"seconds\")"
      ],
      "metadata": {
        "colab": {
          "base_uri": "https://localhost:8080/"
        },
        "outputId": "879a4df4-ba2f-41fc-8123-325f5d59cb97",
        "id": "H1Vjg3unIYbz"
      },
      "execution_count": null,
      "outputs": [
        {
          "output_type": "stream",
          "name": "stdout",
          "text": [
            "Window Size:  10\n",
            "17991 2000\n"
          ]
        },
        {
          "output_type": "stream",
          "name": "stderr",
          "text": [
            "\r  0%|          | 0/10 [00:00<?, ?it/s]/usr/local/lib/python3.10/dist-packages/keras/optimizers/legacy/adam.py:117: UserWarning: The `lr` argument is deprecated, use `learning_rate` instead.\n",
            "  super().__init__(name, **kwargs)\n",
            " 10%|█         | 1/10 [02:23<21:34, 143.82s/it]"
          ]
        },
        {
          "output_type": "stream",
          "name": "stdout",
          "text": [
            "Model Done !\n"
          ]
        },
        {
          "output_type": "stream",
          "name": "stderr",
          "text": [
            "\r 20%|██        | 2/10 [04:48<19:14, 144.31s/it]"
          ]
        },
        {
          "output_type": "stream",
          "name": "stdout",
          "text": [
            "Model Done !\n"
          ]
        },
        {
          "output_type": "stream",
          "name": "stderr",
          "text": [
            "\r 30%|███       | 3/10 [07:12<16:48, 144.04s/it]"
          ]
        },
        {
          "output_type": "stream",
          "name": "stdout",
          "text": [
            "Model Done !\n"
          ]
        },
        {
          "output_type": "stream",
          "name": "stderr",
          "text": [
            "\r 40%|████      | 4/10 [09:03<13:05, 130.98s/it]"
          ]
        },
        {
          "output_type": "stream",
          "name": "stdout",
          "text": [
            "Model Done !\n"
          ]
        },
        {
          "output_type": "stream",
          "name": "stderr",
          "text": [
            "\r 50%|█████     | 5/10 [10:48<10:08, 121.75s/it]"
          ]
        },
        {
          "output_type": "stream",
          "name": "stdout",
          "text": [
            "Model Done !\n"
          ]
        },
        {
          "output_type": "stream",
          "name": "stderr",
          "text": [
            "\r 60%|██████    | 6/10 [13:12<08:36, 129.23s/it]"
          ]
        },
        {
          "output_type": "stream",
          "name": "stdout",
          "text": [
            "Model Done !\n"
          ]
        },
        {
          "output_type": "stream",
          "name": "stderr",
          "text": [
            "\r 70%|███████   | 7/10 [14:58<06:05, 121.72s/it]"
          ]
        },
        {
          "output_type": "stream",
          "name": "stdout",
          "text": [
            "Model Done !\n"
          ]
        },
        {
          "output_type": "stream",
          "name": "stderr",
          "text": [
            "\r 80%|████████  | 8/10 [17:25<04:19, 129.73s/it]"
          ]
        },
        {
          "output_type": "stream",
          "name": "stdout",
          "text": [
            "Model Done !\n"
          ]
        },
        {
          "output_type": "stream",
          "name": "stderr",
          "text": [
            "\r 90%|█████████ | 9/10 [19:13<02:03, 123.10s/it]"
          ]
        },
        {
          "output_type": "stream",
          "name": "stdout",
          "text": [
            "Model Done !\n"
          ]
        },
        {
          "output_type": "stream",
          "name": "stderr",
          "text": [
            "100%|██████████| 10/10 [21:02<00:00, 126.27s/it]\n"
          ]
        },
        {
          "output_type": "stream",
          "name": "stdout",
          "text": [
            "Model Done !\n",
            "All Models Done !\n",
            "RNN Model Training Elapsed Time : 1262.44483 seconds\n"
          ]
        },
        {
          "output_type": "stream",
          "name": "stderr",
          "text": [
            "10it [00:05,  1.86it/s]"
          ]
        },
        {
          "output_type": "stream",
          "name": "stdout",
          "text": [
            "RNN Test RMSE : 0.04208\n",
            "RNN Test MAE : 0.03251\n",
            "RNN Elapsed Time To generate Predictions : 5.39870 seconds\n"
          ]
        },
        {
          "output_type": "stream",
          "name": "stderr",
          "text": [
            "\n"
          ]
        }
      ]
    },
    {
      "cell_type": "code",
      "source": [],
      "metadata": {
        "id": "x0a1Alp7I8XR"
      },
      "execution_count": null,
      "outputs": []
    },
    {
      "cell_type": "markdown",
      "source": [
        "### ESN Model"
      ],
      "metadata": {
        "id": "urVDw-lpQmuR"
      }
    },
    {
      "cell_type": "markdown",
      "source": [
        "#### Horizon = 2"
      ],
      "metadata": {
        "id": "ooPZvEuwQmu5"
      }
    },
    {
      "cell_type": "code",
      "source": [
        "horizon = 2\n",
        "node1_delay = df[['node1_delay']]\n",
        "node1_delay_dataset = node1_delay.values\n",
        "window_size, slide_size = smooth_ASAP(node1_delay_dataset, resolution=50)\n",
        "print(\"Window Size: \", window_size)\n",
        "\n",
        "denoised_node1_delay_dataset = moving_average(node1_delay_dataset, window_size)\n",
        "\n",
        "# split into train and test sets\n",
        "train_size = int(len(denoised_node1_delay_dataset) * 0.9)\n",
        "test_size = len(denoised_node1_delay_dataset) - train_size\n",
        "train, test = denoised_node1_delay_dataset[0:train_size], denoised_node1_delay_dataset[train_size:]\n",
        "print(len(train), len(test))\n",
        "\n",
        "# reshape into X=t and Y=t+1\n",
        "trainX, trainY = create_multistep_dataset(train, look_back, horizon)\n",
        "testX, testY = create_multistep_dataset(test, look_back, horizon)\n",
        "\n",
        "models, training_elapsed_time = direct_multistep_strategy('esn', trainX, trainY)\n",
        "\n",
        "print(\"ESN Model Training Elapsed Time : %.5f\" % (training_elapsed_time), \"seconds\")\n",
        "\n",
        "# make predictions\n",
        "testPredict, predictions_elapsed_time = predict_using_models(models, testX, 'esn')\n",
        "\n",
        "testRMSE = np.sqrt(mean_squared_error(testY, testPredict[:len(testY), :]))\n",
        "testMAE = mean_absolute_error(testY, testPredict[:len(testY), :])\n",
        "\n",
        "print('ESN Test RMSE : %.5f' % (testRMSE))\n",
        "print('ESN Test MAE : %.5f' % (testMAE))\n",
        "print(\"ESN Elapsed Time To generate Predictions : %.5f\" % (predictions_elapsed_time), \"seconds\")"
      ],
      "metadata": {
        "colab": {
          "base_uri": "https://localhost:8080/"
        },
        "outputId": "4ebee011-19f8-4787-db13-ddee08f3a015",
        "id": "uOReAQdpQmu5"
      },
      "execution_count": null,
      "outputs": [
        {
          "output_type": "stream",
          "name": "stdout",
          "text": [
            "Window Size:  10\n",
            "17991 2000\n"
          ]
        },
        {
          "output_type": "stream",
          "name": "stderr",
          "text": [
            "\r  0%|          | 0/2 [00:00<?, ?it/s]"
          ]
        },
        {
          "output_type": "stream",
          "name": "stdout",
          "text": [
            "harvesting states...\n",
            "fitting...\n"
          ]
        },
        {
          "output_type": "stream",
          "name": "stderr",
          "text": [
            "\r 50%|█████     | 1/2 [00:04<00:04,  4.40s/it]"
          ]
        },
        {
          "output_type": "stream",
          "name": "stdout",
          "text": [
            "training error:\n",
            "0.015270793751639037\n",
            "Model Done !\n",
            "harvesting states...\n",
            "fitting...\n"
          ]
        },
        {
          "output_type": "stream",
          "name": "stderr",
          "text": [
            "100%|██████████| 2/2 [00:07<00:00,  3.93s/it]\n"
          ]
        },
        {
          "output_type": "stream",
          "name": "stdout",
          "text": [
            "training error:\n",
            "0.02162305578014343\n",
            "Model Done !\n",
            "All Models Done !\n",
            "ESN Model Training Elapsed Time : 7.85470 seconds\n"
          ]
        },
        {
          "output_type": "stream",
          "name": "stderr",
          "text": [
            "2it [00:00, 10.15it/s]"
          ]
        },
        {
          "output_type": "stream",
          "name": "stdout",
          "text": [
            "ESN Test RMSE : 0.01941\n",
            "ESN Test MAE : 0.01598\n",
            "ESN Elapsed Time To generate Predictions : 0.21909 seconds\n"
          ]
        },
        {
          "output_type": "stream",
          "name": "stderr",
          "text": [
            "\n"
          ]
        }
      ]
    },
    {
      "cell_type": "markdown",
      "source": [
        "#### Horizon = 4"
      ],
      "metadata": {
        "id": "4RiYllqKQmu6"
      }
    },
    {
      "cell_type": "code",
      "source": [
        "horizon = 4\n",
        "node1_delay = df[['node1_delay']]\n",
        "node1_delay_dataset = node1_delay.values\n",
        "window_size, slide_size = smooth_ASAP(node1_delay_dataset, resolution=50)\n",
        "print(\"Window Size: \", window_size)\n",
        "\n",
        "denoised_node1_delay_dataset = moving_average(node1_delay_dataset, window_size)\n",
        "\n",
        "# split into train and test sets\n",
        "train_size = int(len(denoised_node1_delay_dataset) * 0.9)\n",
        "test_size = len(denoised_node1_delay_dataset) - train_size\n",
        "train, test = denoised_node1_delay_dataset[0:train_size], denoised_node1_delay_dataset[train_size:]\n",
        "print(len(train), len(test))\n",
        "\n",
        "# reshape into X=t and Y=t+1\n",
        "trainX, trainY = create_multistep_dataset(train, look_back, horizon)\n",
        "testX, testY = create_multistep_dataset(test, look_back, horizon)\n",
        "\n",
        "models, training_elapsed_time = direct_multistep_strategy('esn', trainX, trainY)\n",
        "\n",
        "print(\"ESN Model Training Elapsed Time : %.5f\" % (training_elapsed_time), \"seconds\")\n",
        "\n",
        "# make predictions\n",
        "testPredict, predictions_elapsed_time = predict_using_models(models, testX, 'esn')\n",
        "\n",
        "testRMSE = np.sqrt(mean_squared_error(testY, testPredict[:len(testY), :]))\n",
        "testMAE = mean_absolute_error(testY, testPredict[:len(testY), :])\n",
        "\n",
        "print('ESN Test RMSE : %.5f' % (testRMSE))\n",
        "print('ESN Test MAE : %.5f' % (testMAE))\n",
        "print(\"ESN Elapsed Time To generate Predictions : %.5f\" % (predictions_elapsed_time), \"seconds\")"
      ],
      "metadata": {
        "colab": {
          "base_uri": "https://localhost:8080/"
        },
        "outputId": "a8edc0d6-8bad-4629-d47f-1f4b503502dd",
        "id": "HZZ5_psmQmu7"
      },
      "execution_count": null,
      "outputs": [
        {
          "output_type": "stream",
          "name": "stdout",
          "text": [
            "Window Size:  10\n",
            "17991 2000\n"
          ]
        },
        {
          "output_type": "stream",
          "name": "stderr",
          "text": [
            "\r  0%|          | 0/4 [00:00<?, ?it/s]"
          ]
        },
        {
          "output_type": "stream",
          "name": "stdout",
          "text": [
            "harvesting states...\n",
            "fitting...\n"
          ]
        },
        {
          "output_type": "stream",
          "name": "stderr",
          "text": [
            "\r 25%|██▌       | 1/4 [00:01<00:05,  1.74s/it]"
          ]
        },
        {
          "output_type": "stream",
          "name": "stdout",
          "text": [
            "training error:\n",
            "0.015270359257787766\n",
            "Model Done !\n",
            "harvesting states...\n",
            "fitting...\n"
          ]
        },
        {
          "output_type": "stream",
          "name": "stderr",
          "text": [
            "\r 50%|█████     | 2/4 [00:03<00:03,  1.82s/it]"
          ]
        },
        {
          "output_type": "stream",
          "name": "stdout",
          "text": [
            "training error:\n",
            "0.021623391595436012\n",
            "Model Done !\n",
            "harvesting states...\n",
            "fitting...\n"
          ]
        },
        {
          "output_type": "stream",
          "name": "stderr",
          "text": [
            "\r 75%|███████▌  | 3/4 [00:05<00:01,  1.77s/it]"
          ]
        },
        {
          "output_type": "stream",
          "name": "stdout",
          "text": [
            "training error:\n",
            "0.026512655964592752\n",
            "Model Done !\n",
            "harvesting states...\n",
            "fitting...\n"
          ]
        },
        {
          "output_type": "stream",
          "name": "stderr",
          "text": [
            "100%|██████████| 4/4 [00:07<00:00,  1.79s/it]\n"
          ]
        },
        {
          "output_type": "stream",
          "name": "stdout",
          "text": [
            "training error:\n",
            "0.030720816382164836\n",
            "Model Done !\n",
            "All Models Done !\n",
            "ESN Model Training Elapsed Time : 7.15839 seconds\n"
          ]
        },
        {
          "output_type": "stream",
          "name": "stderr",
          "text": [
            "4it [00:00, 19.03it/s]"
          ]
        },
        {
          "output_type": "stream",
          "name": "stdout",
          "text": [
            "ESN Test RMSE : 0.02517\n",
            "ESN Test MAE : 0.01999\n",
            "ESN Elapsed Time To generate Predictions : 0.22987 seconds\n"
          ]
        },
        {
          "output_type": "stream",
          "name": "stderr",
          "text": [
            "\n"
          ]
        }
      ]
    },
    {
      "cell_type": "markdown",
      "source": [
        "#### Horizon = 6"
      ],
      "metadata": {
        "id": "ndgS3x1zQmu8"
      }
    },
    {
      "cell_type": "code",
      "source": [
        "horizon = 6\n",
        "node1_delay = df[['node1_delay']]\n",
        "node1_delay_dataset = node1_delay.values\n",
        "window_size, slide_size = smooth_ASAP(node1_delay_dataset, resolution=50)\n",
        "print(\"Window Size: \", window_size)\n",
        "\n",
        "denoised_node1_delay_dataset = moving_average(node1_delay_dataset, window_size)\n",
        "\n",
        "# split into train and test sets\n",
        "train_size = int(len(denoised_node1_delay_dataset) * 0.9)\n",
        "test_size = len(denoised_node1_delay_dataset) - train_size\n",
        "train, test = denoised_node1_delay_dataset[0:train_size], denoised_node1_delay_dataset[train_size:]\n",
        "print(len(train), len(test))\n",
        "\n",
        "# reshape into X=t and Y=t+1\n",
        "trainX, trainY = create_multistep_dataset(train, look_back, horizon)\n",
        "testX, testY = create_multistep_dataset(test, look_back, horizon)\n",
        "\n",
        "models, training_elapsed_time = direct_multistep_strategy('esn', trainX, trainY)\n",
        "\n",
        "print(\"ESN Model Training Elapsed Time : %.5f\" % (training_elapsed_time), \"seconds\")\n",
        "\n",
        "# make predictions\n",
        "testPredict, predictions_elapsed_time = predict_using_models(models, testX, 'esn')\n",
        "\n",
        "testRMSE = np.sqrt(mean_squared_error(testY, testPredict[:len(testY), :]))\n",
        "testMAE = mean_absolute_error(testY, testPredict[:len(testY), :])\n",
        "\n",
        "print('ESN Test RMSE : %.5f' % (testRMSE))\n",
        "print('ESN Test MAE : %.5f' % (testMAE))\n",
        "print(\"ESN Elapsed Time To generate Predictions : %.5f\" % (predictions_elapsed_time), \"seconds\")"
      ],
      "metadata": {
        "colab": {
          "base_uri": "https://localhost:8080/"
        },
        "outputId": "fe5fd87b-5c62-436f-8acf-2121d7213ee4",
        "id": "RIDNvJ8BQmu8"
      },
      "execution_count": null,
      "outputs": [
        {
          "output_type": "stream",
          "name": "stdout",
          "text": [
            "Window Size:  10\n",
            "17991 2000\n"
          ]
        },
        {
          "output_type": "stream",
          "name": "stderr",
          "text": [
            "\r  0%|          | 0/6 [00:00<?, ?it/s]"
          ]
        },
        {
          "output_type": "stream",
          "name": "stdout",
          "text": [
            "harvesting states...\n",
            "fitting...\n"
          ]
        },
        {
          "output_type": "stream",
          "name": "stderr",
          "text": [
            "\r 17%|█▋        | 1/6 [00:01<00:08,  1.72s/it]"
          ]
        },
        {
          "output_type": "stream",
          "name": "stdout",
          "text": [
            "training error:\n",
            "0.015271201339669914\n",
            "Model Done !\n",
            "harvesting states...\n",
            "fitting...\n"
          ]
        },
        {
          "output_type": "stream",
          "name": "stderr",
          "text": [
            "\r 33%|███▎      | 2/6 [00:04<00:09,  2.38s/it]"
          ]
        },
        {
          "output_type": "stream",
          "name": "stdout",
          "text": [
            "training error:\n",
            "0.02162457812524003\n",
            "Model Done !\n",
            "harvesting states...\n",
            "fitting...\n"
          ]
        },
        {
          "output_type": "stream",
          "name": "stderr",
          "text": [
            "\r 50%|█████     | 3/6 [00:06<00:06,  2.24s/it]"
          ]
        },
        {
          "output_type": "stream",
          "name": "stdout",
          "text": [
            "training error:\n",
            "0.026513648198884125\n",
            "Model Done !\n",
            "harvesting states...\n",
            "fitting...\n"
          ]
        },
        {
          "output_type": "stream",
          "name": "stderr",
          "text": [
            "\r 67%|██████▋   | 4/6 [00:08<00:04,  2.08s/it]"
          ]
        },
        {
          "output_type": "stream",
          "name": "stdout",
          "text": [
            "training error:\n",
            "0.030721967488939683\n",
            "Model Done !\n",
            "harvesting states...\n",
            "fitting...\n"
          ]
        },
        {
          "output_type": "stream",
          "name": "stderr",
          "text": [
            "\r 83%|████████▎ | 5/6 [00:10<00:01,  1.96s/it]"
          ]
        },
        {
          "output_type": "stream",
          "name": "stdout",
          "text": [
            "training error:\n",
            "0.03433442847032744\n",
            "Model Done !\n",
            "harvesting states...\n",
            "fitting...\n"
          ]
        },
        {
          "output_type": "stream",
          "name": "stderr",
          "text": [
            "100%|██████████| 6/6 [00:11<00:00,  1.99s/it]\n"
          ]
        },
        {
          "output_type": "stream",
          "name": "stdout",
          "text": [
            "training error:\n",
            "0.03737361843667793\n",
            "Model Done !\n",
            "All Models Done !\n",
            "ESN Model Training Elapsed Time : 11.94157 seconds\n"
          ]
        },
        {
          "output_type": "stream",
          "name": "stderr",
          "text": [
            "6it [00:00, 22.11it/s]"
          ]
        },
        {
          "output_type": "stream",
          "name": "stdout",
          "text": [
            "ESN Test RMSE : 0.02990\n",
            "ESN Test MAE : 0.02332\n",
            "ESN Elapsed Time To generate Predictions : 0.28549 seconds\n"
          ]
        },
        {
          "output_type": "stream",
          "name": "stderr",
          "text": [
            "\n"
          ]
        }
      ]
    },
    {
      "cell_type": "markdown",
      "source": [
        "#### Horizon = 8"
      ],
      "metadata": {
        "id": "tMCb5gcWQmu9"
      }
    },
    {
      "cell_type": "code",
      "source": [
        "horizon = 8\n",
        "node1_delay = df[['node1_delay']]\n",
        "node1_delay_dataset = node1_delay.values\n",
        "window_size, slide_size = smooth_ASAP(node1_delay_dataset, resolution=50)\n",
        "print(\"Window Size: \", window_size)\n",
        "\n",
        "denoised_node1_delay_dataset = moving_average(node1_delay_dataset, window_size)\n",
        "\n",
        "# split into train and test sets\n",
        "train_size = int(len(denoised_node1_delay_dataset) * 0.9)\n",
        "test_size = len(denoised_node1_delay_dataset) - train_size\n",
        "train, test = denoised_node1_delay_dataset[0:train_size], denoised_node1_delay_dataset[train_size:]\n",
        "print(len(train), len(test))\n",
        "\n",
        "# reshape into X=t and Y=t+1\n",
        "trainX, trainY = create_multistep_dataset(train, look_back, horizon)\n",
        "testX, testY = create_multistep_dataset(test, look_back, horizon)\n",
        "\n",
        "models, training_elapsed_time = direct_multistep_strategy('esn', trainX, trainY)\n",
        "\n",
        "print(\"ESN Model Training Elapsed Time : %.5f\" % (training_elapsed_time), \"seconds\")\n",
        "\n",
        "# make predictions\n",
        "testPredict, predictions_elapsed_time = predict_using_models(models, testX, 'esn')\n",
        "\n",
        "testRMSE = np.sqrt(mean_squared_error(testY, testPredict[:len(testY), :]))\n",
        "testMAE = mean_absolute_error(testY, testPredict[:len(testY), :])\n",
        "\n",
        "print('ESN Test RMSE : %.5f' % (testRMSE))\n",
        "print('ESN Test MAE : %.5f' % (testMAE))\n",
        "print(\"ESN Elapsed Time To generate Predictions : %.5f\" % (predictions_elapsed_time), \"seconds\")"
      ],
      "metadata": {
        "colab": {
          "base_uri": "https://localhost:8080/"
        },
        "outputId": "8793f066-3cc7-40e0-f14c-a620a5cfc880",
        "id": "ryr0KXhYQmu-"
      },
      "execution_count": null,
      "outputs": [
        {
          "output_type": "stream",
          "name": "stdout",
          "text": [
            "Window Size:  10\n",
            "17991 2000\n"
          ]
        },
        {
          "output_type": "stream",
          "name": "stderr",
          "text": [
            "\r  0%|          | 0/8 [00:00<?, ?it/s]"
          ]
        },
        {
          "output_type": "stream",
          "name": "stdout",
          "text": [
            "harvesting states...\n",
            "fitting...\n"
          ]
        },
        {
          "output_type": "stream",
          "name": "stderr",
          "text": [
            "\r 12%|█▎        | 1/8 [00:01<00:12,  1.75s/it]"
          ]
        },
        {
          "output_type": "stream",
          "name": "stdout",
          "text": [
            "training error:\n",
            "0.015271161021982914\n",
            "Model Done !\n",
            "harvesting states...\n",
            "fitting...\n"
          ]
        },
        {
          "output_type": "stream",
          "name": "stderr",
          "text": [
            "\r 25%|██▌       | 2/8 [00:03<00:11,  1.99s/it]"
          ]
        },
        {
          "output_type": "stream",
          "name": "stdout",
          "text": [
            "training error:\n",
            "0.021624497690553655\n",
            "Model Done !\n",
            "harvesting states...\n",
            "fitting...\n"
          ]
        },
        {
          "output_type": "stream",
          "name": "stderr",
          "text": [
            "\r 38%|███▊      | 3/8 [00:06<00:12,  2.40s/it]"
          ]
        },
        {
          "output_type": "stream",
          "name": "stdout",
          "text": [
            "training error:\n",
            "0.026514093145313205\n",
            "Model Done !\n",
            "harvesting states...\n",
            "fitting...\n"
          ]
        },
        {
          "output_type": "stream",
          "name": "stderr",
          "text": [
            "\r 50%|█████     | 4/8 [00:08<00:08,  2.17s/it]"
          ]
        },
        {
          "output_type": "stream",
          "name": "stdout",
          "text": [
            "training error:\n",
            "0.03072301782173809\n",
            "Model Done !\n",
            "harvesting states...\n",
            "fitting...\n"
          ]
        },
        {
          "output_type": "stream",
          "name": "stderr",
          "text": [
            "\r 62%|██████▎   | 5/8 [00:10<00:06,  2.00s/it]"
          ]
        },
        {
          "output_type": "stream",
          "name": "stdout",
          "text": [
            "training error:\n",
            "0.034334742603897565\n",
            "Model Done !\n",
            "harvesting states...\n",
            "fitting...\n"
          ]
        },
        {
          "output_type": "stream",
          "name": "stderr",
          "text": [
            "\r 75%|███████▌  | 6/8 [00:12<00:03,  1.92s/it]"
          ]
        },
        {
          "output_type": "stream",
          "name": "stdout",
          "text": [
            "training error:\n",
            "0.03737334312921099\n",
            "Model Done !\n",
            "harvesting states...\n",
            "fitting...\n"
          ]
        },
        {
          "output_type": "stream",
          "name": "stderr",
          "text": [
            "\r 88%|████████▊ | 7/8 [00:13<00:01,  1.86s/it]"
          ]
        },
        {
          "output_type": "stream",
          "name": "stdout",
          "text": [
            "training error:\n",
            "0.04043248989843529\n",
            "Model Done !\n",
            "harvesting states...\n",
            "fitting...\n"
          ]
        },
        {
          "output_type": "stream",
          "name": "stderr",
          "text": [
            "100%|██████████| 8/8 [00:15<00:00,  1.94s/it]\n"
          ]
        },
        {
          "output_type": "stream",
          "name": "stdout",
          "text": [
            "training error:\n",
            "0.04299240305505189\n",
            "Model Done !\n",
            "All Models Done !\n",
            "ESN Model Training Elapsed Time : 15.50191 seconds\n"
          ]
        },
        {
          "output_type": "stream",
          "name": "stderr",
          "text": [
            "8it [00:00, 22.34it/s]"
          ]
        },
        {
          "output_type": "stream",
          "name": "stdout",
          "text": [
            "ESN Test RMSE : 0.03416\n",
            "ESN Test MAE : 0.02636\n",
            "ESN Elapsed Time To generate Predictions : 0.37918 seconds\n"
          ]
        },
        {
          "output_type": "stream",
          "name": "stderr",
          "text": [
            "\n"
          ]
        }
      ]
    },
    {
      "cell_type": "markdown",
      "source": [
        "#### Horizon = 10"
      ],
      "metadata": {
        "id": "gTTTqlxDQmu-"
      }
    },
    {
      "cell_type": "code",
      "source": [
        "horizon = 10\n",
        "node1_delay = df[['node1_delay']]\n",
        "node1_delay_dataset = node1_delay.values\n",
        "window_size, slide_size = smooth_ASAP(node1_delay_dataset, resolution=50)\n",
        "print(\"Window Size: \", window_size)\n",
        "\n",
        "denoised_node1_delay_dataset = moving_average(node1_delay_dataset, window_size)\n",
        "\n",
        "# split into train and test sets\n",
        "train_size = int(len(denoised_node1_delay_dataset) * 0.9)\n",
        "test_size = len(denoised_node1_delay_dataset) - train_size\n",
        "train, test = denoised_node1_delay_dataset[0:train_size], denoised_node1_delay_dataset[train_size:]\n",
        "print(len(train), len(test))\n",
        "\n",
        "# reshape into X=t and Y=t+1\n",
        "trainX, trainY = create_multistep_dataset(train, look_back, horizon)\n",
        "testX, testY = create_multistep_dataset(test, look_back, horizon)\n",
        "\n",
        "models, training_elapsed_time = direct_multistep_strategy('esn', trainX, trainY)\n",
        "\n",
        "print(\"ESN Model Training Elapsed Time : %.5f\" % (training_elapsed_time), \"seconds\")\n",
        "\n",
        "# make predictions\n",
        "testPredict, predictions_elapsed_time = predict_using_models(models, testX, 'esn')\n",
        "\n",
        "testRMSE = np.sqrt(mean_squared_error(testY, testPredict[:len(testY), :]))\n",
        "testMAE = mean_absolute_error(testY, testPredict[:len(testY), :])\n",
        "\n",
        "print('ESN Test RMSE : %.5f' % (testRMSE))\n",
        "print('ESN Test MAE : %.5f' % (testMAE))\n",
        "print(\"ESN Elapsed Time To generate Predictions : %.5f\" % (predictions_elapsed_time), \"seconds\")"
      ],
      "metadata": {
        "colab": {
          "base_uri": "https://localhost:8080/"
        },
        "outputId": "f1622714-7bde-4e6a-9247-d524eb83d2a9",
        "id": "cNObe5ShQmu_"
      },
      "execution_count": null,
      "outputs": [
        {
          "output_type": "stream",
          "name": "stdout",
          "text": [
            "Window Size:  10\n",
            "17991 2000\n"
          ]
        },
        {
          "output_type": "stream",
          "name": "stderr",
          "text": [
            "\r  0%|          | 0/10 [00:00<?, ?it/s]"
          ]
        },
        {
          "output_type": "stream",
          "name": "stdout",
          "text": [
            "harvesting states...\n",
            "fitting...\n"
          ]
        },
        {
          "output_type": "stream",
          "name": "stderr",
          "text": [
            "\r 10%|█         | 1/10 [00:02<00:22,  2.56s/it]"
          ]
        },
        {
          "output_type": "stream",
          "name": "stdout",
          "text": [
            "training error:\n",
            "0.015269984644152287\n",
            "Model Done !\n",
            "harvesting states...\n",
            "fitting...\n"
          ]
        },
        {
          "output_type": "stream",
          "name": "stderr",
          "text": [
            "\r 20%|██        | 2/10 [00:05<00:20,  2.53s/it]"
          ]
        },
        {
          "output_type": "stream",
          "name": "stdout",
          "text": [
            "training error:\n",
            "0.021622764106365558\n",
            "Model Done !\n",
            "harvesting states...\n",
            "fitting...\n"
          ]
        },
        {
          "output_type": "stream",
          "name": "stderr",
          "text": [
            "\r 30%|███       | 3/10 [00:06<00:15,  2.16s/it]"
          ]
        },
        {
          "output_type": "stream",
          "name": "stdout",
          "text": [
            "training error:\n",
            "0.02651076797746923\n",
            "Model Done !\n",
            "harvesting states...\n",
            "fitting...\n"
          ]
        },
        {
          "output_type": "stream",
          "name": "stderr",
          "text": [
            "\r 40%|████      | 4/10 [00:08<00:11,  1.98s/it]"
          ]
        },
        {
          "output_type": "stream",
          "name": "stdout",
          "text": [
            "training error:\n",
            "0.030720022554978473\n",
            "Model Done !\n",
            "harvesting states...\n",
            "fitting...\n"
          ]
        },
        {
          "output_type": "stream",
          "name": "stderr",
          "text": [
            "\r 50%|█████     | 5/10 [00:10<00:09,  1.89s/it]"
          ]
        },
        {
          "output_type": "stream",
          "name": "stdout",
          "text": [
            "training error:\n",
            "0.03433293521294907\n",
            "Model Done !\n",
            "harvesting states...\n",
            "fitting...\n"
          ]
        },
        {
          "output_type": "stream",
          "name": "stderr",
          "text": [
            "\r 60%|██████    | 6/10 [00:12<00:07,  1.86s/it]"
          ]
        },
        {
          "output_type": "stream",
          "name": "stdout",
          "text": [
            "training error:\n",
            "0.037371249492040896\n",
            "Model Done !\n",
            "harvesting states...\n",
            "fitting...\n"
          ]
        },
        {
          "output_type": "stream",
          "name": "stderr",
          "text": [
            "\r 70%|███████   | 7/10 [00:13<00:05,  1.82s/it]"
          ]
        },
        {
          "output_type": "stream",
          "name": "stdout",
          "text": [
            "training error:\n",
            "0.040428805788041366\n",
            "Model Done !\n",
            "harvesting states...\n",
            "fitting...\n"
          ]
        },
        {
          "output_type": "stream",
          "name": "stderr",
          "text": [
            "\r 80%|████████  | 8/10 [00:16<00:04,  2.01s/it]"
          ]
        },
        {
          "output_type": "stream",
          "name": "stdout",
          "text": [
            "training error:\n",
            "0.04298909065200008\n",
            "Model Done !\n",
            "harvesting states...\n",
            "fitting...\n"
          ]
        },
        {
          "output_type": "stream",
          "name": "stderr",
          "text": [
            "\r 90%|█████████ | 9/10 [00:18<00:02,  2.23s/it]"
          ]
        },
        {
          "output_type": "stream",
          "name": "stdout",
          "text": [
            "training error:\n",
            "0.045278797543759686\n",
            "Model Done !\n",
            "harvesting states...\n",
            "fitting...\n"
          ]
        },
        {
          "output_type": "stream",
          "name": "stderr",
          "text": [
            "100%|██████████| 10/10 [00:20<00:00,  2.06s/it]\n"
          ]
        },
        {
          "output_type": "stream",
          "name": "stdout",
          "text": [
            "training error:\n",
            "0.0478570184199416\n",
            "Model Done !\n",
            "All Models Done !\n",
            "ESN Model Training Elapsed Time : 20.58492 seconds\n"
          ]
        },
        {
          "output_type": "stream",
          "name": "stderr",
          "text": [
            "10it [00:00, 21.42it/s]"
          ]
        },
        {
          "output_type": "stream",
          "name": "stdout",
          "text": [
            "ESN Test RMSE : 0.03834\n",
            "ESN Test MAE : 0.02939\n",
            "ESN Elapsed Time To generate Predictions : 0.48014 seconds\n"
          ]
        },
        {
          "output_type": "stream",
          "name": "stderr",
          "text": [
            "\n"
          ]
        }
      ]
    },
    {
      "cell_type": "markdown",
      "source": [
        "# DirRec Strategy"
      ],
      "metadata": {
        "id": "M3CgLlspBIAa"
      }
    },
    {
      "cell_type": "code",
      "source": [
        "def dirRec_strategy(models, X_row, n_steps, model = 'all'):\n",
        "    forecasts = []\n",
        "    if model == 'esn':\n",
        "      for i in range(n_steps):\n",
        "          forecast = models[i].predict(np.array([X_row]))\n",
        "          forecasts.append(forecast[0, 0])\n",
        "          X_row = X_row.tolist()\n",
        "          X_row.append(forecast[0, 0])\n",
        "          X_row = X_row[1:]\n",
        "          X_row = np.array(X_row)\n",
        "    else :\n",
        "      shape_0 = X_row.shape[0]\n",
        "      shape_1 = X_row.shape[1]\n",
        "\n",
        "      for i in range(n_steps):\n",
        "          X_row = np.reshape(X_row, (shape_0, 1, shape_1))\n",
        "          forecast = models[i].predict(X_row, verbose=0)\n",
        "          X_row.reshape(X_row.shape[2],)\n",
        "          forecasts.append(forecast[0, 0])\n",
        "          X_row = X_row.tolist()\n",
        "          X_row[0][0].append(forecast[0, 0])\n",
        "          X_row = X_row[0][0][1:]\n",
        "          X_row = np.array(X_row)\n",
        "    return forecasts"
      ],
      "metadata": {
        "id": "xsw1pojCUzJo"
      },
      "execution_count": null,
      "outputs": []
    },
    {
      "cell_type": "code",
      "source": [
        "# Best Params\n",
        "look_back = 300\n",
        "num_hidden_layers = 2\n",
        "learning_rate = 6.95812073050639e-05 # 0.0015250869829489782\n",
        "batch_size = 30 #44\n",
        "epochs = 42#82\n",
        "num_units_layer_0 = 15\n",
        "num_units_layer_1 = 32\n",
        "\n",
        "# ESN Params\n",
        "n_reservoir = 851\n",
        "sparsity = 0.2\n",
        "spectral_radius = 10.0\n",
        "noise = 0.007\n",
        "look_back = 11"
      ],
      "metadata": {
        "id": "ZosvEz_rBWX9"
      },
      "execution_count": null,
      "outputs": []
    },
    {
      "cell_type": "code",
      "source": [
        "def direct_multistep_strategy(model, trainX, trainY):\n",
        "    n = trainY.shape[1]  # Nombre de colonnes de Y (horizons de prévision)\n",
        "    models = []  # Liste pour stocker les modèles entraînés\n",
        "\n",
        "    if model == 'lstm' :\n",
        "        total_training_elapsed_time = 0\n",
        "        for i in tqdm(range(n)):\n",
        "\n",
        "            y = trainY[:, i]  # Sélectionne la colonne i de Y\n",
        "            # Crée et entraîne le modèle pour l'horizon de prévision i\n",
        "            model = Sequential()\n",
        "            model.add(LSTM(units=num_units_layer_0, return_sequences=True))\n",
        "            model.add(LSTM(units=num_units_layer_1))\n",
        "            model.add(Dense(1))\n",
        "            optimizer = keras.optimizers.Adam(lr=learning_rate)\n",
        "            model.compile(loss='mean_squared_error', optimizer=optimizer)\n",
        "\n",
        "            # Record the starting time to training the model\n",
        "            training_start_time = time.time()\n",
        "\n",
        "            model.fit(trainX, y, epochs=epochs, batch_size=batch_size, verbose=0)\n",
        "\n",
        "            # Record the ending time of training the model\n",
        "            training_end_time = time.time()\n",
        "            training_elapsed_time = training_end_time - training_start_time\n",
        "            total_training_elapsed_time += training_elapsed_time\n",
        "            models.append(model)  # Ajoute le modèle à la liste\n",
        "\n",
        "            print(\"Model Done !\")\n",
        "        print(\"All Models Done !\")\n",
        "\n",
        "    elif model == 'gru' :\n",
        "        total_training_elapsed_time = 0\n",
        "        for i in tqdm(range(n)):\n",
        "            y = trainY[:, i]  # Sélectionne la colonne i de Y\n",
        "\n",
        "            # Crée et entraîne le modèle pour l'horizon de prévision i\n",
        "\n",
        "            model = Sequential()\n",
        "            model.add(GRU(units=num_units_layer_0, return_sequences=True))\n",
        "            model.add(GRU(units=num_units_layer_1))\n",
        "            model.add(Dense(1))\n",
        "            optimizer = keras.optimizers.Adam(lr=learning_rate)\n",
        "            model.compile(loss='mean_squared_error', optimizer=optimizer)\n",
        "\n",
        "            # Record the starting time to training the model\n",
        "            training_start_time = time.time()\n",
        "\n",
        "            model.fit(trainX, y, epochs=epochs, batch_size=batch_size, verbose=0)\n",
        "\n",
        "            # Record the ending time of training the model\n",
        "            training_end_time = time.time()\n",
        "            training_elapsed_time = training_end_time - training_start_time\n",
        "            total_training_elapsed_time += training_elapsed_time\n",
        "            models.append(model)  # Ajoute le modèle à la liste\n",
        "\n",
        "            print(\"Model Done !\")\n",
        "        print(\"All Models Done !\")\n",
        "    elif model == 'rnn' :\n",
        "        total_training_elapsed_time = 0\n",
        "        for i in tqdm(range(n)):\n",
        "            y = trainY[:, i]  # Sélectionne la colonne i de Y\n",
        "\n",
        "            # Crée et entraîne le modèle pour l'horizon de prévision i\n",
        "\n",
        "            model = Sequential()\n",
        "            model.add(SimpleRNN(units=num_units_layer_0, return_sequences=True))\n",
        "            model.add(SimpleRNN(units=num_units_layer_1))\n",
        "            model.add(Dense(1))\n",
        "            optimizer = keras.optimizers.Adam(lr=learning_rate)\n",
        "            model.compile(loss='mean_squared_error', optimizer=optimizer)\n",
        "\n",
        "            # Record the starting time to training the model\n",
        "            training_start_time = time.time()\n",
        "\n",
        "            model.fit(trainX, y, epochs=epochs, batch_size=batch_size, verbose=0)\n",
        "\n",
        "            # Record the ending time of training the model\n",
        "            training_end_time = time.time()\n",
        "            training_elapsed_time = training_end_time - training_start_time\n",
        "            total_training_elapsed_time += training_elapsed_time\n",
        "            models.append(model)  # Ajoute le modèle à la liste\n",
        "\n",
        "            print(\"Model Done !\")\n",
        "        print(\"All Models Done !\")\n",
        "    elif model == 'esn' :\n",
        "        total_training_elapsed_time = 0\n",
        "        for i in tqdm(range(n)):\n",
        "            y = trainY[:, i]  # Sélectionne la colonne i de Y\n",
        "\n",
        "            # Crée et entraîne le modèle pour l'horizon de prévision i\n",
        "\n",
        "            model = ESN(n_inputs = look_back,\n",
        "                n_outputs = 1,\n",
        "                n_reservoir = n_reservoir,\n",
        "                sparsity=sparsity,\n",
        "                random_state=1234,\n",
        "                spectral_radius=spectral_radius,\n",
        "                noise = noise,\n",
        "                silent = False,\n",
        "                teacher_scaling = 10,\n",
        "              )\n",
        "            # Record the starting time to training the model\n",
        "            training_start_time = time.time()\n",
        "\n",
        "            pred_train = model.fit(trainX, y)\n",
        "\n",
        "            # Record the ending time of training the model\n",
        "            training_end_time = time.time()\n",
        "            training_elapsed_time = training_end_time - training_start_time\n",
        "            total_training_elapsed_time += training_elapsed_time\n",
        "            models.append(model)  # Ajoute le modèle à la liste\n",
        "\n",
        "            print(\"Model Done !\")\n",
        "        print(\"All Models Done !\")\n",
        "    return models, total_training_elapsed_time"
      ],
      "metadata": {
        "id": "44BYlPQZBWYD"
      },
      "execution_count": null,
      "outputs": []
    },
    {
      "cell_type": "code",
      "source": [
        "from tqdm import tqdm\n",
        "\n",
        "def make_predictions(models, X, n_steps, model='all'):\n",
        "    predictions = []\n",
        "    # Record the starting time to generate predictions\n",
        "    predictions_start_time = time.time()\n",
        "\n",
        "    for i in tqdm(range(len(X)), desc=\"Progress\"):\n",
        "      if model == 'esn':\n",
        "          row_forecasts = dirRec_strategy(models, X[i, :], n_steps, model)\n",
        "      else :\n",
        "          row_forecasts = dirRec_strategy(models, X[i, :], n_steps)\n",
        "      predictions.append(row_forecasts)\n",
        "\n",
        "    # Record the ending time of generating predictions\n",
        "    predictions_end_time = time.time()\n",
        "    predictions_elapsed_time = predictions_end_time - predictions_start_time\n",
        "    return predictions, predictions_elapsed_time"
      ],
      "metadata": {
        "id": "3-_UZFv6BWYG"
      },
      "execution_count": null,
      "outputs": []
    },
    {
      "cell_type": "markdown",
      "source": [
        "### LSTM Model"
      ],
      "metadata": {
        "id": "ykhl0lVXBWYI"
      }
    },
    {
      "cell_type": "markdown",
      "source": [
        "#### Horizon = 2"
      ],
      "metadata": {
        "id": "3WuMpupBBWYJ"
      }
    },
    {
      "cell_type": "code",
      "source": [
        "horizon = 2\n",
        "node1_delay = df[['node1_delay']]\n",
        "node1_delay_dataset = node1_delay.values\n",
        "window_size, slide_size = smooth_ASAP(node1_delay_dataset, resolution=50)\n",
        "print(\"Window Size: \", window_size)\n",
        "\n",
        "denoised_node1_delay_dataset = moving_average(node1_delay_dataset, window_size)\n",
        "\n",
        "# split into train and test sets\n",
        "train_size = int(len(denoised_node1_delay_dataset) * 0.9)\n",
        "test_size = len(denoised_node1_delay_dataset) - train_size\n",
        "train, test = denoised_node1_delay_dataset[0:train_size], denoised_node1_delay_dataset[train_size:]\n",
        "\n",
        "print(len(train), len(test))\n",
        "\n",
        "# reshape into X=t and Y=t+1\n",
        "trainX, trainY = create_multistep_dataset(train, look_back, horizon)\n",
        "testX, testY = create_multistep_dataset(test, look_back, horizon)\n",
        "\n",
        "# reshape input to be [samples, time steps, features]\n",
        "trainX = np.reshape(trainX, (trainX.shape[0], 1, trainX.shape[1]))\n",
        "testX = np.reshape(testX, (testX.shape[0], 1, testX.shape[1]))\n",
        "\n",
        "models, training_elapsed_time = direct_multistep_strategy('lstm', trainX, trainY)\n",
        "\n",
        "print(\"LSTM Model Training Elapsed Time : %.5f\" % (training_elapsed_time), \"seconds\")\n",
        "\n",
        "# make predictions\n",
        "testPredict, predictions_elapsed_time = make_predictions(models, testX, horizon)\n",
        "testPredict = np.array(testPredict)\n",
        "\n",
        "testRMSE = np.sqrt(mean_squared_error(testY, testPredict[:len(testY), :]))\n",
        "testMAE = mean_absolute_error(testY, testPredict[:len(testY), :])\n",
        "\n",
        "print('LSTM Test RMSE : %.5f' % (testRMSE))\n",
        "print('LSTM Test MAE : %.5f' % (testMAE))\n",
        "print(\"LSTM Elapsed Time To generate Predictions : %.5f\" % (predictions_elapsed_time), \"seconds\")"
      ],
      "metadata": {
        "colab": {
          "base_uri": "https://localhost:8080/"
        },
        "outputId": "09f45418-f7c4-4e98-dc35-a8eb6f633f38",
        "id": "9A_MYYZNBWYK"
      },
      "execution_count": null,
      "outputs": [
        {
          "output_type": "stream",
          "name": "stdout",
          "text": [
            "Window Size:  10\n",
            "17991 2000\n"
          ]
        },
        {
          "output_type": "stream",
          "name": "stderr",
          "text": [
            "\r  0%|          | 0/2 [00:00<?, ?it/s]/usr/local/lib/python3.10/dist-packages/keras/optimizers/legacy/adam.py:117: UserWarning: The `lr` argument is deprecated, use `learning_rate` instead.\n",
            "  super().__init__(name, **kwargs)\n",
            " 50%|█████     | 1/2 [01:45<01:45, 105.25s/it]"
          ]
        },
        {
          "output_type": "stream",
          "name": "stdout",
          "text": [
            "Model Done !\n"
          ]
        },
        {
          "output_type": "stream",
          "name": "stderr",
          "text": [
            "100%|██████████| 2/2 [03:27<00:00, 103.69s/it]\n"
          ]
        },
        {
          "output_type": "stream",
          "name": "stdout",
          "text": [
            "Model Done !\n",
            "All Models Done !\n",
            "LSTM Model Training Elapsed Time : 206.18854 seconds\n"
          ]
        },
        {
          "output_type": "stream",
          "name": "stderr",
          "text": [
            "Progress: 100%|██████████| 1657/1657 [02:55<00:00,  9.45it/s]\n"
          ]
        },
        {
          "output_type": "stream",
          "name": "stdout",
          "text": [
            "LSTM Test RMSE : 0.02656\n",
            "LSTM Test MAE : 0.02130\n",
            "LSTM Elapsed Time To generate Predictions : 175.27250 seconds\n"
          ]
        }
      ]
    },
    {
      "cell_type": "markdown",
      "source": [
        "#### Horizon = 4"
      ],
      "metadata": {
        "id": "iqOlb2-sBWYM"
      }
    },
    {
      "cell_type": "code",
      "source": [
        "horizon = 4\n",
        "node1_delay = df[['node1_delay']]\n",
        "node1_delay_dataset = node1_delay.values\n",
        "window_size, slide_size = smooth_ASAP(node1_delay_dataset, resolution=50)\n",
        "print(\"Window Size: \", window_size)\n",
        "\n",
        "denoised_node1_delay_dataset = moving_average(node1_delay_dataset, window_size)\n",
        "\n",
        "# split into train and test sets\n",
        "train_size = int(len(denoised_node1_delay_dataset) * 0.9)\n",
        "test_size = len(denoised_node1_delay_dataset) - train_size\n",
        "train, test = denoised_node1_delay_dataset[0:train_size], denoised_node1_delay_dataset[train_size:]\n",
        "\n",
        "print(len(train), len(test))\n",
        "\n",
        "# reshape into X=t and Y=t+1\n",
        "trainX, trainY = create_multistep_dataset(train, look_back, horizon)\n",
        "testX, testY = create_multistep_dataset(test, look_back, horizon)\n",
        "\n",
        "# reshape input to be [samples, time steps, features]\n",
        "trainX = np.reshape(trainX, (trainX.shape[0], 1, trainX.shape[1]))\n",
        "testX = np.reshape(testX, (testX.shape[0], 1, testX.shape[1]))\n",
        "\n",
        "models, training_elapsed_time = direct_multistep_strategy('lstm', trainX, trainY)\n",
        "\n",
        "print(\"LSTM Model Training Elapsed Time : %.5f\" % (training_elapsed_time), \"seconds\")\n",
        "\n",
        "# make predictions\n",
        "testPredict, predictions_elapsed_time = make_predictions(models, testX, horizon)\n",
        "testPredict = np.array(testPredict)\n",
        "\n",
        "testRMSE = np.sqrt(mean_squared_error(testY, testPredict[:len(testY), :]))\n",
        "testMAE = mean_absolute_error(testY, testPredict[:len(testY), :])\n",
        "\n",
        "print('LSTM Test RMSE : %.5f' % (testRMSE))\n",
        "print('LSTM Test MAE : %.5f' % (testMAE))\n",
        "print(\"LSTM Elapsed Time To generate Predictions : %.5f\" % (predictions_elapsed_time), \"seconds\")"
      ],
      "metadata": {
        "colab": {
          "base_uri": "https://localhost:8080/"
        },
        "outputId": "44629442-45aa-4906-eb5f-09cdb5b37f94",
        "id": "-GcAZLcxBWYN"
      },
      "execution_count": null,
      "outputs": [
        {
          "output_type": "stream",
          "name": "stdout",
          "text": [
            "Window Size:  10\n",
            "17991 2000\n"
          ]
        },
        {
          "output_type": "stream",
          "name": "stderr",
          "text": [
            "\r  0%|          | 0/4 [00:00<?, ?it/s]/usr/local/lib/python3.10/dist-packages/keras/optimizers/legacy/adam.py:117: UserWarning: The `lr` argument is deprecated, use `learning_rate` instead.\n",
            "  super().__init__(name, **kwargs)\n",
            " 25%|██▌       | 1/4 [01:43<05:10, 103.39s/it]"
          ]
        },
        {
          "output_type": "stream",
          "name": "stdout",
          "text": [
            "Model Done !\n"
          ]
        },
        {
          "output_type": "stream",
          "name": "stderr",
          "text": [
            "\r 50%|█████     | 2/4 [03:26<03:27, 103.50s/it]"
          ]
        },
        {
          "output_type": "stream",
          "name": "stdout",
          "text": [
            "Model Done !\n"
          ]
        },
        {
          "output_type": "stream",
          "name": "stderr",
          "text": [
            "\r 75%|███████▌  | 3/4 [05:10<01:43, 103.43s/it]"
          ]
        },
        {
          "output_type": "stream",
          "name": "stdout",
          "text": [
            "Model Done !\n"
          ]
        },
        {
          "output_type": "stream",
          "name": "stderr",
          "text": [
            "100%|██████████| 4/4 [06:54<00:00, 103.61s/it]\n"
          ]
        },
        {
          "output_type": "stream",
          "name": "stdout",
          "text": [
            "Model Done !\n",
            "All Models Done !\n",
            "LSTM Model Training Elapsed Time : 414.36245 seconds\n"
          ]
        },
        {
          "output_type": "stream",
          "name": "stderr",
          "text": [
            "Progress:   0%|          | 0/1655 [00:00<?, ?it/s]WARNING:tensorflow:5 out of the last 3317 calls to <function Model.make_predict_function.<locals>.predict_function at 0x7a8e92c89090> triggered tf.function retracing. Tracing is expensive and the excessive number of tracings could be due to (1) creating @tf.function repeatedly in a loop, (2) passing tensors with different shapes, (3) passing Python objects instead of tensors. For (1), please define your @tf.function outside of the loop. For (2), @tf.function has reduce_retracing=True option that can avoid unnecessary retracing. For (3), please refer to https://www.tensorflow.org/guide/function#controlling_retracing and https://www.tensorflow.org/api_docs/python/tf/function for  more details.\n",
            "Progress: 100%|██████████| 1655/1655 [05:48<00:00,  4.74it/s]\n"
          ]
        },
        {
          "output_type": "stream",
          "name": "stdout",
          "text": [
            "LSTM Test RMSE : 0.03889\n",
            "LSTM Test MAE : 0.03007\n",
            "LSTM Elapsed Time To generate Predictions : 348.90263 seconds\n"
          ]
        }
      ]
    },
    {
      "cell_type": "markdown",
      "source": [
        "#### Horizon = 6"
      ],
      "metadata": {
        "id": "lQrByl6xBWYP"
      }
    },
    {
      "cell_type": "code",
      "source": [
        "horizon = 6\n",
        "node1_delay = df[['node1_delay']]\n",
        "node1_delay_dataset = node1_delay.values\n",
        "window_size, slide_size = smooth_ASAP(node1_delay_dataset, resolution=50)\n",
        "print(\"Window Size: \", window_size)\n",
        "\n",
        "denoised_node1_delay_dataset = moving_average(node1_delay_dataset, window_size)\n",
        "\n",
        "# split into train and test sets\n",
        "train_size = int(len(denoised_node1_delay_dataset) * 0.9)\n",
        "test_size = len(denoised_node1_delay_dataset) - train_size\n",
        "train, test = denoised_node1_delay_dataset[0:train_size], denoised_node1_delay_dataset[train_size:]\n",
        "\n",
        "print(len(train), len(test))\n",
        "\n",
        "# reshape into X=t and Y=t+1\n",
        "trainX, trainY = create_multistep_dataset(train, look_back, horizon)\n",
        "testX, testY = create_multistep_dataset(test, look_back, horizon)\n",
        "\n",
        "# reshape input to be [samples, time steps, features]\n",
        "trainX = np.reshape(trainX, (trainX.shape[0], 1, trainX.shape[1]))\n",
        "testX = np.reshape(testX, (testX.shape[0], 1, testX.shape[1]))\n",
        "\n",
        "models, training_elapsed_time = direct_multistep_strategy('lstm', trainX, trainY)\n",
        "\n",
        "print(\"LSTM Model Training Elapsed Time : %.5f\" % (training_elapsed_time), \"seconds\")\n",
        "\n",
        "# make predictions\n",
        "testPredict, predictions_elapsed_time = make_predictions(models, testX, horizon)\n",
        "testPredict = np.array(testPredict)\n",
        "\n",
        "testRMSE = np.sqrt(mean_squared_error(testY, testPredict[:len(testY), :]))\n",
        "testMAE = mean_absolute_error(testY, testPredict[:len(testY), :])\n",
        "\n",
        "print('LSTM Test RMSE : %.5f' % (testRMSE))\n",
        "print('LSTM Test MAE : %.5f' % (testMAE))\n",
        "print(\"LSTM Elapsed Time To generate Predictions : %.5f\" % (predictions_elapsed_time), \"seconds\")"
      ],
      "metadata": {
        "colab": {
          "base_uri": "https://localhost:8080/"
        },
        "outputId": "807eb643-9260-4505-a64b-0df72f90bb4d",
        "id": "w1o88iTKBWYQ"
      },
      "execution_count": null,
      "outputs": [
        {
          "output_type": "stream",
          "name": "stdout",
          "text": [
            "Window Size:  10\n",
            "17991 2000\n"
          ]
        },
        {
          "output_type": "stream",
          "name": "stderr",
          "text": [
            "\r  0%|          | 0/6 [00:00<?, ?it/s]/usr/local/lib/python3.10/dist-packages/keras/optimizers/legacy/adam.py:117: UserWarning: The `lr` argument is deprecated, use `learning_rate` instead.\n",
            "  super().__init__(name, **kwargs)\n",
            " 17%|█▋        | 1/6 [02:24<12:04, 144.96s/it]"
          ]
        },
        {
          "output_type": "stream",
          "name": "stdout",
          "text": [
            "Model Done !\n"
          ]
        },
        {
          "output_type": "stream",
          "name": "stderr",
          "text": [
            "\r 33%|███▎      | 2/6 [04:08<08:01, 120.31s/it]"
          ]
        },
        {
          "output_type": "stream",
          "name": "stdout",
          "text": [
            "Model Done !\n"
          ]
        },
        {
          "output_type": "stream",
          "name": "stderr",
          "text": [
            "\r 50%|█████     | 3/6 [05:50<05:36, 112.33s/it]"
          ]
        },
        {
          "output_type": "stream",
          "name": "stdout",
          "text": [
            "Model Done !\n"
          ]
        },
        {
          "output_type": "stream",
          "name": "stderr",
          "text": [
            "\r 67%|██████▋   | 4/6 [07:33<03:37, 108.68s/it]"
          ]
        },
        {
          "output_type": "stream",
          "name": "stdout",
          "text": [
            "Model Done !\n"
          ]
        },
        {
          "output_type": "stream",
          "name": "stderr",
          "text": [
            "\r 83%|████████▎ | 5/6 [09:15<01:46, 106.12s/it]"
          ]
        },
        {
          "output_type": "stream",
          "name": "stdout",
          "text": [
            "Model Done !\n"
          ]
        },
        {
          "output_type": "stream",
          "name": "stderr",
          "text": [
            "100%|██████████| 6/6 [10:59<00:00, 109.87s/it]\n"
          ]
        },
        {
          "output_type": "stream",
          "name": "stdout",
          "text": [
            "Model Done !\n",
            "All Models Done !\n",
            "LSTM Model Training Elapsed Time : 659.11179 seconds\n"
          ]
        },
        {
          "output_type": "stream",
          "name": "stderr",
          "text": [
            "Progress:   0%|          | 0/1653 [00:00<?, ?it/s]WARNING:tensorflow:5 out of the last 6621 calls to <function Model.make_predict_function.<locals>.predict_function at 0x7a8e908271c0> triggered tf.function retracing. Tracing is expensive and the excessive number of tracings could be due to (1) creating @tf.function repeatedly in a loop, (2) passing tensors with different shapes, (3) passing Python objects instead of tensors. For (1), please define your @tf.function outside of the loop. For (2), @tf.function has reduce_retracing=True option that can avoid unnecessary retracing. For (3), please refer to https://www.tensorflow.org/guide/function#controlling_retracing and https://www.tensorflow.org/api_docs/python/tf/function for  more details.\n",
            "Progress: 100%|██████████| 1653/1653 [08:39<00:00,  3.18it/s]"
          ]
        },
        {
          "output_type": "stream",
          "name": "stdout",
          "text": [
            "LSTM Test RMSE : 0.04754\n",
            "LSTM Test MAE : 0.03594\n",
            "LSTM Elapsed Time To generate Predictions : 519.82216 seconds\n"
          ]
        },
        {
          "output_type": "stream",
          "name": "stderr",
          "text": [
            "\n"
          ]
        }
      ]
    },
    {
      "cell_type": "markdown",
      "source": [
        "#### Horizon = 8"
      ],
      "metadata": {
        "id": "u3QTYRREBWYR"
      }
    },
    {
      "cell_type": "code",
      "source": [
        "horizon = 8\n",
        "node1_delay = df[['node1_delay']]\n",
        "node1_delay_dataset = node1_delay.values\n",
        "window_size, slide_size = smooth_ASAP(node1_delay_dataset, resolution=50)\n",
        "print(\"Window Size: \", window_size)\n",
        "\n",
        "denoised_node1_delay_dataset = moving_average(node1_delay_dataset, window_size)\n",
        "\n",
        "# split into train and test sets\n",
        "train_size = int(len(denoised_node1_delay_dataset) * 0.9)\n",
        "test_size = len(denoised_node1_delay_dataset) - train_size\n",
        "train, test = denoised_node1_delay_dataset[0:train_size], denoised_node1_delay_dataset[train_size:]\n",
        "\n",
        "print(len(train), len(test))\n",
        "\n",
        "# reshape into X=t and Y=t+1\n",
        "trainX, trainY = create_multistep_dataset(train, look_back, horizon)\n",
        "testX, testY = create_multistep_dataset(test, look_back, horizon)\n",
        "\n",
        "# reshape input to be [samples, time steps, features]\n",
        "trainX = np.reshape(trainX, (trainX.shape[0], 1, trainX.shape[1]))\n",
        "testX = np.reshape(testX, (testX.shape[0], 1, testX.shape[1]))\n",
        "\n",
        "models, training_elapsed_time = direct_multistep_strategy('lstm', trainX, trainY)\n",
        "\n",
        "print(\"LSTM Model Training Elapsed Time : %.5f\" % (training_elapsed_time), \"seconds\")\n",
        "\n",
        "# make predictions\n",
        "testPredict, predictions_elapsed_time = make_predictions(models, testX, horizon)\n",
        "testPredict = np.array(testPredict)\n",
        "\n",
        "testRMSE = np.sqrt(mean_squared_error(testY, testPredict[:len(testY), :]))\n",
        "testMAE = mean_absolute_error(testY, testPredict[:len(testY), :])\n",
        "\n",
        "print('LSTM Test RMSE : %.5f' % (testRMSE))\n",
        "print('LSTM Test MAE : %.5f' % (testMAE))\n",
        "print(\"LSTM Elapsed Time To generate Predictions : %.5f\" % (predictions_elapsed_time), \"seconds\")"
      ],
      "metadata": {
        "colab": {
          "base_uri": "https://localhost:8080/"
        },
        "outputId": "7fc4ff5c-eb77-4c7c-d70d-eed9c1d8e992",
        "id": "zbR0FZuuBWYS"
      },
      "execution_count": null,
      "outputs": [
        {
          "output_type": "stream",
          "name": "stdout",
          "text": [
            "Window Size:  10\n",
            "17991 2000\n"
          ]
        },
        {
          "output_type": "stream",
          "name": "stderr",
          "text": [
            "\r  0%|          | 0/8 [00:00<?, ?it/s]/usr/local/lib/python3.10/dist-packages/keras/optimizers/legacy/adam.py:117: UserWarning: The `lr` argument is deprecated, use `learning_rate` instead.\n",
            "  super().__init__(name, **kwargs)\n",
            " 12%|█▎        | 1/8 [02:24<16:53, 144.83s/it]"
          ]
        },
        {
          "output_type": "stream",
          "name": "stdout",
          "text": [
            "Model Done !\n"
          ]
        },
        {
          "output_type": "stream",
          "name": "stderr",
          "text": [
            "\r 25%|██▌       | 2/8 [04:09<12:06, 121.06s/it]"
          ]
        },
        {
          "output_type": "stream",
          "name": "stdout",
          "text": [
            "Model Done !\n"
          ]
        },
        {
          "output_type": "stream",
          "name": "stderr",
          "text": [
            "\r 38%|███▊      | 3/8 [05:51<09:23, 112.69s/it]"
          ]
        },
        {
          "output_type": "stream",
          "name": "stdout",
          "text": [
            "Model Done !\n"
          ]
        },
        {
          "output_type": "stream",
          "name": "stderr",
          "text": [
            "\r 50%|█████     | 4/8 [08:17<08:21, 125.48s/it]"
          ]
        },
        {
          "output_type": "stream",
          "name": "stdout",
          "text": [
            "Model Done !\n"
          ]
        },
        {
          "output_type": "stream",
          "name": "stderr",
          "text": [
            "\r 62%|██████▎   | 5/8 [10:42<06:38, 132.68s/it]"
          ]
        },
        {
          "output_type": "stream",
          "name": "stdout",
          "text": [
            "Model Done !\n"
          ]
        },
        {
          "output_type": "stream",
          "name": "stderr",
          "text": [
            "\r 75%|███████▌  | 6/8 [12:25<04:05, 122.74s/it]"
          ]
        },
        {
          "output_type": "stream",
          "name": "stdout",
          "text": [
            "Model Done !\n"
          ]
        },
        {
          "output_type": "stream",
          "name": "stderr",
          "text": [
            "\r 88%|████████▊ | 7/8 [14:08<01:55, 115.99s/it]"
          ]
        },
        {
          "output_type": "stream",
          "name": "stdout",
          "text": [
            "Model Done !\n"
          ]
        },
        {
          "output_type": "stream",
          "name": "stderr",
          "text": [
            "100%|██████████| 8/8 [15:51<00:00, 118.96s/it]\n"
          ]
        },
        {
          "output_type": "stream",
          "name": "stdout",
          "text": [
            "Model Done !\n",
            "All Models Done !\n",
            "LSTM Model Training Elapsed Time : 951.53622 seconds\n"
          ]
        },
        {
          "output_type": "stream",
          "name": "stderr",
          "text": [
            "Progress: 100%|██████████| 1651/1651 [11:27<00:00,  2.40it/s]"
          ]
        },
        {
          "output_type": "stream",
          "name": "stdout",
          "text": [
            "LSTM Test RMSE : 0.04990\n",
            "LSTM Test MAE : 0.03825\n",
            "LSTM Elapsed Time To generate Predictions : 687.61924 seconds\n"
          ]
        },
        {
          "output_type": "stream",
          "name": "stderr",
          "text": [
            "\n"
          ]
        }
      ]
    },
    {
      "cell_type": "markdown",
      "source": [
        "#### Horizon = 10"
      ],
      "metadata": {
        "id": "imNZanAwBWYT"
      }
    },
    {
      "cell_type": "code",
      "source": [
        "horizon = 10\n",
        "node1_delay = df[['node1_delay']]\n",
        "node1_delay_dataset = node1_delay.values\n",
        "window_size, slide_size = smooth_ASAP(node1_delay_dataset, resolution=50)\n",
        "print(\"Window Size: \", window_size)\n",
        "\n",
        "denoised_node1_delay_dataset = moving_average(node1_delay_dataset, window_size)\n",
        "\n",
        "# split into train and test sets\n",
        "train_size = int(len(denoised_node1_delay_dataset) * 0.9)\n",
        "test_size = len(denoised_node1_delay_dataset) - train_size\n",
        "train, test = denoised_node1_delay_dataset[0:train_size], denoised_node1_delay_dataset[train_size:]\n",
        "\n",
        "print(len(train), len(test))\n",
        "\n",
        "# reshape into X=t and Y=t+1\n",
        "trainX, trainY = create_multistep_dataset(train, look_back, horizon)\n",
        "testX, testY = create_multistep_dataset(test, look_back, horizon)\n",
        "\n",
        "# reshape input to be [samples, time steps, features]\n",
        "trainX = np.reshape(trainX, (trainX.shape[0], 1, trainX.shape[1]))\n",
        "testX = np.reshape(testX, (testX.shape[0], 1, testX.shape[1]))\n",
        "\n",
        "models, training_elapsed_time = direct_multistep_strategy('lstm', trainX, trainY)\n",
        "\n",
        "print(\"LSTM Model Training Elapsed Time : %.5f\" % (training_elapsed_time), \"seconds\")\n",
        "\n",
        "# make predictions\n",
        "testPredict, predictions_elapsed_time = make_predictions(models, testX, horizon)\n",
        "testPredict = np.array(testPredict)\n",
        "\n",
        "testRMSE = np.sqrt(mean_squared_error(testY, testPredict[:len(testY), :]))\n",
        "testMAE = mean_absolute_error(testY, testPredict[:len(testY), :])\n",
        "\n",
        "print('LSTM Test RMSE : %.5f' % (testRMSE))\n",
        "print('LSTM Test MAE : %.5f' % (testMAE))\n",
        "print(\"LSTM Elapsed Time To generate Predictions : %.5f\" % (predictions_elapsed_time), \"seconds\")"
      ],
      "metadata": {
        "colab": {
          "base_uri": "https://localhost:8080/"
        },
        "outputId": "c91cd3f3-03a2-4872-e8c5-48e5a2c3cf15",
        "id": "gO2oYLffBWYU"
      },
      "execution_count": null,
      "outputs": [
        {
          "metadata": {
            "tags": null
          },
          "name": "stdout",
          "output_type": "stream",
          "text": [
            "Window Size:  10\n",
            "17991 2000\n"
          ]
        },
        {
          "output_type": "stream",
          "name": "stderr",
          "text": [
            "\r  0%|          | 0/10 [00:00<?, ?it/s]/usr/local/lib/python3.10/dist-packages/keras/optimizers/legacy/adam.py:117: UserWarning: The `lr` argument is deprecated, use `learning_rate` instead.\n",
            "  super().__init__(name, **kwargs)\n",
            " 10%|█         | 1/10 [01:32<13:50, 92.28s/it]"
          ]
        },
        {
          "output_type": "stream",
          "name": "stdout",
          "text": [
            "Model Done !\n"
          ]
        },
        {
          "output_type": "stream",
          "name": "stderr",
          "text": [
            "\r 20%|██        | 2/10 [02:54<11:33, 86.64s/it]"
          ]
        },
        {
          "output_type": "stream",
          "name": "stdout",
          "text": [
            "Model Done !\n"
          ]
        },
        {
          "output_type": "stream",
          "name": "stderr",
          "text": [
            "\r 30%|███       | 3/10 [04:17<09:53, 84.82s/it]"
          ]
        },
        {
          "output_type": "stream",
          "name": "stdout",
          "text": [
            "Model Done !\n"
          ]
        },
        {
          "output_type": "stream",
          "name": "stderr",
          "text": [
            "\r 40%|████      | 4/10 [05:42<08:30, 85.03s/it]"
          ]
        },
        {
          "output_type": "stream",
          "name": "stdout",
          "text": [
            "Model Done !\n"
          ]
        },
        {
          "output_type": "stream",
          "name": "stderr",
          "text": [
            "\r 50%|█████     | 5/10 [07:07<07:03, 84.72s/it]"
          ]
        },
        {
          "output_type": "stream",
          "name": "stdout",
          "text": [
            "Model Done !\n"
          ]
        },
        {
          "output_type": "stream",
          "name": "stderr",
          "text": [
            "\r 60%|██████    | 6/10 [08:33<05:40, 85.18s/it]"
          ]
        },
        {
          "output_type": "stream",
          "name": "stdout",
          "text": [
            "Model Done !\n"
          ]
        },
        {
          "output_type": "stream",
          "name": "stderr",
          "text": [
            "\r 70%|███████   | 7/10 [09:57<04:14, 84.74s/it]"
          ]
        },
        {
          "output_type": "stream",
          "name": "stdout",
          "text": [
            "Model Done !\n"
          ]
        },
        {
          "output_type": "stream",
          "name": "stderr",
          "text": [
            "\r 80%|████████  | 8/10 [11:22<02:49, 84.84s/it]"
          ]
        },
        {
          "output_type": "stream",
          "name": "stdout",
          "text": [
            "Model Done !\n"
          ]
        },
        {
          "output_type": "stream",
          "name": "stderr",
          "text": [
            "\r 90%|█████████ | 9/10 [12:46<01:24, 84.79s/it]"
          ]
        },
        {
          "output_type": "stream",
          "name": "stdout",
          "text": [
            "Model Done !\n"
          ]
        },
        {
          "output_type": "stream",
          "name": "stderr",
          "text": [
            "100%|██████████| 10/10 [14:13<00:00, 85.36s/it]\n"
          ]
        },
        {
          "output_type": "stream",
          "name": "stdout",
          "text": [
            "Model Done !\n",
            "All Models Done !\n",
            "LSTM Model Training Elapsed Time : 850.00934 seconds\n"
          ]
        },
        {
          "output_type": "stream",
          "name": "stderr",
          "text": [
            "\rProgress:   0%|          | 0/1649 [00:00<?, ?it/s]WARNING:tensorflow:5 out of the last 5 calls to <function Model.make_predict_function.<locals>.predict_function at 0x7ad69fd3ec20> triggered tf.function retracing. Tracing is expensive and the excessive number of tracings could be due to (1) creating @tf.function repeatedly in a loop, (2) passing tensors with different shapes, (3) passing Python objects instead of tensors. For (1), please define your @tf.function outside of the loop. For (2), @tf.function has reduce_retracing=True option that can avoid unnecessary retracing. For (3), please refer to https://www.tensorflow.org/guide/function#controlling_retracing and https://www.tensorflow.org/api_docs/python/tf/function for  more details.\n",
            "WARNING:tensorflow:6 out of the last 6 calls to <function Model.make_predict_function.<locals>.predict_function at 0x7ad69eccc160> triggered tf.function retracing. Tracing is expensive and the excessive number of tracings could be due to (1) creating @tf.function repeatedly in a loop, (2) passing tensors with different shapes, (3) passing Python objects instead of tensors. For (1), please define your @tf.function outside of the loop. For (2), @tf.function has reduce_retracing=True option that can avoid unnecessary retracing. For (3), please refer to https://www.tensorflow.org/guide/function#controlling_retracing and https://www.tensorflow.org/api_docs/python/tf/function for  more details.\n",
            "Progress: 100%|██████████| 1649/1649 [14:27<00:00,  1.90it/s]"
          ]
        },
        {
          "output_type": "stream",
          "name": "stdout",
          "text": [
            "LSTM Test RMSE : 0.04917\n",
            "LSTM Test MAE : 0.03805\n",
            "LSTM Elapsed Time To generate Predictions : 867.37263 seconds\n"
          ]
        },
        {
          "output_type": "stream",
          "name": "stderr",
          "text": [
            "\n"
          ]
        }
      ]
    },
    {
      "cell_type": "code",
      "source": [],
      "metadata": {
        "id": "bFTRRxA5JaeX"
      },
      "execution_count": null,
      "outputs": []
    },
    {
      "cell_type": "markdown",
      "source": [
        "### GRU Model"
      ],
      "metadata": {
        "id": "5UYwUsTG48e8"
      }
    },
    {
      "cell_type": "markdown",
      "source": [
        "#### Horizon = 2"
      ],
      "metadata": {
        "id": "zY6kq2CC444p"
      }
    },
    {
      "cell_type": "code",
      "source": [
        "horizon = 2\n",
        "node1_delay = df[['node1_delay']]\n",
        "node1_delay_dataset = node1_delay.values\n",
        "window_size, slide_size = smooth_ASAP(node1_delay_dataset, resolution=50)\n",
        "print(\"Window Size: \", window_size)\n",
        "\n",
        "denoised_node1_delay_dataset = moving_average(node1_delay_dataset, window_size)\n",
        "\n",
        "# split into train and test sets\n",
        "train_size = int(len(denoised_node1_delay_dataset) * 0.9)\n",
        "test_size = len(denoised_node1_delay_dataset) - train_size\n",
        "train, test = denoised_node1_delay_dataset[0:train_size], denoised_node1_delay_dataset[train_size:]\n",
        "\n",
        "print(len(train), len(test))\n",
        "\n",
        "# reshape into X=t and Y=t+1\n",
        "trainX, trainY = create_multistep_dataset(train, look_back, horizon)\n",
        "testX, testY = create_multistep_dataset(test, look_back, horizon)\n",
        "\n",
        "# reshape input to be [samples, time steps, features]\n",
        "trainX = np.reshape(trainX, (trainX.shape[0], 1, trainX.shape[1]))\n",
        "testX = np.reshape(testX, (testX.shape[0], 1, testX.shape[1]))\n",
        "\n",
        "models, training_elapsed_time = direct_multistep_strategy('gru', trainX, trainY)\n",
        "\n",
        "print(\"GRU Model Training Elapsed Time : %.5f\" % (training_elapsed_time), \"seconds\")\n",
        "\n",
        "# make predictions\n",
        "testPredict, predictions_elapsed_time = make_predictions(models, testX, horizon)\n",
        "testPredict = np.array(testPredict)\n",
        "\n",
        "testRMSE = np.sqrt(mean_squared_error(testY, testPredict[:len(testY), :]))\n",
        "testMAE = mean_absolute_error(testY, testPredict[:len(testY), :])\n",
        "\n",
        "print('GRU Test RMSE : %.5f' % (testRMSE))\n",
        "print('GRU Test MAE : %.5f' % (testMAE))\n",
        "print(\"GRU Elapsed Time To generate Predictions : %.5f\" % (predictions_elapsed_time), \"seconds\")"
      ],
      "metadata": {
        "colab": {
          "base_uri": "https://localhost:8080/"
        },
        "outputId": "29f745e9-e9f1-45f5-9b04-e04711cba4e9",
        "id": "XuQUN5dI445N"
      },
      "execution_count": null,
      "outputs": [
        {
          "output_type": "stream",
          "name": "stdout",
          "text": [
            "Window Size:  10\n",
            "17991 2000\n"
          ]
        },
        {
          "output_type": "stream",
          "name": "stderr",
          "text": [
            "\r  0%|          | 0/2 [00:00<?, ?it/s]/usr/local/lib/python3.10/dist-packages/keras/optimizers/legacy/adam.py:117: UserWarning: The `lr` argument is deprecated, use `learning_rate` instead.\n",
            "  super().__init__(name, **kwargs)\n",
            " 50%|█████     | 1/2 [01:16<01:16, 76.61s/it]"
          ]
        },
        {
          "output_type": "stream",
          "name": "stdout",
          "text": [
            "Model Done !\n"
          ]
        },
        {
          "output_type": "stream",
          "name": "stderr",
          "text": [
            "100%|██████████| 2/2 [02:15<00:00, 67.90s/it]\n"
          ]
        },
        {
          "output_type": "stream",
          "name": "stdout",
          "text": [
            "Model Done !\n",
            "All Models Done !\n",
            "GRU Model Training Elapsed Time : 135.69060 seconds\n"
          ]
        },
        {
          "output_type": "stream",
          "name": "stderr",
          "text": [
            "Progress: 100%|██████████| 1657/1657 [02:28<00:00, 11.16it/s]"
          ]
        },
        {
          "output_type": "stream",
          "name": "stdout",
          "text": [
            "GRU Test RMSE : 0.02616\n",
            "GRU Test MAE : 0.02088\n",
            "GRU Elapsed Time To generate Predictions : 148.45168 seconds\n"
          ]
        },
        {
          "output_type": "stream",
          "name": "stderr",
          "text": [
            "\n"
          ]
        }
      ]
    },
    {
      "cell_type": "markdown",
      "source": [
        "#### Horizon = 4"
      ],
      "metadata": {
        "id": "zEXWG_Up445O"
      }
    },
    {
      "cell_type": "code",
      "source": [
        "horizon = 4\n",
        "node1_delay = df[['node1_delay']]\n",
        "node1_delay_dataset = node1_delay.values\n",
        "window_size, slide_size = smooth_ASAP(node1_delay_dataset, resolution=50)\n",
        "print(\"Window Size: \", window_size)\n",
        "\n",
        "denoised_node1_delay_dataset = moving_average(node1_delay_dataset, window_size)\n",
        "\n",
        "# split into train and test sets\n",
        "train_size = int(len(denoised_node1_delay_dataset) * 0.9)\n",
        "test_size = len(denoised_node1_delay_dataset) - train_size\n",
        "train, test = denoised_node1_delay_dataset[0:train_size], denoised_node1_delay_dataset[train_size:]\n",
        "\n",
        "print(len(train), len(test))\n",
        "\n",
        "# reshape into X=t and Y=t+1\n",
        "trainX, trainY = create_multistep_dataset(train, look_back, horizon)\n",
        "testX, testY = create_multistep_dataset(test, look_back, horizon)\n",
        "\n",
        "# reshape input to be [samples, time steps, features]\n",
        "trainX = np.reshape(trainX, (trainX.shape[0], 1, trainX.shape[1]))\n",
        "testX = np.reshape(testX, (testX.shape[0], 1, testX.shape[1]))\n",
        "\n",
        "models, training_elapsed_time = direct_multistep_strategy('gru', trainX, trainY)\n",
        "\n",
        "print(\"GRU Model Training Elapsed Time : %.5f\" % (training_elapsed_time), \"seconds\")\n",
        "\n",
        "# make predictions\n",
        "testPredict, predictions_elapsed_time = make_predictions(models, testX, horizon)\n",
        "testPredict = np.array(testPredict)\n",
        "\n",
        "testRMSE = np.sqrt(mean_squared_error(testY, testPredict[:len(testY), :]))\n",
        "testMAE = mean_absolute_error(testY, testPredict[:len(testY), :])\n",
        "\n",
        "print('GRU Test RMSE : %.5f' % (testRMSE))\n",
        "print('GRU Test MAE : %.5f' % (testMAE))\n",
        "print(\"GRU Elapsed Time To generate Predictions : %.5f\" % (predictions_elapsed_time), \"seconds\")"
      ],
      "metadata": {
        "colab": {
          "base_uri": "https://localhost:8080/"
        },
        "outputId": "f8b37a07-3238-4f0f-c8db-7ed5ee60171b",
        "id": "cDgU1f0e445P"
      },
      "execution_count": null,
      "outputs": [
        {
          "output_type": "stream",
          "name": "stdout",
          "text": [
            "Window Size:  10\n",
            "17991 2000\n"
          ]
        },
        {
          "output_type": "stream",
          "name": "stderr",
          "text": [
            "\r  0%|          | 0/4 [00:00<?, ?it/s]/usr/local/lib/python3.10/dist-packages/keras/optimizers/legacy/adam.py:117: UserWarning: The `lr` argument is deprecated, use `learning_rate` instead.\n",
            "  super().__init__(name, **kwargs)\n",
            " 25%|██▌       | 1/4 [01:04<03:12, 64.13s/it]"
          ]
        },
        {
          "output_type": "stream",
          "name": "stdout",
          "text": [
            "Model Done !\n"
          ]
        },
        {
          "output_type": "stream",
          "name": "stderr",
          "text": [
            "\r 50%|█████     | 2/4 [02:03<02:02, 61.34s/it]"
          ]
        },
        {
          "output_type": "stream",
          "name": "stdout",
          "text": [
            "Model Done !\n"
          ]
        },
        {
          "output_type": "stream",
          "name": "stderr",
          "text": [
            "\r 75%|███████▌  | 3/4 [03:02<01:00, 60.34s/it]"
          ]
        },
        {
          "output_type": "stream",
          "name": "stdout",
          "text": [
            "Model Done !\n"
          ]
        },
        {
          "output_type": "stream",
          "name": "stderr",
          "text": [
            "100%|██████████| 4/4 [04:02<00:00, 60.63s/it]\n"
          ]
        },
        {
          "output_type": "stream",
          "name": "stdout",
          "text": [
            "Model Done !\n",
            "All Models Done !\n",
            "GRU Model Training Elapsed Time : 242.47814 seconds\n"
          ]
        },
        {
          "output_type": "stream",
          "name": "stderr",
          "text": [
            "Progress:   0%|          | 0/1655 [00:00<?, ?it/s]WARNING:tensorflow:5 out of the last 3317 calls to <function Model.make_predict_function.<locals>.predict_function at 0x792cbd8ce5f0> triggered tf.function retracing. Tracing is expensive and the excessive number of tracings could be due to (1) creating @tf.function repeatedly in a loop, (2) passing tensors with different shapes, (3) passing Python objects instead of tensors. For (1), please define your @tf.function outside of the loop. For (2), @tf.function has reduce_retracing=True option that can avoid unnecessary retracing. For (3), please refer to https://www.tensorflow.org/guide/function#controlling_retracing and https://www.tensorflow.org/api_docs/python/tf/function for  more details.\n",
            "Progress: 100%|██████████| 1655/1655 [04:53<00:00,  5.64it/s]"
          ]
        },
        {
          "output_type": "stream",
          "name": "stdout",
          "text": [
            "GRU Test RMSE : 0.04017\n",
            "GRU Test MAE : 0.03124\n",
            "GRU Elapsed Time To generate Predictions : 293.68978 seconds\n"
          ]
        },
        {
          "output_type": "stream",
          "name": "stderr",
          "text": [
            "\n"
          ]
        }
      ]
    },
    {
      "cell_type": "markdown",
      "source": [
        "#### Horizon = 6"
      ],
      "metadata": {
        "id": "9hApXmWG445Q"
      }
    },
    {
      "cell_type": "code",
      "source": [
        "horizon = 6\n",
        "node1_delay = df[['node1_delay']]\n",
        "node1_delay_dataset = node1_delay.values\n",
        "window_size, slide_size = smooth_ASAP(node1_delay_dataset, resolution=50)\n",
        "print(\"Window Size: \", window_size)\n",
        "\n",
        "denoised_node1_delay_dataset = moving_average(node1_delay_dataset, window_size)\n",
        "\n",
        "# split into train and test sets\n",
        "train_size = int(len(denoised_node1_delay_dataset) * 0.9)\n",
        "test_size = len(denoised_node1_delay_dataset) - train_size\n",
        "train, test = denoised_node1_delay_dataset[0:train_size], denoised_node1_delay_dataset[train_size:]\n",
        "\n",
        "print(len(train), len(test))\n",
        "\n",
        "# reshape into X=t and Y=t+1\n",
        "trainX, trainY = create_multistep_dataset(train, look_back, horizon)\n",
        "testX, testY = create_multistep_dataset(test, look_back, horizon)\n",
        "\n",
        "# reshape input to be [samples, time steps, features]\n",
        "trainX = np.reshape(trainX, (trainX.shape[0], 1, trainX.shape[1]))\n",
        "testX = np.reshape(testX, (testX.shape[0], 1, testX.shape[1]))\n",
        "\n",
        "models, training_elapsed_time = direct_multistep_strategy('gru', trainX, trainY)\n",
        "\n",
        "print(\"GRU Model Training Elapsed Time : %.5f\" % (training_elapsed_time), \"seconds\")\n",
        "\n",
        "# make predictions\n",
        "testPredict, predictions_elapsed_time = make_predictions(models, testX, horizon)\n",
        "testPredict = np.array(testPredict)\n",
        "\n",
        "testRMSE = np.sqrt(mean_squared_error(testY, testPredict[:len(testY), :]))\n",
        "testMAE = mean_absolute_error(testY, testPredict[:len(testY), :])\n",
        "\n",
        "print('GRU Test RMSE : %.5f' % (testRMSE))\n",
        "print('GRU Test MAE : %.5f' % (testMAE))\n",
        "print(\"GRU Elapsed Time To generate Predictions : %.5f\" % (predictions_elapsed_time), \"seconds\")"
      ],
      "metadata": {
        "colab": {
          "base_uri": "https://localhost:8080/"
        },
        "outputId": "3ffb5089-6ef2-42b1-88bf-8a05e12c000d",
        "id": "0RkMK7hf445Q"
      },
      "execution_count": null,
      "outputs": [
        {
          "output_type": "stream",
          "name": "stdout",
          "text": [
            "Window Size:  10\n",
            "17991 2000\n"
          ]
        },
        {
          "output_type": "stream",
          "name": "stderr",
          "text": [
            "\r  0%|          | 0/6 [00:00<?, ?it/s]/usr/local/lib/python3.10/dist-packages/keras/optimizers/legacy/adam.py:117: UserWarning: The `lr` argument is deprecated, use `learning_rate` instead.\n",
            "  super().__init__(name, **kwargs)\n",
            " 17%|█▋        | 1/6 [00:58<04:54, 58.97s/it]"
          ]
        },
        {
          "output_type": "stream",
          "name": "stdout",
          "text": [
            "Model Done !\n"
          ]
        },
        {
          "output_type": "stream",
          "name": "stderr",
          "text": [
            "\r 33%|███▎      | 2/6 [02:23<04:56, 74.09s/it]"
          ]
        },
        {
          "output_type": "stream",
          "name": "stdout",
          "text": [
            "Model Done !\n"
          ]
        },
        {
          "output_type": "stream",
          "name": "stderr",
          "text": [
            "\r 50%|█████     | 3/6 [03:22<03:21, 67.16s/it]"
          ]
        },
        {
          "output_type": "stream",
          "name": "stdout",
          "text": [
            "Model Done !\n"
          ]
        },
        {
          "output_type": "stream",
          "name": "stderr",
          "text": [
            "\r 67%|██████▋   | 4/6 [04:21<02:07, 63.99s/it]"
          ]
        },
        {
          "output_type": "stream",
          "name": "stdout",
          "text": [
            "Model Done !\n"
          ]
        },
        {
          "output_type": "stream",
          "name": "stderr",
          "text": [
            "\r 83%|████████▎ | 5/6 [05:45<01:11, 71.30s/it]"
          ]
        },
        {
          "output_type": "stream",
          "name": "stdout",
          "text": [
            "Model Done !\n"
          ]
        },
        {
          "output_type": "stream",
          "name": "stderr",
          "text": [
            "100%|██████████| 6/6 [06:44<00:00, 67.49s/it]\n"
          ]
        },
        {
          "output_type": "stream",
          "name": "stdout",
          "text": [
            "Model Done !\n",
            "All Models Done !\n",
            "GRU Model Training Elapsed Time : 404.83786 seconds\n"
          ]
        },
        {
          "output_type": "stream",
          "name": "stderr",
          "text": [
            "Progress:   0%|          | 0/1653 [00:00<?, ?it/s]WARNING:tensorflow:5 out of the last 6621 calls to <function Model.make_predict_function.<locals>.predict_function at 0x792ca97a2b90> triggered tf.function retracing. Tracing is expensive and the excessive number of tracings could be due to (1) creating @tf.function repeatedly in a loop, (2) passing tensors with different shapes, (3) passing Python objects instead of tensors. For (1), please define your @tf.function outside of the loop. For (2), @tf.function has reduce_retracing=True option that can avoid unnecessary retracing. For (3), please refer to https://www.tensorflow.org/guide/function#controlling_retracing and https://www.tensorflow.org/api_docs/python/tf/function for  more details.\n",
            "Progress: 100%|██████████| 1653/1653 [07:19<00:00,  3.76it/s]"
          ]
        },
        {
          "output_type": "stream",
          "name": "stdout",
          "text": [
            "GRU Test RMSE : 0.04768\n",
            "GRU Test MAE : 0.03589\n",
            "GRU Elapsed Time To generate Predictions : 439.70439 seconds\n"
          ]
        },
        {
          "output_type": "stream",
          "name": "stderr",
          "text": [
            "\n"
          ]
        }
      ]
    },
    {
      "cell_type": "markdown",
      "source": [
        "#### Horizon = 8"
      ],
      "metadata": {
        "id": "GZaXpjem445R"
      }
    },
    {
      "cell_type": "code",
      "source": [
        "horizon = 8\n",
        "node1_delay = df[['node1_delay']]\n",
        "node1_delay_dataset = node1_delay.values\n",
        "window_size, slide_size = smooth_ASAP(node1_delay_dataset, resolution=50)\n",
        "print(\"Window Size: \", window_size)\n",
        "\n",
        "denoised_node1_delay_dataset = moving_average(node1_delay_dataset, window_size)\n",
        "\n",
        "# split into train and test sets\n",
        "train_size = int(len(denoised_node1_delay_dataset) * 0.9)\n",
        "test_size = len(denoised_node1_delay_dataset) - train_size\n",
        "train, test = denoised_node1_delay_dataset[0:train_size], denoised_node1_delay_dataset[train_size:]\n",
        "\n",
        "print(len(train), len(test))\n",
        "\n",
        "# reshape into X=t and Y=t+1\n",
        "trainX, trainY = create_multistep_dataset(train, look_back, horizon)\n",
        "testX, testY = create_multistep_dataset(test, look_back, horizon)\n",
        "\n",
        "# reshape input to be [samples, time steps, features]\n",
        "trainX = np.reshape(trainX, (trainX.shape[0], 1, trainX.shape[1]))\n",
        "testX = np.reshape(testX, (testX.shape[0], 1, testX.shape[1]))\n",
        "\n",
        "models, training_elapsed_time = direct_multistep_strategy('gru', trainX, trainY)\n",
        "\n",
        "print(\"GRU Model Training Elapsed Time : %.5f\" % (training_elapsed_time), \"seconds\")\n",
        "\n",
        "# make predictions\n",
        "testPredict, predictions_elapsed_time = make_predictions(models, testX, horizon)\n",
        "testPredict = np.array(testPredict)\n",
        "\n",
        "testRMSE = np.sqrt(mean_squared_error(testY, testPredict[:len(testY), :]))\n",
        "testMAE = mean_absolute_error(testY, testPredict[:len(testY), :])\n",
        "\n",
        "print('GRU Test RMSE : %.5f' % (testRMSE))\n",
        "print('GRU Test MAE : %.5f' % (testMAE))\n",
        "print(\"GRU Elapsed Time To generate Predictions : %.5f\" % (predictions_elapsed_time), \"seconds\")"
      ],
      "metadata": {
        "colab": {
          "base_uri": "https://localhost:8080/"
        },
        "outputId": "490ee101-43de-4d1a-f2bd-591f2672c4f1",
        "id": "BgXZ6KkJ445R"
      },
      "execution_count": null,
      "outputs": [
        {
          "output_type": "stream",
          "name": "stdout",
          "text": [
            "Window Size:  10\n",
            "17991 2000\n"
          ]
        },
        {
          "output_type": "stream",
          "name": "stderr",
          "text": [
            "\r  0%|          | 0/8 [00:00<?, ?it/s]/usr/local/lib/python3.10/dist-packages/keras/optimizers/legacy/adam.py:117: UserWarning: The `lr` argument is deprecated, use `learning_rate` instead.\n",
            "  super().__init__(name, **kwargs)\n",
            " 12%|█▎        | 1/8 [01:01<07:10, 61.43s/it]"
          ]
        },
        {
          "output_type": "stream",
          "name": "stdout",
          "text": [
            "Model Done !\n"
          ]
        },
        {
          "output_type": "stream",
          "name": "stderr",
          "text": [
            "\r 25%|██▌       | 2/8 [02:01<06:04, 60.82s/it]"
          ]
        },
        {
          "output_type": "stream",
          "name": "stdout",
          "text": [
            "Model Done !\n"
          ]
        },
        {
          "output_type": "stream",
          "name": "stderr",
          "text": [
            "\r 38%|███▊      | 3/8 [03:02<05:02, 60.53s/it]"
          ]
        },
        {
          "output_type": "stream",
          "name": "stdout",
          "text": [
            "Model Done !\n"
          ]
        },
        {
          "output_type": "stream",
          "name": "stderr",
          "text": [
            "\r 50%|█████     | 4/8 [04:02<04:02, 60.54s/it]"
          ]
        },
        {
          "output_type": "stream",
          "name": "stdout",
          "text": [
            "Model Done !\n"
          ]
        },
        {
          "output_type": "stream",
          "name": "stderr",
          "text": [
            "\r 62%|██████▎   | 5/8 [05:02<03:00, 60.17s/it]"
          ]
        },
        {
          "output_type": "stream",
          "name": "stdout",
          "text": [
            "Model Done !\n"
          ]
        },
        {
          "output_type": "stream",
          "name": "stderr",
          "text": [
            "\r 75%|███████▌  | 6/8 [06:02<02:00, 60.25s/it]"
          ]
        },
        {
          "output_type": "stream",
          "name": "stdout",
          "text": [
            "Model Done !\n"
          ]
        },
        {
          "output_type": "stream",
          "name": "stderr",
          "text": [
            "\r 88%|████████▊ | 7/8 [07:04<01:00, 60.74s/it]"
          ]
        },
        {
          "output_type": "stream",
          "name": "stdout",
          "text": [
            "Model Done !\n"
          ]
        },
        {
          "output_type": "stream",
          "name": "stderr",
          "text": [
            "100%|██████████| 8/8 [08:02<00:00, 60.32s/it]\n"
          ]
        },
        {
          "output_type": "stream",
          "name": "stdout",
          "text": [
            "Model Done !\n",
            "All Models Done !\n",
            "GRU Model Training Elapsed Time : 482.45730 seconds\n"
          ]
        },
        {
          "output_type": "stream",
          "name": "stderr",
          "text": [
            "Progress: 100%|██████████| 1651/1651 [09:34<00:00,  2.87it/s]"
          ]
        },
        {
          "output_type": "stream",
          "name": "stdout",
          "text": [
            "GRU Test RMSE : 0.05138\n",
            "GRU Test MAE : 0.03935\n",
            "GRU Elapsed Time To generate Predictions : 574.95247 seconds\n"
          ]
        },
        {
          "output_type": "stream",
          "name": "stderr",
          "text": [
            "\n"
          ]
        }
      ]
    },
    {
      "cell_type": "markdown",
      "source": [
        "#### Horizon = 10"
      ],
      "metadata": {
        "id": "UcRVSLhJ445S"
      }
    },
    {
      "cell_type": "code",
      "source": [
        "horizon = 10\n",
        "node1_delay = df[['node1_delay']]\n",
        "node1_delay_dataset = node1_delay.values\n",
        "window_size, slide_size = smooth_ASAP(node1_delay_dataset, resolution=50)\n",
        "print(\"Window Size: \", window_size)\n",
        "\n",
        "denoised_node1_delay_dataset = moving_average(node1_delay_dataset, window_size)\n",
        "\n",
        "# split into train and test sets\n",
        "train_size = int(len(denoised_node1_delay_dataset) * 0.9)\n",
        "test_size = len(denoised_node1_delay_dataset) - train_size\n",
        "train, test = denoised_node1_delay_dataset[0:train_size], denoised_node1_delay_dataset[train_size:]\n",
        "\n",
        "print(len(train), len(test))\n",
        "\n",
        "# reshape into X=t and Y=t+1\n",
        "trainX, trainY = create_multistep_dataset(train, look_back, horizon)\n",
        "testX, testY = create_multistep_dataset(test, look_back, horizon)\n",
        "\n",
        "# reshape input to be [samples, time steps, features]\n",
        "trainX = np.reshape(trainX, (trainX.shape[0], 1, trainX.shape[1]))\n",
        "testX = np.reshape(testX, (testX.shape[0], 1, testX.shape[1]))\n",
        "\n",
        "models, training_elapsed_time = direct_multistep_strategy('gru', trainX, trainY)\n",
        "\n",
        "print(\"GRU Model Training Elapsed Time : %.5f\" % (training_elapsed_time), \"seconds\")\n",
        "\n",
        "# make predictions\n",
        "testPredict, predictions_elapsed_time = make_predictions(models, testX, horizon)\n",
        "testPredict = np.array(testPredict)\n",
        "\n",
        "testRMSE = np.sqrt(mean_squared_error(testY, testPredict[:len(testY), :]))\n",
        "testMAE = mean_absolute_error(testY, testPredict[:len(testY), :])\n",
        "\n",
        "print('GRU Test RMSE : %.5f' % (testRMSE))\n",
        "print('GRU Test MAE : %.5f' % (testMAE))\n",
        "print(\"GRU Elapsed Time To generate Predictions : %.5f\" % (predictions_elapsed_time), \"seconds\")"
      ],
      "metadata": {
        "colab": {
          "base_uri": "https://localhost:8080/"
        },
        "outputId": "03ec630c-b53d-4066-90c0-1d6779db4453",
        "id": "c4AJe305445S"
      },
      "execution_count": null,
      "outputs": [
        {
          "output_type": "stream",
          "name": "stdout",
          "text": [
            "Window Size:  10\n",
            "17991 2000\n"
          ]
        },
        {
          "output_type": "stream",
          "name": "stderr",
          "text": [
            "\r  0%|          | 0/10 [00:00<?, ?it/s]/usr/local/lib/python3.10/dist-packages/keras/optimizers/legacy/adam.py:117: UserWarning: The `lr` argument is deprecated, use `learning_rate` instead.\n",
            "  super().__init__(name, **kwargs)\n",
            " 10%|█         | 1/10 [01:25<12:47, 85.33s/it]"
          ]
        },
        {
          "output_type": "stream",
          "name": "stdout",
          "text": [
            "Model Done !\n"
          ]
        },
        {
          "output_type": "stream",
          "name": "stderr",
          "text": [
            "\r 20%|██        | 2/10 [02:35<10:09, 76.15s/it]"
          ]
        },
        {
          "output_type": "stream",
          "name": "stdout",
          "text": [
            "Model Done !\n"
          ]
        },
        {
          "output_type": "stream",
          "name": "stderr",
          "text": [
            "\r 30%|███       | 3/10 [03:42<08:26, 72.30s/it]"
          ]
        },
        {
          "output_type": "stream",
          "name": "stdout",
          "text": [
            "Model Done !\n"
          ]
        },
        {
          "output_type": "stream",
          "name": "stderr",
          "text": [
            "\r 40%|████      | 4/10 [05:07<07:42, 77.14s/it]"
          ]
        },
        {
          "output_type": "stream",
          "name": "stdout",
          "text": [
            "Model Done !\n"
          ]
        },
        {
          "output_type": "stream",
          "name": "stderr",
          "text": [
            "\r 50%|█████     | 5/10 [06:14<06:08, 73.65s/it]"
          ]
        },
        {
          "output_type": "stream",
          "name": "stdout",
          "text": [
            "Model Done !\n"
          ]
        },
        {
          "output_type": "stream",
          "name": "stderr",
          "text": [
            "\r 60%|██████    | 6/10 [07:40<05:10, 77.66s/it]"
          ]
        },
        {
          "output_type": "stream",
          "name": "stdout",
          "text": [
            "Model Done !\n"
          ]
        },
        {
          "output_type": "stream",
          "name": "stderr",
          "text": [
            "\r 70%|███████   | 7/10 [08:47<03:42, 74.21s/it]"
          ]
        },
        {
          "output_type": "stream",
          "name": "stdout",
          "text": [
            "Model Done !\n"
          ]
        },
        {
          "output_type": "stream",
          "name": "stderr",
          "text": [
            "\r 80%|████████  | 8/10 [09:55<02:24, 72.13s/it]"
          ]
        },
        {
          "output_type": "stream",
          "name": "stdout",
          "text": [
            "Model Done !\n"
          ]
        },
        {
          "output_type": "stream",
          "name": "stderr",
          "text": [
            "\r 90%|█████████ | 9/10 [11:02<01:10, 70.61s/it]"
          ]
        },
        {
          "output_type": "stream",
          "name": "stdout",
          "text": [
            "Model Done !\n"
          ]
        },
        {
          "output_type": "stream",
          "name": "stderr",
          "text": [
            "100%|██████████| 10/10 [12:10<00:00, 73.07s/it]\n"
          ]
        },
        {
          "output_type": "stream",
          "name": "stdout",
          "text": [
            "Model Done !\n",
            "All Models Done !\n",
            "GRU Model Training Elapsed Time : 730.35837 seconds\n"
          ]
        },
        {
          "output_type": "stream",
          "name": "stderr",
          "text": [
            "\rProgress:   0%|          | 0/1649 [00:00<?, ?it/s]WARNING:tensorflow:5 out of the last 5 calls to <function Model.make_predict_function.<locals>.predict_function at 0x795fcf2663b0> triggered tf.function retracing. Tracing is expensive and the excessive number of tracings could be due to (1) creating @tf.function repeatedly in a loop, (2) passing tensors with different shapes, (3) passing Python objects instead of tensors. For (1), please define your @tf.function outside of the loop. For (2), @tf.function has reduce_retracing=True option that can avoid unnecessary retracing. For (3), please refer to https://www.tensorflow.org/guide/function#controlling_retracing and https://www.tensorflow.org/api_docs/python/tf/function for  more details.\n",
            "WARNING:tensorflow:6 out of the last 6 calls to <function Model.make_predict_function.<locals>.predict_function at 0x795fcf267490> triggered tf.function retracing. Tracing is expensive and the excessive number of tracings could be due to (1) creating @tf.function repeatedly in a loop, (2) passing tensors with different shapes, (3) passing Python objects instead of tensors. For (1), please define your @tf.function outside of the loop. For (2), @tf.function has reduce_retracing=True option that can avoid unnecessary retracing. For (3), please refer to https://www.tensorflow.org/guide/function#controlling_retracing and https://www.tensorflow.org/api_docs/python/tf/function for  more details.\n",
            "Progress: 100%|██████████| 1649/1649 [16:01<00:00,  1.72it/s]"
          ]
        },
        {
          "output_type": "stream",
          "name": "stdout",
          "text": [
            "GRU Test RMSE : 0.04985\n",
            "GRU Test MAE : 0.03846\n",
            "GRU Elapsed Time To generate Predictions : 961.26955 seconds\n"
          ]
        },
        {
          "output_type": "stream",
          "name": "stderr",
          "text": [
            "\n"
          ]
        }
      ]
    },
    {
      "cell_type": "code",
      "source": [],
      "metadata": {
        "id": "1ZlaWmNc50Ty"
      },
      "execution_count": null,
      "outputs": []
    },
    {
      "cell_type": "markdown",
      "source": [
        "### RNN Model"
      ],
      "metadata": {
        "id": "AU6KBRbL0xm6"
      }
    },
    {
      "cell_type": "markdown",
      "source": [
        "#### Horizon = 2"
      ],
      "metadata": {
        "id": "AzP6iVXR0xm8"
      }
    },
    {
      "cell_type": "code",
      "source": [
        "horizon = 2\n",
        "node1_delay = df[['node1_delay']]\n",
        "node1_delay_dataset = node1_delay.values\n",
        "window_size, slide_size = smooth_ASAP(node1_delay_dataset, resolution=50)\n",
        "print(\"Window Size: \", window_size)\n",
        "\n",
        "denoised_node1_delay_dataset = moving_average(node1_delay_dataset, window_size)\n",
        "\n",
        "# split into train and test sets\n",
        "train_size = int(len(denoised_node1_delay_dataset) * 0.9)\n",
        "test_size = len(denoised_node1_delay_dataset) - train_size\n",
        "train, test = denoised_node1_delay_dataset[0:train_size], denoised_node1_delay_dataset[train_size:]\n",
        "\n",
        "print(len(train), len(test))\n",
        "\n",
        "# reshape into X=t and Y=t+1\n",
        "trainX, trainY = create_multistep_dataset(train, look_back, horizon)\n",
        "testX, testY = create_multistep_dataset(test, look_back, horizon)\n",
        "\n",
        "# reshape input to be [samples, time steps, features]\n",
        "trainX = np.reshape(trainX, (trainX.shape[0], 1, trainX.shape[1]))\n",
        "testX = np.reshape(testX, (testX.shape[0], 1, testX.shape[1]))\n",
        "\n",
        "models, training_elapsed_time = direct_multistep_strategy('rnn', trainX, trainY)\n",
        "\n",
        "print(\"RNN Model Training Elapsed Time : %.5f\" % (training_elapsed_time), \"seconds\")\n",
        "\n",
        "# make predictions\n",
        "testPredict, predictions_elapsed_time = make_predictions(models, testX, horizon)\n",
        "testPredict = np.array(testPredict)\n",
        "\n",
        "testRMSE = np.sqrt(mean_squared_error(testY, testPredict[:len(testY), :]))\n",
        "testMAE = mean_absolute_error(testY, testPredict[:len(testY), :])\n",
        "\n",
        "print('RNN Test RMSE : %.5f' % (testRMSE))\n",
        "print('RNN Test MAE : %.5f' % (testMAE))\n",
        "print(\"RNN Elapsed Time To generate Predictions : %.5f\" % (predictions_elapsed_time), \"seconds\")"
      ],
      "metadata": {
        "colab": {
          "base_uri": "https://localhost:8080/"
        },
        "outputId": "a95cc23d-f6ee-445a-8cf6-64c953848c52",
        "id": "DBL8GUQs0xm8"
      },
      "execution_count": null,
      "outputs": [
        {
          "output_type": "stream",
          "name": "stdout",
          "text": [
            "Window Size:  10\n",
            "17991 2000\n"
          ]
        },
        {
          "output_type": "stream",
          "name": "stderr",
          "text": [
            "\r  0%|          | 0/2 [00:00<?, ?it/s]/usr/local/lib/python3.10/dist-packages/keras/optimizers/legacy/adam.py:117: UserWarning: The `lr` argument is deprecated, use `learning_rate` instead.\n",
            "  super().__init__(name, **kwargs)\n",
            " 50%|█████     | 1/2 [01:27<01:27, 87.80s/it]"
          ]
        },
        {
          "output_type": "stream",
          "name": "stdout",
          "text": [
            "Model Done !\n"
          ]
        },
        {
          "output_type": "stream",
          "name": "stderr",
          "text": [
            "100%|██████████| 2/2 [02:26<00:00, 73.23s/it]\n"
          ]
        },
        {
          "output_type": "stream",
          "name": "stdout",
          "text": [
            "Model Done !\n",
            "All Models Done !\n",
            "RNN Model Training Elapsed Time : 146.39439 seconds\n"
          ]
        },
        {
          "output_type": "stream",
          "name": "stderr",
          "text": [
            "Progress: 100%|██████████| 1657/1657 [03:27<00:00,  7.98it/s]"
          ]
        },
        {
          "output_type": "stream",
          "name": "stdout",
          "text": [
            "RNN Test RMSE : 0.02709\n",
            "RNN Test MAE : 0.02152\n",
            "RNN Elapsed Time To generate Predictions : 207.59370 seconds\n"
          ]
        },
        {
          "output_type": "stream",
          "name": "stderr",
          "text": [
            "\n"
          ]
        }
      ]
    },
    {
      "cell_type": "markdown",
      "source": [
        "#### Horizon = 4"
      ],
      "metadata": {
        "id": "XwqusM0m0xm-"
      }
    },
    {
      "cell_type": "code",
      "source": [
        "horizon = 4\n",
        "node1_delay = df[['node1_delay']]\n",
        "node1_delay_dataset = node1_delay.values\n",
        "window_size, slide_size = smooth_ASAP(node1_delay_dataset, resolution=50)\n",
        "print(\"Window Size: \", window_size)\n",
        "\n",
        "denoised_node1_delay_dataset = moving_average(node1_delay_dataset, window_size)\n",
        "\n",
        "# split into train and test sets\n",
        "train_size = int(len(denoised_node1_delay_dataset) * 0.9)\n",
        "test_size = len(denoised_node1_delay_dataset) - train_size\n",
        "train, test = denoised_node1_delay_dataset[0:train_size], denoised_node1_delay_dataset[train_size:]\n",
        "\n",
        "print(len(train), len(test))\n",
        "\n",
        "# reshape into X=t and Y=t+1\n",
        "trainX, trainY = create_multistep_dataset(train, look_back, horizon)\n",
        "testX, testY = create_multistep_dataset(test, look_back, horizon)\n",
        "\n",
        "# reshape input to be [samples, time steps, features]\n",
        "trainX = np.reshape(trainX, (trainX.shape[0], 1, trainX.shape[1]))\n",
        "testX = np.reshape(testX, (testX.shape[0], 1, testX.shape[1]))\n",
        "\n",
        "models, training_elapsed_time = direct_multistep_strategy('rnn', trainX, trainY)\n",
        "\n",
        "print(\"RNN Model Training Elapsed Time : %.5f\" % (training_elapsed_time), \"seconds\")\n",
        "\n",
        "# make predictions\n",
        "testPredict, predictions_elapsed_time = make_predictions(models, testX, horizon)\n",
        "testPredict = np.array(testPredict)\n",
        "\n",
        "testRMSE = np.sqrt(mean_squared_error(testY, testPredict[:len(testY), :]))\n",
        "testMAE = mean_absolute_error(testY, testPredict[:len(testY), :])\n",
        "\n",
        "print('RNN Test RMSE : %.5f' % (testRMSE))\n",
        "print('RNN Test MAE : %.5f' % (testMAE))\n",
        "print(\"RNN Elapsed Time To generate Predictions : %.5f\" % (predictions_elapsed_time), \"seconds\")"
      ],
      "metadata": {
        "colab": {
          "base_uri": "https://localhost:8080/"
        },
        "outputId": "27d4827c-3421-4031-dd6b-597685e1505b",
        "id": "cMTHdZwV0xm-"
      },
      "execution_count": null,
      "outputs": [
        {
          "output_type": "stream",
          "name": "stdout",
          "text": [
            "Window Size:  10\n",
            "17991 2000\n"
          ]
        },
        {
          "output_type": "stream",
          "name": "stderr",
          "text": [
            "\r  0%|          | 0/4 [00:00<?, ?it/s]/usr/local/lib/python3.10/dist-packages/keras/optimizers/legacy/adam.py:117: UserWarning: The `lr` argument is deprecated, use `learning_rate` instead.\n",
            "  super().__init__(name, **kwargs)\n",
            " 25%|██▌       | 1/4 [00:54<02:42, 54.02s/it]"
          ]
        },
        {
          "output_type": "stream",
          "name": "stdout",
          "text": [
            "Model Done !\n"
          ]
        },
        {
          "output_type": "stream",
          "name": "stderr",
          "text": [
            "\r 50%|█████     | 2/4 [02:17<02:22, 71.48s/it]"
          ]
        },
        {
          "output_type": "stream",
          "name": "stdout",
          "text": [
            "Model Done !\n"
          ]
        },
        {
          "output_type": "stream",
          "name": "stderr",
          "text": [
            "\r 75%|███████▌  | 3/4 [03:10<01:03, 63.12s/it]"
          ]
        },
        {
          "output_type": "stream",
          "name": "stdout",
          "text": [
            "Model Done !\n"
          ]
        },
        {
          "output_type": "stream",
          "name": "stderr",
          "text": [
            "100%|██████████| 4/4 [04:05<00:00, 61.39s/it]\n"
          ]
        },
        {
          "output_type": "stream",
          "name": "stdout",
          "text": [
            "Model Done !\n",
            "All Models Done !\n",
            "RNN Model Training Elapsed Time : 245.49753 seconds\n"
          ]
        },
        {
          "output_type": "stream",
          "name": "stderr",
          "text": [
            "Progress: 100%|██████████| 1655/1655 [06:35<00:00,  4.18it/s]"
          ]
        },
        {
          "output_type": "stream",
          "name": "stdout",
          "text": [
            "RNN Test RMSE : 0.04250\n",
            "RNN Test MAE : 0.03321\n",
            "RNN Elapsed Time To generate Predictions : 395.66879 seconds\n"
          ]
        },
        {
          "output_type": "stream",
          "name": "stderr",
          "text": [
            "\n"
          ]
        }
      ]
    },
    {
      "cell_type": "markdown",
      "source": [
        "#### Horizon = 6"
      ],
      "metadata": {
        "id": "xu9WrUQZ0xm_"
      }
    },
    {
      "cell_type": "code",
      "source": [
        "horizon = 6\n",
        "node1_delay = df[['node1_delay']]\n",
        "node1_delay_dataset = node1_delay.values\n",
        "window_size, slide_size = smooth_ASAP(node1_delay_dataset, resolution=50)\n",
        "print(\"Window Size: \", window_size)\n",
        "\n",
        "denoised_node1_delay_dataset = moving_average(node1_delay_dataset, window_size)\n",
        "\n",
        "# split into train and test sets\n",
        "train_size = int(len(denoised_node1_delay_dataset) * 0.9)\n",
        "test_size = len(denoised_node1_delay_dataset) - train_size\n",
        "train, test = denoised_node1_delay_dataset[0:train_size], denoised_node1_delay_dataset[train_size:]\n",
        "\n",
        "print(len(train), len(test))\n",
        "\n",
        "# reshape into X=t and Y=t+1\n",
        "trainX, trainY = create_multistep_dataset(train, look_back, horizon)\n",
        "testX, testY = create_multistep_dataset(test, look_back, horizon)\n",
        "\n",
        "# reshape input to be [samples, time steps, features]\n",
        "trainX = np.reshape(trainX, (trainX.shape[0], 1, trainX.shape[1]))\n",
        "testX = np.reshape(testX, (testX.shape[0], 1, testX.shape[1]))\n",
        "\n",
        "models, training_elapsed_time = direct_multistep_strategy('rnn', trainX, trainY)\n",
        "\n",
        "print(\"RNN Model Training Elapsed Time : %.5f\" % (training_elapsed_time), \"seconds\")\n",
        "\n",
        "# make predictions\n",
        "testPredict, predictions_elapsed_time = make_predictions(models, testX, horizon)\n",
        "testPredict = np.array(testPredict)\n",
        "\n",
        "testRMSE = np.sqrt(mean_squared_error(testY, testPredict[:len(testY), :]))\n",
        "testMAE = mean_absolute_error(testY, testPredict[:len(testY), :])\n",
        "\n",
        "print('RNN Test RMSE : %.5f' % (testRMSE))\n",
        "print('RNN Test MAE : %.5f' % (testMAE))\n",
        "print(\"RNN Elapsed Time To generate Predictions : %.5f\" % (predictions_elapsed_time), \"seconds\")"
      ],
      "metadata": {
        "colab": {
          "base_uri": "https://localhost:8080/"
        },
        "outputId": "3ce9421b-5d15-4632-90b1-db80c8e949b6",
        "id": "T2rZpdwt0xm_"
      },
      "execution_count": null,
      "outputs": [
        {
          "metadata": {
            "tags": null
          },
          "name": "stdout",
          "output_type": "stream",
          "text": [
            "Window Size:  10\n",
            "17991 2000\n"
          ]
        },
        {
          "metadata": {
            "tags": null
          },
          "name": "stderr",
          "output_type": "stream",
          "text": [
            "  0%|          | 0/6 [00:00<?, ?it/s]/usr/local/lib/python3.10/dist-packages/keras/optimizers/legacy/adam.py:117: UserWarning: The `lr` argument is deprecated, use `learning_rate` instead.\n",
            "  super().__init__(name, **kwargs)\n",
            " 17%|█▋        | 1/6 [01:23<06:57, 83.45s/it]"
          ]
        },
        {
          "metadata": {
            "tags": null
          },
          "name": "stdout",
          "output_type": "stream",
          "text": [
            "Model Done !\n"
          ]
        },
        {
          "metadata": {
            "tags": null
          },
          "name": "stderr",
          "output_type": "stream",
          "text": [
            "\r 33%|███▎      | 2/6 [02:16<04:22, 65.58s/it]"
          ]
        },
        {
          "metadata": {
            "tags": null
          },
          "name": "stdout",
          "output_type": "stream",
          "text": [
            "Model Done !\n"
          ]
        },
        {
          "metadata": {
            "tags": null
          },
          "name": "stderr",
          "output_type": "stream",
          "text": [
            "\r 50%|█████     | 3/6 [03:09<02:59, 59.89s/it]"
          ]
        },
        {
          "metadata": {
            "tags": null
          },
          "name": "stdout",
          "output_type": "stream",
          "text": [
            "Model Done !\n"
          ]
        },
        {
          "output_type": "stream",
          "name": "stderr",
          "text": [
            "\r 67%|██████▋   | 4/6 [04:33<02:18, 69.43s/it]"
          ]
        },
        {
          "output_type": "stream",
          "name": "stdout",
          "text": [
            "Model Done !\n"
          ]
        },
        {
          "output_type": "stream",
          "name": "stderr",
          "text": [
            "\r 83%|████████▎ | 5/6 [05:27<01:03, 63.62s/it]"
          ]
        },
        {
          "output_type": "stream",
          "name": "stdout",
          "text": [
            "Model Done !\n"
          ]
        },
        {
          "output_type": "stream",
          "name": "stderr",
          "text": [
            "100%|██████████| 6/6 [06:50<00:00, 68.41s/it]\n"
          ]
        },
        {
          "output_type": "stream",
          "name": "stdout",
          "text": [
            "Model Done !\n",
            "All Models Done !\n",
            "RNN Model Training Elapsed Time : 410.33898 seconds\n"
          ]
        },
        {
          "output_type": "stream",
          "name": "stderr",
          "text": [
            "Progress: 100%|██████████| 1653/1653 [09:36<00:00,  2.87it/s]"
          ]
        },
        {
          "output_type": "stream",
          "name": "stdout",
          "text": [
            "RNN Test RMSE : 0.05210\n",
            "RNN Test MAE : 0.03914\n",
            "RNN Elapsed Time To generate Predictions : 576.38508 seconds\n"
          ]
        },
        {
          "output_type": "stream",
          "name": "stderr",
          "text": [
            "\n"
          ]
        }
      ]
    },
    {
      "cell_type": "markdown",
      "source": [
        "#### Horizon = 8"
      ],
      "metadata": {
        "id": "dnMOrBdL0xnA"
      }
    },
    {
      "cell_type": "code",
      "source": [
        "horizon = 8\n",
        "node1_delay = df[['node1_delay']]\n",
        "node1_delay_dataset = node1_delay.values\n",
        "window_size, slide_size = smooth_ASAP(node1_delay_dataset, resolution=50)\n",
        "print(\"Window Size: \", window_size)\n",
        "\n",
        "denoised_node1_delay_dataset = moving_average(node1_delay_dataset, window_size)\n",
        "\n",
        "# split into train and test sets\n",
        "train_size = int(len(denoised_node1_delay_dataset) * 0.9)\n",
        "test_size = len(denoised_node1_delay_dataset) - train_size\n",
        "train, test = denoised_node1_delay_dataset[0:train_size], denoised_node1_delay_dataset[train_size:]\n",
        "\n",
        "print(len(train), len(test))\n",
        "\n",
        "# reshape into X=t and Y=t+1\n",
        "trainX, trainY = create_multistep_dataset(train, look_back, horizon)\n",
        "testX, testY = create_multistep_dataset(test, look_back, horizon)\n",
        "\n",
        "# reshape input to be [samples, time steps, features]\n",
        "trainX = np.reshape(trainX, (trainX.shape[0], 1, trainX.shape[1]))\n",
        "testX = np.reshape(testX, (testX.shape[0], 1, testX.shape[1]))\n",
        "\n",
        "models, training_elapsed_time = direct_multistep_strategy('rnn', trainX, trainY)\n",
        "\n",
        "print(\"RNN Model Training Elapsed Time : %.5f\" % (training_elapsed_time), \"seconds\")\n",
        "\n",
        "# make predictions\n",
        "testPredict, predictions_elapsed_time = make_predictions(models, testX, horizon)\n",
        "testPredict = np.array(testPredict)\n",
        "\n",
        "testRMSE = np.sqrt(mean_squared_error(testY, testPredict[:len(testY), :]))\n",
        "testMAE = mean_absolute_error(testY, testPredict[:len(testY), :])\n",
        "\n",
        "print('RNN Test RMSE : %.5f' % (testRMSE))\n",
        "print('RNN Test MAE : %.5f' % (testMAE))\n",
        "print(\"RNN Elapsed Time To generate Predictions : %.5f\" % (predictions_elapsed_time), \"seconds\")"
      ],
      "metadata": {
        "colab": {
          "base_uri": "https://localhost:8080/"
        },
        "outputId": "46743635-0175-4410-ab19-2bf7691ca5ac",
        "id": "TL8r8TUT0xnB"
      },
      "execution_count": null,
      "outputs": [
        {
          "output_type": "stream",
          "name": "stdout",
          "text": [
            "Window Size:  10\n",
            "17991 2000\n"
          ]
        },
        {
          "output_type": "stream",
          "name": "stderr",
          "text": [
            "\r  0%|          | 0/8 [00:00<?, ?it/s]/usr/local/lib/python3.10/dist-packages/keras/optimizers/legacy/adam.py:117: UserWarning: The `lr` argument is deprecated, use `learning_rate` instead.\n",
            "  super().__init__(name, **kwargs)\n",
            " 12%|█▎        | 1/8 [01:24<09:48, 84.04s/it]"
          ]
        },
        {
          "output_type": "stream",
          "name": "stdout",
          "text": [
            "Model Done !\n"
          ]
        },
        {
          "output_type": "stream",
          "name": "stderr",
          "text": [
            "\r 25%|██▌       | 2/8 [02:23<06:57, 69.57s/it]"
          ]
        },
        {
          "output_type": "stream",
          "name": "stdout",
          "text": [
            "Model Done !\n"
          ]
        },
        {
          "output_type": "stream",
          "name": "stderr",
          "text": [
            "\r 38%|███▊      | 3/8 [03:47<06:19, 75.98s/it]"
          ]
        },
        {
          "output_type": "stream",
          "name": "stdout",
          "text": [
            "Model Done !\n"
          ]
        },
        {
          "output_type": "stream",
          "name": "stderr",
          "text": [
            "\r 50%|█████     | 4/8 [04:45<04:36, 69.16s/it]"
          ]
        },
        {
          "output_type": "stream",
          "name": "stdout",
          "text": [
            "Model Done !\n"
          ]
        },
        {
          "output_type": "stream",
          "name": "stderr",
          "text": [
            "\r 62%|██████▎   | 5/8 [06:09<03:43, 74.37s/it]"
          ]
        },
        {
          "output_type": "stream",
          "name": "stdout",
          "text": [
            "Model Done !\n"
          ]
        },
        {
          "output_type": "stream",
          "name": "stderr",
          "text": [
            "\r 75%|███████▌  | 6/8 [07:32<02:34, 77.49s/it]"
          ]
        },
        {
          "output_type": "stream",
          "name": "stdout",
          "text": [
            "Model Done !\n"
          ]
        },
        {
          "output_type": "stream",
          "name": "stderr",
          "text": [
            "\r 88%|████████▊ | 7/8 [08:33<01:11, 71.93s/it]"
          ]
        },
        {
          "output_type": "stream",
          "name": "stdout",
          "text": [
            "Model Done !\n"
          ]
        },
        {
          "output_type": "stream",
          "name": "stderr",
          "text": [
            "100%|██████████| 8/8 [09:57<00:00, 74.64s/it]\n"
          ]
        },
        {
          "output_type": "stream",
          "name": "stdout",
          "text": [
            "Model Done !\n",
            "All Models Done !\n",
            "RNN Model Training Elapsed Time : 596.79121 seconds\n"
          ]
        },
        {
          "output_type": "stream",
          "name": "stderr",
          "text": [
            "\rProgress:   0%|          | 0/1651 [00:00<?, ?it/s]WARNING:tensorflow:5 out of the last 5 calls to <function Model.make_predict_function.<locals>.predict_function at 0x7fd59b5975b0> triggered tf.function retracing. Tracing is expensive and the excessive number of tracings could be due to (1) creating @tf.function repeatedly in a loop, (2) passing tensors with different shapes, (3) passing Python objects instead of tensors. For (1), please define your @tf.function outside of the loop. For (2), @tf.function has reduce_retracing=True option that can avoid unnecessary retracing. For (3), please refer to https://www.tensorflow.org/guide/function#controlling_retracing and https://www.tensorflow.org/api_docs/python/tf/function for  more details.\n",
            "WARNING:tensorflow:6 out of the last 6 calls to <function Model.make_predict_function.<locals>.predict_function at 0x7fd5842bb880> triggered tf.function retracing. Tracing is expensive and the excessive number of tracings could be due to (1) creating @tf.function repeatedly in a loop, (2) passing tensors with different shapes, (3) passing Python objects instead of tensors. For (1), please define your @tf.function outside of the loop. For (2), @tf.function has reduce_retracing=True option that can avoid unnecessary retracing. For (3), please refer to https://www.tensorflow.org/guide/function#controlling_retracing and https://www.tensorflow.org/api_docs/python/tf/function for  more details.\n",
            "Progress: 100%|██████████| 1651/1651 [16:02<00:00,  1.71it/s]"
          ]
        },
        {
          "output_type": "stream",
          "name": "stdout",
          "text": [
            "RNN Test RMSE : 0.05342\n",
            "RNN Test MAE : 0.04076\n",
            "RNN Elapsed Time To generate Predictions : 962.99536 seconds\n"
          ]
        },
        {
          "output_type": "stream",
          "name": "stderr",
          "text": [
            "\n"
          ]
        }
      ]
    },
    {
      "cell_type": "markdown",
      "source": [
        "#### Horizon = 10"
      ],
      "metadata": {
        "id": "dRL7OsOi0xnB"
      }
    },
    {
      "cell_type": "code",
      "source": [
        "horizon = 10\n",
        "node1_delay = df[['node1_delay']]\n",
        "node1_delay_dataset = node1_delay.values\n",
        "window_size, slide_size = smooth_ASAP(node1_delay_dataset, resolution=50)\n",
        "print(\"Window Size: \", window_size)\n",
        "\n",
        "denoised_node1_delay_dataset = moving_average(node1_delay_dataset, window_size)\n",
        "\n",
        "# split into train and test sets\n",
        "train_size = int(len(denoised_node1_delay_dataset) * 0.9)\n",
        "test_size = len(denoised_node1_delay_dataset) - train_size\n",
        "train, test = denoised_node1_delay_dataset[0:train_size], denoised_node1_delay_dataset[train_size:]\n",
        "\n",
        "print(len(train), len(test))\n",
        "\n",
        "# reshape into X=t and Y=t+1\n",
        "trainX, trainY = create_multistep_dataset(train, look_back, horizon)\n",
        "testX, testY = create_multistep_dataset(test, look_back, horizon)\n",
        "\n",
        "# reshape input to be [samples, time steps, features]\n",
        "trainX = np.reshape(trainX, (trainX.shape[0], 1, trainX.shape[1]))\n",
        "testX = np.reshape(testX, (testX.shape[0], 1, testX.shape[1]))\n",
        "\n",
        "models, training_elapsed_time = direct_multistep_strategy('rnn', trainX, trainY)\n",
        "\n",
        "print(\"RNN Model Training Elapsed Time : %.5f\" % (training_elapsed_time), \"seconds\")\n",
        "\n",
        "# make predictions\n",
        "testPredict, predictions_elapsed_time = make_predictions(models, testX, horizon)\n",
        "testPredict = np.array(testPredict)\n",
        "\n",
        "testRMSE = np.sqrt(mean_squared_error(testY, testPredict[:len(testY), :]))\n",
        "testMAE = mean_absolute_error(testY, testPredict[:len(testY), :])\n",
        "\n",
        "print('RNN Test RMSE : %.5f' % (testRMSE))\n",
        "print('RNN Test MAE : %.5f' % (testMAE))\n",
        "print(\"RNN Elapsed Time To generate Predictions : %.5f\" % (predictions_elapsed_time), \"seconds\")"
      ],
      "metadata": {
        "colab": {
          "base_uri": "https://localhost:8080/"
        },
        "outputId": "6f883210-7d7e-4f03-f410-36ab257df085",
        "id": "IJ9BEWDD0xnC"
      },
      "execution_count": null,
      "outputs": [
        {
          "output_type": "stream",
          "name": "stdout",
          "text": [
            "Window Size:  10\n",
            "17991 2000\n"
          ]
        },
        {
          "output_type": "stream",
          "name": "stderr",
          "text": [
            "\r  0%|          | 0/10 [00:00<?, ?it/s]/usr/local/lib/python3.10/dist-packages/keras/optimizers/legacy/adam.py:117: UserWarning: The `lr` argument is deprecated, use `learning_rate` instead.\n",
            "  super().__init__(name, **kwargs)\n",
            " 10%|█         | 1/10 [01:23<12:31, 83.48s/it]"
          ]
        },
        {
          "output_type": "stream",
          "name": "stdout",
          "text": [
            "Model Done !\n"
          ]
        },
        {
          "output_type": "stream",
          "name": "stderr",
          "text": [
            "\r 20%|██        | 2/10 [02:18<08:53, 66.68s/it]"
          ]
        },
        {
          "output_type": "stream",
          "name": "stdout",
          "text": [
            "Model Done !\n"
          ]
        },
        {
          "output_type": "stream",
          "name": "stderr",
          "text": [
            "\r 30%|███       | 3/10 [03:14<07:13, 61.99s/it]"
          ]
        },
        {
          "output_type": "stream",
          "name": "stdout",
          "text": [
            "Model Done !\n"
          ]
        },
        {
          "output_type": "stream",
          "name": "stderr",
          "text": [
            "\r 40%|████      | 4/10 [04:38<07:03, 70.50s/it]"
          ]
        },
        {
          "output_type": "stream",
          "name": "stdout",
          "text": [
            "Model Done !\n"
          ]
        },
        {
          "output_type": "stream",
          "name": "stderr",
          "text": [
            "\r 50%|█████     | 5/10 [06:01<06:15, 75.16s/it]"
          ]
        },
        {
          "output_type": "stream",
          "name": "stdout",
          "text": [
            "Model Done !\n"
          ]
        },
        {
          "output_type": "stream",
          "name": "stderr",
          "text": [
            "\r 60%|██████    | 6/10 [07:25<05:11, 77.97s/it]"
          ]
        },
        {
          "output_type": "stream",
          "name": "stdout",
          "text": [
            "Model Done !\n"
          ]
        },
        {
          "output_type": "stream",
          "name": "stderr",
          "text": [
            "\r 70%|███████   | 7/10 [08:20<03:31, 70.61s/it]"
          ]
        },
        {
          "output_type": "stream",
          "name": "stdout",
          "text": [
            "Model Done !\n"
          ]
        },
        {
          "output_type": "stream",
          "name": "stderr",
          "text": [
            "\r 80%|████████  | 8/10 [09:44<02:29, 74.87s/it]"
          ]
        },
        {
          "output_type": "stream",
          "name": "stdout",
          "text": [
            "Model Done !\n"
          ]
        },
        {
          "output_type": "stream",
          "name": "stderr",
          "text": [
            "\r 90%|█████████ | 9/10 [11:08<01:17, 77.53s/it]"
          ]
        },
        {
          "output_type": "stream",
          "name": "stdout",
          "text": [
            "Model Done !\n"
          ]
        },
        {
          "output_type": "stream",
          "name": "stderr",
          "text": [
            "100%|██████████| 10/10 [12:31<00:00, 75.15s/it]\n"
          ]
        },
        {
          "output_type": "stream",
          "name": "stdout",
          "text": [
            "Model Done !\n",
            "All Models Done !\n",
            "RNN Model Training Elapsed Time : 751.24523 seconds\n"
          ]
        },
        {
          "output_type": "stream",
          "name": "stderr",
          "text": [
            "Progress: 100%|██████████| 1649/1649 [19:55<00:00,  1.38it/s]"
          ]
        },
        {
          "output_type": "stream",
          "name": "stdout",
          "text": [
            "RNN Test RMSE : 0.04991\n",
            "RNN Test MAE : 0.03855\n",
            "RNN Elapsed Time To generate Predictions : 1195.94007 seconds\n"
          ]
        },
        {
          "output_type": "stream",
          "name": "stderr",
          "text": [
            "\n"
          ]
        }
      ]
    },
    {
      "cell_type": "markdown",
      "source": [
        "### ESN Model"
      ],
      "metadata": {
        "id": "hpaHOpLBDngt"
      }
    },
    {
      "cell_type": "code",
      "source": [
        "def direct_multistep_strategy_op_params(trainX, trainY, look_back, n_reservoir, sparsity, spectral_radius, noise):\n",
        "    n = trainY.shape[1]  # Nombre de colonnes de Y (horizons de prévision)\n",
        "    models = []  # Liste pour stocker les modèles entraînés\n",
        "\n",
        "    total_training_elapsed_time = 0\n",
        "    for i in tqdm(range(n)):\n",
        "        y = trainY[:, i]  # Sélectionne la colonne i de Y\n",
        "\n",
        "        # Crée et entraîne le modèle pour l'horizon de prévision i\n",
        "\n",
        "        model = ESN(n_inputs = look_back,\n",
        "            n_outputs = 1,\n",
        "            n_reservoir = n_reservoir,\n",
        "            sparsity=sparsity,\n",
        "            random_state=1234,\n",
        "            spectral_radius=spectral_radius,\n",
        "            noise = noise,\n",
        "            silent = False,\n",
        "            teacher_scaling = 10,\n",
        "          )\n",
        "        # Record the starting time to training the model\n",
        "        training_start_time = time.time()\n",
        "\n",
        "        pred_train = model.fit(trainX, y)\n",
        "\n",
        "        # Record the ending time of training the model\n",
        "        training_end_time = time.time()\n",
        "        training_elapsed_time = training_end_time - training_start_time\n",
        "        total_training_elapsed_time += training_elapsed_time\n",
        "        models.append(model)  # Ajoute le modèle à la liste\n",
        "\n",
        "        print(\"Model Done !\")\n",
        "    return models, total_training_elapsed_time"
      ],
      "metadata": {
        "id": "pWgmMLgGHVAb"
      },
      "execution_count": null,
      "outputs": []
    },
    {
      "cell_type": "code",
      "source": [
        "!pip install -q optuna"
      ],
      "metadata": {
        "colab": {
          "base_uri": "https://localhost:8080/"
        },
        "id": "wuDCy--wJU4L",
        "outputId": "1a1f4be4-e77f-4127-cbb5-74e14ceea935"
      },
      "execution_count": null,
      "outputs": [
        {
          "output_type": "stream",
          "name": "stdout",
          "text": [
            "\u001b[2K     \u001b[90m━━━━━━━━━━━━━━━━━━━━━━━━━━━━━━━━━━━━━━━\u001b[0m \u001b[32m404.2/404.2 kB\u001b[0m \u001b[31m5.5 MB/s\u001b[0m eta \u001b[36m0:00:00\u001b[0m\n",
            "\u001b[2K     \u001b[90m━━━━━━━━━━━━━━━━━━━━━━━━━━━━━━━━━━━━━━━\u001b[0m \u001b[32m226.0/226.0 kB\u001b[0m \u001b[31m9.8 MB/s\u001b[0m eta \u001b[36m0:00:00\u001b[0m\n",
            "\u001b[2K     \u001b[90m━━━━━━━━━━━━━━━━━━━━━━━━━━━━━━━━━━━━━━━━\u001b[0m \u001b[32m78.7/78.7 kB\u001b[0m \u001b[31m5.8 MB/s\u001b[0m eta \u001b[36m0:00:00\u001b[0m\n",
            "\u001b[?25h"
          ]
        }
      ]
    },
    {
      "cell_type": "code",
      "source": [
        "import optuna\n",
        "from optuna.samplers import TPESampler"
      ],
      "metadata": {
        "id": "D3-GxhOsJWtQ"
      },
      "execution_count": null,
      "outputs": []
    },
    {
      "cell_type": "code",
      "source": [
        "horizon = 8\n",
        "node1_delay = df[['node1_delay']]\n",
        "node1_delay_dataset = node1_delay.values\n",
        "window_size, slide_size = smooth_ASAP(node1_delay_dataset, resolution=50)\n",
        "print(\"Window Size: \", window_size)\n",
        "\n",
        "denoised_node1_delay_dataset = moving_average(node1_delay_dataset, window_size)\n",
        "\n",
        "# split into train and test sets\n",
        "train_size = int(len(denoised_node1_delay_dataset) * 0.9)\n",
        "test_size = len(denoised_node1_delay_dataset) - train_size\n",
        "train, test = denoised_node1_delay_dataset[0:train_size], denoised_node1_delay_dataset[train_size:]\n",
        "valid_size = int(len(train) * 0.1)\n",
        "temp_train = train[:-valid_size]\n",
        "valid = train[-valid_size:]\n",
        "print(len(train), len(temp_train), len(valid), len(test))\n",
        "\n",
        "# Define the objective function for Optuna optimization\n",
        "def objective(trial):\n",
        "    # Sample hyperparameters to search\n",
        "\n",
        "    n_reservoir = trial.suggest_int('n_reservoir', 10, 1000)   # -\n",
        "    sparsity = trial.suggest_categorical('sparsity', [0.01, 0.1, 0.2, 0.3, 0.4, 0.5])   # -\n",
        "    spectral_radius = trial.suggest_categorical('spectral_radius', [0.1, 0.2, 0.3, 0.4, 0.5, 0.6, 0.7, 0.8, 0.9, 1, 1.1, 1.25, 10.0])   # - spectral radius of W\n",
        "    noise = trial.suggest_categorical('noise', [0.001, 0.002, 0.003, 0.004, 0.005, 0.006, 0.007, 0.008, 0.009])       # - Noise Set\n",
        "    look_back = trial.suggest_int('look_back', 10, 500)\n",
        "\n",
        "    # reshape into X=t and Y=t+1\n",
        "    trainX, trainY = create_multistep_dataset(temp_train, look_back, horizon)\n",
        "    validX, validY = create_multistep_dataset(valid, look_back, horizon)\n",
        "\n",
        "    # reshape input to be [samples, time steps, features]\n",
        "    trainX = np.reshape(trainX, (trainX.shape[0], trainX.shape[1]))\n",
        "    validX = np.reshape(validX, (validX.shape[0], validX.shape[1]))\n",
        "\n",
        "    models, training_elapsed_time = direct_multistep_strategy_op_params(trainX, trainY, look_back, n_reservoir, sparsity, spectral_radius, noise)\n",
        "\n",
        "    # make predictions\n",
        "    testPredict, predictions_elapsed_time = make_predictions(models, validX, horizon, model='esn')\n",
        "    testPredict = np.array(testPredict)\n",
        "\n",
        "    testRMSE = np.sqrt(mean_squared_error(validY, testPredict[:len(validY), :]))\n",
        "\n",
        "    return testRMSE\n",
        "\n",
        "\n",
        "# Create the Optuna study\n",
        "study = optuna.create_study(direction='minimize')\n",
        "\n",
        "# Record the starting time to generate predictions\n",
        "start_time = time.time()\n",
        "\n",
        "# Run the optimization\n",
        "study.optimize(objective, n_trials=100)\n",
        "\n",
        "# Record the ending time\n",
        "end_time = time.time()\n",
        "elapsed_time = end_time - start_time\n",
        "\n",
        "print('done')\n",
        "print(\"ESN HyperParameters Tuning Elapsed Time : %.5f\" % (elapsed_time), \"seconds\")\n",
        "\n",
        "# Print the best parameters and corresponding loss\n",
        "best_params = study.best_params\n",
        "best_loss = study.best_value\n",
        "print(\"Best Parameters: \", best_params)\n",
        "print(\"Best Loss: \", best_loss)"
      ],
      "metadata": {
        "colab": {
          "base_uri": "https://localhost:8080/"
        },
        "id": "tmTG-iGnIWhf",
        "outputId": "00d4b936-14c3-4ddf-b932-b90de4975bcb"
      },
      "execution_count": null,
      "outputs": [
        {
          "metadata": {
            "tags": null
          },
          "name": "stderr",
          "output_type": "stream",
          "text": [
            "[I 2023-09-04 07:49:32,967] A new study created in memory with name: no-name-3ff1f0bd-8b59-4633-bd99-9a05a02201eb\n"
          ]
        },
        {
          "metadata": {
            "tags": null
          },
          "name": "stdout",
          "output_type": "stream",
          "text": [
            "Window Size:  10\n",
            "17991 16192 1799 2000\n"
          ]
        },
        {
          "metadata": {
            "tags": null
          },
          "name": "stderr",
          "output_type": "stream",
          "text": [
            "\r  0%|          | 0/8 [00:00<?, ?it/s]"
          ]
        },
        {
          "metadata": {
            "tags": null
          },
          "name": "stdout",
          "output_type": "stream",
          "text": [
            "harvesting states...\n",
            "fitting...\n"
          ]
        },
        {
          "metadata": {
            "tags": null
          },
          "name": "stderr",
          "output_type": "stream",
          "text": [
            "\r 12%|█▎        | 1/8 [00:08<00:56,  8.05s/it]"
          ]
        },
        {
          "metadata": {
            "tags": null
          },
          "name": "stdout",
          "output_type": "stream",
          "text": [
            "training error:\n",
            "0.015153987911823312\n",
            "Model Done !\n",
            "harvesting states...\n",
            "fitting...\n"
          ]
        },
        {
          "metadata": {
            "tags": null
          },
          "name": "stderr",
          "output_type": "stream",
          "text": [
            "\r 25%|██▌       | 2/8 [00:16<00:50,  8.41s/it]"
          ]
        },
        {
          "metadata": {
            "tags": null
          },
          "name": "stdout",
          "output_type": "stream",
          "text": [
            "training error:\n",
            "0.015286036915949269\n",
            "Model Done !\n",
            "harvesting states...\n",
            "fitting...\n"
          ]
        },
        {
          "metadata": {
            "tags": null
          },
          "name": "stderr",
          "output_type": "stream",
          "text": [
            "\r 38%|███▊      | 3/8 [00:25<00:42,  8.49s/it]"
          ]
        },
        {
          "metadata": {
            "tags": null
          },
          "name": "stdout",
          "output_type": "stream",
          "text": [
            "training error:\n",
            "0.015298635839185108\n",
            "Model Done !\n",
            "harvesting states...\n",
            "fitting...\n"
          ]
        },
        {
          "metadata": {
            "tags": null
          },
          "name": "stderr",
          "output_type": "stream",
          "text": [
            "\r 50%|█████     | 4/8 [00:33<00:33,  8.31s/it]"
          ]
        },
        {
          "metadata": {
            "tags": null
          },
          "name": "stdout",
          "output_type": "stream",
          "text": [
            "training error:\n",
            "0.015266669680780354\n",
            "Model Done !\n",
            "harvesting states...\n",
            "fitting...\n"
          ]
        },
        {
          "metadata": {
            "tags": null
          },
          "name": "stderr",
          "output_type": "stream",
          "text": [
            "\r 62%|██████▎   | 5/8 [00:42<00:25,  8.44s/it]"
          ]
        },
        {
          "metadata": {
            "tags": null
          },
          "name": "stdout",
          "output_type": "stream",
          "text": [
            "training error:\n",
            "0.015223724674582453\n",
            "Model Done !\n",
            "harvesting states...\n",
            "fitting...\n"
          ]
        },
        {
          "metadata": {
            "tags": null
          },
          "name": "stderr",
          "output_type": "stream",
          "text": [
            "\r 75%|███████▌  | 6/8 [00:51<00:17,  8.65s/it]"
          ]
        },
        {
          "metadata": {
            "tags": null
          },
          "name": "stdout",
          "output_type": "stream",
          "text": [
            "training error:\n",
            "0.015235629752916353\n",
            "Model Done !\n",
            "harvesting states...\n",
            "fitting...\n"
          ]
        },
        {
          "metadata": {
            "tags": null
          },
          "name": "stderr",
          "output_type": "stream",
          "text": [
            "\r 88%|████████▊ | 7/8 [00:58<00:08,  8.20s/it]"
          ]
        },
        {
          "metadata": {
            "tags": null
          },
          "name": "stdout",
          "output_type": "stream",
          "text": [
            "training error:\n",
            "0.015229761032122842\n",
            "Model Done !\n",
            "harvesting states...\n",
            "fitting...\n"
          ]
        },
        {
          "metadata": {
            "tags": null
          },
          "name": "stderr",
          "output_type": "stream",
          "text": [
            "100%|██████████| 8/8 [01:02<00:00,  7.86s/it]\n"
          ]
        },
        {
          "metadata": {
            "tags": null
          },
          "name": "stdout",
          "output_type": "stream",
          "text": [
            "training error:\n",
            "0.015242222560295905\n",
            "Model Done !\n"
          ]
        },
        {
          "metadata": {
            "tags": null
          },
          "name": "stderr",
          "output_type": "stream",
          "text": [
            "Progress: 100%|██████████| 1515/1515 [00:04<00:00, 323.82it/s]\n",
            "[I 2023-09-04 07:50:40,645] Trial 0 finished with value: 0.07922002962525516 and parameters: {'n_reservoir': 375, 'sparsity': 0.2, 'spectral_radius': 0.1, 'noise': 0.005, 'look_back': 277}. Best is trial 0 with value: 0.07922002962525516.\n",
            "  0%|          | 0/8 [00:00<?, ?it/s]"
          ]
        },
        {
          "metadata": {
            "tags": null
          },
          "name": "stdout",
          "output_type": "stream",
          "text": [
            "harvesting states...\n",
            "fitting...\n"
          ]
        },
        {
          "metadata": {
            "tags": null
          },
          "name": "stderr",
          "output_type": "stream",
          "text": [
            "\r 12%|█▎        | 1/8 [00:03<00:24,  3.45s/it]"
          ]
        },
        {
          "metadata": {
            "tags": null
          },
          "name": "stdout",
          "output_type": "stream",
          "text": [
            "training error:\n",
            "0.01506185249893684\n",
            "Model Done !\n",
            "harvesting states...\n",
            "fitting...\n"
          ]
        },
        {
          "metadata": {
            "tags": null
          },
          "name": "stderr",
          "output_type": "stream",
          "text": [
            "\r 25%|██▌       | 2/8 [00:07<00:21,  3.55s/it]"
          ]
        },
        {
          "metadata": {
            "tags": null
          },
          "name": "stdout",
          "output_type": "stream",
          "text": [
            "training error:\n",
            "0.015716744038112112\n",
            "Model Done !\n",
            "harvesting states...\n",
            "fitting...\n"
          ]
        },
        {
          "metadata": {
            "tags": null
          },
          "name": "stderr",
          "output_type": "stream",
          "text": [
            "\r 38%|███▊      | 3/8 [00:11<00:20,  4.04s/it]"
          ]
        },
        {
          "metadata": {
            "tags": null
          },
          "name": "stdout",
          "output_type": "stream",
          "text": [
            "training error:\n",
            "0.01575651207265238\n",
            "Model Done !\n",
            "harvesting states...\n",
            "fitting...\n"
          ]
        },
        {
          "metadata": {
            "tags": null
          },
          "name": "stderr",
          "output_type": "stream",
          "text": [
            "\r 50%|█████     | 4/8 [00:15<00:15,  3.79s/it]"
          ]
        },
        {
          "metadata": {
            "tags": null
          },
          "name": "stdout",
          "output_type": "stream",
          "text": [
            "training error:\n",
            "0.015793501719624473\n",
            "Model Done !\n",
            "harvesting states...\n",
            "fitting...\n"
          ]
        },
        {
          "metadata": {
            "tags": null
          },
          "name": "stderr",
          "output_type": "stream",
          "text": [
            "\r 62%|██████▎   | 5/8 [00:18<00:10,  3.65s/it]"
          ]
        },
        {
          "metadata": {
            "tags": null
          },
          "name": "stdout",
          "output_type": "stream",
          "text": [
            "training error:\n",
            "0.01580910881376788\n",
            "Model Done !\n",
            "harvesting states...\n",
            "fitting...\n"
          ]
        },
        {
          "metadata": {
            "tags": null
          },
          "name": "stderr",
          "output_type": "stream",
          "text": [
            "\r 75%|███████▌  | 6/8 [00:22<00:07,  3.81s/it]"
          ]
        },
        {
          "metadata": {
            "tags": null
          },
          "name": "stdout",
          "output_type": "stream",
          "text": [
            "training error:\n",
            "0.015812285092559376\n",
            "Model Done !\n",
            "harvesting states...\n",
            "fitting...\n"
          ]
        },
        {
          "metadata": {
            "tags": null
          },
          "name": "stderr",
          "output_type": "stream",
          "text": [
            "\r 88%|████████▊ | 7/8 [00:26<00:03,  3.99s/it]"
          ]
        },
        {
          "metadata": {
            "tags": null
          },
          "name": "stdout",
          "output_type": "stream",
          "text": [
            "training error:\n",
            "0.015816162927452106\n",
            "Model Done !\n",
            "harvesting states...\n",
            "fitting...\n"
          ]
        },
        {
          "metadata": {
            "tags": null
          },
          "name": "stderr",
          "output_type": "stream",
          "text": [
            "100%|██████████| 8/8 [00:30<00:00,  3.80s/it]\n"
          ]
        },
        {
          "metadata": {
            "tags": null
          },
          "name": "stdout",
          "output_type": "stream",
          "text": [
            "training error:\n",
            "0.01581900786827713\n",
            "Model Done !\n"
          ]
        },
        {
          "metadata": {
            "tags": null
          },
          "name": "stderr",
          "output_type": "stream",
          "text": [
            "Progress: 100%|██████████| 1340/1340 [00:02<00:00, 497.47it/s]\n",
            "[I 2023-09-04 07:51:13,886] Trial 1 finished with value: 0.07917065243947749 and parameters: {'n_reservoir': 201, 'sparsity': 0.1, 'spectral_radius': 0.7, 'noise': 0.001, 'look_back': 452}. Best is trial 1 with value: 0.07917065243947749.\n",
            "  0%|          | 0/8 [00:00<?, ?it/s]"
          ]
        },
        {
          "metadata": {
            "tags": null
          },
          "name": "stdout",
          "output_type": "stream",
          "text": [
            "harvesting states...\n",
            "fitting...\n"
          ]
        },
        {
          "metadata": {
            "tags": null
          },
          "name": "stderr",
          "output_type": "stream",
          "text": [
            "\r 12%|█▎        | 1/8 [00:08<00:56,  8.03s/it]"
          ]
        },
        {
          "metadata": {
            "tags": null
          },
          "name": "stdout",
          "output_type": "stream",
          "text": [
            "training error:\n",
            "0.015183610032309242\n",
            "Model Done !\n",
            "harvesting states...\n",
            "fitting...\n"
          ]
        },
        {
          "metadata": {
            "tags": null
          },
          "name": "stderr",
          "output_type": "stream",
          "text": [
            "\r 25%|██▌       | 2/8 [00:14<00:41,  6.96s/it]"
          ]
        },
        {
          "metadata": {
            "tags": null
          },
          "name": "stdout",
          "output_type": "stream",
          "text": [
            "training error:\n",
            "0.021196643383397096\n",
            "Model Done !\n",
            "harvesting states...\n",
            "fitting...\n"
          ]
        },
        {
          "metadata": {
            "tags": null
          },
          "name": "stderr",
          "output_type": "stream",
          "text": [
            "\r 38%|███▊      | 3/8 [00:21<00:36,  7.32s/it]"
          ]
        },
        {
          "metadata": {
            "tags": null
          },
          "name": "stdout",
          "output_type": "stream",
          "text": [
            "training error:\n",
            "0.02533837187660512\n",
            "Model Done !\n",
            "harvesting states...\n",
            "fitting...\n"
          ]
        },
        {
          "metadata": {
            "tags": null
          },
          "name": "stderr",
          "output_type": "stream",
          "text": [
            "\r 50%|█████     | 4/8 [00:29<00:29,  7.33s/it]"
          ]
        },
        {
          "metadata": {
            "tags": null
          },
          "name": "stdout",
          "output_type": "stream",
          "text": [
            "training error:\n",
            "0.028306469231475558\n",
            "Model Done !\n",
            "harvesting states...\n",
            "fitting...\n"
          ]
        },
        {
          "metadata": {
            "tags": null
          },
          "name": "stderr",
          "output_type": "stream",
          "text": [
            "\r 62%|██████▎   | 5/8 [00:36<00:21,  7.18s/it]"
          ]
        },
        {
          "metadata": {
            "tags": null
          },
          "name": "stdout",
          "output_type": "stream",
          "text": [
            "training error:\n",
            "0.03090856326946386\n",
            "Model Done !\n",
            "harvesting states...\n",
            "fitting...\n"
          ]
        },
        {
          "metadata": {
            "tags": null
          },
          "name": "stderr",
          "output_type": "stream",
          "text": [
            "\r 75%|███████▌  | 6/8 [00:43<00:14,  7.27s/it]"
          ]
        },
        {
          "metadata": {
            "tags": null
          },
          "name": "stdout",
          "output_type": "stream",
          "text": [
            "training error:\n",
            "0.03289950342629826\n",
            "Model Done !\n",
            "harvesting states...\n",
            "fitting...\n"
          ]
        },
        {
          "metadata": {
            "tags": null
          },
          "name": "stderr",
          "output_type": "stream",
          "text": [
            "\r 88%|████████▊ | 7/8 [00:49<00:06,  6.95s/it]"
          ]
        },
        {
          "metadata": {
            "tags": null
          },
          "name": "stdout",
          "output_type": "stream",
          "text": [
            "training error:\n",
            "0.03437997891900575\n",
            "Model Done !\n",
            "harvesting states...\n",
            "fitting...\n"
          ]
        },
        {
          "metadata": {
            "tags": null
          },
          "name": "stderr",
          "output_type": "stream",
          "text": [
            "100%|██████████| 8/8 [00:57<00:00,  7.23s/it]\n"
          ]
        },
        {
          "metadata": {
            "tags": null
          },
          "name": "stdout",
          "output_type": "stream",
          "text": [
            "training error:\n",
            "0.03548100013569158\n",
            "Model Done !\n"
          ]
        },
        {
          "metadata": {
            "tags": null
          },
          "name": "stderr",
          "output_type": "stream",
          "text": [
            "Progress: 100%|██████████| 1594/1594 [00:04<00:00, 355.20it/s]\n",
            "[I 2023-09-04 07:52:16,390] Trial 2 finished with value: 0.05901372581437277 and parameters: {'n_reservoir': 561, 'sparsity': 0.2, 'spectral_radius': 10.0, 'noise': 0.003, 'look_back': 198}. Best is trial 2 with value: 0.05901372581437277.\n",
            "  0%|          | 0/8 [00:00<?, ?it/s]"
          ]
        },
        {
          "metadata": {
            "tags": null
          },
          "name": "stdout",
          "output_type": "stream",
          "text": [
            "harvesting states...\n",
            "fitting...\n"
          ]
        },
        {
          "metadata": {
            "tags": null
          },
          "name": "stderr",
          "output_type": "stream",
          "text": [
            "\r 12%|█▎        | 1/8 [00:01<00:10,  1.55s/it]"
          ]
        },
        {
          "metadata": {
            "tags": null
          },
          "name": "stdout",
          "output_type": "stream",
          "text": [
            "training error:\n",
            "0.015734138866019015\n",
            "Model Done !\n",
            "harvesting states...\n",
            "fitting...\n"
          ]
        },
        {
          "metadata": {
            "tags": null
          },
          "name": "stderr",
          "output_type": "stream",
          "text": [
            "\r 25%|██▌       | 2/8 [00:03<00:09,  1.50s/it]"
          ]
        },
        {
          "metadata": {
            "tags": null
          },
          "name": "stdout",
          "output_type": "stream",
          "text": [
            "training error:\n",
            "0.015837169966607292\n",
            "Model Done !\n",
            "harvesting states...\n",
            "fitting...\n"
          ]
        },
        {
          "metadata": {
            "tags": null
          },
          "name": "stderr",
          "output_type": "stream",
          "text": [
            "\r 38%|███▊      | 3/8 [00:04<00:07,  1.50s/it]"
          ]
        },
        {
          "metadata": {
            "tags": null
          },
          "name": "stdout",
          "output_type": "stream",
          "text": [
            "training error:\n",
            "0.015834094261676628\n",
            "Model Done !\n",
            "harvesting states...\n",
            "fitting...\n"
          ]
        },
        {
          "metadata": {
            "tags": null
          },
          "name": "stderr",
          "output_type": "stream",
          "text": [
            "\r 50%|█████     | 4/8 [00:07<00:08,  2.04s/it]"
          ]
        },
        {
          "metadata": {
            "tags": null
          },
          "name": "stdout",
          "output_type": "stream",
          "text": [
            "training error:\n",
            "0.01585454028295788\n",
            "Model Done !\n",
            "harvesting states...\n",
            "fitting...\n"
          ]
        },
        {
          "metadata": {
            "tags": null
          },
          "name": "stderr",
          "output_type": "stream",
          "text": [
            "\r 62%|██████▎   | 5/8 [00:09<00:05,  1.89s/it]"
          ]
        },
        {
          "metadata": {
            "tags": null
          },
          "name": "stdout",
          "output_type": "stream",
          "text": [
            "training error:\n",
            "0.015872445538070008\n",
            "Model Done !\n",
            "harvesting states...\n",
            "fitting...\n"
          ]
        },
        {
          "metadata": {
            "tags": null
          },
          "name": "stderr",
          "output_type": "stream",
          "text": [
            "\r 75%|███████▌  | 6/8 [00:10<00:03,  1.73s/it]"
          ]
        },
        {
          "metadata": {
            "tags": null
          },
          "name": "stdout",
          "output_type": "stream",
          "text": [
            "training error:\n",
            "0.01585851386034731\n",
            "Model Done !\n",
            "harvesting states...\n",
            "fitting...\n"
          ]
        },
        {
          "metadata": {
            "tags": null
          },
          "name": "stderr",
          "output_type": "stream",
          "text": [
            "\r 88%|████████▊ | 7/8 [00:11<00:01,  1.64s/it]"
          ]
        },
        {
          "metadata": {
            "tags": null
          },
          "name": "stdout",
          "output_type": "stream",
          "text": [
            "training error:\n",
            "0.015879225748913033\n",
            "Model Done !\n",
            "harvesting states...\n",
            "fitting...\n"
          ]
        },
        {
          "metadata": {
            "tags": null
          },
          "name": "stderr",
          "output_type": "stream",
          "text": [
            "100%|██████████| 8/8 [00:13<00:00,  1.67s/it]\n"
          ]
        },
        {
          "metadata": {
            "tags": null
          },
          "name": "stdout",
          "output_type": "stream",
          "text": [
            "training error:\n",
            "0.015895626219291324\n",
            "Model Done !\n"
          ]
        },
        {
          "metadata": {
            "tags": null
          },
          "name": "stderr",
          "output_type": "stream",
          "text": [
            "Progress: 100%|██████████| 1699/1699 [00:01<00:00, 895.17it/s]\n",
            "[I 2023-09-04 07:52:31,717] Trial 3 finished with value: 0.07076985084800348 and parameters: {'n_reservoir': 200, 'sparsity': 0.4, 'spectral_radius': 1.1, 'noise': 0.004, 'look_back': 93}. Best is trial 2 with value: 0.05901372581437277.\n",
            "  0%|          | 0/8 [00:00<?, ?it/s]"
          ]
        },
        {
          "metadata": {
            "tags": null
          },
          "name": "stdout",
          "output_type": "stream",
          "text": [
            "harvesting states...\n",
            "fitting...\n"
          ]
        },
        {
          "metadata": {
            "tags": null
          },
          "name": "stderr",
          "output_type": "stream",
          "text": [
            "\r 12%|█▎        | 1/8 [00:01<00:12,  1.83s/it]"
          ]
        },
        {
          "metadata": {
            "tags": null
          },
          "name": "stdout",
          "output_type": "stream",
          "text": [
            "training error:\n",
            "0.015274994848613313\n",
            "Model Done !\n",
            "harvesting states...\n",
            "fitting...\n"
          ]
        },
        {
          "metadata": {
            "tags": null
          },
          "name": "stderr",
          "output_type": "stream",
          "text": [
            "\r 25%|██▌       | 2/8 [00:04<00:12,  2.13s/it]"
          ]
        },
        {
          "metadata": {
            "tags": null
          },
          "name": "stdout",
          "output_type": "stream",
          "text": [
            "training error:\n",
            "0.015618504328010985\n",
            "Model Done !\n",
            "harvesting states...\n",
            "fitting...\n"
          ]
        },
        {
          "metadata": {
            "tags": null
          },
          "name": "stderr",
          "output_type": "stream",
          "text": [
            "\r 38%|███▊      | 3/8 [00:06<00:11,  2.28s/it]"
          ]
        },
        {
          "metadata": {
            "tags": null
          },
          "name": "stdout",
          "output_type": "stream",
          "text": [
            "training error:\n",
            "0.015649055248632388\n",
            "Model Done !\n",
            "harvesting states...\n",
            "fitting...\n"
          ]
        },
        {
          "metadata": {
            "tags": null
          },
          "name": "stderr",
          "output_type": "stream",
          "text": [
            "\r 50%|█████     | 4/8 [00:08<00:08,  2.14s/it]"
          ]
        },
        {
          "metadata": {
            "tags": null
          },
          "name": "stdout",
          "output_type": "stream",
          "text": [
            "training error:\n",
            "0.015694299059344254\n",
            "Model Done !\n",
            "harvesting states...\n",
            "fitting...\n"
          ]
        },
        {
          "metadata": {
            "tags": null
          },
          "name": "stderr",
          "output_type": "stream",
          "text": [
            "\r 62%|██████▎   | 5/8 [00:10<00:05,  1.98s/it]"
          ]
        },
        {
          "metadata": {
            "tags": null
          },
          "name": "stdout",
          "output_type": "stream",
          "text": [
            "training error:\n",
            "0.015713993282156297\n",
            "Model Done !\n",
            "harvesting states...\n",
            "fitting...\n"
          ]
        },
        {
          "metadata": {
            "tags": null
          },
          "name": "stderr",
          "output_type": "stream",
          "text": [
            "\r 75%|███████▌  | 6/8 [00:11<00:03,  1.89s/it]"
          ]
        },
        {
          "metadata": {
            "tags": null
          },
          "name": "stdout",
          "output_type": "stream",
          "text": [
            "training error:\n",
            "0.015696475071924874\n",
            "Model Done !\n",
            "harvesting states...\n",
            "fitting...\n"
          ]
        },
        {
          "metadata": {
            "tags": null
          },
          "name": "stderr",
          "output_type": "stream",
          "text": [
            "\r 88%|████████▊ | 7/8 [00:13<00:01,  1.84s/it]"
          ]
        },
        {
          "metadata": {
            "tags": null
          },
          "name": "stdout",
          "output_type": "stream",
          "text": [
            "training error:\n",
            "0.015694578436022632\n",
            "Model Done !\n",
            "harvesting states...\n",
            "fitting...\n"
          ]
        },
        {
          "metadata": {
            "tags": null
          },
          "name": "stderr",
          "output_type": "stream",
          "text": [
            "100%|██████████| 8/8 [00:15<00:00,  1.93s/it]\n"
          ]
        },
        {
          "metadata": {
            "tags": null
          },
          "name": "stdout",
          "output_type": "stream",
          "text": [
            "training error:\n",
            "0.015720620371418602\n",
            "Model Done !\n"
          ]
        },
        {
          "metadata": {
            "tags": null
          },
          "name": "stderr",
          "output_type": "stream",
          "text": [
            "Progress: 100%|██████████| 1533/1533 [00:03<00:00, 433.52it/s]\n",
            "[I 2023-09-04 07:52:50,771] Trial 4 finished with value: 0.07729383679657247 and parameters: {'n_reservoir': 143, 'sparsity': 0.01, 'spectral_radius': 0.9, 'noise': 0.008, 'look_back': 259}. Best is trial 2 with value: 0.05901372581437277.\n",
            "  0%|          | 0/8 [00:00<?, ?it/s]"
          ]
        },
        {
          "metadata": {
            "tags": null
          },
          "name": "stdout",
          "output_type": "stream",
          "text": [
            "harvesting states...\n",
            "fitting...\n"
          ]
        },
        {
          "metadata": {
            "tags": null
          },
          "name": "stderr",
          "output_type": "stream",
          "text": [
            "\r 12%|█▎        | 1/8 [00:06<00:46,  6.61s/it]"
          ]
        },
        {
          "metadata": {
            "tags": null
          },
          "name": "stdout",
          "output_type": "stream",
          "text": [
            "training error:\n",
            "0.015098148686235045\n",
            "Model Done !\n",
            "harvesting states...\n",
            "fitting...\n"
          ]
        },
        {
          "metadata": {
            "tags": null
          },
          "name": "stderr",
          "output_type": "stream",
          "text": [
            "\r 25%|██▌       | 2/8 [00:14<00:44,  7.42s/it]"
          ]
        },
        {
          "metadata": {
            "tags": null
          },
          "name": "stdout",
          "output_type": "stream",
          "text": [
            "training error:\n",
            "0.015170666617464175\n",
            "Model Done !\n",
            "harvesting states...\n",
            "fitting...\n"
          ]
        },
        {
          "metadata": {
            "tags": null
          },
          "name": "stderr",
          "output_type": "stream",
          "text": [
            "\r 38%|███▊      | 3/8 [00:21<00:35,  7.14s/it]"
          ]
        },
        {
          "metadata": {
            "tags": null
          },
          "name": "stdout",
          "output_type": "stream",
          "text": [
            "training error:\n",
            "0.015168930769482353\n",
            "Model Done !\n",
            "harvesting states...\n",
            "fitting...\n"
          ]
        },
        {
          "metadata": {
            "tags": null
          },
          "name": "stderr",
          "output_type": "stream",
          "text": [
            "\r 50%|█████     | 4/8 [00:29<00:29,  7.42s/it]"
          ]
        },
        {
          "metadata": {
            "tags": null
          },
          "name": "stdout",
          "output_type": "stream",
          "text": [
            "training error:\n",
            "0.015214082436520759\n",
            "Model Done !\n",
            "harvesting states...\n",
            "fitting...\n"
          ]
        },
        {
          "metadata": {
            "tags": null
          },
          "name": "stderr",
          "output_type": "stream",
          "text": [
            "\r 62%|██████▎   | 5/8 [00:35<00:21,  7.10s/it]"
          ]
        },
        {
          "metadata": {
            "tags": null
          },
          "name": "stdout",
          "output_type": "stream",
          "text": [
            "training error:\n",
            "0.015240207525152089\n",
            "Model Done !\n",
            "harvesting states...\n",
            "fitting...\n"
          ]
        },
        {
          "metadata": {
            "tags": null
          },
          "name": "stderr",
          "output_type": "stream",
          "text": [
            "\r 75%|███████▌  | 6/8 [00:43<00:14,  7.38s/it]"
          ]
        },
        {
          "metadata": {
            "tags": null
          },
          "name": "stdout",
          "output_type": "stream",
          "text": [
            "training error:\n",
            "0.015206704122728369\n",
            "Model Done !\n",
            "harvesting states...\n",
            "fitting...\n"
          ]
        },
        {
          "metadata": {
            "tags": null
          },
          "name": "stderr",
          "output_type": "stream",
          "text": [
            "\r 88%|████████▊ | 7/8 [00:51<00:07,  7.56s/it]"
          ]
        },
        {
          "metadata": {
            "tags": null
          },
          "name": "stdout",
          "output_type": "stream",
          "text": [
            "training error:\n",
            "0.0152025467307922\n",
            "Model Done !\n",
            "harvesting states...\n",
            "fitting...\n"
          ]
        },
        {
          "metadata": {
            "tags": null
          },
          "name": "stderr",
          "output_type": "stream",
          "text": [
            "100%|██████████| 8/8 [00:58<00:00,  7.30s/it]\n"
          ]
        },
        {
          "metadata": {
            "tags": null
          },
          "name": "stdout",
          "output_type": "stream",
          "text": [
            "training error:\n",
            "0.015163782844106587\n",
            "Model Done !\n"
          ]
        },
        {
          "metadata": {
            "tags": null
          },
          "name": "stderr",
          "output_type": "stream",
          "text": [
            "Progress: 100%|██████████| 1538/1538 [00:04<00:00, 319.97it/s]\n",
            "[I 2023-09-04 07:53:54,160] Trial 5 finished with value: 0.07969297978476082 and parameters: {'n_reservoir': 540, 'sparsity': 0.2, 'spectral_radius': 0.7, 'noise': 0.004, 'look_back': 254}. Best is trial 2 with value: 0.05901372581437277.\n",
            "  0%|          | 0/8 [00:00<?, ?it/s]"
          ]
        },
        {
          "metadata": {
            "tags": null
          },
          "name": "stdout",
          "output_type": "stream",
          "text": [
            "harvesting states...\n",
            "fitting...\n"
          ]
        },
        {
          "metadata": {
            "tags": null
          },
          "name": "stderr",
          "output_type": "stream",
          "text": [
            "\r 12%|█▎        | 1/8 [00:04<00:33,  4.84s/it]"
          ]
        },
        {
          "metadata": {
            "tags": null
          },
          "name": "stdout",
          "output_type": "stream",
          "text": [
            "training error:\n",
            "0.01532334526606418\n",
            "Model Done !\n",
            "harvesting states...\n",
            "fitting...\n"
          ]
        },
        {
          "metadata": {
            "tags": null
          },
          "name": "stderr",
          "output_type": "stream",
          "text": [
            "\r 25%|██▌       | 2/8 [00:08<00:24,  4.12s/it]"
          ]
        },
        {
          "metadata": {
            "tags": null
          },
          "name": "stdout",
          "output_type": "stream",
          "text": [
            "training error:\n",
            "0.015386294775134902\n",
            "Model Done !\n",
            "harvesting states...\n",
            "fitting...\n"
          ]
        },
        {
          "metadata": {
            "tags": null
          },
          "name": "stderr",
          "output_type": "stream",
          "text": [
            "\r 38%|███▊      | 3/8 [00:12<00:19,  3.89s/it]"
          ]
        },
        {
          "metadata": {
            "tags": null
          },
          "name": "stdout",
          "output_type": "stream",
          "text": [
            "training error:\n",
            "0.015392308789478124\n",
            "Model Done !\n",
            "harvesting states...\n",
            "fitting...\n"
          ]
        },
        {
          "metadata": {
            "tags": null
          },
          "name": "stderr",
          "output_type": "stream",
          "text": [
            "\r 50%|█████     | 4/8 [00:17<00:17,  4.40s/it]"
          ]
        },
        {
          "metadata": {
            "tags": null
          },
          "name": "stdout",
          "output_type": "stream",
          "text": [
            "training error:\n",
            "0.015385376560887277\n",
            "Model Done !\n",
            "harvesting states...\n",
            "fitting...\n"
          ]
        },
        {
          "metadata": {
            "tags": null
          },
          "name": "stderr",
          "output_type": "stream",
          "text": [
            "\r 62%|██████▎   | 5/8 [00:20<00:12,  4.14s/it]"
          ]
        },
        {
          "metadata": {
            "tags": null
          },
          "name": "stdout",
          "output_type": "stream",
          "text": [
            "training error:\n",
            "0.015380699957629265\n",
            "Model Done !\n",
            "harvesting states...\n",
            "fitting...\n"
          ]
        },
        {
          "metadata": {
            "tags": null
          },
          "name": "stderr",
          "output_type": "stream",
          "text": [
            "\r 75%|███████▌  | 6/8 [00:24<00:07,  3.95s/it]"
          ]
        },
        {
          "metadata": {
            "tags": null
          },
          "name": "stdout",
          "output_type": "stream",
          "text": [
            "training error:\n",
            "0.01532877141148764\n",
            "Model Done !\n",
            "harvesting states...\n",
            "fitting...\n"
          ]
        },
        {
          "metadata": {
            "tags": null
          },
          "name": "stderr",
          "output_type": "stream",
          "text": [
            "\r 88%|████████▊ | 7/8 [00:29<00:04,  4.33s/it]"
          ]
        },
        {
          "metadata": {
            "tags": null
          },
          "name": "stdout",
          "output_type": "stream",
          "text": [
            "training error:\n",
            "0.015392036435281642\n",
            "Model Done !\n",
            "harvesting states...\n",
            "fitting...\n"
          ]
        },
        {
          "metadata": {
            "tags": null
          },
          "name": "stderr",
          "output_type": "stream",
          "text": [
            "100%|██████████| 8/8 [00:33<00:00,  4.17s/it]\n"
          ]
        },
        {
          "metadata": {
            "tags": null
          },
          "name": "stdout",
          "output_type": "stream",
          "text": [
            "training error:\n",
            "0.015388910082487554\n",
            "Model Done !\n"
          ]
        },
        {
          "metadata": {
            "tags": null
          },
          "name": "stderr",
          "output_type": "stream",
          "text": [
            "Progress: 100%|██████████| 1625/1625 [00:03<00:00, 520.18it/s]\n",
            "[I 2023-09-04 07:54:30,777] Trial 6 finished with value: 0.0766770375173216 and parameters: {'n_reservoir': 390, 'sparsity': 0.5, 'spectral_radius': 0.6, 'noise': 0.007, 'look_back': 167}. Best is trial 2 with value: 0.05901372581437277.\n",
            "  0%|          | 0/8 [00:00<?, ?it/s]"
          ]
        },
        {
          "metadata": {
            "tags": null
          },
          "name": "stdout",
          "output_type": "stream",
          "text": [
            "harvesting states...\n",
            "fitting...\n"
          ]
        },
        {
          "metadata": {
            "tags": null
          },
          "name": "stderr",
          "output_type": "stream",
          "text": [
            "\r 12%|█▎        | 1/8 [00:06<00:45,  6.57s/it]"
          ]
        },
        {
          "metadata": {
            "tags": null
          },
          "name": "stdout",
          "output_type": "stream",
          "text": [
            "training error:\n",
            "0.015377463444035554\n",
            "Model Done !\n",
            "harvesting states...\n",
            "fitting...\n"
          ]
        },
        {
          "metadata": {
            "tags": null
          },
          "name": "stderr",
          "output_type": "stream",
          "text": [
            "\r 25%|██▌       | 2/8 [00:12<00:35,  5.96s/it]"
          ]
        },
        {
          "metadata": {
            "tags": null
          },
          "name": "stdout",
          "output_type": "stream",
          "text": [
            "training error:\n",
            "0.015373956195748805\n",
            "Model Done !\n",
            "harvesting states...\n",
            "fitting...\n"
          ]
        },
        {
          "metadata": {
            "tags": null
          },
          "name": "stderr",
          "output_type": "stream",
          "text": [
            "\r 38%|███▊      | 3/8 [00:18<00:31,  6.20s/it]"
          ]
        },
        {
          "metadata": {
            "tags": null
          },
          "name": "stdout",
          "output_type": "stream",
          "text": [
            "training error:\n",
            "0.015382322667513023\n",
            "Model Done !\n",
            "harvesting states...\n",
            "fitting...\n"
          ]
        },
        {
          "metadata": {
            "tags": null
          },
          "name": "stderr",
          "output_type": "stream",
          "text": [
            "\r 50%|█████     | 4/8 [00:24<00:23,  5.92s/it]"
          ]
        },
        {
          "metadata": {
            "tags": null
          },
          "name": "stdout",
          "output_type": "stream",
          "text": [
            "training error:\n",
            "0.015376342072043636\n",
            "Model Done !\n",
            "harvesting states...\n",
            "fitting...\n"
          ]
        },
        {
          "metadata": {
            "tags": null
          },
          "name": "stderr",
          "output_type": "stream",
          "text": [
            "\r 62%|██████▎   | 5/8 [00:30<00:18,  6.09s/it]"
          ]
        },
        {
          "metadata": {
            "tags": null
          },
          "name": "stdout",
          "output_type": "stream",
          "text": [
            "training error:\n",
            "0.015369234432926744\n",
            "Model Done !\n",
            "harvesting states...\n",
            "fitting...\n"
          ]
        },
        {
          "metadata": {
            "tags": null
          },
          "name": "stderr",
          "output_type": "stream",
          "text": [
            "\r 75%|███████▌  | 6/8 [00:36<00:11,  5.97s/it]"
          ]
        },
        {
          "metadata": {
            "tags": null
          },
          "name": "stdout",
          "output_type": "stream",
          "text": [
            "training error:\n",
            "0.015395346396971703\n",
            "Model Done !\n",
            "harvesting states...\n",
            "fitting...\n"
          ]
        },
        {
          "metadata": {
            "tags": null
          },
          "name": "stderr",
          "output_type": "stream",
          "text": [
            "\r 88%|████████▊ | 7/8 [00:42<00:06,  6.08s/it]"
          ]
        },
        {
          "metadata": {
            "tags": null
          },
          "name": "stdout",
          "output_type": "stream",
          "text": [
            "training error:\n",
            "0.01539832448438936\n",
            "Model Done !\n",
            "harvesting states...\n",
            "fitting...\n"
          ]
        },
        {
          "metadata": {
            "tags": null
          },
          "name": "stderr",
          "output_type": "stream",
          "text": [
            "100%|██████████| 8/8 [00:48<00:00,  6.07s/it]\n"
          ]
        },
        {
          "metadata": {
            "tags": null
          },
          "name": "stdout",
          "output_type": "stream",
          "text": [
            "training error:\n",
            "0.015432710900573311\n",
            "Model Done !\n"
          ]
        },
        {
          "metadata": {
            "tags": null
          },
          "name": "stderr",
          "output_type": "stream",
          "text": [
            "Progress: 100%|██████████| 1662/1662 [00:03<00:00, 416.86it/s]\n",
            "[I 2023-09-04 07:55:23,478] Trial 7 finished with value: 0.07325304490936234 and parameters: {'n_reservoir': 535, 'sparsity': 0.3, 'spectral_radius': 1.1, 'noise': 0.004, 'look_back': 130}. Best is trial 2 with value: 0.05901372581437277.\n",
            "  0%|          | 0/8 [00:00<?, ?it/s]"
          ]
        },
        {
          "metadata": {
            "tags": null
          },
          "name": "stdout",
          "output_type": "stream",
          "text": [
            "harvesting states...\n",
            "fitting...\n"
          ]
        },
        {
          "metadata": {
            "tags": null
          },
          "name": "stderr",
          "output_type": "stream",
          "text": [
            "\r 12%|█▎        | 1/8 [00:17<02:00, 17.15s/it]"
          ]
        },
        {
          "metadata": {
            "tags": null
          },
          "name": "stdout",
          "output_type": "stream",
          "text": [
            "training error:\n",
            "0.01467887979461686\n",
            "Model Done !\n",
            "harvesting states...\n",
            "fitting...\n"
          ]
        },
        {
          "metadata": {
            "tags": null
          },
          "name": "stderr",
          "output_type": "stream",
          "text": [
            "\r 25%|██▌       | 2/8 [00:33<01:40, 16.77s/it]"
          ]
        },
        {
          "metadata": {
            "tags": null
          },
          "name": "stdout",
          "output_type": "stream",
          "text": [
            "training error:\n",
            "0.014876980168221952\n",
            "Model Done !\n",
            "harvesting states...\n",
            "fitting...\n"
          ]
        },
        {
          "metadata": {
            "tags": null
          },
          "name": "stderr",
          "output_type": "stream",
          "text": [
            "\r 38%|███▊      | 3/8 [00:49<01:22, 16.52s/it]"
          ]
        },
        {
          "metadata": {
            "tags": null
          },
          "name": "stdout",
          "output_type": "stream",
          "text": [
            "training error:\n",
            "0.01485381154653779\n",
            "Model Done !\n",
            "harvesting states...\n",
            "fitting...\n"
          ]
        },
        {
          "metadata": {
            "tags": null
          },
          "name": "stderr",
          "output_type": "stream",
          "text": [
            "\r 50%|█████     | 4/8 [01:05<01:05, 16.32s/it]"
          ]
        },
        {
          "metadata": {
            "tags": null
          },
          "name": "stdout",
          "output_type": "stream",
          "text": [
            "training error:\n",
            "0.014869927387198984\n",
            "Model Done !\n",
            "harvesting states...\n",
            "fitting...\n"
          ]
        },
        {
          "metadata": {
            "tags": null
          },
          "name": "stderr",
          "output_type": "stream",
          "text": [
            "\r 62%|██████▎   | 5/8 [01:22<00:49, 16.53s/it]"
          ]
        },
        {
          "metadata": {
            "tags": null
          },
          "name": "stdout",
          "output_type": "stream",
          "text": [
            "training error:\n",
            "0.014890268131332705\n",
            "Model Done !\n",
            "harvesting states...\n",
            "fitting...\n"
          ]
        },
        {
          "metadata": {
            "tags": null
          },
          "name": "stderr",
          "output_type": "stream",
          "text": [
            "\r 75%|███████▌  | 6/8 [01:39<00:33, 16.53s/it]"
          ]
        },
        {
          "metadata": {
            "tags": null
          },
          "name": "stdout",
          "output_type": "stream",
          "text": [
            "training error:\n",
            "0.014844675069614713\n",
            "Model Done !\n",
            "harvesting states...\n",
            "fitting...\n"
          ]
        },
        {
          "metadata": {
            "tags": null
          },
          "name": "stderr",
          "output_type": "stream",
          "text": [
            "\r 88%|████████▊ | 7/8 [01:55<00:16, 16.48s/it]"
          ]
        },
        {
          "metadata": {
            "tags": null
          },
          "name": "stdout",
          "output_type": "stream",
          "text": [
            "training error:\n",
            "0.014907321867948568\n",
            "Model Done !\n",
            "harvesting states...\n",
            "fitting...\n"
          ]
        },
        {
          "metadata": {
            "tags": null
          },
          "name": "stderr",
          "output_type": "stream",
          "text": [
            "100%|██████████| 8/8 [02:11<00:00, 16.44s/it]\n"
          ]
        },
        {
          "metadata": {
            "tags": null
          },
          "name": "stdout",
          "output_type": "stream",
          "text": [
            "training error:\n",
            "0.01493598783865641\n",
            "Model Done !\n"
          ]
        },
        {
          "metadata": {
            "tags": null
          },
          "name": "stderr",
          "output_type": "stream",
          "text": [
            "Progress: 100%|██████████| 1319/1319 [00:10<00:00, 126.76it/s]\n",
            "[I 2023-09-04 07:57:45,598] Trial 8 finished with value: 0.07594164059340175 and parameters: {'n_reservoir': 851, 'sparsity': 0.1, 'spectral_radius': 1.25, 'noise': 0.007, 'look_back': 473}. Best is trial 2 with value: 0.05901372581437277.\n",
            "  0%|          | 0/8 [00:00<?, ?it/s]"
          ]
        },
        {
          "metadata": {
            "tags": null
          },
          "name": "stdout",
          "output_type": "stream",
          "text": [
            "harvesting states...\n",
            "fitting...\n"
          ]
        },
        {
          "metadata": {
            "tags": null
          },
          "name": "stderr",
          "output_type": "stream",
          "text": [
            "\r 12%|█▎        | 1/8 [00:07<00:55,  7.90s/it]"
          ]
        },
        {
          "metadata": {
            "tags": null
          },
          "name": "stdout",
          "output_type": "stream",
          "text": [
            "training error:\n",
            "0.014985286164722124\n",
            "Model Done !\n",
            "harvesting states...\n",
            "fitting...\n"
          ]
        },
        {
          "metadata": {
            "tags": null
          },
          "name": "stderr",
          "output_type": "stream",
          "text": [
            "\r 25%|██▌       | 2/8 [00:14<00:41,  6.87s/it]"
          ]
        },
        {
          "metadata": {
            "tags": null
          },
          "name": "stdout",
          "output_type": "stream",
          "text": [
            "training error:\n",
            "0.015227815023359188\n",
            "Model Done !\n",
            "harvesting states...\n",
            "fitting...\n"
          ]
        },
        {
          "metadata": {
            "tags": null
          },
          "name": "stderr",
          "output_type": "stream",
          "text": [
            "\r 38%|███▊      | 3/8 [00:21<00:35,  7.09s/it]"
          ]
        },
        {
          "metadata": {
            "tags": null
          },
          "name": "stdout",
          "output_type": "stream",
          "text": [
            "training error:\n",
            "0.015191767742625446\n",
            "Model Done !\n",
            "harvesting states...\n",
            "fitting...\n"
          ]
        },
        {
          "metadata": {
            "tags": null
          },
          "name": "stderr",
          "output_type": "stream",
          "text": [
            "\r 50%|█████     | 4/8 [00:27<00:27,  6.80s/it]"
          ]
        },
        {
          "metadata": {
            "tags": null
          },
          "name": "stdout",
          "output_type": "stream",
          "text": [
            "training error:\n",
            "0.015223597426133358\n",
            "Model Done !\n",
            "harvesting states...\n",
            "fitting...\n"
          ]
        },
        {
          "metadata": {
            "tags": null
          },
          "name": "stderr",
          "output_type": "stream",
          "text": [
            "\r 62%|██████▎   | 5/8 [00:35<00:21,  7.21s/it]"
          ]
        },
        {
          "metadata": {
            "tags": null
          },
          "name": "stdout",
          "output_type": "stream",
          "text": [
            "training error:\n",
            "0.015214424864387286\n",
            "Model Done !\n",
            "harvesting states...\n",
            "fitting...\n"
          ]
        },
        {
          "metadata": {
            "tags": null
          },
          "name": "stderr",
          "output_type": "stream",
          "text": [
            "\r 75%|███████▌  | 6/8 [00:41<00:13,  6.88s/it]"
          ]
        },
        {
          "metadata": {
            "tags": null
          },
          "name": "stdout",
          "output_type": "stream",
          "text": [
            "training error:\n",
            "0.015210284070260593\n",
            "Model Done !\n",
            "harvesting states...\n",
            "fitting...\n"
          ]
        },
        {
          "metadata": {
            "tags": null
          },
          "name": "stderr",
          "output_type": "stream",
          "text": [
            "\r 88%|████████▊ | 7/8 [00:49<00:07,  7.12s/it]"
          ]
        },
        {
          "metadata": {
            "tags": null
          },
          "name": "stdout",
          "output_type": "stream",
          "text": [
            "training error:\n",
            "0.015213101506726416\n",
            "Model Done !\n",
            "harvesting states...\n",
            "fitting...\n"
          ]
        },
        {
          "metadata": {
            "tags": null
          },
          "name": "stderr",
          "output_type": "stream",
          "text": [
            "100%|██████████| 8/8 [00:55<00:00,  6.99s/it]\n"
          ]
        },
        {
          "metadata": {
            "tags": null
          },
          "name": "stdout",
          "output_type": "stream",
          "text": [
            "training error:\n",
            "0.015210181752488726\n",
            "Model Done !\n"
          ]
        },
        {
          "metadata": {
            "tags": null
          },
          "name": "stderr",
          "output_type": "stream",
          "text": [
            "Progress: 100%|██████████| 1432/1432 [00:06<00:00, 229.68it/s]\n",
            "[I 2023-09-04 07:58:47,884] Trial 9 finished with value: 0.07399080318504117 and parameters: {'n_reservoir': 479, 'sparsity': 0.4, 'spectral_radius': 1, 'noise': 0.008, 'look_back': 360}. Best is trial 2 with value: 0.05901372581437277.\n",
            "  0%|          | 0/8 [00:00<?, ?it/s]"
          ]
        },
        {
          "metadata": {
            "tags": null
          },
          "name": "stdout",
          "output_type": "stream",
          "text": [
            "harvesting states...\n",
            "fitting...\n"
          ]
        },
        {
          "metadata": {
            "tags": null
          },
          "name": "stderr",
          "output_type": "stream",
          "text": [
            "\r 12%|█▎        | 1/8 [00:09<01:05,  9.32s/it]"
          ]
        },
        {
          "metadata": {
            "tags": null
          },
          "name": "stdout",
          "output_type": "stream",
          "text": [
            "training error:\n",
            "0.020826053833276747\n",
            "Model Done !\n",
            "harvesting states...\n",
            "fitting...\n"
          ]
        },
        {
          "metadata": {
            "tags": null
          },
          "name": "stderr",
          "output_type": "stream",
          "text": [
            "\r 25%|██▌       | 2/8 [00:19<00:57,  9.59s/it]"
          ]
        },
        {
          "metadata": {
            "tags": null
          },
          "name": "stdout",
          "output_type": "stream",
          "text": [
            "training error:\n",
            "0.026203960159778977\n",
            "Model Done !\n",
            "harvesting states...\n",
            "fitting...\n"
          ]
        },
        {
          "metadata": {
            "tags": null
          },
          "name": "stderr",
          "output_type": "stream",
          "text": [
            "\r 38%|███▊      | 3/8 [00:29<00:49,  9.84s/it]"
          ]
        },
        {
          "metadata": {
            "tags": null
          },
          "name": "stdout",
          "output_type": "stream",
          "text": [
            "training error:\n",
            "0.030081843681373628\n",
            "Model Done !\n",
            "harvesting states...\n",
            "fitting...\n"
          ]
        },
        {
          "metadata": {
            "tags": null
          },
          "name": "stderr",
          "output_type": "stream",
          "text": [
            "\r 50%|█████     | 4/8 [00:39<00:39,  9.90s/it]"
          ]
        },
        {
          "metadata": {
            "tags": null
          },
          "name": "stdout",
          "output_type": "stream",
          "text": [
            "training error:\n",
            "0.032578913560368\n",
            "Model Done !\n",
            "harvesting states...\n",
            "fitting...\n"
          ]
        },
        {
          "metadata": {
            "tags": null
          },
          "name": "stderr",
          "output_type": "stream",
          "text": [
            "\r 62%|██████▎   | 5/8 [00:49<00:29,  9.98s/it]"
          ]
        },
        {
          "metadata": {
            "tags": null
          },
          "name": "stdout",
          "output_type": "stream",
          "text": [
            "training error:\n",
            "0.034454111936483005\n",
            "Model Done !\n",
            "harvesting states...\n",
            "fitting...\n"
          ]
        },
        {
          "metadata": {
            "tags": null
          },
          "name": "stderr",
          "output_type": "stream",
          "text": [
            "\r 75%|███████▌  | 6/8 [00:58<00:19,  9.64s/it]"
          ]
        },
        {
          "metadata": {
            "tags": null
          },
          "name": "stdout",
          "output_type": "stream",
          "text": [
            "training error:\n",
            "0.03571875206863479\n",
            "Model Done !\n",
            "harvesting states...\n",
            "fitting...\n"
          ]
        },
        {
          "metadata": {
            "tags": null
          },
          "name": "stderr",
          "output_type": "stream",
          "text": [
            "\r 88%|████████▊ | 7/8 [01:09<00:09,  9.98s/it]"
          ]
        },
        {
          "metadata": {
            "tags": null
          },
          "name": "stdout",
          "output_type": "stream",
          "text": [
            "training error:\n",
            "0.03650363830551441\n",
            "Model Done !\n",
            "harvesting states...\n",
            "fitting...\n"
          ]
        },
        {
          "metadata": {
            "tags": null
          },
          "name": "stderr",
          "output_type": "stream",
          "text": [
            "100%|██████████| 8/8 [01:19<00:00,  9.91s/it]\n"
          ]
        },
        {
          "metadata": {
            "tags": null
          },
          "name": "stdout",
          "output_type": "stream",
          "text": [
            "training error:\n",
            "0.037803526188134956\n",
            "Model Done !\n"
          ]
        },
        {
          "metadata": {
            "tags": null
          },
          "name": "stderr",
          "output_type": "stream",
          "text": [
            "Progress: 100%|██████████| 1782/1782 [00:06<00:00, 258.99it/s]\n",
            "[I 2023-09-04 08:00:14,225] Trial 10 finished with value: 0.05580855752680299 and parameters: {'n_reservoir': 844, 'sparsity': 0.2, 'spectral_radius': 10.0, 'noise': 0.003, 'look_back': 10}. Best is trial 10 with value: 0.05580855752680299.\n",
            "  0%|          | 0/8 [00:00<?, ?it/s]"
          ]
        },
        {
          "metadata": {
            "tags": null
          },
          "name": "stdout",
          "output_type": "stream",
          "text": [
            "harvesting states...\n",
            "fitting...\n"
          ]
        },
        {
          "metadata": {
            "tags": null
          },
          "name": "stderr",
          "output_type": "stream",
          "text": [
            "\r 12%|█▎        | 1/8 [00:10<01:16, 10.96s/it]"
          ]
        },
        {
          "metadata": {
            "tags": null
          },
          "name": "stdout",
          "output_type": "stream",
          "text": [
            "training error:\n",
            "0.018052248238730147\n",
            "Model Done !\n",
            "harvesting states...\n",
            "fitting...\n"
          ]
        },
        {
          "metadata": {
            "tags": null
          },
          "name": "stderr",
          "output_type": "stream",
          "text": [
            "\r 25%|██▌       | 2/8 [00:22<01:06, 11.08s/it]"
          ]
        },
        {
          "metadata": {
            "tags": null
          },
          "name": "stdout",
          "output_type": "stream",
          "text": [
            "training error:\n",
            "0.02463670099577567\n",
            "Model Done !\n",
            "harvesting states...\n",
            "fitting...\n"
          ]
        },
        {
          "metadata": {
            "tags": null
          },
          "name": "stderr",
          "output_type": "stream",
          "text": [
            "\r 38%|███▊      | 3/8 [00:33<00:55, 11.03s/it]"
          ]
        },
        {
          "metadata": {
            "tags": null
          },
          "name": "stdout",
          "output_type": "stream",
          "text": [
            "training error:\n",
            "0.028769033570274403\n",
            "Model Done !\n",
            "harvesting states...\n",
            "fitting...\n"
          ]
        },
        {
          "metadata": {
            "tags": null
          },
          "name": "stderr",
          "output_type": "stream",
          "text": [
            "\r 50%|█████     | 4/8 [00:44<00:43, 11.00s/it]"
          ]
        },
        {
          "metadata": {
            "tags": null
          },
          "name": "stdout",
          "output_type": "stream",
          "text": [
            "training error:\n",
            "0.03131541470671395\n",
            "Model Done !\n",
            "harvesting states...\n",
            "fitting...\n"
          ]
        },
        {
          "metadata": {
            "tags": null
          },
          "name": "stderr",
          "output_type": "stream",
          "text": [
            "\r 62%|██████▎   | 5/8 [00:54<00:32, 10.72s/it]"
          ]
        },
        {
          "metadata": {
            "tags": null
          },
          "name": "stdout",
          "output_type": "stream",
          "text": [
            "training error:\n",
            "0.03313296795667799\n",
            "Model Done !\n",
            "harvesting states...\n",
            "fitting...\n"
          ]
        },
        {
          "metadata": {
            "tags": null
          },
          "name": "stderr",
          "output_type": "stream",
          "text": [
            "\r 75%|███████▌  | 6/8 [01:04<00:21, 10.57s/it]"
          ]
        },
        {
          "metadata": {
            "tags": null
          },
          "name": "stdout",
          "output_type": "stream",
          "text": [
            "training error:\n",
            "0.03478145929502986\n",
            "Model Done !\n",
            "harvesting states...\n",
            "fitting...\n"
          ]
        },
        {
          "metadata": {
            "tags": null
          },
          "name": "stderr",
          "output_type": "stream",
          "text": [
            "\r 88%|████████▊ | 7/8 [01:15<00:10, 10.67s/it]"
          ]
        },
        {
          "metadata": {
            "tags": null
          },
          "name": "stdout",
          "output_type": "stream",
          "text": [
            "training error:\n",
            "0.034207507357878995\n",
            "Model Done !\n",
            "harvesting states...\n",
            "fitting...\n"
          ]
        },
        {
          "metadata": {
            "tags": null
          },
          "name": "stderr",
          "output_type": "stream",
          "text": [
            "100%|██████████| 8/8 [01:26<00:00, 10.77s/it]\n"
          ]
        },
        {
          "metadata": {
            "tags": null
          },
          "name": "stdout",
          "output_type": "stream",
          "text": [
            "training error:\n",
            "0.03522460534320624\n",
            "Model Done !\n"
          ]
        },
        {
          "metadata": {
            "tags": null
          },
          "name": "stderr",
          "output_type": "stream",
          "text": [
            "Progress: 100%|██████████| 1777/1777 [00:08<00:00, 211.95it/s]\n",
            "[I 2023-09-04 08:01:49,015] Trial 11 finished with value: 0.06235640624836696 and parameters: {'n_reservoir': 867, 'sparsity': 0.2, 'spectral_radius': 10.0, 'noise': 0.003, 'look_back': 15}. Best is trial 10 with value: 0.05580855752680299.\n",
            "  0%|          | 0/8 [00:00<?, ?it/s]"
          ]
        },
        {
          "metadata": {
            "tags": null
          },
          "name": "stdout",
          "output_type": "stream",
          "text": [
            "harvesting states...\n",
            "fitting...\n"
          ]
        },
        {
          "metadata": {
            "tags": null
          },
          "name": "stderr",
          "output_type": "stream",
          "text": [
            "\r 12%|█▎        | 1/8 [00:07<00:54,  7.75s/it]"
          ]
        },
        {
          "metadata": {
            "tags": null
          },
          "name": "stdout",
          "output_type": "stream",
          "text": [
            "training error:\n",
            "0.01647832833403132\n",
            "Model Done !\n",
            "harvesting states...\n",
            "fitting...\n"
          ]
        },
        {
          "metadata": {
            "tags": null
          },
          "name": "stderr",
          "output_type": "stream",
          "text": [
            "\r 25%|██▌       | 2/8 [00:16<00:48,  8.16s/it]"
          ]
        },
        {
          "metadata": {
            "tags": null
          },
          "name": "stdout",
          "output_type": "stream",
          "text": [
            "training error:\n",
            "0.02282245068730218\n",
            "Model Done !\n",
            "harvesting states...\n",
            "fitting...\n"
          ]
        },
        {
          "metadata": {
            "tags": null
          },
          "name": "stderr",
          "output_type": "stream",
          "text": [
            "\r 38%|███▊      | 3/8 [00:24<00:40,  8.00s/it]"
          ]
        },
        {
          "metadata": {
            "tags": null
          },
          "name": "stdout",
          "output_type": "stream",
          "text": [
            "training error:\n",
            "0.026889036400597602\n",
            "Model Done !\n",
            "harvesting states...\n",
            "fitting...\n"
          ]
        },
        {
          "metadata": {
            "tags": null
          },
          "name": "stderr",
          "output_type": "stream",
          "text": [
            "\r 50%|█████     | 4/8 [00:33<00:33,  8.43s/it]"
          ]
        },
        {
          "metadata": {
            "tags": null
          },
          "name": "stdout",
          "output_type": "stream",
          "text": [
            "training error:\n",
            "0.029887520315917668\n",
            "Model Done !\n",
            "harvesting states...\n",
            "fitting...\n"
          ]
        },
        {
          "metadata": {
            "tags": null
          },
          "name": "stderr",
          "output_type": "stream",
          "text": [
            "\r 62%|██████▎   | 5/8 [00:41<00:25,  8.49s/it]"
          ]
        },
        {
          "metadata": {
            "tags": null
          },
          "name": "stdout",
          "output_type": "stream",
          "text": [
            "training error:\n",
            "0.03192417964829659\n",
            "Model Done !\n",
            "harvesting states...\n",
            "fitting...\n"
          ]
        },
        {
          "metadata": {
            "tags": null
          },
          "name": "stderr",
          "output_type": "stream",
          "text": [
            "\r 75%|███████▌  | 6/8 [00:49<00:16,  8.17s/it]"
          ]
        },
        {
          "metadata": {
            "tags": null
          },
          "name": "stdout",
          "output_type": "stream",
          "text": [
            "training error:\n",
            "0.033519558506133744\n",
            "Model Done !\n",
            "harvesting states...\n",
            "fitting...\n"
          ]
        },
        {
          "metadata": {
            "tags": null
          },
          "name": "stderr",
          "output_type": "stream",
          "text": [
            "\r 88%|████████▊ | 7/8 [00:57<00:08,  8.34s/it]"
          ]
        },
        {
          "metadata": {
            "tags": null
          },
          "name": "stdout",
          "output_type": "stream",
          "text": [
            "training error:\n",
            "0.0350878977029344\n",
            "Model Done !\n",
            "harvesting states...\n",
            "fitting...\n"
          ]
        },
        {
          "metadata": {
            "tags": null
          },
          "name": "stderr",
          "output_type": "stream",
          "text": [
            "100%|██████████| 8/8 [01:06<00:00,  8.33s/it]\n"
          ]
        },
        {
          "metadata": {
            "tags": null
          },
          "name": "stdout",
          "output_type": "stream",
          "text": [
            "training error:\n",
            "0.0363487494506104\n",
            "Model Done !\n"
          ]
        },
        {
          "metadata": {
            "tags": null
          },
          "name": "stderr",
          "output_type": "stream",
          "text": [
            "Progress: 100%|██████████| 1754/1754 [00:05<00:00, 331.76it/s]\n",
            "[I 2023-09-04 08:03:01,119] Trial 12 finished with value: 0.053290075094445805 and parameters: {'n_reservoir': 725, 'sparsity': 0.2, 'spectral_radius': 10.0, 'noise': 0.003, 'look_back': 38}. Best is trial 12 with value: 0.053290075094445805.\n",
            "  0%|          | 0/8 [00:00<?, ?it/s]"
          ]
        },
        {
          "metadata": {
            "tags": null
          },
          "name": "stdout",
          "output_type": "stream",
          "text": [
            "harvesting states...\n",
            "fitting...\n"
          ]
        },
        {
          "metadata": {
            "tags": null
          },
          "name": "stderr",
          "output_type": "stream",
          "text": [
            "\r 12%|█▎        | 1/8 [00:13<01:33, 13.38s/it]"
          ]
        },
        {
          "metadata": {
            "tags": null
          },
          "name": "stdout",
          "output_type": "stream",
          "text": [
            "training error:\n",
            "0.018027639995832536\n",
            "Model Done !\n",
            "harvesting states...\n",
            "fitting...\n"
          ]
        },
        {
          "metadata": {
            "tags": null
          },
          "name": "stderr",
          "output_type": "stream",
          "text": [
            "\r 25%|██▌       | 2/8 [00:26<01:19, 13.29s/it]"
          ]
        },
        {
          "metadata": {
            "tags": null
          },
          "name": "stdout",
          "output_type": "stream",
          "text": [
            "training error:\n",
            "0.02442250871045185\n",
            "Model Done !\n",
            "harvesting states...\n",
            "fitting...\n"
          ]
        },
        {
          "metadata": {
            "tags": null
          },
          "name": "stderr",
          "output_type": "stream",
          "text": [
            "\r 38%|███▊      | 3/8 [00:39<01:06, 13.25s/it]"
          ]
        },
        {
          "metadata": {
            "tags": null
          },
          "name": "stdout",
          "output_type": "stream",
          "text": [
            "training error:\n",
            "0.02829101175080795\n",
            "Model Done !\n",
            "harvesting states...\n",
            "fitting...\n"
          ]
        },
        {
          "metadata": {
            "tags": null
          },
          "name": "stderr",
          "output_type": "stream",
          "text": [
            "\r 50%|█████     | 4/8 [00:53<00:53, 13.49s/it]"
          ]
        },
        {
          "metadata": {
            "tags": null
          },
          "name": "stdout",
          "output_type": "stream",
          "text": [
            "training error:\n",
            "0.030897943303685917\n",
            "Model Done !\n",
            "harvesting states...\n",
            "fitting...\n"
          ]
        },
        {
          "metadata": {
            "tags": null
          },
          "name": "stderr",
          "output_type": "stream",
          "text": [
            "\r 62%|██████▎   | 5/8 [01:07<00:40, 13.48s/it]"
          ]
        },
        {
          "metadata": {
            "tags": null
          },
          "name": "stdout",
          "output_type": "stream",
          "text": [
            "training error:\n",
            "0.03192542644395299\n",
            "Model Done !\n",
            "harvesting states...\n",
            "fitting...\n"
          ]
        },
        {
          "metadata": {
            "tags": null
          },
          "name": "stderr",
          "output_type": "stream",
          "text": [
            "\r 75%|███████▌  | 6/8 [01:20<00:26, 13.46s/it]"
          ]
        },
        {
          "metadata": {
            "tags": null
          },
          "name": "stdout",
          "output_type": "stream",
          "text": [
            "training error:\n",
            "0.03278893368893554\n",
            "Model Done !\n",
            "harvesting states...\n",
            "fitting...\n"
          ]
        },
        {
          "metadata": {
            "tags": null
          },
          "name": "stderr",
          "output_type": "stream",
          "text": [
            "\r 88%|████████▊ | 7/8 [01:34<00:13, 13.57s/it]"
          ]
        },
        {
          "metadata": {
            "tags": null
          },
          "name": "stdout",
          "output_type": "stream",
          "text": [
            "training error:\n",
            "0.03330382903107936\n",
            "Model Done !\n",
            "harvesting states...\n",
            "fitting...\n"
          ]
        },
        {
          "metadata": {
            "tags": null
          },
          "name": "stderr",
          "output_type": "stream",
          "text": [
            "100%|██████████| 8/8 [01:47<00:00, 13.45s/it]\n"
          ]
        },
        {
          "metadata": {
            "tags": null
          },
          "name": "stdout",
          "output_type": "stream",
          "text": [
            "training error:\n",
            "0.0349361749755527\n",
            "Model Done !\n"
          ]
        },
        {
          "metadata": {
            "tags": null
          },
          "name": "stderr",
          "output_type": "stream",
          "text": [
            "Progress: 100%|██████████| 1775/1775 [00:11<00:00, 157.48it/s]\n",
            "[I 2023-09-04 08:05:00,199] Trial 13 finished with value: 0.06547420312868496 and parameters: {'n_reservoir': 999, 'sparsity': 0.2, 'spectral_radius': 10.0, 'noise': 0.003, 'look_back': 17}. Best is trial 12 with value: 0.053290075094445805.\n",
            "  0%|          | 0/8 [00:00<?, ?it/s]"
          ]
        },
        {
          "metadata": {
            "tags": null
          },
          "name": "stdout",
          "output_type": "stream",
          "text": [
            "harvesting states...\n",
            "fitting...\n"
          ]
        },
        {
          "metadata": {
            "tags": null
          },
          "name": "stderr",
          "output_type": "stream",
          "text": [
            "\r 12%|█▎        | 1/8 [00:08<00:59,  8.49s/it]"
          ]
        },
        {
          "metadata": {
            "tags": null
          },
          "name": "stdout",
          "output_type": "stream",
          "text": [
            "training error:\n",
            "0.015750740131549992\n",
            "Model Done !\n",
            "harvesting states...\n",
            "fitting...\n"
          ]
        },
        {
          "metadata": {
            "tags": null
          },
          "name": "stderr",
          "output_type": "stream",
          "text": [
            "\r 25%|██▌       | 2/8 [00:15<00:45,  7.63s/it]"
          ]
        },
        {
          "metadata": {
            "tags": null
          },
          "name": "stdout",
          "output_type": "stream",
          "text": [
            "training error:\n",
            "0.01584788979570631\n",
            "Model Done !\n",
            "harvesting states...\n",
            "fitting...\n"
          ]
        },
        {
          "metadata": {
            "tags": null
          },
          "name": "stderr",
          "output_type": "stream",
          "text": [
            "\r 38%|███▊      | 3/8 [00:24<00:40,  8.07s/it]"
          ]
        },
        {
          "metadata": {
            "tags": null
          },
          "name": "stdout",
          "output_type": "stream",
          "text": [
            "training error:\n",
            "0.015759476442813142\n",
            "Model Done !\n",
            "harvesting states...\n",
            "fitting...\n"
          ]
        },
        {
          "metadata": {
            "tags": null
          },
          "name": "stderr",
          "output_type": "stream",
          "text": [
            "\r 50%|█████     | 4/8 [00:31<00:31,  7.76s/it]"
          ]
        },
        {
          "metadata": {
            "tags": null
          },
          "name": "stdout",
          "output_type": "stream",
          "text": [
            "training error:\n",
            "0.015680259787255058\n",
            "Model Done !\n",
            "harvesting states...\n",
            "fitting...\n"
          ]
        },
        {
          "metadata": {
            "tags": null
          },
          "name": "stderr",
          "output_type": "stream",
          "text": [
            "\r 62%|██████▎   | 5/8 [00:39<00:23,  7.93s/it]"
          ]
        },
        {
          "metadata": {
            "tags": null
          },
          "name": "stdout",
          "output_type": "stream",
          "text": [
            "training error:\n",
            "0.01565400597254847\n",
            "Model Done !\n",
            "harvesting states...\n",
            "fitting...\n"
          ]
        },
        {
          "metadata": {
            "tags": null
          },
          "name": "stderr",
          "output_type": "stream",
          "text": [
            "\r 75%|███████▌  | 6/8 [00:47<00:15,  8.00s/it]"
          ]
        },
        {
          "metadata": {
            "tags": null
          },
          "name": "stdout",
          "output_type": "stream",
          "text": [
            "training error:\n",
            "0.01568874381782524\n",
            "Model Done !\n",
            "harvesting states...\n",
            "fitting...\n"
          ]
        },
        {
          "metadata": {
            "tags": null
          },
          "name": "stderr",
          "output_type": "stream",
          "text": [
            "\r 88%|████████▊ | 7/8 [00:55<00:07,  7.77s/it]"
          ]
        },
        {
          "metadata": {
            "tags": null
          },
          "name": "stdout",
          "output_type": "stream",
          "text": [
            "training error:\n",
            "0.015669986055902405\n",
            "Model Done !\n",
            "harvesting states...\n",
            "fitting...\n"
          ]
        },
        {
          "metadata": {
            "tags": null
          },
          "name": "stderr",
          "output_type": "stream",
          "text": [
            "100%|██████████| 8/8 [01:04<00:00,  8.02s/it]\n"
          ]
        },
        {
          "metadata": {
            "tags": null
          },
          "name": "stdout",
          "output_type": "stream",
          "text": [
            "training error:\n",
            "0.015648189864243416\n",
            "Model Done !\n"
          ]
        },
        {
          "metadata": {
            "tags": null
          },
          "name": "stderr",
          "output_type": "stream",
          "text": [
            "Progress: 100%|██████████| 1723/1723 [00:05<00:00, 324.59it/s]\n",
            "[I 2023-09-04 08:06:09,851] Trial 14 finished with value: 0.0755593569293573 and parameters: {'n_reservoir': 710, 'sparsity': 0.3, 'spectral_radius': 0.2, 'noise': 0.002, 'look_back': 69}. Best is trial 12 with value: 0.053290075094445805.\n",
            "  0%|          | 0/8 [00:00<?, ?it/s]"
          ]
        },
        {
          "metadata": {
            "tags": null
          },
          "name": "stdout",
          "output_type": "stream",
          "text": [
            "harvesting states...\n",
            "fitting...\n"
          ]
        },
        {
          "metadata": {
            "tags": null
          },
          "name": "stderr",
          "output_type": "stream",
          "text": [
            "\r 12%|█▎        | 1/8 [00:08<01:02,  8.88s/it]"
          ]
        },
        {
          "metadata": {
            "tags": null
          },
          "name": "stdout",
          "output_type": "stream",
          "text": [
            "training error:\n",
            "0.015676983074604092\n",
            "Model Done !\n",
            "harvesting states...\n",
            "fitting...\n"
          ]
        },
        {
          "metadata": {
            "tags": null
          },
          "name": "stderr",
          "output_type": "stream",
          "text": [
            "\r 25%|██▌       | 2/8 [00:17<00:52,  8.82s/it]"
          ]
        },
        {
          "metadata": {
            "tags": null
          },
          "name": "stdout",
          "output_type": "stream",
          "text": [
            "training error:\n",
            "0.01565177037403802\n",
            "Model Done !\n",
            "harvesting states...\n",
            "fitting...\n"
          ]
        },
        {
          "metadata": {
            "tags": null
          },
          "name": "stderr",
          "output_type": "stream",
          "text": [
            "\r 38%|███▊      | 3/8 [00:25<00:41,  8.27s/it]"
          ]
        },
        {
          "metadata": {
            "tags": null
          },
          "name": "stdout",
          "output_type": "stream",
          "text": [
            "training error:\n",
            "0.01570321648931777\n",
            "Model Done !\n",
            "harvesting states...\n",
            "fitting...\n"
          ]
        },
        {
          "metadata": {
            "tags": null
          },
          "name": "stderr",
          "output_type": "stream",
          "text": [
            "\r 50%|█████     | 4/8 [00:34<00:34,  8.53s/it]"
          ]
        },
        {
          "metadata": {
            "tags": null
          },
          "name": "stdout",
          "output_type": "stream",
          "text": [
            "training error:\n",
            "0.015658884192155574\n",
            "Model Done !\n",
            "harvesting states...\n",
            "fitting...\n"
          ]
        },
        {
          "metadata": {
            "tags": null
          },
          "name": "stderr",
          "output_type": "stream",
          "text": [
            "\r 62%|██████▎   | 5/8 [00:42<00:25,  8.59s/it]"
          ]
        },
        {
          "metadata": {
            "tags": null
          },
          "name": "stdout",
          "output_type": "stream",
          "text": [
            "training error:\n",
            "0.015625020010772605\n",
            "Model Done !\n",
            "harvesting states...\n",
            "fitting...\n"
          ]
        },
        {
          "metadata": {
            "tags": null
          },
          "name": "stderr",
          "output_type": "stream",
          "text": [
            "\r 75%|███████▌  | 6/8 [00:50<00:16,  8.39s/it]"
          ]
        },
        {
          "metadata": {
            "tags": null
          },
          "name": "stdout",
          "output_type": "stream",
          "text": [
            "training error:\n",
            "0.0156508450819149\n",
            "Model Done !\n",
            "harvesting states...\n",
            "fitting...\n"
          ]
        },
        {
          "metadata": {
            "tags": null
          },
          "name": "stderr",
          "output_type": "stream",
          "text": [
            "\r 88%|████████▊ | 7/8 [00:59<00:08,  8.59s/it]"
          ]
        },
        {
          "metadata": {
            "tags": null
          },
          "name": "stdout",
          "output_type": "stream",
          "text": [
            "training error:\n",
            "0.015665187902853386\n",
            "Model Done !\n",
            "harvesting states...\n",
            "fitting...\n"
          ]
        },
        {
          "metadata": {
            "tags": null
          },
          "name": "stderr",
          "output_type": "stream",
          "text": [
            "100%|██████████| 8/8 [01:07<00:00,  8.49s/it]\n"
          ]
        },
        {
          "metadata": {
            "tags": null
          },
          "name": "stdout",
          "output_type": "stream",
          "text": [
            "training error:\n",
            "0.015590953823764688\n",
            "Model Done !\n"
          ]
        },
        {
          "metadata": {
            "tags": null
          },
          "name": "stderr",
          "output_type": "stream",
          "text": [
            "Progress: 100%|██████████| 1719/1719 [00:06<00:00, 263.45it/s]\n",
            "[I 2023-09-04 08:07:24,475] Trial 15 finished with value: 0.07943890818741263 and parameters: {'n_reservoir': 716, 'sparsity': 0.5, 'spectral_radius': 0.8, 'noise': 0.006, 'look_back': 73}. Best is trial 12 with value: 0.053290075094445805.\n",
            "  0%|          | 0/8 [00:00<?, ?it/s]"
          ]
        },
        {
          "metadata": {
            "tags": null
          },
          "name": "stdout",
          "output_type": "stream",
          "text": [
            "harvesting states...\n",
            "fitting...\n"
          ]
        },
        {
          "metadata": {
            "tags": null
          },
          "name": "stderr",
          "output_type": "stream",
          "text": [
            "\r 12%|█▎        | 1/8 [00:08<00:57,  8.25s/it]"
          ]
        },
        {
          "metadata": {
            "tags": null
          },
          "name": "stdout",
          "output_type": "stream",
          "text": [
            "training error:\n",
            "0.016964188634696526\n",
            "Model Done !\n",
            "harvesting states...\n",
            "fitting...\n"
          ]
        },
        {
          "metadata": {
            "tags": null
          },
          "name": "stderr",
          "output_type": "stream",
          "text": [
            "\r 25%|██▌       | 2/8 [00:15<00:45,  7.64s/it]"
          ]
        },
        {
          "metadata": {
            "tags": null
          },
          "name": "stdout",
          "output_type": "stream",
          "text": [
            "training error:\n",
            "0.016962915101930258\n",
            "Model Done !\n",
            "harvesting states...\n",
            "fitting...\n"
          ]
        },
        {
          "metadata": {
            "tags": null
          },
          "name": "stderr",
          "output_type": "stream",
          "text": [
            "\r 38%|███▊      | 3/8 [00:24<00:40,  8.07s/it]"
          ]
        },
        {
          "metadata": {
            "tags": null
          },
          "name": "stdout",
          "output_type": "stream",
          "text": [
            "training error:\n",
            "0.017151940308023767\n",
            "Model Done !\n",
            "harvesting states...\n",
            "fitting...\n"
          ]
        },
        {
          "metadata": {
            "tags": null
          },
          "name": "stderr",
          "output_type": "stream",
          "text": [
            "\r 50%|█████     | 4/8 [00:31<00:31,  7.93s/it]"
          ]
        },
        {
          "metadata": {
            "tags": null
          },
          "name": "stdout",
          "output_type": "stream",
          "text": [
            "training error:\n",
            "0.016929809564286823\n",
            "Model Done !\n",
            "harvesting states...\n",
            "fitting...\n"
          ]
        },
        {
          "metadata": {
            "tags": null
          },
          "name": "stderr",
          "output_type": "stream",
          "text": [
            "\r 62%|██████▎   | 5/8 [00:41<00:25,  8.44s/it]"
          ]
        },
        {
          "metadata": {
            "tags": null
          },
          "name": "stdout",
          "output_type": "stream",
          "text": [
            "training error:\n",
            "0.016938380925974463\n",
            "Model Done !\n",
            "harvesting states...\n",
            "fitting...\n"
          ]
        },
        {
          "metadata": {
            "tags": null
          },
          "name": "stderr",
          "output_type": "stream",
          "text": [
            "\r 75%|███████▌  | 6/8 [00:49<00:16,  8.42s/it]"
          ]
        },
        {
          "metadata": {
            "tags": null
          },
          "name": "stdout",
          "output_type": "stream",
          "text": [
            "training error:\n",
            "0.016803673014270153\n",
            "Model Done !\n",
            "harvesting states...\n",
            "fitting...\n"
          ]
        },
        {
          "metadata": {
            "tags": null
          },
          "name": "stderr",
          "output_type": "stream",
          "text": [
            "\r 88%|████████▊ | 7/8 [00:56<00:08,  8.07s/it]"
          ]
        },
        {
          "metadata": {
            "tags": null
          },
          "name": "stdout",
          "output_type": "stream",
          "text": [
            "training error:\n",
            "0.01649958151662838\n",
            "Model Done !\n",
            "harvesting states...\n",
            "fitting...\n"
          ]
        },
        {
          "metadata": {
            "tags": null
          },
          "name": "stderr",
          "output_type": "stream",
          "text": [
            "100%|██████████| 8/8 [01:05<00:00,  8.19s/it]\n"
          ]
        },
        {
          "metadata": {
            "tags": null
          },
          "name": "stdout",
          "output_type": "stream",
          "text": [
            "training error:\n",
            "0.016768837629575824\n",
            "Model Done !\n"
          ]
        },
        {
          "metadata": {
            "tags": null
          },
          "name": "stderr",
          "output_type": "stream",
          "text": [
            "Progress: 100%|██████████| 1769/1769 [00:05<00:00, 323.59it/s]\n",
            "[I 2023-09-04 08:08:35,598] Trial 16 finished with value: 0.07482018788032342 and parameters: {'n_reservoir': 734, 'sparsity': 0.01, 'spectral_radius': 0.5, 'noise': 0.009, 'look_back': 23}. Best is trial 12 with value: 0.053290075094445805.\n",
            "  0%|          | 0/8 [00:00<?, ?it/s]"
          ]
        },
        {
          "metadata": {
            "tags": null
          },
          "name": "stdout",
          "output_type": "stream",
          "text": [
            "harvesting states...\n",
            "fitting...\n"
          ]
        },
        {
          "metadata": {
            "tags": null
          },
          "name": "stderr",
          "output_type": "stream",
          "text": [
            "\r 12%|█▎        | 1/8 [00:14<01:44, 14.86s/it]"
          ]
        },
        {
          "metadata": {
            "tags": null
          },
          "name": "stdout",
          "output_type": "stream",
          "text": [
            "training error:\n",
            "0.015149679049333963\n",
            "Model Done !\n",
            "harvesting states...\n",
            "fitting...\n"
          ]
        },
        {
          "metadata": {
            "tags": null
          },
          "name": "stderr",
          "output_type": "stream",
          "text": [
            "\r 25%|██▌       | 2/8 [00:29<01:29, 14.99s/it]"
          ]
        },
        {
          "metadata": {
            "tags": null
          },
          "name": "stdout",
          "output_type": "stream",
          "text": [
            "training error:\n",
            "0.015107569881722814\n",
            "Model Done !\n",
            "harvesting states...\n",
            "fitting...\n"
          ]
        },
        {
          "metadata": {
            "tags": null
          },
          "name": "stderr",
          "output_type": "stream",
          "text": [
            "\r 38%|███▊      | 3/8 [00:44<01:13, 14.67s/it]"
          ]
        },
        {
          "metadata": {
            "tags": null
          },
          "name": "stdout",
          "output_type": "stream",
          "text": [
            "training error:\n",
            "0.015114397725197626\n",
            "Model Done !\n",
            "harvesting states...\n",
            "fitting...\n"
          ]
        },
        {
          "metadata": {
            "tags": null
          },
          "name": "stderr",
          "output_type": "stream",
          "text": [
            "\r 50%|█████     | 4/8 [00:58<00:58, 14.67s/it]"
          ]
        },
        {
          "metadata": {
            "tags": null
          },
          "name": "stdout",
          "output_type": "stream",
          "text": [
            "training error:\n",
            "0.01511855622130114\n",
            "Model Done !\n",
            "harvesting states...\n",
            "fitting...\n"
          ]
        },
        {
          "metadata": {
            "tags": null
          },
          "name": "stderr",
          "output_type": "stream",
          "text": [
            "\r 62%|██████▎   | 5/8 [01:13<00:43, 14.56s/it]"
          ]
        },
        {
          "metadata": {
            "tags": null
          },
          "name": "stdout",
          "output_type": "stream",
          "text": [
            "training error:\n",
            "0.01510931614549677\n",
            "Model Done !\n",
            "harvesting states...\n",
            "fitting...\n"
          ]
        },
        {
          "metadata": {
            "tags": null
          },
          "name": "stderr",
          "output_type": "stream",
          "text": [
            "\r 75%|███████▌  | 6/8 [01:27<00:28, 14.38s/it]"
          ]
        },
        {
          "metadata": {
            "tags": null
          },
          "name": "stdout",
          "output_type": "stream",
          "text": [
            "training error:\n",
            "0.015141652802667951\n",
            "Model Done !\n",
            "harvesting states...\n",
            "fitting...\n"
          ]
        },
        {
          "metadata": {
            "tags": null
          },
          "name": "stderr",
          "output_type": "stream",
          "text": [
            "\r 88%|████████▊ | 7/8 [01:41<00:14, 14.35s/it]"
          ]
        },
        {
          "metadata": {
            "tags": null
          },
          "name": "stdout",
          "output_type": "stream",
          "text": [
            "training error:\n",
            "0.015121475457849155\n",
            "Model Done !\n",
            "harvesting states...\n",
            "fitting...\n"
          ]
        },
        {
          "metadata": {
            "tags": null
          },
          "name": "stderr",
          "output_type": "stream",
          "text": [
            "100%|██████████| 8/8 [01:56<00:00, 14.54s/it]\n"
          ]
        },
        {
          "metadata": {
            "tags": null
          },
          "name": "stdout",
          "output_type": "stream",
          "text": [
            "training error:\n",
            "0.015096389704930505\n",
            "Model Done !\n"
          ]
        },
        {
          "metadata": {
            "tags": null
          },
          "name": "stderr",
          "output_type": "stream",
          "text": [
            "Progress: 100%|██████████| 1657/1657 [00:11<00:00, 144.46it/s]\n",
            "[I 2023-09-04 08:10:43,552] Trial 17 finished with value: 0.07602918108008008 and parameters: {'n_reservoir': 980, 'sparsity': 0.2, 'spectral_radius': 0.4, 'noise': 0.003, 'look_back': 135}. Best is trial 12 with value: 0.053290075094445805.\n",
            "  0%|          | 0/8 [00:00<?, ?it/s]"
          ]
        },
        {
          "metadata": {
            "tags": null
          },
          "name": "stdout",
          "output_type": "stream",
          "text": [
            "harvesting states...\n",
            "fitting...\n"
          ]
        },
        {
          "metadata": {
            "tags": null
          },
          "name": "stderr",
          "output_type": "stream",
          "text": [
            "\r 12%|█▎        | 1/8 [00:00<00:05,  1.31it/s]"
          ]
        },
        {
          "metadata": {
            "tags": null
          },
          "name": "stdout",
          "output_type": "stream",
          "text": [
            "training error:\n",
            "0.015408928332355968\n",
            "Model Done !\n",
            "harvesting states...\n",
            "fitting...\n"
          ]
        },
        {
          "metadata": {
            "tags": null
          },
          "name": "stderr",
          "output_type": "stream",
          "text": [
            "\r 25%|██▌       | 2/8 [00:01<00:04,  1.24it/s]"
          ]
        },
        {
          "metadata": {
            "tags": null
          },
          "name": "stdout",
          "output_type": "stream",
          "text": [
            "training error:\n",
            "0.017695808777226877\n",
            "Model Done !\n",
            "harvesting states...\n",
            "fitting...\n"
          ]
        },
        {
          "metadata": {
            "tags": null
          },
          "name": "stderr",
          "output_type": "stream",
          "text": [
            "\r 38%|███▊      | 3/8 [00:02<00:04,  1.17it/s]"
          ]
        },
        {
          "metadata": {
            "tags": null
          },
          "name": "stdout",
          "output_type": "stream",
          "text": [
            "training error:\n",
            "0.01820881266621389\n",
            "Model Done !\n",
            "harvesting states...\n",
            "fitting...\n"
          ]
        },
        {
          "metadata": {
            "tags": null
          },
          "name": "stderr",
          "output_type": "stream",
          "text": [
            "\r 50%|█████     | 4/8 [00:03<00:03,  1.19it/s]"
          ]
        },
        {
          "metadata": {
            "tags": null
          },
          "name": "stdout",
          "output_type": "stream",
          "text": [
            "training error:\n",
            "0.018412954757710008\n",
            "Model Done !\n",
            "harvesting states...\n",
            "fitting...\n"
          ]
        },
        {
          "metadata": {
            "tags": null
          },
          "name": "stderr",
          "output_type": "stream",
          "text": [
            "\r 62%|██████▎   | 5/8 [00:04<00:02,  1.17it/s]"
          ]
        },
        {
          "metadata": {
            "tags": null
          },
          "name": "stdout",
          "output_type": "stream",
          "text": [
            "training error:\n",
            "0.018495337648164658\n",
            "Model Done !\n",
            "harvesting states...\n",
            "fitting...\n"
          ]
        },
        {
          "metadata": {
            "tags": null
          },
          "name": "stderr",
          "output_type": "stream",
          "text": [
            "\r 75%|███████▌  | 6/8 [00:05<00:01,  1.05it/s]"
          ]
        },
        {
          "metadata": {
            "tags": null
          },
          "name": "stdout",
          "output_type": "stream",
          "text": [
            "training error:\n",
            "0.018564597491005787\n",
            "Model Done !\n",
            "harvesting states...\n",
            "fitting...\n"
          ]
        },
        {
          "metadata": {
            "tags": null
          },
          "name": "stderr",
          "output_type": "stream",
          "text": [
            "\r 88%|████████▊ | 7/8 [00:06<00:01,  1.02s/it]"
          ]
        },
        {
          "metadata": {
            "tags": null
          },
          "name": "stdout",
          "output_type": "stream",
          "text": [
            "training error:\n",
            "0.01857003989909802\n",
            "Model Done !\n",
            "harvesting states...\n",
            "fitting...\n"
          ]
        },
        {
          "metadata": {
            "tags": null
          },
          "name": "stderr",
          "output_type": "stream",
          "text": [
            "100%|██████████| 8/8 [00:07<00:00,  1.07it/s]\n"
          ]
        },
        {
          "metadata": {
            "tags": null
          },
          "name": "stdout",
          "output_type": "stream",
          "text": [
            "training error:\n",
            "0.018615962330813512\n",
            "Model Done !\n"
          ]
        },
        {
          "metadata": {
            "tags": null
          },
          "name": "stderr",
          "output_type": "stream",
          "text": [
            "Progress: 100%|██████████| 1581/1581 [00:00<00:00, 1716.91it/s]\n",
            "[I 2023-09-04 08:10:52,044] Trial 18 finished with value: 0.07298098840096252 and parameters: {'n_reservoir': 13, 'sparsity': 0.2, 'spectral_radius': 0.3, 'noise': 0.003, 'look_back': 211}. Best is trial 12 with value: 0.053290075094445805.\n",
            "  0%|          | 0/8 [00:00<?, ?it/s]"
          ]
        },
        {
          "metadata": {
            "tags": null
          },
          "name": "stdout",
          "output_type": "stream",
          "text": [
            "harvesting states...\n",
            "fitting...\n"
          ]
        },
        {
          "metadata": {
            "tags": null
          },
          "name": "stderr",
          "output_type": "stream",
          "text": [
            "\r 12%|█▎        | 1/8 [00:13<01:36, 13.78s/it]"
          ]
        },
        {
          "metadata": {
            "tags": null
          },
          "name": "stdout",
          "output_type": "stream",
          "text": [
            "training error:\n",
            "0.014845661731604575\n",
            "Model Done !\n",
            "harvesting states...\n",
            "fitting...\n"
          ]
        },
        {
          "metadata": {
            "tags": null
          },
          "name": "stderr",
          "output_type": "stream",
          "text": [
            "\r 25%|██▌       | 2/8 [00:27<01:21, 13.61s/it]"
          ]
        },
        {
          "metadata": {
            "tags": null
          },
          "name": "stdout",
          "output_type": "stream",
          "text": [
            "training error:\n",
            "0.02057775879827818\n",
            "Model Done !\n",
            "harvesting states...\n",
            "fitting...\n"
          ]
        },
        {
          "metadata": {
            "tags": null
          },
          "name": "stderr",
          "output_type": "stream",
          "text": [
            "\r 38%|███▊      | 3/8 [00:41<01:08, 13.71s/it]"
          ]
        },
        {
          "metadata": {
            "tags": null
          },
          "name": "stdout",
          "output_type": "stream",
          "text": [
            "training error:\n",
            "0.024304994990854527\n",
            "Model Done !\n",
            "harvesting states...\n",
            "fitting...\n"
          ]
        },
        {
          "metadata": {
            "tags": null
          },
          "name": "stderr",
          "output_type": "stream",
          "text": [
            "\r 50%|█████     | 4/8 [00:55<00:55, 13.80s/it]"
          ]
        },
        {
          "metadata": {
            "tags": null
          },
          "name": "stdout",
          "output_type": "stream",
          "text": [
            "training error:\n",
            "0.027025749857084298\n",
            "Model Done !\n",
            "harvesting states...\n",
            "fitting...\n"
          ]
        },
        {
          "metadata": {
            "tags": null
          },
          "name": "stderr",
          "output_type": "stream",
          "text": [
            "\r 62%|██████▎   | 5/8 [01:08<00:41, 13.76s/it]"
          ]
        },
        {
          "metadata": {
            "tags": null
          },
          "name": "stdout",
          "output_type": "stream",
          "text": [
            "training error:\n",
            "0.02914637426686008\n",
            "Model Done !\n",
            "harvesting states...\n",
            "fitting...\n"
          ]
        },
        {
          "metadata": {
            "tags": null
          },
          "name": "stderr",
          "output_type": "stream",
          "text": [
            "\r 75%|███████▌  | 6/8 [01:22<00:27, 13.74s/it]"
          ]
        },
        {
          "metadata": {
            "tags": null
          },
          "name": "stdout",
          "output_type": "stream",
          "text": [
            "training error:\n",
            "0.03088992110060797\n",
            "Model Done !\n",
            "harvesting states...\n",
            "fitting...\n"
          ]
        },
        {
          "metadata": {
            "tags": null
          },
          "name": "stderr",
          "output_type": "stream",
          "text": [
            "\r 88%|████████▊ | 7/8 [01:36<00:13, 13.70s/it]"
          ]
        },
        {
          "metadata": {
            "tags": null
          },
          "name": "stdout",
          "output_type": "stream",
          "text": [
            "training error:\n",
            "0.03209744368258137\n",
            "Model Done !\n",
            "harvesting states...\n",
            "fitting...\n"
          ]
        },
        {
          "metadata": {
            "tags": null
          },
          "name": "stderr",
          "output_type": "stream",
          "text": [
            "100%|██████████| 8/8 [01:50<00:00, 13.75s/it]\n"
          ]
        },
        {
          "metadata": {
            "tags": null
          },
          "name": "stdout",
          "output_type": "stream",
          "text": [
            "training error:\n",
            "0.03284969426698524\n",
            "Model Done !\n"
          ]
        },
        {
          "metadata": {
            "tags": null
          },
          "name": "stderr",
          "output_type": "stream",
          "text": [
            "Progress: 100%|██████████| 1471/1471 [00:09<00:00, 147.61it/s]\n",
            "[I 2023-09-04 08:12:52,178] Trial 19 finished with value: 0.05842874802126352 and parameters: {'n_reservoir': 844, 'sparsity': 0.2, 'spectral_radius': 10.0, 'noise': 0.002, 'look_back': 321}. Best is trial 12 with value: 0.053290075094445805.\n",
            "  0%|          | 0/8 [00:00<?, ?it/s]"
          ]
        },
        {
          "metadata": {
            "tags": null
          },
          "name": "stdout",
          "output_type": "stream",
          "text": [
            "harvesting states...\n",
            "fitting...\n"
          ]
        },
        {
          "metadata": {
            "tags": null
          },
          "name": "stderr",
          "output_type": "stream",
          "text": [
            "\r 12%|█▎        | 1/8 [00:10<01:14, 10.71s/it]"
          ]
        },
        {
          "metadata": {
            "tags": null
          },
          "name": "stdout",
          "output_type": "stream",
          "text": [
            "training error:\n",
            "0.014926335104373979\n",
            "Model Done !\n",
            "harvesting states...\n",
            "fitting...\n"
          ]
        },
        {
          "metadata": {
            "tags": null
          },
          "name": "stderr",
          "output_type": "stream",
          "text": [
            "\r 25%|██▌       | 2/8 [00:20<01:01, 10.24s/it]"
          ]
        },
        {
          "metadata": {
            "tags": null
          },
          "name": "stdout",
          "output_type": "stream",
          "text": [
            "training error:\n",
            "0.020694647227047357\n",
            "Model Done !\n",
            "harvesting states...\n",
            "fitting...\n"
          ]
        },
        {
          "metadata": {
            "tags": null
          },
          "name": "stderr",
          "output_type": "stream",
          "text": [
            "\r 38%|███▊      | 3/8 [00:30<00:51, 10.29s/it]"
          ]
        },
        {
          "metadata": {
            "tags": null
          },
          "name": "stdout",
          "output_type": "stream",
          "text": [
            "training error:\n",
            "0.024637678772566392\n",
            "Model Done !\n",
            "harvesting states...\n",
            "fitting...\n"
          ]
        },
        {
          "metadata": {
            "tags": null
          },
          "name": "stderr",
          "output_type": "stream",
          "text": [
            "\r 50%|█████     | 4/8 [00:41<00:41, 10.31s/it]"
          ]
        },
        {
          "metadata": {
            "tags": null
          },
          "name": "stdout",
          "output_type": "stream",
          "text": [
            "training error:\n",
            "0.02755584208667781\n",
            "Model Done !\n",
            "harvesting states...\n",
            "fitting...\n"
          ]
        },
        {
          "metadata": {
            "tags": null
          },
          "name": "stderr",
          "output_type": "stream",
          "text": [
            "\r 62%|██████▎   | 5/8 [00:51<00:31, 10.38s/it]"
          ]
        },
        {
          "metadata": {
            "tags": null
          },
          "name": "stdout",
          "output_type": "stream",
          "text": [
            "training error:\n",
            "0.02958160689764998\n",
            "Model Done !\n",
            "harvesting states...\n",
            "fitting...\n"
          ]
        },
        {
          "metadata": {
            "tags": null
          },
          "name": "stderr",
          "output_type": "stream",
          "text": [
            "\r 75%|███████▌  | 6/8 [01:02<00:20, 10.45s/it]"
          ]
        },
        {
          "metadata": {
            "tags": null
          },
          "name": "stdout",
          "output_type": "stream",
          "text": [
            "training error:\n",
            "0.0316742833489122\n",
            "Model Done !\n",
            "harvesting states...\n",
            "fitting...\n"
          ]
        },
        {
          "metadata": {
            "tags": null
          },
          "name": "stderr",
          "output_type": "stream",
          "text": [
            "\r 88%|████████▊ | 7/8 [01:12<00:10, 10.19s/it]"
          ]
        },
        {
          "metadata": {
            "tags": null
          },
          "name": "stdout",
          "output_type": "stream",
          "text": [
            "training error:\n",
            "0.032858737943352666\n",
            "Model Done !\n",
            "harvesting states...\n",
            "fitting...\n"
          ]
        },
        {
          "metadata": {
            "tags": null
          },
          "name": "stderr",
          "output_type": "stream",
          "text": [
            "100%|██████████| 8/8 [01:22<00:00, 10.34s/it]\n"
          ]
        },
        {
          "metadata": {
            "tags": null
          },
          "name": "stdout",
          "output_type": "stream",
          "text": [
            "training error:\n",
            "0.03389004237511754\n",
            "Model Done !\n"
          ]
        },
        {
          "metadata": {
            "tags": null
          },
          "name": "stderr",
          "output_type": "stream",
          "text": [
            "Progress: 100%|██████████| 1394/1394 [00:07<00:00, 194.03it/s]\n",
            "[I 2023-09-04 08:14:22,263] Trial 20 finished with value: 0.05689266528821353 and parameters: {'n_reservoir': 625, 'sparsity': 0.4, 'spectral_radius': 10.0, 'noise': 0.006, 'look_back': 398}. Best is trial 12 with value: 0.053290075094445805.\n",
            "  0%|          | 0/8 [00:00<?, ?it/s]"
          ]
        },
        {
          "metadata": {
            "tags": null
          },
          "name": "stdout",
          "output_type": "stream",
          "text": [
            "harvesting states...\n",
            "fitting...\n"
          ]
        },
        {
          "metadata": {
            "tags": null
          },
          "name": "stderr",
          "output_type": "stream",
          "text": [
            "\r 12%|█▎        | 1/8 [00:10<01:14, 10.68s/it]"
          ]
        },
        {
          "metadata": {
            "tags": null
          },
          "name": "stdout",
          "output_type": "stream",
          "text": [
            "training error:\n",
            "0.014871665052517042\n",
            "Model Done !\n",
            "harvesting states...\n",
            "fitting...\n"
          ]
        },
        {
          "metadata": {
            "tags": null
          },
          "name": "stderr",
          "output_type": "stream",
          "text": [
            "\r 25%|██▌       | 2/8 [00:20<01:01, 10.31s/it]"
          ]
        },
        {
          "metadata": {
            "tags": null
          },
          "name": "stdout",
          "output_type": "stream",
          "text": [
            "training error:\n",
            "0.020771473217685726\n",
            "Model Done !\n",
            "harvesting states...\n",
            "fitting...\n"
          ]
        },
        {
          "metadata": {
            "tags": null
          },
          "name": "stderr",
          "output_type": "stream",
          "text": [
            "\r 38%|███▊      | 3/8 [00:31<00:52, 10.53s/it]"
          ]
        },
        {
          "metadata": {
            "tags": null
          },
          "name": "stdout",
          "output_type": "stream",
          "text": [
            "training error:\n",
            "0.024709510057385243\n",
            "Model Done !\n",
            "harvesting states...\n",
            "fitting...\n"
          ]
        },
        {
          "metadata": {
            "tags": null
          },
          "name": "stderr",
          "output_type": "stream",
          "text": [
            "\r 50%|█████     | 4/8 [00:42<00:42, 10.73s/it]"
          ]
        },
        {
          "metadata": {
            "tags": null
          },
          "name": "stdout",
          "output_type": "stream",
          "text": [
            "training error:\n",
            "0.027735620081126275\n",
            "Model Done !\n",
            "harvesting states...\n",
            "fitting...\n"
          ]
        },
        {
          "metadata": {
            "tags": null
          },
          "name": "stderr",
          "output_type": "stream",
          "text": [
            "\r 62%|██████▎   | 5/8 [00:53<00:32, 10.79s/it]"
          ]
        },
        {
          "metadata": {
            "tags": null
          },
          "name": "stdout",
          "output_type": "stream",
          "text": [
            "training error:\n",
            "0.030031696349523355\n",
            "Model Done !\n",
            "harvesting states...\n",
            "fitting...\n"
          ]
        },
        {
          "metadata": {
            "tags": null
          },
          "name": "stderr",
          "output_type": "stream",
          "text": [
            "\r 75%|███████▌  | 6/8 [01:04<00:21, 10.80s/it]"
          ]
        },
        {
          "metadata": {
            "tags": null
          },
          "name": "stdout",
          "output_type": "stream",
          "text": [
            "training error:\n",
            "0.03172063789592631\n",
            "Model Done !\n",
            "harvesting states...\n",
            "fitting...\n"
          ]
        },
        {
          "metadata": {
            "tags": null
          },
          "name": "stderr",
          "output_type": "stream",
          "text": [
            "\r 88%|████████▊ | 7/8 [01:14<00:10, 10.47s/it]"
          ]
        },
        {
          "metadata": {
            "tags": null
          },
          "name": "stdout",
          "output_type": "stream",
          "text": [
            "training error:\n",
            "0.033229341640062915\n",
            "Model Done !\n",
            "harvesting states...\n",
            "fitting...\n"
          ]
        },
        {
          "metadata": {
            "tags": null
          },
          "name": "stderr",
          "output_type": "stream",
          "text": [
            "100%|██████████| 8/8 [01:25<00:00, 10.66s/it]\n"
          ]
        },
        {
          "metadata": {
            "tags": null
          },
          "name": "stdout",
          "output_type": "stream",
          "text": [
            "training error:\n",
            "0.034527180527284866\n",
            "Model Done !\n"
          ]
        },
        {
          "metadata": {
            "tags": null
          },
          "name": "stderr",
          "output_type": "stream",
          "text": [
            "Progress: 100%|██████████| 1397/1397 [00:07<00:00, 184.68it/s]\n",
            "[I 2023-09-04 08:15:55,269] Trial 21 finished with value: 0.06493126967774308 and parameters: {'n_reservoir': 648, 'sparsity': 0.4, 'spectral_radius': 10.0, 'noise': 0.006, 'look_back': 395}. Best is trial 12 with value: 0.053290075094445805.\n",
            "  0%|          | 0/8 [00:00<?, ?it/s]"
          ]
        },
        {
          "metadata": {
            "tags": null
          },
          "name": "stdout",
          "output_type": "stream",
          "text": [
            "harvesting states...\n",
            "fitting...\n"
          ]
        },
        {
          "metadata": {
            "tags": null
          },
          "name": "stderr",
          "output_type": "stream",
          "text": [
            "\r 12%|█▎        | 1/8 [00:11<01:21, 11.70s/it]"
          ]
        },
        {
          "metadata": {
            "tags": null
          },
          "name": "stdout",
          "output_type": "stream",
          "text": [
            "training error:\n",
            "0.014895792944220972\n",
            "Model Done !\n",
            "harvesting states...\n",
            "fitting...\n"
          ]
        },
        {
          "metadata": {
            "tags": null
          },
          "name": "stderr",
          "output_type": "stream",
          "text": [
            "\r 25%|██▌       | 2/8 [00:22<01:07, 11.22s/it]"
          ]
        },
        {
          "metadata": {
            "tags": null
          },
          "name": "stdout",
          "output_type": "stream",
          "text": [
            "training error:\n",
            "0.020657227224725357\n",
            "Model Done !\n",
            "harvesting states...\n",
            "fitting...\n"
          ]
        },
        {
          "metadata": {
            "tags": null
          },
          "name": "stderr",
          "output_type": "stream",
          "text": [
            "\r 38%|███▊      | 3/8 [00:32<00:54, 10.83s/it]"
          ]
        },
        {
          "metadata": {
            "tags": null
          },
          "name": "stdout",
          "output_type": "stream",
          "text": [
            "training error:\n",
            "0.024534717495283118\n",
            "Model Done !\n",
            "harvesting states...\n",
            "fitting...\n"
          ]
        },
        {
          "metadata": {
            "tags": null
          },
          "name": "stderr",
          "output_type": "stream",
          "text": [
            "\r 50%|█████     | 4/8 [00:44<00:44, 11.05s/it]"
          ]
        },
        {
          "metadata": {
            "tags": null
          },
          "name": "stdout",
          "output_type": "stream",
          "text": [
            "training error:\n",
            "0.027620325063982827\n",
            "Model Done !\n",
            "harvesting states...\n",
            "fitting...\n"
          ]
        },
        {
          "metadata": {
            "tags": null
          },
          "name": "stderr",
          "output_type": "stream",
          "text": [
            "\r 62%|██████▎   | 5/8 [00:55<00:32, 10.98s/it]"
          ]
        },
        {
          "metadata": {
            "tags": null
          },
          "name": "stdout",
          "output_type": "stream",
          "text": [
            "training error:\n",
            "0.02960811391558424\n",
            "Model Done !\n",
            "harvesting states...\n",
            "fitting...\n"
          ]
        },
        {
          "metadata": {
            "tags": null
          },
          "name": "stderr",
          "output_type": "stream",
          "text": [
            "\r 75%|███████▌  | 6/8 [01:05<00:21, 10.86s/it]"
          ]
        },
        {
          "metadata": {
            "tags": null
          },
          "name": "stdout",
          "output_type": "stream",
          "text": [
            "training error:\n",
            "0.031272460670304224\n",
            "Model Done !\n",
            "harvesting states...\n",
            "fitting...\n"
          ]
        },
        {
          "metadata": {
            "tags": null
          },
          "name": "stderr",
          "output_type": "stream",
          "text": [
            "\r 88%|████████▊ | 7/8 [01:16<00:10, 10.96s/it]"
          ]
        },
        {
          "metadata": {
            "tags": null
          },
          "name": "stdout",
          "output_type": "stream",
          "text": [
            "training error:\n",
            "0.03292586616699728\n",
            "Model Done !\n",
            "harvesting states...\n",
            "fitting...\n"
          ]
        },
        {
          "metadata": {
            "tags": null
          },
          "name": "stderr",
          "output_type": "stream",
          "text": [
            "100%|██████████| 8/8 [01:26<00:00, 10.80s/it]\n"
          ]
        },
        {
          "metadata": {
            "tags": null
          },
          "name": "stdout",
          "output_type": "stream",
          "text": [
            "training error:\n",
            "0.03358011993869053\n",
            "Model Done !\n"
          ]
        },
        {
          "metadata": {
            "tags": null
          },
          "name": "stderr",
          "output_type": "stream",
          "text": [
            "Progress: 100%|██████████| 1377/1377 [00:07<00:00, 184.86it/s]\n",
            "[I 2023-09-04 08:17:29,269] Trial 22 finished with value: 0.06487803581882766 and parameters: {'n_reservoir': 634, 'sparsity': 0.4, 'spectral_radius': 10.0, 'noise': 0.006, 'look_back': 415}. Best is trial 12 with value: 0.053290075094445805.\n",
            "  0%|          | 0/8 [00:00<?, ?it/s]"
          ]
        },
        {
          "metadata": {
            "tags": null
          },
          "name": "stdout",
          "output_type": "stream",
          "text": [
            "harvesting states...\n",
            "fitting...\n"
          ]
        },
        {
          "metadata": {
            "tags": null
          },
          "name": "stderr",
          "output_type": "stream",
          "text": [
            "\r 12%|█▎        | 1/8 [00:13<01:31, 13.04s/it]"
          ]
        },
        {
          "metadata": {
            "tags": null
          },
          "name": "stdout",
          "output_type": "stream",
          "text": [
            "training error:\n",
            "0.014846629827659868\n",
            "Model Done !\n",
            "harvesting states...\n",
            "fitting...\n"
          ]
        },
        {
          "metadata": {
            "tags": null
          },
          "name": "stderr",
          "output_type": "stream",
          "text": [
            "\r 25%|██▌       | 2/8 [00:25<01:17, 12.90s/it]"
          ]
        },
        {
          "metadata": {
            "tags": null
          },
          "name": "stdout",
          "output_type": "stream",
          "text": [
            "training error:\n",
            "0.020662152448289\n",
            "Model Done !\n",
            "harvesting states...\n",
            "fitting...\n"
          ]
        },
        {
          "metadata": {
            "tags": null
          },
          "name": "stderr",
          "output_type": "stream",
          "text": [
            "\r 38%|███▊      | 3/8 [00:38<01:04, 12.81s/it]"
          ]
        },
        {
          "metadata": {
            "tags": null
          },
          "name": "stdout",
          "output_type": "stream",
          "text": [
            "training error:\n",
            "0.02435873571296708\n",
            "Model Done !\n",
            "harvesting states...\n",
            "fitting...\n"
          ]
        },
        {
          "metadata": {
            "tags": null
          },
          "name": "stderr",
          "output_type": "stream",
          "text": [
            "\r 50%|█████     | 4/8 [00:51<00:51, 12.80s/it]"
          ]
        },
        {
          "metadata": {
            "tags": null
          },
          "name": "stdout",
          "output_type": "stream",
          "text": [
            "training error:\n",
            "0.027361819112764578\n",
            "Model Done !\n",
            "harvesting states...\n",
            "fitting...\n"
          ]
        },
        {
          "metadata": {
            "tags": null
          },
          "name": "stderr",
          "output_type": "stream",
          "text": [
            "\r 62%|██████▎   | 5/8 [01:03<00:37, 12.65s/it]"
          ]
        },
        {
          "metadata": {
            "tags": null
          },
          "name": "stdout",
          "output_type": "stream",
          "text": [
            "training error:\n",
            "0.029330301597959997\n",
            "Model Done !\n",
            "harvesting states...\n",
            "fitting...\n"
          ]
        },
        {
          "metadata": {
            "tags": null
          },
          "name": "stderr",
          "output_type": "stream",
          "text": [
            "\r 75%|███████▌  | 6/8 [01:16<00:25, 12.76s/it]"
          ]
        },
        {
          "metadata": {
            "tags": null
          },
          "name": "stdout",
          "output_type": "stream",
          "text": [
            "training error:\n",
            "0.03054662551680987\n",
            "Model Done !\n",
            "harvesting states...\n",
            "fitting...\n"
          ]
        },
        {
          "metadata": {
            "tags": null
          },
          "name": "stderr",
          "output_type": "stream",
          "text": [
            "\r 88%|████████▊ | 7/8 [01:29<00:12, 12.72s/it]"
          ]
        },
        {
          "metadata": {
            "tags": null
          },
          "name": "stdout",
          "output_type": "stream",
          "text": [
            "training error:\n",
            "0.03195873626411535\n",
            "Model Done !\n",
            "harvesting states...\n",
            "fitting...\n"
          ]
        },
        {
          "metadata": {
            "tags": null
          },
          "name": "stderr",
          "output_type": "stream",
          "text": [
            "100%|██████████| 8/8 [01:42<00:00, 12.78s/it]\n"
          ]
        },
        {
          "metadata": {
            "tags": null
          },
          "name": "stdout",
          "output_type": "stream",
          "text": [
            "training error:\n",
            "0.03284873897285059\n",
            "Model Done !\n"
          ]
        },
        {
          "metadata": {
            "tags": null
          },
          "name": "stderr",
          "output_type": "stream",
          "text": [
            "Progress: 100%|██████████| 1461/1461 [00:07<00:00, 184.75it/s]\n",
            "[I 2023-09-04 08:19:19,583] Trial 23 finished with value: 0.05940389736386874 and parameters: {'n_reservoir': 787, 'sparsity': 0.4, 'spectral_radius': 10.0, 'noise': 0.001, 'look_back': 331}. Best is trial 12 with value: 0.053290075094445805.\n",
            "  0%|          | 0/8 [00:00<?, ?it/s]"
          ]
        },
        {
          "metadata": {
            "tags": null
          },
          "name": "stdout",
          "output_type": "stream",
          "text": [
            "harvesting states...\n",
            "fitting...\n"
          ]
        },
        {
          "metadata": {
            "tags": null
          },
          "name": "stderr",
          "output_type": "stream",
          "text": [
            "\r 12%|█▎        | 1/8 [00:11<01:17, 11.06s/it]"
          ]
        },
        {
          "metadata": {
            "tags": null
          },
          "name": "stdout",
          "output_type": "stream",
          "text": [
            "training error:\n",
            "0.015774788429060188\n",
            "Model Done !\n",
            "harvesting states...\n",
            "fitting...\n"
          ]
        },
        {
          "metadata": {
            "tags": null
          },
          "name": "stderr",
          "output_type": "stream",
          "text": [
            "\r 25%|██▌       | 2/8 [00:22<01:06, 11.15s/it]"
          ]
        },
        {
          "metadata": {
            "tags": null
          },
          "name": "stdout",
          "output_type": "stream",
          "text": [
            "training error:\n",
            "0.01585158790884239\n",
            "Model Done !\n",
            "harvesting states...\n",
            "fitting...\n"
          ]
        },
        {
          "metadata": {
            "tags": null
          },
          "name": "stderr",
          "output_type": "stream",
          "text": [
            "\r 38%|███▊      | 3/8 [00:33<00:56, 11.21s/it]"
          ]
        },
        {
          "metadata": {
            "tags": null
          },
          "name": "stdout",
          "output_type": "stream",
          "text": [
            "training error:\n",
            "0.01579700947298094\n",
            "Model Done !\n",
            "harvesting states...\n",
            "fitting...\n"
          ]
        },
        {
          "metadata": {
            "tags": null
          },
          "name": "stderr",
          "output_type": "stream",
          "text": [
            "\r 50%|█████     | 4/8 [00:44<00:44, 11.14s/it]"
          ]
        },
        {
          "metadata": {
            "tags": null
          },
          "name": "stdout",
          "output_type": "stream",
          "text": [
            "training error:\n",
            "0.015750472264705426\n",
            "Model Done !\n",
            "harvesting states...\n",
            "fitting...\n"
          ]
        },
        {
          "metadata": {
            "tags": null
          },
          "name": "stderr",
          "output_type": "stream",
          "text": [
            "\r 62%|██████▎   | 5/8 [00:55<00:33, 11.08s/it]"
          ]
        },
        {
          "metadata": {
            "tags": null
          },
          "name": "stdout",
          "output_type": "stream",
          "text": [
            "training error:\n",
            "0.015755722496639937\n",
            "Model Done !\n",
            "harvesting states...\n",
            "fitting...\n"
          ]
        },
        {
          "metadata": {
            "tags": null
          },
          "name": "stderr",
          "output_type": "stream",
          "text": [
            "\r 75%|███████▌  | 6/8 [01:05<00:21, 10.82s/it]"
          ]
        },
        {
          "metadata": {
            "tags": null
          },
          "name": "stdout",
          "output_type": "stream",
          "text": [
            "training error:\n",
            "0.015679106123063606\n",
            "Model Done !\n",
            "harvesting states...\n",
            "fitting...\n"
          ]
        },
        {
          "metadata": {
            "tags": null
          },
          "name": "stderr",
          "output_type": "stream",
          "text": [
            "\r 88%|████████▊ | 7/8 [01:16<00:10, 10.87s/it]"
          ]
        },
        {
          "metadata": {
            "tags": null
          },
          "name": "stdout",
          "output_type": "stream",
          "text": [
            "training error:\n",
            "0.015656429337492596\n",
            "Model Done !\n",
            "harvesting states...\n",
            "fitting...\n"
          ]
        },
        {
          "metadata": {
            "tags": null
          },
          "name": "stderr",
          "output_type": "stream",
          "text": [
            "100%|██████████| 8/8 [01:28<00:00, 11.04s/it]\n"
          ]
        },
        {
          "metadata": {
            "tags": null
          },
          "name": "stdout",
          "output_type": "stream",
          "text": [
            "training error:\n",
            "0.015709215139373896\n",
            "Model Done !\n"
          ]
        },
        {
          "metadata": {
            "tags": null
          },
          "name": "stderr",
          "output_type": "stream",
          "text": [
            "Progress: 100%|██████████| 1737/1737 [00:09<00:00, 181.39it/s]\n",
            "[I 2023-09-04 08:20:57,657] Trial 24 finished with value: 0.08650579669111884 and parameters: {'n_reservoir': 876, 'sparsity': 0.01, 'spectral_radius': 0.3, 'noise': 0.005, 'look_back': 55}. Best is trial 12 with value: 0.053290075094445805.\n",
            "  0%|          | 0/8 [00:00<?, ?it/s]"
          ]
        },
        {
          "metadata": {
            "tags": null
          },
          "name": "stdout",
          "output_type": "stream",
          "text": [
            "harvesting states...\n",
            "fitting...\n"
          ]
        },
        {
          "metadata": {
            "tags": null
          },
          "name": "stderr",
          "output_type": "stream",
          "text": [
            "\r 12%|█▎        | 1/8 [00:06<00:46,  6.61s/it]"
          ]
        },
        {
          "metadata": {
            "tags": null
          },
          "name": "stdout",
          "output_type": "stream",
          "text": [
            "training error:\n",
            "0.015428323433995233\n",
            "Model Done !\n",
            "harvesting states...\n",
            "fitting...\n"
          ]
        },
        {
          "metadata": {
            "tags": null
          },
          "name": "stderr",
          "output_type": "stream",
          "text": [
            "\r 25%|██▌       | 2/8 [00:14<00:45,  7.60s/it]"
          ]
        },
        {
          "metadata": {
            "tags": null
          },
          "name": "stdout",
          "output_type": "stream",
          "text": [
            "training error:\n",
            "0.01541368446147528\n",
            "Model Done !\n",
            "harvesting states...\n",
            "fitting...\n"
          ]
        },
        {
          "metadata": {
            "tags": null
          },
          "name": "stderr",
          "output_type": "stream",
          "text": [
            "\r 38%|███▊      | 3/8 [00:21<00:36,  7.33s/it]"
          ]
        },
        {
          "metadata": {
            "tags": null
          },
          "name": "stdout",
          "output_type": "stream",
          "text": [
            "training error:\n",
            "0.015457805567028896\n",
            "Model Done !\n",
            "harvesting states...\n",
            "fitting...\n"
          ]
        },
        {
          "metadata": {
            "tags": null
          },
          "name": "stderr",
          "output_type": "stream",
          "text": [
            "\r 50%|█████     | 4/8 [00:30<00:31,  7.81s/it]"
          ]
        },
        {
          "metadata": {
            "tags": null
          },
          "name": "stdout",
          "output_type": "stream",
          "text": [
            "training error:\n",
            "0.015409231315608085\n",
            "Model Done !\n",
            "harvesting states...\n",
            "fitting...\n"
          ]
        },
        {
          "metadata": {
            "tags": null
          },
          "name": "stderr",
          "output_type": "stream",
          "text": [
            "\r 62%|██████▎   | 5/8 [00:38<00:23,  7.95s/it]"
          ]
        },
        {
          "metadata": {
            "tags": null
          },
          "name": "stdout",
          "output_type": "stream",
          "text": [
            "training error:\n",
            "0.015428635526675904\n",
            "Model Done !\n",
            "harvesting states...\n",
            "fitting...\n"
          ]
        },
        {
          "metadata": {
            "tags": null
          },
          "name": "stderr",
          "output_type": "stream",
          "text": [
            "\r 75%|███████▌  | 6/8 [00:45<00:15,  7.56s/it]"
          ]
        },
        {
          "metadata": {
            "tags": null
          },
          "name": "stdout",
          "output_type": "stream",
          "text": [
            "training error:\n",
            "0.015420662318884545\n",
            "Model Done !\n",
            "harvesting states...\n",
            "fitting...\n"
          ]
        },
        {
          "metadata": {
            "tags": null
          },
          "name": "stderr",
          "output_type": "stream",
          "text": [
            "\r 88%|████████▊ | 7/8 [00:53<00:07,  7.65s/it]"
          ]
        },
        {
          "metadata": {
            "tags": null
          },
          "name": "stdout",
          "output_type": "stream",
          "text": [
            "training error:\n",
            "0.015390643756583354\n",
            "Model Done !\n",
            "harvesting states...\n",
            "fitting...\n"
          ]
        },
        {
          "metadata": {
            "tags": null
          },
          "name": "stderr",
          "output_type": "stream",
          "text": [
            "100%|██████████| 8/8 [01:00<00:00,  7.53s/it]\n"
          ]
        },
        {
          "metadata": {
            "tags": null
          },
          "name": "stdout",
          "output_type": "stream",
          "text": [
            "training error:\n",
            "0.015347896778036703\n",
            "Model Done !\n"
          ]
        },
        {
          "metadata": {
            "tags": null
          },
          "name": "stderr",
          "output_type": "stream",
          "text": [
            "Progress: 100%|██████████| 1678/1678 [00:06<00:00, 266.43it/s]\n",
            "[I 2023-09-04 08:22:04,325] Trial 25 finished with value: 0.0745447015344664 and parameters: {'n_reservoir': 634, 'sparsity': 0.3, 'spectral_radius': 0.5, 'noise': 0.009, 'look_back': 114}. Best is trial 12 with value: 0.053290075094445805.\n",
            "  0%|          | 0/8 [00:00<?, ?it/s]"
          ]
        },
        {
          "metadata": {
            "tags": null
          },
          "name": "stdout",
          "output_type": "stream",
          "text": [
            "harvesting states...\n",
            "fitting...\n"
          ]
        },
        {
          "metadata": {
            "tags": null
          },
          "name": "stderr",
          "output_type": "stream",
          "text": [
            "\r 12%|█▎        | 1/8 [00:19<02:14, 19.26s/it]"
          ]
        },
        {
          "metadata": {
            "tags": null
          },
          "name": "stdout",
          "output_type": "stream",
          "text": [
            "training error:\n",
            "0.014631017298023834\n",
            "Model Done !\n",
            "harvesting states...\n",
            "fitting...\n"
          ]
        },
        {
          "metadata": {
            "tags": null
          },
          "name": "stderr",
          "output_type": "stream",
          "text": [
            "\r 25%|██▌       | 2/8 [00:40<02:03, 20.58s/it]"
          ]
        },
        {
          "metadata": {
            "tags": null
          },
          "name": "stdout",
          "output_type": "stream",
          "text": [
            "training error:\n",
            "0.014759026960336352\n",
            "Model Done !\n",
            "harvesting states...\n",
            "fitting...\n"
          ]
        },
        {
          "metadata": {
            "tags": null
          },
          "name": "stderr",
          "output_type": "stream",
          "text": [
            "\r 38%|███▊      | 3/8 [01:00<01:39, 19.98s/it]"
          ]
        },
        {
          "metadata": {
            "tags": null
          },
          "name": "stdout",
          "output_type": "stream",
          "text": [
            "training error:\n",
            "0.014772658031494804\n",
            "Model Done !\n",
            "harvesting states...\n",
            "fitting...\n"
          ]
        },
        {
          "metadata": {
            "tags": null
          },
          "name": "stderr",
          "output_type": "stream",
          "text": [
            "\r 50%|█████     | 4/8 [01:20<01:21, 20.27s/it]"
          ]
        },
        {
          "metadata": {
            "tags": null
          },
          "name": "stdout",
          "output_type": "stream",
          "text": [
            "training error:\n",
            "0.014799428530485898\n",
            "Model Done !\n",
            "harvesting states...\n",
            "fitting...\n"
          ]
        },
        {
          "metadata": {
            "tags": null
          },
          "name": "stderr",
          "output_type": "stream",
          "text": [
            "\r 62%|██████▎   | 5/8 [01:40<00:59, 19.95s/it]"
          ]
        },
        {
          "metadata": {
            "tags": null
          },
          "name": "stdout",
          "output_type": "stream",
          "text": [
            "training error:\n",
            "0.014820632293543879\n",
            "Model Done !\n",
            "harvesting states...\n",
            "fitting...\n"
          ]
        },
        {
          "metadata": {
            "tags": null
          },
          "name": "stderr",
          "output_type": "stream",
          "text": [
            "\r 75%|███████▌  | 6/8 [02:00<00:40, 20.23s/it]"
          ]
        },
        {
          "metadata": {
            "tags": null
          },
          "name": "stdout",
          "output_type": "stream",
          "text": [
            "training error:\n",
            "0.014832628887327443\n",
            "Model Done !\n",
            "harvesting states...\n",
            "fitting...\n"
          ]
        },
        {
          "metadata": {
            "tags": null
          },
          "name": "stderr",
          "output_type": "stream",
          "text": [
            "\r 88%|████████▊ | 7/8 [02:20<00:20, 20.09s/it]"
          ]
        },
        {
          "metadata": {
            "tags": null
          },
          "name": "stdout",
          "output_type": "stream",
          "text": [
            "training error:\n",
            "0.014790156664868555\n",
            "Model Done !\n",
            "harvesting states...\n",
            "fitting...\n"
          ]
        },
        {
          "metadata": {
            "tags": null
          },
          "name": "stderr",
          "output_type": "stream",
          "text": [
            "100%|██████████| 8/8 [02:41<00:00, 20.16s/it]\n"
          ]
        },
        {
          "metadata": {
            "tags": null
          },
          "name": "stdout",
          "output_type": "stream",
          "text": [
            "training error:\n",
            "0.014794384735172632\n",
            "Model Done !\n"
          ]
        },
        {
          "metadata": {
            "tags": null
          },
          "name": "stderr",
          "output_type": "stream",
          "text": [
            "Progress: 100%|██████████| 1296/1296 [00:12<00:00, 102.61it/s]\n",
            "[I 2023-09-04 08:24:58,472] Trial 26 finished with value: 0.07835992872035802 and parameters: {'n_reservoir': 933, 'sparsity': 0.1, 'spectral_radius': 1.25, 'noise': 0.006, 'look_back': 496}. Best is trial 12 with value: 0.053290075094445805.\n",
            "  0%|          | 0/8 [00:00<?, ?it/s]"
          ]
        },
        {
          "metadata": {
            "tags": null
          },
          "name": "stdout",
          "output_type": "stream",
          "text": [
            "harvesting states...\n",
            "fitting...\n"
          ]
        },
        {
          "metadata": {
            "tags": null
          },
          "name": "stderr",
          "output_type": "stream",
          "text": [
            "\r 12%|█▎        | 1/8 [00:11<01:21, 11.66s/it]"
          ]
        },
        {
          "metadata": {
            "tags": null
          },
          "name": "stdout",
          "output_type": "stream",
          "text": [
            "training error:\n",
            "0.015122676586209692\n",
            "Model Done !\n",
            "harvesting states...\n",
            "fitting...\n"
          ]
        },
        {
          "metadata": {
            "tags": null
          },
          "name": "stderr",
          "output_type": "stream",
          "text": [
            "\r 25%|██▌       | 2/8 [00:23<01:09, 11.60s/it]"
          ]
        },
        {
          "metadata": {
            "tags": null
          },
          "name": "stdout",
          "output_type": "stream",
          "text": [
            "training error:\n",
            "0.015113010611580104\n",
            "Model Done !\n",
            "harvesting states...\n",
            "fitting...\n"
          ]
        },
        {
          "metadata": {
            "tags": null
          },
          "name": "stderr",
          "output_type": "stream",
          "text": [
            "\r 38%|███▊      | 3/8 [00:33<00:55, 11.17s/it]"
          ]
        },
        {
          "metadata": {
            "tags": null
          },
          "name": "stdout",
          "output_type": "stream",
          "text": [
            "training error:\n",
            "0.015133637306649062\n",
            "Model Done !\n",
            "harvesting states...\n",
            "fitting...\n"
          ]
        },
        {
          "metadata": {
            "tags": null
          },
          "name": "stderr",
          "output_type": "stream",
          "text": [
            "\r 50%|█████     | 4/8 [00:45<00:45, 11.46s/it]"
          ]
        },
        {
          "metadata": {
            "tags": null
          },
          "name": "stdout",
          "output_type": "stream",
          "text": [
            "training error:\n",
            "0.015122294995618039\n",
            "Model Done !\n",
            "harvesting states...\n",
            "fitting...\n"
          ]
        },
        {
          "metadata": {
            "tags": null
          },
          "name": "stderr",
          "output_type": "stream",
          "text": [
            "\r 62%|██████▎   | 5/8 [00:57<00:34, 11.63s/it]"
          ]
        },
        {
          "metadata": {
            "tags": null
          },
          "name": "stdout",
          "output_type": "stream",
          "text": [
            "training error:\n",
            "0.015136562002121958\n",
            "Model Done !\n",
            "harvesting states...\n",
            "fitting...\n"
          ]
        },
        {
          "metadata": {
            "tags": null
          },
          "name": "stderr",
          "output_type": "stream",
          "text": [
            "\r 75%|███████▌  | 6/8 [01:09<00:23, 11.66s/it]"
          ]
        },
        {
          "metadata": {
            "tags": null
          },
          "name": "stdout",
          "output_type": "stream",
          "text": [
            "training error:\n",
            "0.015187595729512603\n",
            "Model Done !\n",
            "harvesting states...\n",
            "fitting...\n"
          ]
        },
        {
          "metadata": {
            "tags": null
          },
          "name": "stderr",
          "output_type": "stream",
          "text": [
            "\r 88%|████████▊ | 7/8 [01:20<00:11, 11.55s/it]"
          ]
        },
        {
          "metadata": {
            "tags": null
          },
          "name": "stdout",
          "output_type": "stream",
          "text": [
            "training error:\n",
            "0.015236686469456777\n",
            "Model Done !\n",
            "harvesting states...\n",
            "fitting...\n"
          ]
        },
        {
          "metadata": {
            "tags": null
          },
          "name": "stderr",
          "output_type": "stream",
          "text": [
            "100%|██████████| 8/8 [01:32<00:00, 11.51s/it]\n"
          ]
        },
        {
          "metadata": {
            "tags": null
          },
          "name": "stdout",
          "output_type": "stream",
          "text": [
            "training error:\n",
            "0.015181879628096142\n",
            "Model Done !\n"
          ]
        },
        {
          "metadata": {
            "tags": null
          },
          "name": "stderr",
          "output_type": "stream",
          "text": [
            "Progress: 100%|██████████| 1618/1618 [00:07<00:00, 205.85it/s]\n",
            "[I 2023-09-04 08:26:38,595] Trial 27 finished with value: 0.07565113270723513 and parameters: {'n_reservoir': 779, 'sparsity': 0.5, 'spectral_radius': 1, 'noise': 0.003, 'look_back': 174}. Best is trial 12 with value: 0.053290075094445805.\n",
            "  0%|          | 0/8 [00:00<?, ?it/s]"
          ]
        },
        {
          "metadata": {
            "tags": null
          },
          "name": "stdout",
          "output_type": "stream",
          "text": [
            "harvesting states...\n",
            "fitting...\n"
          ]
        },
        {
          "metadata": {
            "tags": null
          },
          "name": "stderr",
          "output_type": "stream",
          "text": [
            "\r 12%|█▎        | 1/8 [00:05<00:35,  5.13s/it]"
          ]
        },
        {
          "metadata": {
            "tags": null
          },
          "name": "stdout",
          "output_type": "stream",
          "text": [
            "training error:\n",
            "0.016270682641117477\n",
            "Model Done !\n",
            "harvesting states...\n",
            "fitting...\n"
          ]
        },
        {
          "metadata": {
            "tags": null
          },
          "name": "stderr",
          "output_type": "stream",
          "text": [
            "\r 25%|██▌       | 2/8 [00:08<00:26,  4.35s/it]"
          ]
        },
        {
          "metadata": {
            "tags": null
          },
          "name": "stdout",
          "output_type": "stream",
          "text": [
            "training error:\n",
            "0.01629366670540364\n",
            "Model Done !\n",
            "harvesting states...\n",
            "fitting...\n"
          ]
        },
        {
          "metadata": {
            "tags": null
          },
          "name": "stderr",
          "output_type": "stream",
          "text": [
            "\r 38%|███▊      | 3/8 [00:12<00:20,  4.04s/it]"
          ]
        },
        {
          "metadata": {
            "tags": null
          },
          "name": "stdout",
          "output_type": "stream",
          "text": [
            "training error:\n",
            "0.016092382130240446\n",
            "Model Done !\n",
            "harvesting states...\n",
            "fitting...\n"
          ]
        },
        {
          "metadata": {
            "tags": null
          },
          "name": "stderr",
          "output_type": "stream",
          "text": [
            "\r 50%|█████     | 4/8 [00:17<00:17,  4.40s/it]"
          ]
        },
        {
          "metadata": {
            "tags": null
          },
          "name": "stdout",
          "output_type": "stream",
          "text": [
            "training error:\n",
            "0.016140819199637405\n",
            "Model Done !\n",
            "harvesting states...\n",
            "fitting...\n"
          ]
        },
        {
          "metadata": {
            "tags": null
          },
          "name": "stderr",
          "output_type": "stream",
          "text": [
            "\r 62%|██████▎   | 5/8 [00:21<00:12,  4.13s/it]"
          ]
        },
        {
          "metadata": {
            "tags": null
          },
          "name": "stdout",
          "output_type": "stream",
          "text": [
            "training error:\n",
            "0.016070815008786717\n",
            "Model Done !\n",
            "harvesting states...\n",
            "fitting...\n"
          ]
        },
        {
          "metadata": {
            "tags": null
          },
          "name": "stderr",
          "output_type": "stream",
          "text": [
            "\r 75%|███████▌  | 6/8 [00:24<00:07,  3.94s/it]"
          ]
        },
        {
          "metadata": {
            "tags": null
          },
          "name": "stdout",
          "output_type": "stream",
          "text": [
            "training error:\n",
            "0.016033793509038705\n",
            "Model Done !\n",
            "harvesting states...\n",
            "fitting...\n"
          ]
        },
        {
          "metadata": {
            "tags": null
          },
          "name": "stderr",
          "output_type": "stream",
          "text": [
            "\r 88%|████████▊ | 7/8 [00:28<00:04,  4.01s/it]"
          ]
        },
        {
          "metadata": {
            "tags": null
          },
          "name": "stdout",
          "output_type": "stream",
          "text": [
            "training error:\n",
            "0.01604174397123575\n",
            "Model Done !\n",
            "harvesting states...\n",
            "fitting...\n"
          ]
        },
        {
          "metadata": {
            "tags": null
          },
          "name": "stderr",
          "output_type": "stream",
          "text": [
            "100%|██████████| 8/8 [00:33<00:00,  4.19s/it]\n"
          ]
        },
        {
          "metadata": {
            "tags": null
          },
          "name": "stdout",
          "output_type": "stream",
          "text": [
            "training error:\n",
            "0.015975204671286415\n",
            "Model Done !\n"
          ]
        },
        {
          "metadata": {
            "tags": null
          },
          "name": "stderr",
          "output_type": "stream",
          "text": [
            "Progress: 100%|██████████| 1745/1745 [00:03<00:00, 538.20it/s]\n",
            "[I 2023-09-04 08:27:15,471] Trial 28 finished with value: 0.07515931463054899 and parameters: {'n_reservoir': 429, 'sparsity': 0.4, 'spectral_radius': 0.8, 'noise': 0.003, 'look_back': 47}. Best is trial 12 with value: 0.053290075094445805.\n",
            "  0%|          | 0/8 [00:00<?, ?it/s]"
          ]
        },
        {
          "metadata": {
            "tags": null
          },
          "name": "stdout",
          "output_type": "stream",
          "text": [
            "harvesting states...\n",
            "fitting...\n"
          ]
        },
        {
          "metadata": {
            "tags": null
          },
          "name": "stderr",
          "output_type": "stream",
          "text": [
            "\r 12%|█▎        | 1/8 [00:03<00:27,  3.86s/it]"
          ]
        },
        {
          "metadata": {
            "tags": null
          },
          "name": "stdout",
          "output_type": "stream",
          "text": [
            "training error:\n",
            "0.015158420701300777\n",
            "Model Done !\n",
            "harvesting states...\n",
            "fitting...\n"
          ]
        },
        {
          "metadata": {
            "tags": null
          },
          "name": "stderr",
          "output_type": "stream",
          "text": [
            "\r 25%|██▌       | 2/8 [00:09<00:29,  4.84s/it]"
          ]
        },
        {
          "metadata": {
            "tags": null
          },
          "name": "stdout",
          "output_type": "stream",
          "text": [
            "training error:\n",
            "0.015352828956355974\n",
            "Model Done !\n",
            "harvesting states...\n",
            "fitting...\n"
          ]
        },
        {
          "metadata": {
            "tags": null
          },
          "name": "stderr",
          "output_type": "stream",
          "text": [
            "\r 38%|███▊      | 3/8 [00:13<00:21,  4.29s/it]"
          ]
        },
        {
          "metadata": {
            "tags": null
          },
          "name": "stdout",
          "output_type": "stream",
          "text": [
            "training error:\n",
            "0.015322350121423996\n",
            "Model Done !\n",
            "harvesting states...\n",
            "fitting...\n"
          ]
        },
        {
          "metadata": {
            "tags": null
          },
          "name": "stderr",
          "output_type": "stream",
          "text": [
            "\r 50%|█████     | 4/8 [00:16<00:16,  4.14s/it]"
          ]
        },
        {
          "metadata": {
            "tags": null
          },
          "name": "stdout",
          "output_type": "stream",
          "text": [
            "training error:\n",
            "0.01531961026843099\n",
            "Model Done !\n",
            "harvesting states...\n",
            "fitting...\n"
          ]
        },
        {
          "metadata": {
            "tags": null
          },
          "name": "stderr",
          "output_type": "stream",
          "text": [
            "\r 62%|██████▎   | 5/8 [00:22<00:13,  4.57s/it]"
          ]
        },
        {
          "metadata": {
            "tags": null
          },
          "name": "stdout",
          "output_type": "stream",
          "text": [
            "training error:\n",
            "0.015324781265946039\n",
            "Model Done !\n",
            "harvesting states...\n",
            "fitting...\n"
          ]
        },
        {
          "metadata": {
            "tags": null
          },
          "name": "stderr",
          "output_type": "stream",
          "text": [
            "\r 75%|███████▌  | 6/8 [00:26<00:08,  4.31s/it]"
          ]
        },
        {
          "metadata": {
            "tags": null
          },
          "name": "stdout",
          "output_type": "stream",
          "text": [
            "training error:\n",
            "0.015334501824010553\n",
            "Model Done !\n",
            "harvesting states...\n",
            "fitting...\n"
          ]
        },
        {
          "metadata": {
            "tags": null
          },
          "name": "stderr",
          "output_type": "stream",
          "text": [
            "\r 88%|████████▊ | 7/8 [00:29<00:04,  4.14s/it]"
          ]
        },
        {
          "metadata": {
            "tags": null
          },
          "name": "stdout",
          "output_type": "stream",
          "text": [
            "training error:\n",
            "0.015344645960060738\n",
            "Model Done !\n",
            "harvesting states...\n",
            "fitting...\n"
          ]
        },
        {
          "metadata": {
            "tags": null
          },
          "name": "stderr",
          "output_type": "stream",
          "text": [
            "100%|██████████| 8/8 [00:34<00:00,  4.36s/it]\n"
          ]
        },
        {
          "metadata": {
            "tags": null
          },
          "name": "stdout",
          "output_type": "stream",
          "text": [
            "training error:\n",
            "0.015346380621097945\n",
            "Model Done !\n"
          ]
        },
        {
          "metadata": {
            "tags": null
          },
          "name": "stderr",
          "output_type": "stream",
          "text": [
            "Progress: 100%|██████████| 1503/1503 [00:03<00:00, 458.94it/s]\n",
            "[I 2023-09-04 08:27:53,778] Trial 29 finished with value: 0.0784552855723008 and parameters: {'n_reservoir': 306, 'sparsity': 0.2, 'spectral_radius': 0.2, 'noise': 0.005, 'look_back': 289}. Best is trial 12 with value: 0.053290075094445805.\n",
            "  0%|          | 0/8 [00:00<?, ?it/s]"
          ]
        },
        {
          "metadata": {
            "tags": null
          },
          "name": "stdout",
          "output_type": "stream",
          "text": [
            "harvesting states...\n",
            "fitting...\n"
          ]
        },
        {
          "metadata": {
            "tags": null
          },
          "name": "stderr",
          "output_type": "stream",
          "text": [
            "\r 12%|█▎        | 1/8 [00:10<01:16, 10.95s/it]"
          ]
        },
        {
          "metadata": {
            "tags": null
          },
          "name": "stdout",
          "output_type": "stream",
          "text": [
            "training error:\n",
            "0.01486750206673689\n",
            "Model Done !\n",
            "harvesting states...\n",
            "fitting...\n"
          ]
        },
        {
          "metadata": {
            "tags": null
          },
          "name": "stderr",
          "output_type": "stream",
          "text": [
            "\r 25%|██▌       | 2/8 [00:21<01:05, 10.91s/it]"
          ]
        },
        {
          "metadata": {
            "tags": null
          },
          "name": "stdout",
          "output_type": "stream",
          "text": [
            "training error:\n",
            "0.015032351197789754\n",
            "Model Done !\n",
            "harvesting states...\n",
            "fitting...\n"
          ]
        },
        {
          "metadata": {
            "tags": null
          },
          "name": "stderr",
          "output_type": "stream",
          "text": [
            "\r 38%|███▊      | 3/8 [00:32<00:54, 10.90s/it]"
          ]
        },
        {
          "metadata": {
            "tags": null
          },
          "name": "stdout",
          "output_type": "stream",
          "text": [
            "training error:\n",
            "0.0150323122041139\n",
            "Model Done !\n",
            "harvesting states...\n",
            "fitting...\n"
          ]
        },
        {
          "metadata": {
            "tags": null
          },
          "name": "stderr",
          "output_type": "stream",
          "text": [
            "\r 50%|█████     | 4/8 [00:43<00:43, 10.90s/it]"
          ]
        },
        {
          "metadata": {
            "tags": null
          },
          "name": "stdout",
          "output_type": "stream",
          "text": [
            "training error:\n",
            "0.01506024894597146\n",
            "Model Done !\n",
            "harvesting states...\n",
            "fitting...\n"
          ]
        },
        {
          "metadata": {
            "tags": null
          },
          "name": "stderr",
          "output_type": "stream",
          "text": [
            "\r 62%|██████▎   | 5/8 [00:54<00:32, 10.90s/it]"
          ]
        },
        {
          "metadata": {
            "tags": null
          },
          "name": "stdout",
          "output_type": "stream",
          "text": [
            "training error:\n",
            "0.015052597105653607\n",
            "Model Done !\n",
            "harvesting states...\n",
            "fitting...\n"
          ]
        },
        {
          "metadata": {
            "tags": null
          },
          "name": "stderr",
          "output_type": "stream",
          "text": [
            "\r 75%|███████▌  | 6/8 [01:05<00:21, 10.85s/it]"
          ]
        },
        {
          "metadata": {
            "tags": null
          },
          "name": "stdout",
          "output_type": "stream",
          "text": [
            "training error:\n",
            "0.015054395490114681\n",
            "Model Done !\n",
            "harvesting states...\n",
            "fitting...\n"
          ]
        },
        {
          "metadata": {
            "tags": null
          },
          "name": "stderr",
          "output_type": "stream",
          "text": [
            "\r 88%|████████▊ | 7/8 [01:16<00:10, 10.87s/it]"
          ]
        },
        {
          "metadata": {
            "tags": null
          },
          "name": "stdout",
          "output_type": "stream",
          "text": [
            "training error:\n",
            "0.015042527120967058\n",
            "Model Done !\n",
            "harvesting states...\n",
            "fitting...\n"
          ]
        },
        {
          "metadata": {
            "tags": null
          },
          "name": "stderr",
          "output_type": "stream",
          "text": [
            "100%|██████████| 8/8 [01:26<00:00, 10.79s/it]\n"
          ]
        },
        {
          "metadata": {
            "tags": null
          },
          "name": "stdout",
          "output_type": "stream",
          "text": [
            "training error:\n",
            "0.01504869462587375\n",
            "Model Done !\n"
          ]
        },
        {
          "metadata": {
            "tags": null
          },
          "name": "stderr",
          "output_type": "stream",
          "text": [
            "Progress: 100%|██████████| 1391/1391 [00:07<00:00, 180.63it/s]\n",
            "[I 2023-09-04 08:29:27,947] Trial 30 finished with value: 0.07880451572056885 and parameters: {'n_reservoir': 621, 'sparsity': 0.2, 'spectral_radius': 0.1, 'noise': 0.006, 'look_back': 401}. Best is trial 12 with value: 0.053290075094445805.\n",
            "  0%|          | 0/8 [00:00<?, ?it/s]"
          ]
        },
        {
          "metadata": {
            "tags": null
          },
          "name": "stdout",
          "output_type": "stream",
          "text": [
            "harvesting states...\n",
            "fitting...\n"
          ]
        },
        {
          "metadata": {
            "tags": null
          },
          "name": "stderr",
          "output_type": "stream",
          "text": [
            "\r 12%|█▎        | 1/8 [00:13<01:33, 13.39s/it]"
          ]
        },
        {
          "metadata": {
            "tags": null
          },
          "name": "stdout",
          "output_type": "stream",
          "text": [
            "training error:\n",
            "0.014906196149253101\n",
            "Model Done !\n",
            "harvesting states...\n",
            "fitting...\n"
          ]
        },
        {
          "metadata": {
            "tags": null
          },
          "name": "stderr",
          "output_type": "stream",
          "text": [
            "\r 25%|██▌       | 2/8 [00:30<01:34, 15.75s/it]"
          ]
        },
        {
          "metadata": {
            "tags": null
          },
          "name": "stdout",
          "output_type": "stream",
          "text": [
            "training error:\n",
            "0.020603586842481616\n",
            "Model Done !\n",
            "harvesting states...\n",
            "fitting...\n"
          ]
        },
        {
          "metadata": {
            "tags": null
          },
          "name": "stderr",
          "output_type": "stream",
          "text": [
            "\r 38%|███▊      | 3/8 [00:46<01:18, 15.64s/it]"
          ]
        },
        {
          "metadata": {
            "tags": null
          },
          "name": "stdout",
          "output_type": "stream",
          "text": [
            "training error:\n",
            "0.024415254085904104\n",
            "Model Done !\n",
            "harvesting states...\n",
            "fitting...\n"
          ]
        },
        {
          "metadata": {
            "tags": null
          },
          "name": "stderr",
          "output_type": "stream",
          "text": [
            "\r 50%|█████     | 4/8 [01:00<01:00, 15.18s/it]"
          ]
        },
        {
          "metadata": {
            "tags": null
          },
          "name": "stdout",
          "output_type": "stream",
          "text": [
            "training error:\n",
            "0.027369491927116563\n",
            "Model Done !\n",
            "harvesting states...\n",
            "fitting...\n"
          ]
        },
        {
          "metadata": {
            "tags": null
          },
          "name": "stderr",
          "output_type": "stream",
          "text": [
            "\r 62%|██████▎   | 5/8 [01:15<00:45, 15.15s/it]"
          ]
        },
        {
          "metadata": {
            "tags": null
          },
          "name": "stdout",
          "output_type": "stream",
          "text": [
            "training error:\n",
            "0.029106250710804842\n",
            "Model Done !\n",
            "harvesting states...\n",
            "fitting...\n"
          ]
        },
        {
          "metadata": {
            "tags": null
          },
          "name": "stderr",
          "output_type": "stream",
          "text": [
            "\r 75%|███████▌  | 6/8 [01:30<00:29, 14.87s/it]"
          ]
        },
        {
          "metadata": {
            "tags": null
          },
          "name": "stdout",
          "output_type": "stream",
          "text": [
            "training error:\n",
            "0.030649164233830017\n",
            "Model Done !\n",
            "harvesting states...\n",
            "fitting...\n"
          ]
        },
        {
          "metadata": {
            "tags": null
          },
          "name": "stderr",
          "output_type": "stream",
          "text": [
            "\r 88%|████████▊ | 7/8 [01:44<00:14, 14.54s/it]"
          ]
        },
        {
          "metadata": {
            "tags": null
          },
          "name": "stdout",
          "output_type": "stream",
          "text": [
            "training error:\n",
            "0.03217709481752054\n",
            "Model Done !\n",
            "harvesting states...\n",
            "fitting...\n"
          ]
        },
        {
          "metadata": {
            "tags": null
          },
          "name": "stderr",
          "output_type": "stream",
          "text": [
            "100%|██████████| 8/8 [01:57<00:00, 14.75s/it]\n"
          ]
        },
        {
          "metadata": {
            "tags": null
          },
          "name": "stdout",
          "output_type": "stream",
          "text": [
            "training error:\n",
            "0.033002701725788744\n",
            "Model Done !\n"
          ]
        },
        {
          "metadata": {
            "tags": null
          },
          "name": "stderr",
          "output_type": "stream",
          "text": [
            "Progress: 100%|██████████| 1476/1476 [00:09<00:00, 154.06it/s]\n",
            "[I 2023-09-04 08:31:35,764] Trial 31 finished with value: 0.06115248894791175 and parameters: {'n_reservoir': 797, 'sparsity': 0.2, 'spectral_radius': 10.0, 'noise': 0.002, 'look_back': 316}. Best is trial 12 with value: 0.053290075094445805.\n",
            "  0%|          | 0/8 [00:00<?, ?it/s]"
          ]
        },
        {
          "metadata": {
            "tags": null
          },
          "name": "stdout",
          "output_type": "stream",
          "text": [
            "harvesting states...\n",
            "fitting...\n"
          ]
        },
        {
          "metadata": {
            "tags": null
          },
          "name": "stderr",
          "output_type": "stream",
          "text": [
            "\r 12%|█▎        | 1/8 [00:16<01:55, 16.45s/it]"
          ]
        },
        {
          "metadata": {
            "tags": null
          },
          "name": "stdout",
          "output_type": "stream",
          "text": [
            "training error:\n",
            "0.014822176156552782\n",
            "Model Done !\n",
            "harvesting states...\n",
            "fitting...\n"
          ]
        },
        {
          "metadata": {
            "tags": null
          },
          "name": "stderr",
          "output_type": "stream",
          "text": [
            "\r 25%|██▌       | 2/8 [00:31<01:34, 15.71s/it]"
          ]
        },
        {
          "metadata": {
            "tags": null
          },
          "name": "stdout",
          "output_type": "stream",
          "text": [
            "training error:\n",
            "0.02060403285182938\n",
            "Model Done !\n",
            "harvesting states...\n",
            "fitting...\n"
          ]
        },
        {
          "metadata": {
            "tags": null
          },
          "name": "stderr",
          "output_type": "stream",
          "text": [
            "\r 38%|███▊      | 3/8 [00:47<01:17, 15.55s/it]"
          ]
        },
        {
          "metadata": {
            "tags": null
          },
          "name": "stdout",
          "output_type": "stream",
          "text": [
            "training error:\n",
            "0.024425849032447693\n",
            "Model Done !\n",
            "harvesting states...\n",
            "fitting...\n"
          ]
        },
        {
          "metadata": {
            "tags": null
          },
          "name": "stderr",
          "output_type": "stream",
          "text": [
            "\r 50%|█████     | 4/8 [01:02<01:01, 15.36s/it]"
          ]
        },
        {
          "metadata": {
            "tags": null
          },
          "name": "stdout",
          "output_type": "stream",
          "text": [
            "training error:\n",
            "0.027152491089808484\n",
            "Model Done !\n",
            "harvesting states...\n",
            "fitting...\n"
          ]
        },
        {
          "metadata": {
            "tags": null
          },
          "name": "stderr",
          "output_type": "stream",
          "text": [
            "\r 62%|██████▎   | 5/8 [01:17<00:45, 15.29s/it]"
          ]
        },
        {
          "metadata": {
            "tags": null
          },
          "name": "stdout",
          "output_type": "stream",
          "text": [
            "training error:\n",
            "0.02935185469889783\n",
            "Model Done !\n",
            "harvesting states...\n",
            "fitting...\n"
          ]
        },
        {
          "metadata": {
            "tags": null
          },
          "name": "stderr",
          "output_type": "stream",
          "text": [
            "\r 75%|███████▌  | 6/8 [01:32<00:30, 15.12s/it]"
          ]
        },
        {
          "metadata": {
            "tags": null
          },
          "name": "stdout",
          "output_type": "stream",
          "text": [
            "training error:\n",
            "0.030749643687520412\n",
            "Model Done !\n",
            "harvesting states...\n",
            "fitting...\n"
          ]
        },
        {
          "metadata": {
            "tags": null
          },
          "name": "stderr",
          "output_type": "stream",
          "text": [
            "\r 88%|████████▊ | 7/8 [01:48<00:15, 15.48s/it]"
          ]
        },
        {
          "metadata": {
            "tags": null
          },
          "name": "stdout",
          "output_type": "stream",
          "text": [
            "training error:\n",
            "0.031734697838516464\n",
            "Model Done !\n",
            "harvesting states...\n",
            "fitting...\n"
          ]
        },
        {
          "metadata": {
            "tags": null
          },
          "name": "stderr",
          "output_type": "stream",
          "text": [
            "100%|██████████| 8/8 [02:03<00:00, 15.43s/it]\n"
          ]
        },
        {
          "metadata": {
            "tags": null
          },
          "name": "stdout",
          "output_type": "stream",
          "text": [
            "training error:\n",
            "0.033111589597356605\n",
            "Model Done !\n"
          ]
        },
        {
          "metadata": {
            "tags": null
          },
          "name": "stderr",
          "output_type": "stream",
          "text": [
            "Progress: 100%|██████████| 1439/1439 [00:10<00:00, 133.86it/s]\n",
            "[I 2023-09-04 08:33:50,195] Trial 32 finished with value: 0.06751739171580759 and parameters: {'n_reservoir': 853, 'sparsity': 0.2, 'spectral_radius': 10.0, 'noise': 0.002, 'look_back': 353}. Best is trial 12 with value: 0.053290075094445805.\n",
            "  0%|          | 0/8 [00:00<?, ?it/s]"
          ]
        },
        {
          "metadata": {
            "tags": null
          },
          "name": "stdout",
          "output_type": "stream",
          "text": [
            "harvesting states...\n",
            "fitting...\n"
          ]
        },
        {
          "metadata": {
            "tags": null
          },
          "name": "stderr",
          "output_type": "stream",
          "text": [
            "\r 12%|█▎        | 1/8 [00:18<02:06, 18.02s/it]"
          ]
        },
        {
          "metadata": {
            "tags": null
          },
          "name": "stdout",
          "output_type": "stream",
          "text": [
            "training error:\n",
            "0.014732180027697852\n",
            "Model Done !\n",
            "harvesting states...\n",
            "fitting...\n"
          ]
        },
        {
          "metadata": {
            "tags": null
          },
          "name": "stderr",
          "output_type": "stream",
          "text": [
            "\r 25%|██▌       | 2/8 [00:35<01:46, 17.77s/it]"
          ]
        },
        {
          "metadata": {
            "tags": null
          },
          "name": "stdout",
          "output_type": "stream",
          "text": [
            "training error:\n",
            "0.020362332999847077\n",
            "Model Done !\n",
            "harvesting states...\n",
            "fitting...\n"
          ]
        },
        {
          "metadata": {
            "tags": null
          },
          "name": "stderr",
          "output_type": "stream",
          "text": [
            "\r 38%|███▊      | 3/8 [00:54<01:31, 18.37s/it]"
          ]
        },
        {
          "metadata": {
            "tags": null
          },
          "name": "stdout",
          "output_type": "stream",
          "text": [
            "training error:\n",
            "0.023985300159272742\n",
            "Model Done !\n",
            "harvesting states...\n",
            "fitting...\n"
          ]
        },
        {
          "metadata": {
            "tags": null
          },
          "name": "stderr",
          "output_type": "stream",
          "text": [
            "\r 50%|█████     | 4/8 [01:12<01:12, 18.13s/it]"
          ]
        },
        {
          "metadata": {
            "tags": null
          },
          "name": "stdout",
          "output_type": "stream",
          "text": [
            "training error:\n",
            "0.026490910818492655\n",
            "Model Done !\n",
            "harvesting states...\n",
            "fitting...\n"
          ]
        },
        {
          "metadata": {
            "tags": null
          },
          "name": "stderr",
          "output_type": "stream",
          "text": [
            "\r 62%|██████▎   | 5/8 [01:30<00:54, 18.06s/it]"
          ]
        },
        {
          "metadata": {
            "tags": null
          },
          "name": "stdout",
          "output_type": "stream",
          "text": [
            "training error:\n",
            "0.02837544874054588\n",
            "Model Done !\n",
            "harvesting states...\n",
            "fitting...\n"
          ]
        },
        {
          "metadata": {
            "tags": null
          },
          "name": "stderr",
          "output_type": "stream",
          "text": [
            "\r 75%|███████▌  | 6/8 [01:49<00:36, 18.39s/it]"
          ]
        },
        {
          "metadata": {
            "tags": null
          },
          "name": "stdout",
          "output_type": "stream",
          "text": [
            "training error:\n",
            "0.0296658187086286\n",
            "Model Done !\n",
            "harvesting states...\n",
            "fitting...\n"
          ]
        },
        {
          "metadata": {
            "tags": null
          },
          "name": "stderr",
          "output_type": "stream",
          "text": [
            "\r 88%|████████▊ | 7/8 [02:07<00:18, 18.17s/it]"
          ]
        },
        {
          "metadata": {
            "tags": null
          },
          "name": "stdout",
          "output_type": "stream",
          "text": [
            "training error:\n",
            "0.030703741080613797\n",
            "Model Done !\n",
            "harvesting states...\n",
            "fitting...\n"
          ]
        },
        {
          "metadata": {
            "tags": null
          },
          "name": "stderr",
          "output_type": "stream",
          "text": [
            "100%|██████████| 8/8 [02:25<00:00, 18.14s/it]\n"
          ]
        },
        {
          "metadata": {
            "tags": null
          },
          "name": "stdout",
          "output_type": "stream",
          "text": [
            "training error:\n",
            "0.03178232872504604\n",
            "Model Done !\n"
          ]
        },
        {
          "metadata": {
            "tags": null
          },
          "name": "stderr",
          "output_type": "stream",
          "text": [
            "Progress: 100%|██████████| 1359/1359 [00:12<00:00, 111.40it/s]\n",
            "[I 2023-09-04 08:36:27,749] Trial 33 finished with value: 0.06308634634336266 and parameters: {'n_reservoir': 913, 'sparsity': 0.2, 'spectral_radius': 10.0, 'noise': 0.002, 'look_back': 433}. Best is trial 12 with value: 0.053290075094445805.\n",
            "  0%|          | 0/8 [00:00<?, ?it/s]"
          ]
        },
        {
          "metadata": {
            "tags": null
          },
          "name": "stdout",
          "output_type": "stream",
          "text": [
            "harvesting states...\n",
            "fitting...\n"
          ]
        },
        {
          "metadata": {
            "tags": null
          },
          "name": "stderr",
          "output_type": "stream",
          "text": [
            "\r 12%|█▎        | 1/8 [00:11<01:23, 11.89s/it]"
          ]
        },
        {
          "metadata": {
            "tags": null
          },
          "name": "stdout",
          "output_type": "stream",
          "text": [
            "training error:\n",
            "0.01489091102302649\n",
            "Model Done !\n",
            "harvesting states...\n",
            "fitting...\n"
          ]
        },
        {
          "metadata": {
            "tags": null
          },
          "name": "stderr",
          "output_type": "stream",
          "text": [
            "\r 25%|██▌       | 2/8 [00:23<01:11, 11.86s/it]"
          ]
        },
        {
          "metadata": {
            "tags": null
          },
          "name": "stdout",
          "output_type": "stream",
          "text": [
            "training error:\n",
            "0.015013309817722803\n",
            "Model Done !\n",
            "harvesting states...\n",
            "fitting...\n"
          ]
        },
        {
          "metadata": {
            "tags": null
          },
          "name": "stderr",
          "output_type": "stream",
          "text": [
            "\r 38%|███▊      | 3/8 [00:35<00:59, 11.95s/it]"
          ]
        },
        {
          "metadata": {
            "tags": null
          },
          "name": "stdout",
          "output_type": "stream",
          "text": [
            "training error:\n",
            "0.015053190789465853\n",
            "Model Done !\n",
            "harvesting states...\n",
            "fitting...\n"
          ]
        },
        {
          "metadata": {
            "tags": null
          },
          "name": "stderr",
          "output_type": "stream",
          "text": [
            "\r 50%|█████     | 4/8 [00:47<00:47, 11.98s/it]"
          ]
        },
        {
          "metadata": {
            "tags": null
          },
          "name": "stdout",
          "output_type": "stream",
          "text": [
            "training error:\n",
            "0.015114389721824351\n",
            "Model Done !\n",
            "harvesting states...\n",
            "fitting...\n"
          ]
        },
        {
          "metadata": {
            "tags": null
          },
          "name": "stderr",
          "output_type": "stream",
          "text": [
            "\r 62%|██████▎   | 5/8 [00:59<00:36, 12.02s/it]"
          ]
        },
        {
          "metadata": {
            "tags": null
          },
          "name": "stdout",
          "output_type": "stream",
          "text": [
            "training error:\n",
            "0.015078319449921163\n",
            "Model Done !\n",
            "harvesting states...\n",
            "fitting...\n"
          ]
        },
        {
          "metadata": {
            "tags": null
          },
          "name": "stderr",
          "output_type": "stream",
          "text": [
            "\r 75%|███████▌  | 6/8 [01:11<00:24, 12.04s/it]"
          ]
        },
        {
          "metadata": {
            "tags": null
          },
          "name": "stdout",
          "output_type": "stream",
          "text": [
            "training error:\n",
            "0.01501419649314811\n",
            "Model Done !\n",
            "harvesting states...\n",
            "fitting...\n"
          ]
        },
        {
          "metadata": {
            "tags": null
          },
          "name": "stderr",
          "output_type": "stream",
          "text": [
            "\r 88%|████████▊ | 7/8 [01:24<00:12, 12.08s/it]"
          ]
        },
        {
          "metadata": {
            "tags": null
          },
          "name": "stdout",
          "output_type": "stream",
          "text": [
            "training error:\n",
            "0.015010158806582954\n",
            "Model Done !\n",
            "harvesting states...\n",
            "fitting...\n"
          ]
        },
        {
          "metadata": {
            "tags": null
          },
          "name": "stderr",
          "output_type": "stream",
          "text": [
            "100%|██████████| 8/8 [01:35<00:00, 11.92s/it]\n"
          ]
        },
        {
          "metadata": {
            "tags": null
          },
          "name": "stdout",
          "output_type": "stream",
          "text": [
            "training error:\n",
            "0.014986827583753618\n",
            "Model Done !\n"
          ]
        },
        {
          "metadata": {
            "tags": null
          },
          "name": "stderr",
          "output_type": "stream",
          "text": [
            "Progress: 100%|██████████| 1421/1421 [00:08<00:00, 176.96it/s]\n",
            "[I 2023-09-04 08:38:11,250] Trial 34 finished with value: 0.07911670015355347 and parameters: {'n_reservoir': 698, 'sparsity': 0.2, 'spectral_radius': 0.4, 'noise': 0.001, 'look_back': 371}. Best is trial 12 with value: 0.053290075094445805.\n",
            "  0%|          | 0/8 [00:00<?, ?it/s]"
          ]
        },
        {
          "metadata": {
            "tags": null
          },
          "name": "stdout",
          "output_type": "stream",
          "text": [
            "harvesting states...\n",
            "fitting...\n"
          ]
        },
        {
          "metadata": {
            "tags": null
          },
          "name": "stderr",
          "output_type": "stream",
          "text": [
            "\r 12%|█▎        | 1/8 [00:13<01:32, 13.27s/it]"
          ]
        },
        {
          "metadata": {
            "tags": null
          },
          "name": "stdout",
          "output_type": "stream",
          "text": [
            "training error:\n",
            "0.014871843246321256\n",
            "Model Done !\n",
            "harvesting states...\n",
            "fitting...\n"
          ]
        },
        {
          "metadata": {
            "tags": null
          },
          "name": "stderr",
          "output_type": "stream",
          "text": [
            "\r 25%|██▌       | 2/8 [00:26<01:18, 13.12s/it]"
          ]
        },
        {
          "metadata": {
            "tags": null
          },
          "name": "stdout",
          "output_type": "stream",
          "text": [
            "training error:\n",
            "0.014928689908790963\n",
            "Model Done !\n",
            "harvesting states...\n",
            "fitting...\n"
          ]
        },
        {
          "metadata": {
            "tags": null
          },
          "name": "stderr",
          "output_type": "stream",
          "text": [
            "\r 38%|███▊      | 3/8 [00:39<01:05, 13.12s/it]"
          ]
        },
        {
          "metadata": {
            "tags": null
          },
          "name": "stdout",
          "output_type": "stream",
          "text": [
            "training error:\n",
            "0.01494186730622088\n",
            "Model Done !\n",
            "harvesting states...\n",
            "fitting...\n"
          ]
        },
        {
          "metadata": {
            "tags": null
          },
          "name": "stderr",
          "output_type": "stream",
          "text": [
            "\r 50%|█████     | 4/8 [00:52<00:52, 13.16s/it]"
          ]
        },
        {
          "metadata": {
            "tags": null
          },
          "name": "stdout",
          "output_type": "stream",
          "text": [
            "training error:\n",
            "0.014963946722209414\n",
            "Model Done !\n",
            "harvesting states...\n",
            "fitting...\n"
          ]
        },
        {
          "metadata": {
            "tags": null
          },
          "name": "stderr",
          "output_type": "stream",
          "text": [
            "\r 62%|██████▎   | 5/8 [01:06<00:40, 13.34s/it]"
          ]
        },
        {
          "metadata": {
            "tags": null
          },
          "name": "stdout",
          "output_type": "stream",
          "text": [
            "training error:\n",
            "0.014979084102493928\n",
            "Model Done !\n",
            "harvesting states...\n",
            "fitting...\n"
          ]
        },
        {
          "metadata": {
            "tags": null
          },
          "name": "stderr",
          "output_type": "stream",
          "text": [
            "\r 75%|███████▌  | 6/8 [01:19<00:26, 13.27s/it]"
          ]
        },
        {
          "metadata": {
            "tags": null
          },
          "name": "stdout",
          "output_type": "stream",
          "text": [
            "training error:\n",
            "0.014943765137802937\n",
            "Model Done !\n",
            "harvesting states...\n",
            "fitting...\n"
          ]
        },
        {
          "metadata": {
            "tags": null
          },
          "name": "stderr",
          "output_type": "stream",
          "text": [
            "\r 88%|████████▊ | 7/8 [01:32<00:13, 13.27s/it]"
          ]
        },
        {
          "metadata": {
            "tags": null
          },
          "name": "stdout",
          "output_type": "stream",
          "text": [
            "training error:\n",
            "0.014971143885056624\n",
            "Model Done !\n",
            "harvesting states...\n",
            "fitting...\n"
          ]
        },
        {
          "metadata": {
            "tags": null
          },
          "name": "stderr",
          "output_type": "stream",
          "text": [
            "100%|██████████| 8/8 [01:45<00:00, 13.20s/it]\n"
          ]
        },
        {
          "metadata": {
            "tags": null
          },
          "name": "stdout",
          "output_type": "stream",
          "text": [
            "training error:\n",
            "0.014939012707659695\n",
            "Model Done !\n"
          ]
        },
        {
          "metadata": {
            "tags": null
          },
          "name": "stderr",
          "output_type": "stream",
          "text": [
            "Progress: 100%|██████████| 1488/1488 [00:10<00:00, 145.64it/s]\n",
            "[I 2023-09-04 08:40:07,230] Trial 35 finished with value: 0.07903334437976182 and parameters: {'n_reservoir': 804, 'sparsity': 0.1, 'spectral_radius': 0.9, 'noise': 0.002, 'look_back': 304}. Best is trial 12 with value: 0.053290075094445805.\n",
            "  0%|          | 0/8 [00:00<?, ?it/s]"
          ]
        },
        {
          "metadata": {
            "tags": null
          },
          "name": "stdout",
          "output_type": "stream",
          "text": [
            "harvesting states...\n",
            "fitting...\n"
          ]
        },
        {
          "metadata": {
            "tags": null
          },
          "name": "stderr",
          "output_type": "stream",
          "text": [
            "\r 12%|█▎        | 1/8 [00:07<00:51,  7.31s/it]"
          ]
        },
        {
          "metadata": {
            "tags": null
          },
          "name": "stdout",
          "output_type": "stream",
          "text": [
            "training error:\n",
            "0.015073030035018928\n",
            "Model Done !\n",
            "harvesting states...\n",
            "fitting...\n"
          ]
        },
        {
          "metadata": {
            "tags": null
          },
          "name": "stderr",
          "output_type": "stream",
          "text": [
            "\r 25%|██▌       | 2/8 [00:15<00:47,  8.00s/it]"
          ]
        },
        {
          "metadata": {
            "tags": null
          },
          "name": "stdout",
          "output_type": "stream",
          "text": [
            "training error:\n",
            "0.015149832318061352\n",
            "Model Done !\n",
            "harvesting states...\n",
            "fitting...\n"
          ]
        },
        {
          "metadata": {
            "tags": null
          },
          "name": "stderr",
          "output_type": "stream",
          "text": [
            "\r 38%|███▊      | 3/8 [00:24<00:41,  8.21s/it]"
          ]
        },
        {
          "metadata": {
            "tags": null
          },
          "name": "stdout",
          "output_type": "stream",
          "text": [
            "training error:\n",
            "0.01517919279215469\n",
            "Model Done !\n",
            "harvesting states...\n",
            "fitting...\n"
          ]
        },
        {
          "metadata": {
            "tags": null
          },
          "name": "stderr",
          "output_type": "stream",
          "text": [
            "\r 50%|█████     | 4/8 [00:31<00:31,  7.82s/it]"
          ]
        },
        {
          "metadata": {
            "tags": null
          },
          "name": "stdout",
          "output_type": "stream",
          "text": [
            "training error:\n",
            "0.015163855190400108\n",
            "Model Done !\n",
            "harvesting states...\n",
            "fitting...\n"
          ]
        },
        {
          "metadata": {
            "tags": null
          },
          "name": "stderr",
          "output_type": "stream",
          "text": [
            "\r 62%|██████▎   | 5/8 [00:39<00:24,  8.05s/it]"
          ]
        },
        {
          "metadata": {
            "tags": null
          },
          "name": "stdout",
          "output_type": "stream",
          "text": [
            "training error:\n",
            "0.01516819789726638\n",
            "Model Done !\n",
            "harvesting states...\n",
            "fitting...\n"
          ]
        },
        {
          "metadata": {
            "tags": null
          },
          "name": "stderr",
          "output_type": "stream",
          "text": [
            "\r 75%|███████▌  | 6/8 [00:47<00:15,  7.77s/it]"
          ]
        },
        {
          "metadata": {
            "tags": null
          },
          "name": "stdout",
          "output_type": "stream",
          "text": [
            "training error:\n",
            "0.015154538324877074\n",
            "Model Done !\n",
            "harvesting states...\n",
            "fitting...\n"
          ]
        },
        {
          "metadata": {
            "tags": null
          },
          "name": "stderr",
          "output_type": "stream",
          "text": [
            "\r 88%|████████▊ | 7/8 [00:55<00:07,  7.96s/it]"
          ]
        },
        {
          "metadata": {
            "tags": null
          },
          "name": "stdout",
          "output_type": "stream",
          "text": [
            "training error:\n",
            "0.015168576962891079\n",
            "Model Done !\n",
            "harvesting states...\n",
            "fitting...\n"
          ]
        },
        {
          "metadata": {
            "tags": null
          },
          "name": "stderr",
          "output_type": "stream",
          "text": [
            "100%|██████████| 8/8 [01:03<00:00,  7.99s/it]\n"
          ]
        },
        {
          "metadata": {
            "tags": null
          },
          "name": "stdout",
          "output_type": "stream",
          "text": [
            "training error:\n",
            "0.015129379231319065\n",
            "Model Done !\n"
          ]
        },
        {
          "metadata": {
            "tags": null
          },
          "name": "stderr",
          "output_type": "stream",
          "text": [
            "Progress: 100%|██████████| 1557/1557 [00:05<00:00, 300.77it/s]\n",
            "[I 2023-09-04 08:41:16,440] Trial 36 finished with value: 0.07908167679400988 and parameters: {'n_reservoir': 586, 'sparsity': 0.2, 'spectral_radius': 0.6, 'noise': 0.003, 'look_back': 235}. Best is trial 12 with value: 0.053290075094445805.\n",
            "  0%|          | 0/8 [00:00<?, ?it/s]"
          ]
        },
        {
          "metadata": {
            "tags": null
          },
          "name": "stdout",
          "output_type": "stream",
          "text": [
            "harvesting states...\n",
            "fitting...\n"
          ]
        },
        {
          "metadata": {
            "tags": null
          },
          "name": "stderr",
          "output_type": "stream",
          "text": [
            "\r 12%|█▎        | 1/8 [00:09<01:07,  9.58s/it]"
          ]
        },
        {
          "metadata": {
            "tags": null
          },
          "name": "stdout",
          "output_type": "stream",
          "text": [
            "training error:\n",
            "0.015459903227468055\n",
            "Model Done !\n",
            "harvesting states...\n",
            "fitting...\n"
          ]
        },
        {
          "metadata": {
            "tags": null
          },
          "name": "stderr",
          "output_type": "stream",
          "text": [
            "\r 25%|██▌       | 2/8 [00:18<00:53,  8.92s/it]"
          ]
        },
        {
          "metadata": {
            "tags": null
          },
          "name": "stdout",
          "output_type": "stream",
          "text": [
            "training error:\n",
            "0.015450099482275697\n",
            "Model Done !\n",
            "harvesting states...\n",
            "fitting...\n"
          ]
        },
        {
          "metadata": {
            "tags": null
          },
          "name": "stderr",
          "output_type": "stream",
          "text": [
            "\r 38%|███▊      | 3/8 [00:28<00:47,  9.42s/it]"
          ]
        },
        {
          "metadata": {
            "tags": null
          },
          "name": "stdout",
          "output_type": "stream",
          "text": [
            "training error:\n",
            "0.01546764754010196\n",
            "Model Done !\n",
            "harvesting states...\n",
            "fitting...\n"
          ]
        },
        {
          "metadata": {
            "tags": null
          },
          "name": "stderr",
          "output_type": "stream",
          "text": [
            "\r 50%|█████     | 4/8 [00:37<00:38,  9.52s/it]"
          ]
        },
        {
          "metadata": {
            "tags": null
          },
          "name": "stdout",
          "output_type": "stream",
          "text": [
            "training error:\n",
            "0.015466216953241607\n",
            "Model Done !\n",
            "harvesting states...\n",
            "fitting...\n"
          ]
        },
        {
          "metadata": {
            "tags": null
          },
          "name": "stderr",
          "output_type": "stream",
          "text": [
            "\r 62%|██████▎   | 5/8 [00:46<00:27,  9.27s/it]"
          ]
        },
        {
          "metadata": {
            "tags": null
          },
          "name": "stdout",
          "output_type": "stream",
          "text": [
            "training error:\n",
            "0.015430390547993876\n",
            "Model Done !\n",
            "harvesting states...\n",
            "fitting...\n"
          ]
        },
        {
          "metadata": {
            "tags": null
          },
          "name": "stderr",
          "output_type": "stream",
          "text": [
            "\r 75%|███████▌  | 6/8 [00:55<00:18,  9.31s/it]"
          ]
        },
        {
          "metadata": {
            "tags": null
          },
          "name": "stdout",
          "output_type": "stream",
          "text": [
            "training error:\n",
            "0.015429227183954659\n",
            "Model Done !\n",
            "harvesting states...\n",
            "fitting...\n"
          ]
        },
        {
          "metadata": {
            "tags": null
          },
          "name": "stderr",
          "output_type": "stream",
          "text": [
            "\r 88%|████████▊ | 7/8 [01:05<00:09,  9.46s/it]"
          ]
        },
        {
          "metadata": {
            "tags": null
          },
          "name": "stdout",
          "output_type": "stream",
          "text": [
            "training error:\n",
            "0.015390604065754857\n",
            "Model Done !\n",
            "harvesting states...\n",
            "fitting...\n"
          ]
        },
        {
          "metadata": {
            "tags": null
          },
          "name": "stderr",
          "output_type": "stream",
          "text": [
            "100%|██████████| 8/8 [01:15<00:00,  9.41s/it]\n"
          ]
        },
        {
          "metadata": {
            "tags": null
          },
          "name": "stdout",
          "output_type": "stream",
          "text": [
            "training error:\n",
            "0.015400235514871382\n",
            "Model Done !\n"
          ]
        },
        {
          "metadata": {
            "tags": null
          },
          "name": "stderr",
          "output_type": "stream",
          "text": [
            "Progress: 100%|██████████| 1695/1695 [00:06<00:00, 254.21it/s]\n",
            "[I 2023-09-04 08:42:38,594] Trial 37 finished with value: 0.06898968795329971 and parameters: {'n_reservoir': 751, 'sparsity': 0.4, 'spectral_radius': 0.7, 'noise': 0.003, 'look_back': 97}. Best is trial 12 with value: 0.053290075094445805.\n",
            "  0%|          | 0/8 [00:00<?, ?it/s]"
          ]
        },
        {
          "metadata": {
            "tags": null
          },
          "name": "stdout",
          "output_type": "stream",
          "text": [
            "harvesting states...\n",
            "fitting...\n"
          ]
        },
        {
          "metadata": {
            "tags": null
          },
          "name": "stderr",
          "output_type": "stream",
          "text": [
            "\r 12%|█▎        | 1/8 [00:10<01:12, 10.34s/it]"
          ]
        },
        {
          "metadata": {
            "tags": null
          },
          "name": "stdout",
          "output_type": "stream",
          "text": [
            "training error:\n",
            "0.01501979091993563\n",
            "Model Done !\n",
            "harvesting states...\n",
            "fitting...\n"
          ]
        },
        {
          "metadata": {
            "tags": null
          },
          "name": "stderr",
          "output_type": "stream",
          "text": [
            "\r 25%|██▌       | 2/8 [00:20<01:02, 10.41s/it]"
          ]
        },
        {
          "metadata": {
            "tags": null
          },
          "name": "stdout",
          "output_type": "stream",
          "text": [
            "training error:\n",
            "0.020874147259887153\n",
            "Model Done !\n",
            "harvesting states...\n",
            "fitting...\n"
          ]
        },
        {
          "metadata": {
            "tags": null
          },
          "name": "stderr",
          "output_type": "stream",
          "text": [
            "\r 38%|███▊      | 3/8 [00:30<00:50, 10.06s/it]"
          ]
        },
        {
          "metadata": {
            "tags": null
          },
          "name": "stdout",
          "output_type": "stream",
          "text": [
            "training error:\n",
            "0.024794228870646553\n",
            "Model Done !\n",
            "harvesting states...\n",
            "fitting...\n"
          ]
        },
        {
          "metadata": {
            "tags": null
          },
          "name": "stderr",
          "output_type": "stream",
          "text": [
            "\r 50%|█████     | 4/8 [00:40<00:40, 10.08s/it]"
          ]
        },
        {
          "metadata": {
            "tags": null
          },
          "name": "stdout",
          "output_type": "stream",
          "text": [
            "training error:\n",
            "0.027786146880779482\n",
            "Model Done !\n",
            "harvesting states...\n",
            "fitting...\n"
          ]
        },
        {
          "metadata": {
            "tags": null
          },
          "name": "stderr",
          "output_type": "stream",
          "text": [
            "\r 62%|██████▎   | 5/8 [00:50<00:30, 10.13s/it]"
          ]
        },
        {
          "metadata": {
            "tags": null
          },
          "name": "stdout",
          "output_type": "stream",
          "text": [
            "training error:\n",
            "0.030111159441604016\n",
            "Model Done !\n",
            "harvesting states...\n",
            "fitting...\n"
          ]
        },
        {
          "metadata": {
            "tags": null
          },
          "name": "stderr",
          "output_type": "stream",
          "text": [
            "\r 75%|███████▌  | 6/8 [01:01<00:20, 10.21s/it]"
          ]
        },
        {
          "metadata": {
            "tags": null
          },
          "name": "stdout",
          "output_type": "stream",
          "text": [
            "training error:\n",
            "0.03184402113320307\n",
            "Model Done !\n",
            "harvesting states...\n",
            "fitting...\n"
          ]
        },
        {
          "metadata": {
            "tags": null
          },
          "name": "stderr",
          "output_type": "stream",
          "text": [
            "\r 88%|████████▊ | 7/8 [01:10<00:09,  9.94s/it]"
          ]
        },
        {
          "metadata": {
            "tags": null
          },
          "name": "stdout",
          "output_type": "stream",
          "text": [
            "training error:\n",
            "0.03291550859668061\n",
            "Model Done !\n",
            "harvesting states...\n",
            "fitting...\n"
          ]
        },
        {
          "metadata": {
            "tags": null
          },
          "name": "stderr",
          "output_type": "stream",
          "text": [
            "100%|██████████| 8/8 [01:20<00:00, 10.11s/it]\n"
          ]
        },
        {
          "metadata": {
            "tags": null
          },
          "name": "stdout",
          "output_type": "stream",
          "text": [
            "training error:\n",
            "0.034246602597743606\n",
            "Model Done !\n"
          ]
        },
        {
          "metadata": {
            "tags": null
          },
          "name": "stderr",
          "output_type": "stream",
          "text": [
            "Progress: 100%|██████████| 1529/1529 [00:08<00:00, 189.69it/s]\n",
            "[I 2023-09-04 08:44:07,717] Trial 38 finished with value: 0.06652241223812431 and parameters: {'n_reservoir': 677, 'sparsity': 0.01, 'spectral_radius': 10.0, 'noise': 0.008, 'look_back': 263}. Best is trial 12 with value: 0.053290075094445805.\n",
            "  0%|          | 0/8 [00:00<?, ?it/s]"
          ]
        },
        {
          "metadata": {
            "tags": null
          },
          "name": "stdout",
          "output_type": "stream",
          "text": [
            "harvesting states...\n",
            "fitting...\n"
          ]
        },
        {
          "metadata": {
            "tags": null
          },
          "name": "stderr",
          "output_type": "stream",
          "text": [
            "\r 12%|█▎        | 1/8 [00:07<00:52,  7.44s/it]"
          ]
        },
        {
          "metadata": {
            "tags": null
          },
          "name": "stdout",
          "output_type": "stream",
          "text": [
            "training error:\n",
            "0.014929091558373304\n",
            "Model Done !\n",
            "harvesting states...\n",
            "fitting...\n"
          ]
        },
        {
          "metadata": {
            "tags": null
          },
          "name": "stderr",
          "output_type": "stream",
          "text": [
            "\r 25%|██▌       | 2/8 [00:16<00:48,  8.16s/it]"
          ]
        },
        {
          "metadata": {
            "tags": null
          },
          "name": "stdout",
          "output_type": "stream",
          "text": [
            "training error:\n",
            "0.015207679315427268\n",
            "Model Done !\n",
            "harvesting states...\n",
            "fitting...\n"
          ]
        },
        {
          "metadata": {
            "tags": null
          },
          "name": "stderr",
          "output_type": "stream",
          "text": [
            "\r 38%|███▊      | 3/8 [00:24<00:41,  8.34s/it]"
          ]
        },
        {
          "metadata": {
            "tags": null
          },
          "name": "stdout",
          "output_type": "stream",
          "text": [
            "training error:\n",
            "0.01522425817573821\n",
            "Model Done !\n",
            "harvesting states...\n",
            "fitting...\n"
          ]
        },
        {
          "metadata": {
            "tags": null
          },
          "name": "stderr",
          "output_type": "stream",
          "text": [
            "\r 50%|█████     | 4/8 [00:32<00:31,  7.96s/it]"
          ]
        },
        {
          "metadata": {
            "tags": null
          },
          "name": "stdout",
          "output_type": "stream",
          "text": [
            "training error:\n",
            "0.015223264289660561\n",
            "Model Done !\n",
            "harvesting states...\n",
            "fitting...\n"
          ]
        },
        {
          "metadata": {
            "tags": null
          },
          "name": "stderr",
          "output_type": "stream",
          "text": [
            "\r 62%|██████▎   | 5/8 [00:40<00:24,  8.23s/it]"
          ]
        },
        {
          "metadata": {
            "tags": null
          },
          "name": "stdout",
          "output_type": "stream",
          "text": [
            "training error:\n",
            "0.015247259439818472\n",
            "Model Done !\n",
            "harvesting states...\n",
            "fitting...\n"
          ]
        },
        {
          "metadata": {
            "tags": null
          },
          "name": "stderr",
          "output_type": "stream",
          "text": [
            "\r 75%|███████▌  | 6/8 [00:48<00:16,  8.13s/it]"
          ]
        },
        {
          "metadata": {
            "tags": null
          },
          "name": "stdout",
          "output_type": "stream",
          "text": [
            "training error:\n",
            "0.01525795025073547\n",
            "Model Done !\n",
            "harvesting states...\n",
            "fitting...\n"
          ]
        },
        {
          "metadata": {
            "tags": null
          },
          "name": "stderr",
          "output_type": "stream",
          "text": [
            "\r 88%|████████▊ | 7/8 [00:57<00:08,  8.22s/it]"
          ]
        },
        {
          "metadata": {
            "tags": null
          },
          "name": "stdout",
          "output_type": "stream",
          "text": [
            "training error:\n",
            "0.015256787817827393\n",
            "Model Done !\n",
            "harvesting states...\n",
            "fitting...\n"
          ]
        },
        {
          "metadata": {
            "tags": null
          },
          "name": "stderr",
          "output_type": "stream",
          "text": [
            "100%|██████████| 8/8 [01:05<00:00,  8.24s/it]\n"
          ]
        },
        {
          "metadata": {
            "tags": null
          },
          "name": "stdout",
          "output_type": "stream",
          "text": [
            "training error:\n",
            "0.015276548977993262\n",
            "Model Done !\n"
          ]
        },
        {
          "metadata": {
            "tags": null
          },
          "name": "stderr",
          "output_type": "stream",
          "text": [
            "Progress: 100%|██████████| 1346/1346 [00:04<00:00, 282.37it/s]\n",
            "[I 2023-09-04 08:45:18,554] Trial 39 finished with value: 0.07950615431368094 and parameters: {'n_reservoir': 477, 'sparsity': 0.2, 'spectral_radius': 0.1, 'noise': 0.007, 'look_back': 446}. Best is trial 12 with value: 0.053290075094445805.\n",
            "  0%|          | 0/8 [00:00<?, ?it/s]"
          ]
        },
        {
          "metadata": {
            "tags": null
          },
          "name": "stdout",
          "output_type": "stream",
          "text": [
            "harvesting states...\n",
            "fitting...\n"
          ]
        },
        {
          "metadata": {
            "tags": null
          },
          "name": "stderr",
          "output_type": "stream",
          "text": [
            "\r 12%|█▎        | 1/8 [00:16<01:55, 16.45s/it]"
          ]
        },
        {
          "metadata": {
            "tags": null
          },
          "name": "stdout",
          "output_type": "stream",
          "text": [
            "training error:\n",
            "0.014778571382667142\n",
            "Model Done !\n",
            "harvesting states...\n",
            "fitting...\n"
          ]
        },
        {
          "metadata": {
            "tags": null
          },
          "name": "stderr",
          "output_type": "stream",
          "text": [
            "\r 25%|██▌       | 2/8 [00:34<01:44, 17.43s/it]"
          ]
        },
        {
          "metadata": {
            "tags": null
          },
          "name": "stdout",
          "output_type": "stream",
          "text": [
            "training error:\n",
            "0.02042805395556867\n",
            "Model Done !\n",
            "harvesting states...\n",
            "fitting...\n"
          ]
        },
        {
          "metadata": {
            "tags": null
          },
          "name": "stderr",
          "output_type": "stream",
          "text": [
            "\r 38%|███▊      | 3/8 [00:51<01:25, 17.16s/it]"
          ]
        },
        {
          "metadata": {
            "tags": null
          },
          "name": "stdout",
          "output_type": "stream",
          "text": [
            "training error:\n",
            "0.024013477978896233\n",
            "Model Done !\n",
            "harvesting states...\n",
            "fitting...\n"
          ]
        },
        {
          "metadata": {
            "tags": null
          },
          "name": "stderr",
          "output_type": "stream",
          "text": [
            "\r 50%|█████     | 4/8 [01:08<01:08, 17.06s/it]"
          ]
        },
        {
          "metadata": {
            "tags": null
          },
          "name": "stdout",
          "output_type": "stream",
          "text": [
            "training error:\n",
            "0.026150832666177213\n",
            "Model Done !\n",
            "harvesting states...\n",
            "fitting...\n"
          ]
        },
        {
          "metadata": {
            "tags": null
          },
          "name": "stderr",
          "output_type": "stream",
          "text": [
            "\r 62%|██████▎   | 5/8 [01:26<00:52, 17.34s/it]"
          ]
        },
        {
          "metadata": {
            "tags": null
          },
          "name": "stdout",
          "output_type": "stream",
          "text": [
            "training error:\n",
            "0.028060846681465343\n",
            "Model Done !\n",
            "harvesting states...\n",
            "fitting...\n"
          ]
        },
        {
          "metadata": {
            "tags": null
          },
          "name": "stderr",
          "output_type": "stream",
          "text": [
            "\r 75%|███████▌  | 6/8 [01:43<00:34, 17.31s/it]"
          ]
        },
        {
          "metadata": {
            "tags": null
          },
          "name": "stdout",
          "output_type": "stream",
          "text": [
            "training error:\n",
            "0.029115529203051566\n",
            "Model Done !\n",
            "harvesting states...\n",
            "fitting...\n"
          ]
        },
        {
          "metadata": {
            "tags": null
          },
          "name": "stderr",
          "output_type": "stream",
          "text": [
            "\r 88%|████████▊ | 7/8 [01:59<00:17, 17.07s/it]"
          ]
        },
        {
          "metadata": {
            "tags": null
          },
          "name": "stdout",
          "output_type": "stream",
          "text": [
            "training error:\n",
            "0.029904119235339244\n",
            "Model Done !\n",
            "harvesting states...\n",
            "fitting...\n"
          ]
        },
        {
          "metadata": {
            "tags": null
          },
          "name": "stderr",
          "output_type": "stream",
          "text": [
            "100%|██████████| 8/8 [02:17<00:00, 17.13s/it]\n"
          ]
        },
        {
          "metadata": {
            "tags": null
          },
          "name": "stdout",
          "output_type": "stream",
          "text": [
            "training error:\n",
            "0.030923988002045256\n",
            "Model Done !\n"
          ]
        },
        {
          "metadata": {
            "tags": null
          },
          "name": "stderr",
          "output_type": "stream",
          "text": [
            "Progress: 100%|██████████| 1451/1451 [00:12<00:00, 117.82it/s]\n",
            "[I 2023-09-04 08:47:48,074] Trial 40 finished with value: 0.06582652506455627 and parameters: {'n_reservoir': 922, 'sparsity': 0.5, 'spectral_radius': 10.0, 'noise': 0.004, 'look_back': 341}. Best is trial 12 with value: 0.053290075094445805.\n",
            "  0%|          | 0/8 [00:00<?, ?it/s]"
          ]
        },
        {
          "metadata": {
            "tags": null
          },
          "name": "stdout",
          "output_type": "stream",
          "text": [
            "harvesting states...\n",
            "fitting...\n"
          ]
        },
        {
          "metadata": {
            "tags": null
          },
          "name": "stderr",
          "output_type": "stream",
          "text": [
            "\r 12%|█▎        | 1/8 [00:07<00:52,  7.51s/it]"
          ]
        },
        {
          "metadata": {
            "tags": null
          },
          "name": "stdout",
          "output_type": "stream",
          "text": [
            "training error:\n",
            "0.015228193327147635\n",
            "Model Done !\n",
            "harvesting states...\n",
            "fitting...\n"
          ]
        },
        {
          "metadata": {
            "tags": null
          },
          "name": "stderr",
          "output_type": "stream",
          "text": [
            "\r 25%|██▌       | 2/8 [00:13<00:39,  6.53s/it]"
          ]
        },
        {
          "metadata": {
            "tags": null
          },
          "name": "stdout",
          "output_type": "stream",
          "text": [
            "training error:\n",
            "0.015277347470273688\n",
            "Model Done !\n",
            "harvesting states...\n",
            "fitting...\n"
          ]
        },
        {
          "metadata": {
            "tags": null
          },
          "name": "stderr",
          "output_type": "stream",
          "text": [
            "\r 38%|███▊      | 3/8 [00:20<00:34,  6.91s/it]"
          ]
        },
        {
          "metadata": {
            "tags": null
          },
          "name": "stdout",
          "output_type": "stream",
          "text": [
            "training error:\n",
            "0.015300438998334245\n",
            "Model Done !\n",
            "harvesting states...\n",
            "fitting...\n"
          ]
        },
        {
          "metadata": {
            "tags": null
          },
          "name": "stderr",
          "output_type": "stream",
          "text": [
            "\r 50%|█████     | 4/8 [00:26<00:26,  6.57s/it]"
          ]
        },
        {
          "metadata": {
            "tags": null
          },
          "name": "stdout",
          "output_type": "stream",
          "text": [
            "training error:\n",
            "0.015272218958866183\n",
            "Model Done !\n",
            "harvesting states...\n",
            "fitting...\n"
          ]
        },
        {
          "metadata": {
            "tags": null
          },
          "name": "stderr",
          "output_type": "stream",
          "text": [
            "\r 62%|██████▎   | 5/8 [00:34<00:20,  6.88s/it]"
          ]
        },
        {
          "metadata": {
            "tags": null
          },
          "name": "stdout",
          "output_type": "stream",
          "text": [
            "training error:\n",
            "0.015296813031559869\n",
            "Model Done !\n",
            "harvesting states...\n",
            "fitting...\n"
          ]
        },
        {
          "metadata": {
            "tags": null
          },
          "name": "stderr",
          "output_type": "stream",
          "text": [
            "\r 75%|███████▌  | 6/8 [00:40<00:13,  6.58s/it]"
          ]
        },
        {
          "metadata": {
            "tags": null
          },
          "name": "stdout",
          "output_type": "stream",
          "text": [
            "training error:\n",
            "0.01529881909777559\n",
            "Model Done !\n",
            "harvesting states...\n",
            "fitting...\n"
          ]
        },
        {
          "metadata": {
            "tags": null
          },
          "name": "stderr",
          "output_type": "stream",
          "text": [
            "\r 88%|████████▊ | 7/8 [00:47<00:06,  6.79s/it]"
          ]
        },
        {
          "metadata": {
            "tags": null
          },
          "name": "stdout",
          "output_type": "stream",
          "text": [
            "training error:\n",
            "0.015268666451560884\n",
            "Model Done !\n",
            "harvesting states...\n",
            "fitting...\n"
          ]
        },
        {
          "metadata": {
            "tags": null
          },
          "name": "stderr",
          "output_type": "stream",
          "text": [
            "100%|██████████| 8/8 [00:53<00:00,  6.64s/it]\n"
          ]
        },
        {
          "metadata": {
            "tags": null
          },
          "name": "stdout",
          "output_type": "stream",
          "text": [
            "training error:\n",
            "0.015273810842010196\n",
            "Model Done !\n"
          ]
        },
        {
          "metadata": {
            "tags": null
          },
          "name": "stderr",
          "output_type": "stream",
          "text": [
            "Progress: 100%|██████████| 1605/1605 [00:06<00:00, 248.35it/s]\n",
            "[I 2023-09-04 08:48:47,811] Trial 41 finished with value: 0.07434714523915414 and parameters: {'n_reservoir': 512, 'sparsity': 0.2, 'spectral_radius': 1.1, 'noise': 0.003, 'look_back': 187}. Best is trial 12 with value: 0.053290075094445805.\n",
            "  0%|          | 0/8 [00:00<?, ?it/s]"
          ]
        },
        {
          "metadata": {
            "tags": null
          },
          "name": "stdout",
          "output_type": "stream",
          "text": [
            "harvesting states...\n",
            "fitting...\n"
          ]
        },
        {
          "metadata": {
            "tags": null
          },
          "name": "stderr",
          "output_type": "stream",
          "text": [
            "\r 12%|█▎        | 1/8 [00:08<01:01,  8.84s/it]"
          ]
        },
        {
          "metadata": {
            "tags": null
          },
          "name": "stdout",
          "output_type": "stream",
          "text": [
            "training error:\n",
            "0.014917140188833158\n",
            "Model Done !\n",
            "harvesting states...\n",
            "fitting...\n"
          ]
        },
        {
          "metadata": {
            "tags": null
          },
          "name": "stderr",
          "output_type": "stream",
          "text": [
            "\r 25%|██▌       | 2/8 [00:18<00:55,  9.31s/it]"
          ]
        },
        {
          "metadata": {
            "tags": null
          },
          "name": "stdout",
          "output_type": "stream",
          "text": [
            "training error:\n",
            "0.02080994482454878\n",
            "Model Done !\n",
            "harvesting states...\n",
            "fitting...\n"
          ]
        },
        {
          "metadata": {
            "tags": null
          },
          "name": "stderr",
          "output_type": "stream",
          "text": [
            "\r 38%|███▊      | 3/8 [00:28<00:47,  9.54s/it]"
          ]
        },
        {
          "metadata": {
            "tags": null
          },
          "name": "stdout",
          "output_type": "stream",
          "text": [
            "training error:\n",
            "0.024704666799615534\n",
            "Model Done !\n",
            "harvesting states...\n",
            "fitting...\n"
          ]
        },
        {
          "metadata": {
            "tags": null
          },
          "name": "stderr",
          "output_type": "stream",
          "text": [
            "\r 50%|█████     | 4/8 [00:37<00:38,  9.59s/it]"
          ]
        },
        {
          "metadata": {
            "tags": null
          },
          "name": "stdout",
          "output_type": "stream",
          "text": [
            "training error:\n",
            "0.02760779481472968\n",
            "Model Done !\n",
            "harvesting states...\n",
            "fitting...\n"
          ]
        },
        {
          "metadata": {
            "tags": null
          },
          "name": "stderr",
          "output_type": "stream",
          "text": [
            "\r 62%|██████▎   | 5/8 [00:46<00:27,  9.23s/it]"
          ]
        },
        {
          "metadata": {
            "tags": null
          },
          "name": "stdout",
          "output_type": "stream",
          "text": [
            "training error:\n",
            "0.029702451789643806\n",
            "Model Done !\n",
            "harvesting states...\n",
            "fitting...\n"
          ]
        },
        {
          "metadata": {
            "tags": null
          },
          "name": "stderr",
          "output_type": "stream",
          "text": [
            "\r 75%|███████▌  | 6/8 [00:56<00:18,  9.39s/it]"
          ]
        },
        {
          "metadata": {
            "tags": null
          },
          "name": "stdout",
          "output_type": "stream",
          "text": [
            "training error:\n",
            "0.03157644038623024\n",
            "Model Done !\n",
            "harvesting states...\n",
            "fitting...\n"
          ]
        },
        {
          "metadata": {
            "tags": null
          },
          "name": "stderr",
          "output_type": "stream",
          "text": [
            "\r 88%|████████▊ | 7/8 [01:06<00:09,  9.56s/it]"
          ]
        },
        {
          "metadata": {
            "tags": null
          },
          "name": "stdout",
          "output_type": "stream",
          "text": [
            "training error:\n",
            "0.03283981023429294\n",
            "Model Done !\n",
            "harvesting states...\n",
            "fitting...\n"
          ]
        },
        {
          "metadata": {
            "tags": null
          },
          "name": "stderr",
          "output_type": "stream",
          "text": [
            "100%|██████████| 8/8 [01:15<00:00,  9.39s/it]\n"
          ]
        },
        {
          "metadata": {
            "tags": null
          },
          "name": "stdout",
          "output_type": "stream",
          "text": [
            "training error:\n",
            "0.03434893256537163\n",
            "Model Done !\n"
          ]
        },
        {
          "metadata": {
            "tags": null
          },
          "name": "stderr",
          "output_type": "stream",
          "text": [
            "Progress: 100%|██████████| 1411/1411 [00:07<00:00, 199.98it/s]\n",
            "[I 2023-09-04 08:50:10,147] Trial 42 finished with value: 0.0659640153557896 and parameters: {'n_reservoir': 582, 'sparsity': 0.2, 'spectral_radius': 10.0, 'noise': 0.003, 'look_back': 381}. Best is trial 12 with value: 0.053290075094445805.\n",
            "  0%|          | 0/8 [00:00<?, ?it/s]"
          ]
        },
        {
          "metadata": {
            "tags": null
          },
          "name": "stdout",
          "output_type": "stream",
          "text": [
            "harvesting states...\n",
            "fitting...\n"
          ]
        },
        {
          "metadata": {
            "tags": null
          },
          "name": "stderr",
          "output_type": "stream",
          "text": [
            "\r 12%|█▎        | 1/8 [00:06<00:43,  6.24s/it]"
          ]
        },
        {
          "metadata": {
            "tags": null
          },
          "name": "stdout",
          "output_type": "stream",
          "text": [
            "training error:\n",
            "0.015337642640698958\n",
            "Model Done !\n",
            "harvesting states...\n",
            "fitting...\n"
          ]
        },
        {
          "metadata": {
            "tags": null
          },
          "name": "stderr",
          "output_type": "stream",
          "text": [
            "\r 25%|██▌       | 2/8 [00:13<00:42,  7.02s/it]"
          ]
        },
        {
          "metadata": {
            "tags": null
          },
          "name": "stdout",
          "output_type": "stream",
          "text": [
            "training error:\n",
            "0.021321566694530503\n",
            "Model Done !\n",
            "harvesting states...\n",
            "fitting...\n"
          ]
        },
        {
          "metadata": {
            "tags": null
          },
          "name": "stderr",
          "output_type": "stream",
          "text": [
            "\r 38%|███▊      | 3/8 [00:20<00:33,  6.71s/it]"
          ]
        },
        {
          "metadata": {
            "tags": null
          },
          "name": "stdout",
          "output_type": "stream",
          "text": [
            "training error:\n",
            "0.025351594366154008\n",
            "Model Done !\n",
            "harvesting states...\n",
            "fitting...\n"
          ]
        },
        {
          "metadata": {
            "tags": null
          },
          "name": "stderr",
          "output_type": "stream",
          "text": [
            "\r 50%|█████     | 4/8 [00:27<00:27,  6.87s/it]"
          ]
        },
        {
          "metadata": {
            "tags": null
          },
          "name": "stdout",
          "output_type": "stream",
          "text": [
            "training error:\n",
            "0.028639533743940227\n",
            "Model Done !\n",
            "harvesting states...\n",
            "fitting...\n"
          ]
        },
        {
          "metadata": {
            "tags": null
          },
          "name": "stderr",
          "output_type": "stream",
          "text": [
            "\r 62%|██████▎   | 5/8 [00:33<00:20,  6.73s/it]"
          ]
        },
        {
          "metadata": {
            "tags": null
          },
          "name": "stdout",
          "output_type": "stream",
          "text": [
            "training error:\n",
            "0.030919425405850885\n",
            "Model Done !\n",
            "harvesting states...\n",
            "fitting...\n"
          ]
        },
        {
          "metadata": {
            "tags": null
          },
          "name": "stderr",
          "output_type": "stream",
          "text": [
            "\r 75%|███████▌  | 6/8 [00:41<00:14,  7.01s/it]"
          ]
        },
        {
          "metadata": {
            "tags": null
          },
          "name": "stdout",
          "output_type": "stream",
          "text": [
            "training error:\n",
            "0.03274024205137658\n",
            "Model Done !\n",
            "harvesting states...\n",
            "fitting...\n"
          ]
        },
        {
          "metadata": {
            "tags": null
          },
          "name": "stderr",
          "output_type": "stream",
          "text": [
            "\r 88%|████████▊ | 7/8 [00:48<00:07,  7.06s/it]"
          ]
        },
        {
          "metadata": {
            "tags": null
          },
          "name": "stdout",
          "output_type": "stream",
          "text": [
            "training error:\n",
            "0.03407106334333062\n",
            "Model Done !\n",
            "harvesting states...\n",
            "fitting...\n"
          ]
        },
        {
          "metadata": {
            "tags": null
          },
          "name": "stderr",
          "output_type": "stream",
          "text": [
            "100%|██████████| 8/8 [00:55<00:00,  6.89s/it]\n"
          ]
        },
        {
          "metadata": {
            "tags": null
          },
          "name": "stdout",
          "output_type": "stream",
          "text": [
            "training error:\n",
            "0.03528376888507826\n",
            "Model Done !\n"
          ]
        },
        {
          "metadata": {
            "tags": null
          },
          "name": "stderr",
          "output_type": "stream",
          "text": [
            "Progress: 100%|██████████| 1637/1637 [00:04<00:00, 329.04it/s]\n",
            "[I 2023-09-04 08:51:10,478] Trial 43 finished with value: 0.07631483469111866 and parameters: {'n_reservoir': 559, 'sparsity': 0.2, 'spectral_radius': 10.0, 'noise': 0.003, 'look_back': 155}. Best is trial 12 with value: 0.053290075094445805.\n",
            "  0%|          | 0/8 [00:00<?, ?it/s]"
          ]
        },
        {
          "metadata": {
            "tags": null
          },
          "name": "stdout",
          "output_type": "stream",
          "text": [
            "harvesting states...\n",
            "fitting...\n"
          ]
        },
        {
          "metadata": {
            "tags": null
          },
          "name": "stderr",
          "output_type": "stream",
          "text": [
            "\r 12%|█▎        | 1/8 [00:04<00:31,  4.55s/it]"
          ]
        },
        {
          "metadata": {
            "tags": null
          },
          "name": "stdout",
          "output_type": "stream",
          "text": [
            "training error:\n",
            "0.015226546827769586\n",
            "Model Done !\n",
            "harvesting states...\n",
            "fitting...\n"
          ]
        },
        {
          "metadata": {
            "tags": null
          },
          "name": "stderr",
          "output_type": "stream",
          "text": [
            "\r 25%|██▌       | 2/8 [00:08<00:23,  3.98s/it]"
          ]
        },
        {
          "metadata": {
            "tags": null
          },
          "name": "stdout",
          "output_type": "stream",
          "text": [
            "training error:\n",
            "0.015382679962382047\n",
            "Model Done !\n",
            "harvesting states...\n",
            "fitting...\n"
          ]
        },
        {
          "metadata": {
            "tags": null
          },
          "name": "stderr",
          "output_type": "stream",
          "text": [
            "\r 38%|███▊      | 3/8 [00:11<00:18,  3.71s/it]"
          ]
        },
        {
          "metadata": {
            "tags": null
          },
          "name": "stdout",
          "output_type": "stream",
          "text": [
            "training error:\n",
            "0.01538453644846588\n",
            "Model Done !\n",
            "harvesting states...\n",
            "fitting...\n"
          ]
        },
        {
          "metadata": {
            "tags": null
          },
          "name": "stderr",
          "output_type": "stream",
          "text": [
            "\r 50%|█████     | 4/8 [00:16<00:16,  4.22s/it]"
          ]
        },
        {
          "metadata": {
            "tags": null
          },
          "name": "stdout",
          "output_type": "stream",
          "text": [
            "training error:\n",
            "0.01536563705003123\n",
            "Model Done !\n",
            "harvesting states...\n",
            "fitting...\n"
          ]
        },
        {
          "metadata": {
            "tags": null
          },
          "name": "stderr",
          "output_type": "stream",
          "text": [
            "\r 62%|██████▎   | 5/8 [00:19<00:11,  3.92s/it]"
          ]
        },
        {
          "metadata": {
            "tags": null
          },
          "name": "stdout",
          "output_type": "stream",
          "text": [
            "training error:\n",
            "0.015367276553461987\n",
            "Model Done !\n",
            "harvesting states...\n",
            "fitting...\n"
          ]
        },
        {
          "metadata": {
            "tags": null
          },
          "name": "stderr",
          "output_type": "stream",
          "text": [
            "\r 75%|███████▌  | 6/8 [00:23<00:07,  3.73s/it]"
          ]
        },
        {
          "metadata": {
            "tags": null
          },
          "name": "stdout",
          "output_type": "stream",
          "text": [
            "training error:\n",
            "0.015364421405354182\n",
            "Model Done !\n",
            "harvesting states...\n",
            "fitting...\n"
          ]
        },
        {
          "metadata": {
            "tags": null
          },
          "name": "stderr",
          "output_type": "stream",
          "text": [
            "\r 88%|████████▊ | 7/8 [00:27<00:03,  3.78s/it]"
          ]
        },
        {
          "metadata": {
            "tags": null
          },
          "name": "stdout",
          "output_type": "stream",
          "text": [
            "training error:\n",
            "0.015395130213249113\n",
            "Model Done !\n",
            "harvesting states...\n",
            "fitting...\n"
          ]
        },
        {
          "metadata": {
            "tags": null
          },
          "name": "stderr",
          "output_type": "stream",
          "text": [
            "100%|██████████| 8/8 [00:31<00:00,  3.96s/it]\n"
          ]
        },
        {
          "metadata": {
            "tags": null
          },
          "name": "stdout",
          "output_type": "stream",
          "text": [
            "training error:\n",
            "0.015398863208515653\n",
            "Model Done !\n"
          ]
        },
        {
          "metadata": {
            "tags": null
          },
          "name": "stderr",
          "output_type": "stream",
          "text": [
            "Progress: 100%|██████████| 1561/1561 [00:03<00:00, 492.14it/s]\n",
            "[I 2023-09-04 08:51:45,481] Trial 44 finished with value: 0.07864053405430776 and parameters: {'n_reservoir': 318, 'sparsity': 0.3, 'spectral_radius': 0.9, 'noise': 0.008, 'look_back': 231}. Best is trial 12 with value: 0.053290075094445805.\n",
            "  0%|          | 0/8 [00:00<?, ?it/s]"
          ]
        },
        {
          "metadata": {
            "tags": null
          },
          "name": "stdout",
          "output_type": "stream",
          "text": [
            "harvesting states...\n",
            "fitting...\n"
          ]
        },
        {
          "metadata": {
            "tags": null
          },
          "name": "stderr",
          "output_type": "stream",
          "text": [
            "\r 12%|█▎        | 1/8 [00:10<01:11, 10.16s/it]"
          ]
        },
        {
          "metadata": {
            "tags": null
          },
          "name": "stdout",
          "output_type": "stream",
          "text": [
            "training error:\n",
            "0.01644805116856689\n",
            "Model Done !\n",
            "harvesting states...\n",
            "fitting...\n"
          ]
        },
        {
          "metadata": {
            "tags": null
          },
          "name": "stderr",
          "output_type": "stream",
          "text": [
            "\r 25%|██▌       | 2/8 [00:19<00:58,  9.82s/it]"
          ]
        },
        {
          "metadata": {
            "tags": null
          },
          "name": "stdout",
          "output_type": "stream",
          "text": [
            "training error:\n",
            "0.022699466434694823\n",
            "Model Done !\n",
            "harvesting states...\n",
            "fitting...\n"
          ]
        },
        {
          "metadata": {
            "tags": null
          },
          "name": "stderr",
          "output_type": "stream",
          "text": [
            "\r 38%|███▊      | 3/8 [00:29<00:48,  9.62s/it]"
          ]
        },
        {
          "metadata": {
            "tags": null
          },
          "name": "stdout",
          "output_type": "stream",
          "text": [
            "training error:\n",
            "0.026599212134523483\n",
            "Model Done !\n",
            "harvesting states...\n",
            "fitting...\n"
          ]
        },
        {
          "metadata": {
            "tags": null
          },
          "name": "stderr",
          "output_type": "stream",
          "text": [
            "\r 50%|█████     | 4/8 [00:39<00:39,  9.97s/it]"
          ]
        },
        {
          "metadata": {
            "tags": null
          },
          "name": "stdout",
          "output_type": "stream",
          "text": [
            "training error:\n",
            "0.029175909423628025\n",
            "Model Done !\n",
            "harvesting states...\n",
            "fitting...\n"
          ]
        },
        {
          "metadata": {
            "tags": null
          },
          "name": "stderr",
          "output_type": "stream",
          "text": [
            "\r 62%|██████▎   | 5/8 [00:49<00:30, 10.01s/it]"
          ]
        },
        {
          "metadata": {
            "tags": null
          },
          "name": "stdout",
          "output_type": "stream",
          "text": [
            "training error:\n",
            "0.031195193231869454\n",
            "Model Done !\n",
            "harvesting states...\n",
            "fitting...\n"
          ]
        },
        {
          "metadata": {
            "tags": null
          },
          "name": "stderr",
          "output_type": "stream",
          "text": [
            "\r 75%|███████▌  | 6/8 [00:59<00:20, 10.07s/it]"
          ]
        },
        {
          "metadata": {
            "tags": null
          },
          "name": "stdout",
          "output_type": "stream",
          "text": [
            "training error:\n",
            "0.03304424761063118\n",
            "Model Done !\n",
            "harvesting states...\n",
            "fitting...\n"
          ]
        },
        {
          "metadata": {
            "tags": null
          },
          "name": "stderr",
          "output_type": "stream",
          "text": [
            "\r 88%|████████▊ | 7/8 [01:09<00:09,  9.96s/it]"
          ]
        },
        {
          "metadata": {
            "tags": null
          },
          "name": "stdout",
          "output_type": "stream",
          "text": [
            "training error:\n",
            "0.034063118343117996\n",
            "Model Done !\n",
            "harvesting states...\n",
            "fitting...\n"
          ]
        },
        {
          "metadata": {
            "tags": null
          },
          "name": "stderr",
          "output_type": "stream",
          "text": [
            "100%|██████████| 8/8 [01:19<00:00,  9.98s/it]\n"
          ]
        },
        {
          "metadata": {
            "tags": null
          },
          "name": "stdout",
          "output_type": "stream",
          "text": [
            "training error:\n",
            "0.034969245217420244\n",
            "Model Done !\n"
          ]
        },
        {
          "metadata": {
            "tags": null
          },
          "name": "stderr",
          "output_type": "stream",
          "text": [
            "Progress: 100%|██████████| 1753/1753 [00:09<00:00, 191.57it/s]\n",
            "[I 2023-09-04 08:53:14,695] Trial 45 finished with value: 0.05510652570055976 and parameters: {'n_reservoir': 809, 'sparsity': 0.2, 'spectral_radius': 10.0, 'noise': 0.007, 'look_back': 39}. Best is trial 12 with value: 0.053290075094445805.\n",
            "  0%|          | 0/8 [00:00<?, ?it/s]"
          ]
        },
        {
          "metadata": {
            "tags": null
          },
          "name": "stdout",
          "output_type": "stream",
          "text": [
            "harvesting states...\n",
            "fitting...\n"
          ]
        },
        {
          "metadata": {
            "tags": null
          },
          "name": "stderr",
          "output_type": "stream",
          "text": [
            "\r 12%|█▎        | 1/8 [00:09<01:07,  9.64s/it]"
          ]
        },
        {
          "metadata": {
            "tags": null
          },
          "name": "stdout",
          "output_type": "stream",
          "text": [
            "training error:\n",
            "0.016462147436844075\n",
            "Model Done !\n",
            "harvesting states...\n",
            "fitting...\n"
          ]
        },
        {
          "metadata": {
            "tags": null
          },
          "name": "stderr",
          "output_type": "stream",
          "text": [
            "\r 25%|██▌       | 2/8 [00:19<00:58,  9.75s/it]"
          ]
        },
        {
          "metadata": {
            "tags": null
          },
          "name": "stdout",
          "output_type": "stream",
          "text": [
            "training error:\n",
            "0.022660191449551795\n",
            "Model Done !\n",
            "harvesting states...\n",
            "fitting...\n"
          ]
        },
        {
          "metadata": {
            "tags": null
          },
          "name": "stderr",
          "output_type": "stream",
          "text": [
            "\r 38%|███▊      | 3/8 [00:30<00:51, 10.25s/it]"
          ]
        },
        {
          "metadata": {
            "tags": null
          },
          "name": "stdout",
          "output_type": "stream",
          "text": [
            "training error:\n",
            "0.026522835163879075\n",
            "Model Done !\n",
            "harvesting states...\n",
            "fitting...\n"
          ]
        },
        {
          "metadata": {
            "tags": null
          },
          "name": "stderr",
          "output_type": "stream",
          "text": [
            "\r 50%|█████     | 4/8 [00:40<00:41, 10.29s/it]"
          ]
        },
        {
          "metadata": {
            "tags": null
          },
          "name": "stdout",
          "output_type": "stream",
          "text": [
            "training error:\n",
            "0.029507025138754417\n",
            "Model Done !\n",
            "harvesting states...\n",
            "fitting...\n"
          ]
        },
        {
          "metadata": {
            "tags": null
          },
          "name": "stderr",
          "output_type": "stream",
          "text": [
            "\r 62%|██████▎   | 5/8 [00:51<00:31, 10.42s/it]"
          ]
        },
        {
          "metadata": {
            "tags": null
          },
          "name": "stdout",
          "output_type": "stream",
          "text": [
            "training error:\n",
            "0.03157712547468573\n",
            "Model Done !\n",
            "harvesting states...\n",
            "fitting...\n"
          ]
        },
        {
          "metadata": {
            "tags": null
          },
          "name": "stderr",
          "output_type": "stream",
          "text": [
            "\r 75%|███████▌  | 6/8 [01:00<00:19,  9.99s/it]"
          ]
        },
        {
          "metadata": {
            "tags": null
          },
          "name": "stdout",
          "output_type": "stream",
          "text": [
            "training error:\n",
            "0.032873502404962555\n",
            "Model Done !\n",
            "harvesting states...\n",
            "fitting...\n"
          ]
        },
        {
          "metadata": {
            "tags": null
          },
          "name": "stderr",
          "output_type": "stream",
          "text": [
            "\r 88%|████████▊ | 7/8 [01:10<00:10, 10.08s/it]"
          ]
        },
        {
          "metadata": {
            "tags": null
          },
          "name": "stdout",
          "output_type": "stream",
          "text": [
            "training error:\n",
            "0.0340076779743059\n",
            "Model Done !\n",
            "harvesting states...\n",
            "fitting...\n"
          ]
        },
        {
          "metadata": {
            "tags": null
          },
          "name": "stderr",
          "output_type": "stream",
          "text": [
            "100%|██████████| 8/8 [01:21<00:00, 10.14s/it]\n"
          ]
        },
        {
          "metadata": {
            "tags": null
          },
          "name": "stdout",
          "output_type": "stream",
          "text": [
            "training error:\n",
            "0.03489696296727199\n",
            "Model Done !\n"
          ]
        },
        {
          "metadata": {
            "tags": null
          },
          "name": "stderr",
          "output_type": "stream",
          "text": [
            "Progress: 100%|██████████| 1758/1758 [00:07<00:00, 231.54it/s]\n",
            "[I 2023-09-04 08:54:43,665] Trial 46 finished with value: 0.05722652670797249 and parameters: {'n_reservoir': 823, 'sparsity': 0.2, 'spectral_radius': 10.0, 'noise': 0.007, 'look_back': 34}. Best is trial 12 with value: 0.053290075094445805.\n",
            "  0%|          | 0/8 [00:00<?, ?it/s]"
          ]
        },
        {
          "metadata": {
            "tags": null
          },
          "name": "stdout",
          "output_type": "stream",
          "text": [
            "harvesting states...\n",
            "fitting...\n"
          ]
        },
        {
          "metadata": {
            "tags": null
          },
          "name": "stderr",
          "output_type": "stream",
          "text": [
            "\r 12%|█▎        | 1/8 [00:09<01:05,  9.35s/it]"
          ]
        },
        {
          "metadata": {
            "tags": null
          },
          "name": "stdout",
          "output_type": "stream",
          "text": [
            "training error:\n",
            "0.016278730091678652\n",
            "Model Done !\n",
            "harvesting states...\n",
            "fitting...\n"
          ]
        },
        {
          "metadata": {
            "tags": null
          },
          "name": "stderr",
          "output_type": "stream",
          "text": [
            "\r 25%|██▌       | 2/8 [00:18<00:55,  9.25s/it]"
          ]
        },
        {
          "metadata": {
            "tags": null
          },
          "name": "stdout",
          "output_type": "stream",
          "text": [
            "training error:\n",
            "0.016600272076846796\n",
            "Model Done !\n",
            "harvesting states...\n",
            "fitting...\n"
          ]
        },
        {
          "metadata": {
            "tags": null
          },
          "name": "stderr",
          "output_type": "stream",
          "text": [
            "\r 38%|███▊      | 3/8 [00:26<00:43,  8.76s/it]"
          ]
        },
        {
          "metadata": {
            "tags": null
          },
          "name": "stdout",
          "output_type": "stream",
          "text": [
            "training error:\n",
            "0.016167734389148723\n",
            "Model Done !\n",
            "harvesting states...\n",
            "fitting...\n"
          ]
        },
        {
          "metadata": {
            "tags": null
          },
          "name": "stderr",
          "output_type": "stream",
          "text": [
            "\r 50%|█████     | 4/8 [00:36<00:36,  9.02s/it]"
          ]
        },
        {
          "metadata": {
            "tags": null
          },
          "name": "stdout",
          "output_type": "stream",
          "text": [
            "training error:\n",
            "0.016073504141378713\n",
            "Model Done !\n",
            "harvesting states...\n",
            "fitting...\n"
          ]
        },
        {
          "metadata": {
            "tags": null
          },
          "name": "stderr",
          "output_type": "stream",
          "text": [
            "\r 62%|██████▎   | 5/8 [00:45<00:27,  9.06s/it]"
          ]
        },
        {
          "metadata": {
            "tags": null
          },
          "name": "stdout",
          "output_type": "stream",
          "text": [
            "training error:\n",
            "0.016088675803775713\n",
            "Model Done !\n",
            "harvesting states...\n",
            "fitting...\n"
          ]
        },
        {
          "metadata": {
            "tags": null
          },
          "name": "stderr",
          "output_type": "stream",
          "text": [
            "\r 75%|███████▌  | 6/8 [00:53<00:17,  8.88s/it]"
          ]
        },
        {
          "metadata": {
            "tags": null
          },
          "name": "stdout",
          "output_type": "stream",
          "text": [
            "training error:\n",
            "0.01603450227906347\n",
            "Model Done !\n",
            "harvesting states...\n",
            "fitting...\n"
          ]
        },
        {
          "metadata": {
            "tags": null
          },
          "name": "stderr",
          "output_type": "stream",
          "text": [
            "\r 88%|████████▊ | 7/8 [01:02<00:08,  8.96s/it]"
          ]
        },
        {
          "metadata": {
            "tags": null
          },
          "name": "stdout",
          "output_type": "stream",
          "text": [
            "training error:\n",
            "0.0160723888437609\n",
            "Model Done !\n",
            "harvesting states...\n",
            "fitting...\n"
          ]
        },
        {
          "metadata": {
            "tags": null
          },
          "name": "stderr",
          "output_type": "stream",
          "text": [
            "100%|██████████| 8/8 [01:12<00:00,  9.02s/it]\n"
          ]
        },
        {
          "metadata": {
            "tags": null
          },
          "name": "stdout",
          "output_type": "stream",
          "text": [
            "training error:\n",
            "0.016043389868310165\n",
            "Model Done !\n"
          ]
        },
        {
          "metadata": {
            "tags": null
          },
          "name": "stderr",
          "output_type": "stream",
          "text": [
            "Progress: 100%|██████████| 1754/1754 [00:06<00:00, 280.53it/s]\n",
            "[I 2023-09-04 08:56:02,289] Trial 47 finished with value: 0.07581923392917271 and parameters: {'n_reservoir': 759, 'sparsity': 0.1, 'spectral_radius': 0.6, 'noise': 0.007, 'look_back': 38}. Best is trial 12 with value: 0.053290075094445805.\n",
            "  0%|          | 0/8 [00:00<?, ?it/s]"
          ]
        },
        {
          "metadata": {
            "tags": null
          },
          "name": "stdout",
          "output_type": "stream",
          "text": [
            "harvesting states...\n",
            "fitting...\n"
          ]
        },
        {
          "metadata": {
            "tags": null
          },
          "name": "stderr",
          "output_type": "stream",
          "text": [
            "\r 12%|█▎        | 1/8 [00:10<01:14, 10.60s/it]"
          ]
        },
        {
          "metadata": {
            "tags": null
          },
          "name": "stdout",
          "output_type": "stream",
          "text": [
            "training error:\n",
            "0.015582960431625659\n",
            "Model Done !\n",
            "harvesting states...\n",
            "fitting...\n"
          ]
        },
        {
          "metadata": {
            "tags": null
          },
          "name": "stderr",
          "output_type": "stream",
          "text": [
            "\r 25%|██▌       | 2/8 [00:21<01:05, 10.97s/it]"
          ]
        },
        {
          "metadata": {
            "tags": null
          },
          "name": "stdout",
          "output_type": "stream",
          "text": [
            "training error:\n",
            "0.021513159372247376\n",
            "Model Done !\n",
            "harvesting states...\n",
            "fitting...\n"
          ]
        },
        {
          "metadata": {
            "tags": null
          },
          "name": "stderr",
          "output_type": "stream",
          "text": [
            "\r 38%|███▊      | 3/8 [00:32<00:54, 10.83s/it]"
          ]
        },
        {
          "metadata": {
            "tags": null
          },
          "name": "stdout",
          "output_type": "stream",
          "text": [
            "training error:\n",
            "0.025521865809426565\n",
            "Model Done !\n",
            "harvesting states...\n",
            "fitting...\n"
          ]
        },
        {
          "metadata": {
            "tags": null
          },
          "name": "stderr",
          "output_type": "stream",
          "text": [
            "\r 50%|█████     | 4/8 [00:42<00:42, 10.68s/it]"
          ]
        },
        {
          "metadata": {
            "tags": null
          },
          "name": "stdout",
          "output_type": "stream",
          "text": [
            "training error:\n",
            "0.02828697507135629\n",
            "Model Done !\n",
            "harvesting states...\n",
            "fitting...\n"
          ]
        },
        {
          "metadata": {
            "tags": null
          },
          "name": "stderr",
          "output_type": "stream",
          "text": [
            "\r 62%|██████▎   | 5/8 [00:53<00:31, 10.51s/it]"
          ]
        },
        {
          "metadata": {
            "tags": null
          },
          "name": "stdout",
          "output_type": "stream",
          "text": [
            "training error:\n",
            "0.03062904264342107\n",
            "Model Done !\n",
            "harvesting states...\n",
            "fitting...\n"
          ]
        },
        {
          "metadata": {
            "tags": null
          },
          "name": "stderr",
          "output_type": "stream",
          "text": [
            "\r 75%|███████▌  | 6/8 [01:03<00:21, 10.61s/it]"
          ]
        },
        {
          "metadata": {
            "tags": null
          },
          "name": "stdout",
          "output_type": "stream",
          "text": [
            "training error:\n",
            "0.03186655948523151\n",
            "Model Done !\n",
            "harvesting states...\n",
            "fitting...\n"
          ]
        },
        {
          "metadata": {
            "tags": null
          },
          "name": "stderr",
          "output_type": "stream",
          "text": [
            "\r 88%|████████▊ | 7/8 [01:14<00:10, 10.68s/it]"
          ]
        },
        {
          "metadata": {
            "tags": null
          },
          "name": "stdout",
          "output_type": "stream",
          "text": [
            "training error:\n",
            "0.0328697269966809\n",
            "Model Done !\n",
            "harvesting states...\n",
            "fitting...\n"
          ]
        },
        {
          "metadata": {
            "tags": null
          },
          "name": "stderr",
          "output_type": "stream",
          "text": [
            "100%|██████████| 8/8 [01:25<00:00, 10.69s/it]\n"
          ]
        },
        {
          "metadata": {
            "tags": null
          },
          "name": "stdout",
          "output_type": "stream",
          "text": [
            "training error:\n",
            "0.03389212807560085\n",
            "Model Done !\n"
          ]
        },
        {
          "metadata": {
            "tags": null
          },
          "name": "stderr",
          "output_type": "stream",
          "text": [
            "Progress: 100%|██████████| 1707/1707 [00:07<00:00, 217.18it/s]\n",
            "[I 2023-09-04 08:57:35,798] Trial 48 finished with value: 0.0666194175331952 and parameters: {'n_reservoir': 827, 'sparsity': 0.4, 'spectral_radius': 10.0, 'noise': 0.007, 'look_back': 85}. Best is trial 12 with value: 0.053290075094445805.\n",
            "  0%|          | 0/8 [00:00<?, ?it/s]"
          ]
        },
        {
          "metadata": {
            "tags": null
          },
          "name": "stdout",
          "output_type": "stream",
          "text": [
            "harvesting states...\n",
            "fitting...\n"
          ]
        },
        {
          "metadata": {
            "tags": null
          },
          "name": "stderr",
          "output_type": "stream",
          "text": [
            "\r 12%|█▎        | 1/8 [00:07<00:55,  7.88s/it]"
          ]
        },
        {
          "metadata": {
            "tags": null
          },
          "name": "stdout",
          "output_type": "stream",
          "text": [
            "training error:\n",
            "0.016542760450997503\n",
            "Model Done !\n",
            "harvesting states...\n",
            "fitting...\n"
          ]
        },
        {
          "metadata": {
            "tags": null
          },
          "name": "stderr",
          "output_type": "stream",
          "text": [
            "\r 25%|██▌       | 2/8 [00:14<00:42,  7.10s/it]"
          ]
        },
        {
          "metadata": {
            "tags": null
          },
          "name": "stdout",
          "output_type": "stream",
          "text": [
            "training error:\n",
            "0.016371734634675353\n",
            "Model Done !\n",
            "harvesting states...\n",
            "fitting...\n"
          ]
        },
        {
          "metadata": {
            "tags": null
          },
          "name": "stderr",
          "output_type": "stream",
          "text": [
            "\r 38%|███▊      | 3/8 [00:22<00:37,  7.40s/it]"
          ]
        },
        {
          "metadata": {
            "tags": null
          },
          "name": "stdout",
          "output_type": "stream",
          "text": [
            "training error:\n",
            "0.01642221056052031\n",
            "Model Done !\n",
            "harvesting states...\n",
            "fitting...\n"
          ]
        },
        {
          "metadata": {
            "tags": null
          },
          "name": "stderr",
          "output_type": "stream",
          "text": [
            "\r 50%|█████     | 4/8 [00:29<00:29,  7.40s/it]"
          ]
        },
        {
          "metadata": {
            "tags": null
          },
          "name": "stdout",
          "output_type": "stream",
          "text": [
            "training error:\n",
            "0.016377645276828782\n",
            "Model Done !\n",
            "harvesting states...\n",
            "fitting...\n"
          ]
        },
        {
          "metadata": {
            "tags": null
          },
          "name": "stderr",
          "output_type": "stream",
          "text": [
            "\r 62%|██████▎   | 5/8 [00:36<00:21,  7.19s/it]"
          ]
        },
        {
          "metadata": {
            "tags": null
          },
          "name": "stdout",
          "output_type": "stream",
          "text": [
            "training error:\n",
            "0.016510344214719426\n",
            "Model Done !\n",
            "harvesting states...\n",
            "fitting...\n"
          ]
        },
        {
          "metadata": {
            "tags": null
          },
          "name": "stderr",
          "output_type": "stream",
          "text": [
            "\r 75%|███████▌  | 6/8 [00:43<00:14,  7.31s/it]"
          ]
        },
        {
          "metadata": {
            "tags": null
          },
          "name": "stdout",
          "output_type": "stream",
          "text": [
            "training error:\n",
            "0.016631358176582983\n",
            "Model Done !\n",
            "harvesting states...\n",
            "fitting...\n"
          ]
        },
        {
          "metadata": {
            "tags": null
          },
          "name": "stderr",
          "output_type": "stream",
          "text": [
            "\r 88%|████████▊ | 7/8 [00:50<00:07,  7.14s/it]"
          ]
        },
        {
          "metadata": {
            "tags": null
          },
          "name": "stdout",
          "output_type": "stream",
          "text": [
            "training error:\n",
            "0.01656152212878563\n",
            "Model Done !\n",
            "harvesting states...\n",
            "fitting...\n"
          ]
        },
        {
          "metadata": {
            "tags": null
          },
          "name": "stderr",
          "output_type": "stream",
          "text": [
            "100%|██████████| 8/8 [00:58<00:00,  7.34s/it]\n"
          ]
        },
        {
          "metadata": {
            "tags": null
          },
          "name": "stdout",
          "output_type": "stream",
          "text": [
            "training error:\n",
            "0.016353402366323693\n",
            "Model Done !\n"
          ]
        },
        {
          "metadata": {
            "tags": null
          },
          "name": "stderr",
          "output_type": "stream",
          "text": [
            "Progress: 100%|██████████| 1762/1762 [00:05<00:00, 335.93it/s]\n",
            "[I 2023-09-04 08:58:39,941] Trial 49 finished with value: 0.07131391930940192 and parameters: {'n_reservoir': 678, 'sparsity': 0.2, 'spectral_radius': 0.7, 'noise': 0.007, 'look_back': 30}. Best is trial 12 with value: 0.053290075094445805.\n",
            "  0%|          | 0/8 [00:00<?, ?it/s]"
          ]
        },
        {
          "metadata": {
            "tags": null
          },
          "name": "stdout",
          "output_type": "stream",
          "text": [
            "harvesting states...\n",
            "fitting...\n"
          ]
        },
        {
          "metadata": {
            "tags": null
          },
          "name": "stderr",
          "output_type": "stream",
          "text": [
            "\r 12%|█▎        | 1/8 [00:12<01:27, 12.52s/it]"
          ]
        },
        {
          "metadata": {
            "tags": null
          },
          "name": "stdout",
          "output_type": "stream",
          "text": [
            "training error:\n",
            "0.017772903475703535\n",
            "Model Done !\n",
            "harvesting states...\n",
            "fitting...\n"
          ]
        },
        {
          "metadata": {
            "tags": null
          },
          "name": "stderr",
          "output_type": "stream",
          "text": [
            "\r 25%|██▌       | 2/8 [00:25<01:16, 12.82s/it]"
          ]
        },
        {
          "metadata": {
            "tags": null
          },
          "name": "stdout",
          "output_type": "stream",
          "text": [
            "training error:\n",
            "0.01768901583295832\n",
            "Model Done !\n",
            "harvesting states...\n",
            "fitting...\n"
          ]
        },
        {
          "metadata": {
            "tags": null
          },
          "name": "stderr",
          "output_type": "stream",
          "text": [
            "\r 38%|███▊      | 3/8 [00:38<01:04, 13.00s/it]"
          ]
        },
        {
          "metadata": {
            "tags": null
          },
          "name": "stdout",
          "output_type": "stream",
          "text": [
            "training error:\n",
            "0.018255583314233808\n",
            "Model Done !\n",
            "harvesting states...\n",
            "fitting...\n"
          ]
        },
        {
          "metadata": {
            "tags": null
          },
          "name": "stderr",
          "output_type": "stream",
          "text": [
            "\r 50%|█████     | 4/8 [00:51<00:52, 13.04s/it]"
          ]
        },
        {
          "metadata": {
            "tags": null
          },
          "name": "stdout",
          "output_type": "stream",
          "text": [
            "training error:\n",
            "0.017844723718712128\n",
            "Model Done !\n",
            "harvesting states...\n",
            "fitting...\n"
          ]
        },
        {
          "metadata": {
            "tags": null
          },
          "name": "stderr",
          "output_type": "stream",
          "text": [
            "\r 62%|██████▎   | 5/8 [01:04<00:39, 13.01s/it]"
          ]
        },
        {
          "metadata": {
            "tags": null
          },
          "name": "stdout",
          "output_type": "stream",
          "text": [
            "training error:\n",
            "0.018013218286661577\n",
            "Model Done !\n",
            "harvesting states...\n",
            "fitting...\n"
          ]
        },
        {
          "metadata": {
            "tags": null
          },
          "name": "stderr",
          "output_type": "stream",
          "text": [
            "\r 75%|███████▌  | 6/8 [01:17<00:25, 12.95s/it]"
          ]
        },
        {
          "metadata": {
            "tags": null
          },
          "name": "stdout",
          "output_type": "stream",
          "text": [
            "training error:\n",
            "0.017645790544221707\n",
            "Model Done !\n",
            "harvesting states...\n",
            "fitting...\n"
          ]
        },
        {
          "metadata": {
            "tags": null
          },
          "name": "stderr",
          "output_type": "stream",
          "text": [
            "\r 88%|████████▊ | 7/8 [01:30<00:12, 12.82s/it]"
          ]
        },
        {
          "metadata": {
            "tags": null
          },
          "name": "stdout",
          "output_type": "stream",
          "text": [
            "training error:\n",
            "0.017377060634479777\n",
            "Model Done !\n",
            "harvesting states...\n",
            "fitting...\n"
          ]
        },
        {
          "metadata": {
            "tags": null
          },
          "name": "stderr",
          "output_type": "stream",
          "text": [
            "100%|██████████| 8/8 [01:43<00:00, 12.88s/it]\n"
          ]
        },
        {
          "metadata": {
            "tags": null
          },
          "name": "stdout",
          "output_type": "stream",
          "text": [
            "training error:\n",
            "0.017062608273093603\n",
            "Model Done !\n"
          ]
        },
        {
          "metadata": {
            "tags": null
          },
          "name": "stderr",
          "output_type": "stream",
          "text": [
            "Progress: 100%|██████████| 1782/1782 [00:11<00:00, 159.40it/s]\n",
            "[I 2023-09-04 09:00:34,376] Trial 50 finished with value: 0.0807663999169637 and parameters: {'n_reservoir': 962, 'sparsity': 0.2, 'spectral_radius': 1, 'noise': 0.007, 'look_back': 10}. Best is trial 12 with value: 0.053290075094445805.\n",
            "  0%|          | 0/8 [00:00<?, ?it/s]"
          ]
        },
        {
          "metadata": {
            "tags": null
          },
          "name": "stdout",
          "output_type": "stream",
          "text": [
            "harvesting states...\n",
            "fitting...\n"
          ]
        },
        {
          "metadata": {
            "tags": null
          },
          "name": "stderr",
          "output_type": "stream",
          "text": [
            "\r 12%|█▎        | 1/8 [00:11<01:18, 11.23s/it]"
          ]
        },
        {
          "metadata": {
            "tags": null
          },
          "name": "stdout",
          "output_type": "stream",
          "text": [
            "training error:\n",
            "0.01573912955129152\n",
            "Model Done !\n",
            "harvesting states...\n",
            "fitting...\n"
          ]
        },
        {
          "metadata": {
            "tags": null
          },
          "name": "stderr",
          "output_type": "stream",
          "text": [
            "\r 25%|██▌       | 2/8 [00:22<01:06, 11.03s/it]"
          ]
        },
        {
          "metadata": {
            "tags": null
          },
          "name": "stdout",
          "output_type": "stream",
          "text": [
            "training error:\n",
            "0.02170440351048466\n",
            "Model Done !\n",
            "harvesting states...\n",
            "fitting...\n"
          ]
        },
        {
          "metadata": {
            "tags": null
          },
          "name": "stderr",
          "output_type": "stream",
          "text": [
            "\r 38%|███▊      | 3/8 [00:34<00:57, 11.52s/it]"
          ]
        },
        {
          "metadata": {
            "tags": null
          },
          "name": "stdout",
          "output_type": "stream",
          "text": [
            "training error:\n",
            "0.025595039345939975\n",
            "Model Done !\n",
            "harvesting states...\n",
            "fitting...\n"
          ]
        },
        {
          "metadata": {
            "tags": null
          },
          "name": "stderr",
          "output_type": "stream",
          "text": [
            "\r 50%|█████     | 4/8 [00:45<00:45, 11.47s/it]"
          ]
        },
        {
          "metadata": {
            "tags": null
          },
          "name": "stdout",
          "output_type": "stream",
          "text": [
            "training error:\n",
            "0.028572522404044853\n",
            "Model Done !\n",
            "harvesting states...\n",
            "fitting...\n"
          ]
        },
        {
          "metadata": {
            "tags": null
          },
          "name": "stderr",
          "output_type": "stream",
          "text": [
            "\r 62%|██████▎   | 5/8 [00:57<00:34, 11.66s/it]"
          ]
        },
        {
          "metadata": {
            "tags": null
          },
          "name": "stdout",
          "output_type": "stream",
          "text": [
            "training error:\n",
            "0.03029219660010727\n",
            "Model Done !\n",
            "harvesting states...\n",
            "fitting...\n"
          ]
        },
        {
          "metadata": {
            "tags": null
          },
          "name": "stderr",
          "output_type": "stream",
          "text": [
            "\r 75%|███████▌  | 6/8 [01:09<00:23, 11.62s/it]"
          ]
        },
        {
          "metadata": {
            "tags": null
          },
          "name": "stdout",
          "output_type": "stream",
          "text": [
            "training error:\n",
            "0.03215473676913777\n",
            "Model Done !\n",
            "harvesting states...\n",
            "fitting...\n"
          ]
        },
        {
          "metadata": {
            "tags": null
          },
          "name": "stderr",
          "output_type": "stream",
          "text": [
            "\r 88%|████████▊ | 7/8 [01:21<00:11, 11.76s/it]"
          ]
        },
        {
          "metadata": {
            "tags": null
          },
          "name": "stdout",
          "output_type": "stream",
          "text": [
            "training error:\n",
            "0.03312167092144292\n",
            "Model Done !\n",
            "harvesting states...\n",
            "fitting...\n"
          ]
        },
        {
          "metadata": {
            "tags": null
          },
          "name": "stderr",
          "output_type": "stream",
          "text": [
            "100%|██████████| 8/8 [01:33<00:00, 11.67s/it]\n"
          ]
        },
        {
          "metadata": {
            "tags": null
          },
          "name": "stdout",
          "output_type": "stream",
          "text": [
            "training error:\n",
            "0.034349717817343584\n",
            "Model Done !\n"
          ]
        },
        {
          "metadata": {
            "tags": null
          },
          "name": "stderr",
          "output_type": "stream",
          "text": [
            "Progress: 100%|██████████| 1731/1731 [00:09<00:00, 191.01it/s]\n",
            "[I 2023-09-04 09:02:17,023] Trial 51 finished with value: 0.05708422624040732 and parameters: {'n_reservoir': 882, 'sparsity': 0.2, 'spectral_radius': 10.0, 'noise': 0.007, 'look_back': 61}. Best is trial 12 with value: 0.053290075094445805.\n",
            "  0%|          | 0/8 [00:00<?, ?it/s]"
          ]
        },
        {
          "metadata": {
            "tags": null
          },
          "name": "stdout",
          "output_type": "stream",
          "text": [
            "harvesting states...\n",
            "fitting...\n"
          ]
        },
        {
          "metadata": {
            "tags": null
          },
          "name": "stderr",
          "output_type": "stream",
          "text": [
            "\r 12%|█▎        | 1/8 [00:11<01:22, 11.81s/it]"
          ]
        },
        {
          "metadata": {
            "tags": null
          },
          "name": "stdout",
          "output_type": "stream",
          "text": [
            "training error:\n",
            "0.015742155990836944\n",
            "Model Done !\n",
            "harvesting states...\n",
            "fitting...\n"
          ]
        },
        {
          "metadata": {
            "tags": null
          },
          "name": "stderr",
          "output_type": "stream",
          "text": [
            "\r 25%|██▌       | 2/8 [00:23<01:09, 11.61s/it]"
          ]
        },
        {
          "metadata": {
            "tags": null
          },
          "name": "stdout",
          "output_type": "stream",
          "text": [
            "training error:\n",
            "0.021696567558433914\n",
            "Model Done !\n",
            "harvesting states...\n",
            "fitting...\n"
          ]
        },
        {
          "metadata": {
            "tags": null
          },
          "name": "stderr",
          "output_type": "stream",
          "text": [
            "\r 38%|███▊      | 3/8 [00:34<00:57, 11.49s/it]"
          ]
        },
        {
          "metadata": {
            "tags": null
          },
          "name": "stdout",
          "output_type": "stream",
          "text": [
            "training error:\n",
            "0.025554311965162776\n",
            "Model Done !\n",
            "harvesting states...\n",
            "fitting...\n"
          ]
        },
        {
          "metadata": {
            "tags": null
          },
          "name": "stderr",
          "output_type": "stream",
          "text": [
            "\r 50%|█████     | 4/8 [00:46<00:46, 11.65s/it]"
          ]
        },
        {
          "metadata": {
            "tags": null
          },
          "name": "stdout",
          "output_type": "stream",
          "text": [
            "training error:\n",
            "0.02813329081911134\n",
            "Model Done !\n",
            "harvesting states...\n",
            "fitting...\n"
          ]
        },
        {
          "metadata": {
            "tags": null
          },
          "name": "stderr",
          "output_type": "stream",
          "text": [
            "\r 62%|██████▎   | 5/8 [00:58<00:35, 11.85s/it]"
          ]
        },
        {
          "metadata": {
            "tags": null
          },
          "name": "stdout",
          "output_type": "stream",
          "text": [
            "training error:\n",
            "0.030091928007846054\n",
            "Model Done !\n",
            "harvesting states...\n",
            "fitting...\n"
          ]
        },
        {
          "metadata": {
            "tags": null
          },
          "name": "stderr",
          "output_type": "stream",
          "text": [
            "\r 75%|███████▌  | 6/8 [01:11<00:24, 12.02s/it]"
          ]
        },
        {
          "metadata": {
            "tags": null
          },
          "name": "stdout",
          "output_type": "stream",
          "text": [
            "training error:\n",
            "0.03141592358318148\n",
            "Model Done !\n",
            "harvesting states...\n",
            "fitting...\n"
          ]
        },
        {
          "metadata": {
            "tags": null
          },
          "name": "stderr",
          "output_type": "stream",
          "text": [
            "\r 88%|████████▊ | 7/8 [01:23<00:12, 12.04s/it]"
          ]
        },
        {
          "metadata": {
            "tags": null
          },
          "name": "stdout",
          "output_type": "stream",
          "text": [
            "training error:\n",
            "0.03248239385230977\n",
            "Model Done !\n",
            "harvesting states...\n",
            "fitting...\n"
          ]
        },
        {
          "metadata": {
            "tags": null
          },
          "name": "stderr",
          "output_type": "stream",
          "text": [
            "100%|██████████| 8/8 [01:34<00:00, 11.85s/it]\n"
          ]
        },
        {
          "metadata": {
            "tags": null
          },
          "name": "stdout",
          "output_type": "stream",
          "text": [
            "training error:\n",
            "0.03351232219169536\n",
            "Model Done !\n"
          ]
        },
        {
          "metadata": {
            "tags": null
          },
          "name": "stderr",
          "output_type": "stream",
          "text": [
            "Progress: 100%|██████████| 1730/1730 [00:09<00:00, 177.57it/s]\n",
            "[I 2023-09-04 09:04:01,783] Trial 52 finished with value: 0.059086490824175414 and parameters: {'n_reservoir': 883, 'sparsity': 0.2, 'spectral_radius': 10.0, 'noise': 0.007, 'look_back': 62}. Best is trial 12 with value: 0.053290075094445805.\n",
            "  0%|          | 0/8 [00:00<?, ?it/s]"
          ]
        },
        {
          "metadata": {
            "tags": null
          },
          "name": "stdout",
          "output_type": "stream",
          "text": [
            "harvesting states...\n",
            "fitting...\n"
          ]
        },
        {
          "metadata": {
            "tags": null
          },
          "name": "stderr",
          "output_type": "stream",
          "text": [
            "\r 12%|█▎        | 1/8 [00:09<01:06,  9.53s/it]"
          ]
        },
        {
          "metadata": {
            "tags": null
          },
          "name": "stdout",
          "output_type": "stream",
          "text": [
            "training error:\n",
            "0.015523553782326855\n",
            "Model Done !\n",
            "harvesting states...\n",
            "fitting...\n"
          ]
        },
        {
          "metadata": {
            "tags": null
          },
          "name": "stderr",
          "output_type": "stream",
          "text": [
            "\r 25%|██▌       | 2/8 [00:18<00:56,  9.37s/it]"
          ]
        },
        {
          "metadata": {
            "tags": null
          },
          "name": "stdout",
          "output_type": "stream",
          "text": [
            "training error:\n",
            "0.02149800157511864\n",
            "Model Done !\n",
            "harvesting states...\n",
            "fitting...\n"
          ]
        },
        {
          "metadata": {
            "tags": null
          },
          "name": "stderr",
          "output_type": "stream",
          "text": [
            "\r 38%|███▊      | 3/8 [00:27<00:44,  8.90s/it]"
          ]
        },
        {
          "metadata": {
            "tags": null
          },
          "name": "stdout",
          "output_type": "stream",
          "text": [
            "training error:\n",
            "0.025429260808237257\n",
            "Model Done !\n",
            "harvesting states...\n",
            "fitting...\n"
          ]
        },
        {
          "metadata": {
            "tags": null
          },
          "name": "stderr",
          "output_type": "stream",
          "text": [
            "\r 50%|█████     | 4/8 [00:36<00:36,  9.23s/it]"
          ]
        },
        {
          "metadata": {
            "tags": null
          },
          "name": "stdout",
          "output_type": "stream",
          "text": [
            "training error:\n",
            "0.02833731418184714\n",
            "Model Done !\n",
            "harvesting states...\n",
            "fitting...\n"
          ]
        },
        {
          "metadata": {
            "tags": null
          },
          "name": "stderr",
          "output_type": "stream",
          "text": [
            "\r 62%|██████▎   | 5/8 [00:46<00:28,  9.36s/it]"
          ]
        },
        {
          "metadata": {
            "tags": null
          },
          "name": "stdout",
          "output_type": "stream",
          "text": [
            "training error:\n",
            "0.030617356034611413\n",
            "Model Done !\n",
            "harvesting states...\n",
            "fitting...\n"
          ]
        },
        {
          "metadata": {
            "tags": null
          },
          "name": "stderr",
          "output_type": "stream",
          "text": [
            "\r 75%|███████▌  | 6/8 [00:55<00:18,  9.09s/it]"
          ]
        },
        {
          "metadata": {
            "tags": null
          },
          "name": "stdout",
          "output_type": "stream",
          "text": [
            "training error:\n",
            "0.031554992677727614\n",
            "Model Done !\n",
            "harvesting states...\n",
            "fitting...\n"
          ]
        },
        {
          "metadata": {
            "tags": null
          },
          "name": "stderr",
          "output_type": "stream",
          "text": [
            "\r 88%|████████▊ | 7/8 [01:05<00:09,  9.49s/it]"
          ]
        },
        {
          "metadata": {
            "tags": null
          },
          "name": "stdout",
          "output_type": "stream",
          "text": [
            "training error:\n",
            "0.03282812049919965\n",
            "Model Done !\n",
            "harvesting states...\n",
            "fitting...\n"
          ]
        },
        {
          "metadata": {
            "tags": null
          },
          "name": "stderr",
          "output_type": "stream",
          "text": [
            "100%|██████████| 8/8 [01:15<00:00,  9.39s/it]\n"
          ]
        },
        {
          "metadata": {
            "tags": null
          },
          "name": "stdout",
          "output_type": "stream",
          "text": [
            "training error:\n",
            "0.03409896085754911\n",
            "Model Done !\n"
          ]
        },
        {
          "metadata": {
            "tags": null
          },
          "name": "stderr",
          "output_type": "stream",
          "text": [
            "Progress: 100%|██████████| 1692/1692 [00:07<00:00, 241.32it/s]\n",
            "[I 2023-09-04 09:05:24,118] Trial 53 finished with value: 0.056504482856535955 and parameters: {'n_reservoir': 727, 'sparsity': 0.2, 'spectral_radius': 10.0, 'noise': 0.007, 'look_back': 100}. Best is trial 12 with value: 0.053290075094445805.\n",
            "  0%|          | 0/8 [00:00<?, ?it/s]"
          ]
        },
        {
          "metadata": {
            "tags": null
          },
          "name": "stdout",
          "output_type": "stream",
          "text": [
            "harvesting states...\n",
            "fitting...\n"
          ]
        },
        {
          "metadata": {
            "tags": null
          },
          "name": "stderr",
          "output_type": "stream",
          "text": [
            "\r 12%|█▎        | 1/8 [00:09<01:07,  9.57s/it]"
          ]
        },
        {
          "metadata": {
            "tags": null
          },
          "name": "stdout",
          "output_type": "stream",
          "text": [
            "training error:\n",
            "0.015370832394337695\n",
            "Model Done !\n",
            "harvesting states...\n",
            "fitting...\n"
          ]
        },
        {
          "metadata": {
            "tags": null
          },
          "name": "stderr",
          "output_type": "stream",
          "text": [
            "\r 25%|██▌       | 2/8 [00:19<00:57,  9.60s/it]"
          ]
        },
        {
          "metadata": {
            "tags": null
          },
          "name": "stdout",
          "output_type": "stream",
          "text": [
            "training error:\n",
            "0.01537597829479815\n",
            "Model Done !\n",
            "harvesting states...\n",
            "fitting...\n"
          ]
        },
        {
          "metadata": {
            "tags": null
          },
          "name": "stderr",
          "output_type": "stream",
          "text": [
            "\r 38%|███▊      | 3/8 [00:28<00:47,  9.60s/it]"
          ]
        },
        {
          "metadata": {
            "tags": null
          },
          "name": "stdout",
          "output_type": "stream",
          "text": [
            "training error:\n",
            "0.015443971482956533\n",
            "Model Done !\n",
            "harvesting states...\n",
            "fitting...\n"
          ]
        },
        {
          "metadata": {
            "tags": null
          },
          "name": "stderr",
          "output_type": "stream",
          "text": [
            "\r 50%|█████     | 4/8 [00:37<00:36,  9.13s/it]"
          ]
        },
        {
          "metadata": {
            "tags": null
          },
          "name": "stdout",
          "output_type": "stream",
          "text": [
            "training error:\n",
            "0.015393134260856542\n",
            "Model Done !\n",
            "harvesting states...\n",
            "fitting...\n"
          ]
        },
        {
          "metadata": {
            "tags": null
          },
          "name": "stderr",
          "output_type": "stream",
          "text": [
            "\r 62%|██████▎   | 5/8 [00:47<00:28,  9.37s/it]"
          ]
        },
        {
          "metadata": {
            "tags": null
          },
          "name": "stdout",
          "output_type": "stream",
          "text": [
            "training error:\n",
            "0.01535069125763447\n",
            "Model Done !\n",
            "harvesting states...\n",
            "fitting...\n"
          ]
        },
        {
          "metadata": {
            "tags": null
          },
          "name": "stderr",
          "output_type": "stream",
          "text": [
            "\r 75%|███████▌  | 6/8 [00:56<00:18,  9.35s/it]"
          ]
        },
        {
          "metadata": {
            "tags": null
          },
          "name": "stdout",
          "output_type": "stream",
          "text": [
            "training error:\n",
            "0.015331926960943487\n",
            "Model Done !\n",
            "harvesting states...\n",
            "fitting...\n"
          ]
        },
        {
          "metadata": {
            "tags": null
          },
          "name": "stderr",
          "output_type": "stream",
          "text": [
            "\r 88%|████████▊ | 7/8 [01:04<00:09,  9.05s/it]"
          ]
        },
        {
          "metadata": {
            "tags": null
          },
          "name": "stdout",
          "output_type": "stream",
          "text": [
            "training error:\n",
            "0.015359559690575363\n",
            "Model Done !\n",
            "harvesting states...\n",
            "fitting...\n"
          ]
        },
        {
          "metadata": {
            "tags": null
          },
          "name": "stderr",
          "output_type": "stream",
          "text": [
            "100%|██████████| 8/8 [01:14<00:00,  9.31s/it]\n"
          ]
        },
        {
          "metadata": {
            "tags": null
          },
          "name": "stdout",
          "output_type": "stream",
          "text": [
            "training error:\n",
            "0.015320385118498675\n",
            "Model Done !\n"
          ]
        },
        {
          "metadata": {
            "tags": null
          },
          "name": "stderr",
          "output_type": "stream",
          "text": [
            "Progress: 100%|██████████| 1678/1678 [00:07<00:00, 217.74it/s]\n",
            "[I 2023-09-04 09:06:46,570] Trial 54 finished with value: 0.0720081762813029 and parameters: {'n_reservoir': 733, 'sparsity': 0.2, 'spectral_radius': 1.25, 'noise': 0.007, 'look_back': 114}. Best is trial 12 with value: 0.053290075094445805.\n",
            "  0%|          | 0/8 [00:00<?, ?it/s]"
          ]
        },
        {
          "metadata": {
            "tags": null
          },
          "name": "stdout",
          "output_type": "stream",
          "text": [
            "harvesting states...\n",
            "fitting...\n"
          ]
        },
        {
          "metadata": {
            "tags": null
          },
          "name": "stderr",
          "output_type": "stream",
          "text": [
            "\r 12%|█▎        | 1/8 [00:11<01:20, 11.48s/it]"
          ]
        },
        {
          "metadata": {
            "tags": null
          },
          "name": "stdout",
          "output_type": "stream",
          "text": [
            "training error:\n",
            "0.015624637486766704\n",
            "Model Done !\n",
            "harvesting states...\n",
            "fitting...\n"
          ]
        },
        {
          "metadata": {
            "tags": null
          },
          "name": "stderr",
          "output_type": "stream",
          "text": [
            "\r 25%|██▌       | 2/8 [00:23<01:10, 11.68s/it]"
          ]
        },
        {
          "metadata": {
            "tags": null
          },
          "name": "stdout",
          "output_type": "stream",
          "text": [
            "training error:\n",
            "0.021483846879766982\n",
            "Model Done !\n",
            "harvesting states...\n",
            "fitting...\n"
          ]
        },
        {
          "metadata": {
            "tags": null
          },
          "name": "stderr",
          "output_type": "stream",
          "text": [
            "\r 38%|███▊      | 3/8 [00:35<00:59, 11.93s/it]"
          ]
        },
        {
          "metadata": {
            "tags": null
          },
          "name": "stdout",
          "output_type": "stream",
          "text": [
            "training error:\n",
            "0.02520386504576027\n",
            "Model Done !\n",
            "harvesting states...\n",
            "fitting...\n"
          ]
        },
        {
          "metadata": {
            "tags": null
          },
          "name": "stderr",
          "output_type": "stream",
          "text": [
            "\r 50%|█████     | 4/8 [00:47<00:47, 11.80s/it]"
          ]
        },
        {
          "metadata": {
            "tags": null
          },
          "name": "stdout",
          "output_type": "stream",
          "text": [
            "training error:\n",
            "0.028011520054157347\n",
            "Model Done !\n",
            "harvesting states...\n",
            "fitting...\n"
          ]
        },
        {
          "metadata": {
            "tags": null
          },
          "name": "stderr",
          "output_type": "stream",
          "text": [
            "\r 62%|██████▎   | 5/8 [00:59<00:35, 11.93s/it]"
          ]
        },
        {
          "metadata": {
            "tags": null
          },
          "name": "stdout",
          "output_type": "stream",
          "text": [
            "training error:\n",
            "0.03007413240166508\n",
            "Model Done !\n",
            "harvesting states...\n",
            "fitting...\n"
          ]
        },
        {
          "metadata": {
            "tags": null
          },
          "name": "stderr",
          "output_type": "stream",
          "text": [
            "\r 75%|███████▌  | 6/8 [01:11<00:24, 12.02s/it]"
          ]
        },
        {
          "metadata": {
            "tags": null
          },
          "name": "stdout",
          "output_type": "stream",
          "text": [
            "training error:\n",
            "0.03140092528874067\n",
            "Model Done !\n",
            "harvesting states...\n",
            "fitting...\n"
          ]
        },
        {
          "metadata": {
            "tags": null
          },
          "name": "stderr",
          "output_type": "stream",
          "text": [
            "\r 88%|████████▊ | 7/8 [01:23<00:12, 12.04s/it]"
          ]
        },
        {
          "metadata": {
            "tags": null
          },
          "name": "stdout",
          "output_type": "stream",
          "text": [
            "training error:\n",
            "0.032269263964398893\n",
            "Model Done !\n",
            "harvesting states...\n",
            "fitting...\n"
          ]
        },
        {
          "metadata": {
            "tags": null
          },
          "name": "stderr",
          "output_type": "stream",
          "text": [
            "100%|██████████| 8/8 [01:36<00:00, 12.01s/it]\n"
          ]
        },
        {
          "metadata": {
            "tags": null
          },
          "name": "stdout",
          "output_type": "stream",
          "text": [
            "training error:\n",
            "0.03318072405639334\n",
            "Model Done !\n"
          ]
        },
        {
          "metadata": {
            "tags": null
          },
          "name": "stderr",
          "output_type": "stream",
          "text": [
            "Progress: 100%|██████████| 1712/1712 [00:10<00:00, 165.72it/s]\n",
            "[I 2023-09-04 09:08:33,178] Trial 55 finished with value: 0.0701578665794938 and parameters: {'n_reservoir': 896, 'sparsity': 0.01, 'spectral_radius': 10.0, 'noise': 0.009, 'look_back': 80}. Best is trial 12 with value: 0.053290075094445805.\n",
            "  0%|          | 0/8 [00:00<?, ?it/s]"
          ]
        },
        {
          "metadata": {
            "tags": null
          },
          "name": "stdout",
          "output_type": "stream",
          "text": [
            "harvesting states...\n",
            "fitting...\n"
          ]
        },
        {
          "metadata": {
            "tags": null
          },
          "name": "stderr",
          "output_type": "stream",
          "text": [
            "\r 12%|█▎        | 1/8 [00:13<01:32, 13.18s/it]"
          ]
        },
        {
          "metadata": {
            "tags": null
          },
          "name": "stdout",
          "output_type": "stream",
          "text": [
            "training error:\n",
            "0.01575947128100941\n",
            "Model Done !\n",
            "harvesting states...\n",
            "fitting...\n"
          ]
        },
        {
          "metadata": {
            "tags": null
          },
          "name": "stderr",
          "output_type": "stream",
          "text": [
            "\r 25%|██▌       | 2/8 [00:26<01:19, 13.32s/it]"
          ]
        },
        {
          "metadata": {
            "tags": null
          },
          "name": "stdout",
          "output_type": "stream",
          "text": [
            "training error:\n",
            "0.0157528450439178\n",
            "Model Done !\n",
            "harvesting states...\n",
            "fitting...\n"
          ]
        },
        {
          "metadata": {
            "tags": null
          },
          "name": "stderr",
          "output_type": "stream",
          "text": [
            "\r 38%|███▊      | 3/8 [00:39<01:06, 13.34s/it]"
          ]
        },
        {
          "metadata": {
            "tags": null
          },
          "name": "stdout",
          "output_type": "stream",
          "text": [
            "training error:\n",
            "0.015775202532899928\n",
            "Model Done !\n",
            "harvesting states...\n",
            "fitting...\n"
          ]
        },
        {
          "metadata": {
            "tags": null
          },
          "name": "stderr",
          "output_type": "stream",
          "text": [
            "\r 50%|█████     | 4/8 [00:53<00:53, 13.37s/it]"
          ]
        },
        {
          "metadata": {
            "tags": null
          },
          "name": "stdout",
          "output_type": "stream",
          "text": [
            "training error:\n",
            "0.015972546759932135\n",
            "Model Done !\n",
            "harvesting states...\n",
            "fitting...\n"
          ]
        },
        {
          "metadata": {
            "tags": null
          },
          "name": "stderr",
          "output_type": "stream",
          "text": [
            "\r 62%|██████▎   | 5/8 [01:06<00:40, 13.41s/it]"
          ]
        },
        {
          "metadata": {
            "tags": null
          },
          "name": "stdout",
          "output_type": "stream",
          "text": [
            "training error:\n",
            "0.01589472570044128\n",
            "Model Done !\n",
            "harvesting states...\n",
            "fitting...\n"
          ]
        },
        {
          "metadata": {
            "tags": null
          },
          "name": "stderr",
          "output_type": "stream",
          "text": [
            "\r 75%|███████▌  | 6/8 [01:20<00:26, 13.49s/it]"
          ]
        },
        {
          "metadata": {
            "tags": null
          },
          "name": "stdout",
          "output_type": "stream",
          "text": [
            "training error:\n",
            "0.015876449497611304\n",
            "Model Done !\n",
            "harvesting states...\n",
            "fitting...\n"
          ]
        },
        {
          "metadata": {
            "tags": null
          },
          "name": "stderr",
          "output_type": "stream",
          "text": [
            "\r 88%|████████▊ | 7/8 [01:34<00:13, 13.54s/it]"
          ]
        },
        {
          "metadata": {
            "tags": null
          },
          "name": "stdout",
          "output_type": "stream",
          "text": [
            "training error:\n",
            "0.01578636648757126\n",
            "Model Done !\n",
            "harvesting states...\n",
            "fitting...\n"
          ]
        },
        {
          "metadata": {
            "tags": null
          },
          "name": "stderr",
          "output_type": "stream",
          "text": [
            "100%|██████████| 8/8 [01:47<00:00, 13.47s/it]\n"
          ]
        },
        {
          "metadata": {
            "tags": null
          },
          "name": "stdout",
          "output_type": "stream",
          "text": [
            "training error:\n",
            "0.01566109775952457\n",
            "Model Done !\n"
          ]
        },
        {
          "metadata": {
            "tags": null
          },
          "name": "stderr",
          "output_type": "stream",
          "text": [
            "Progress: 100%|██████████| 1740/1740 [00:10<00:00, 159.60it/s]\n",
            "[I 2023-09-04 09:10:32,049] Trial 56 finished with value: 0.08499418541361749 and parameters: {'n_reservoir': 949, 'sparsity': 0.3, 'spectral_radius': 1.1, 'noise': 0.004, 'look_back': 52}. Best is trial 12 with value: 0.053290075094445805.\n",
            "  0%|          | 0/8 [00:00<?, ?it/s]"
          ]
        },
        {
          "metadata": {
            "tags": null
          },
          "name": "stdout",
          "output_type": "stream",
          "text": [
            "harvesting states...\n",
            "fitting...\n"
          ]
        },
        {
          "metadata": {
            "tags": null
          },
          "name": "stderr",
          "output_type": "stream",
          "text": [
            "\r 12%|█▎        | 1/8 [00:08<00:57,  8.23s/it]"
          ]
        },
        {
          "metadata": {
            "tags": null
          },
          "name": "stdout",
          "output_type": "stream",
          "text": [
            "training error:\n",
            "0.015409118221124394\n",
            "Model Done !\n",
            "harvesting states...\n",
            "fitting...\n"
          ]
        },
        {
          "metadata": {
            "tags": null
          },
          "name": "stderr",
          "output_type": "stream",
          "text": [
            "\r 25%|██▌       | 2/8 [00:16<00:50,  8.45s/it]"
          ]
        },
        {
          "metadata": {
            "tags": null
          },
          "name": "stdout",
          "output_type": "stream",
          "text": [
            "training error:\n",
            "0.015381206048371067\n",
            "Model Done !\n",
            "harvesting states...\n",
            "fitting...\n"
          ]
        },
        {
          "metadata": {
            "tags": null
          },
          "name": "stderr",
          "output_type": "stream",
          "text": [
            "\r 38%|███▊      | 3/8 [00:24<00:40,  8.04s/it]"
          ]
        },
        {
          "metadata": {
            "tags": null
          },
          "name": "stdout",
          "output_type": "stream",
          "text": [
            "training error:\n",
            "0.015396206835269695\n",
            "Model Done !\n",
            "harvesting states...\n",
            "fitting...\n"
          ]
        },
        {
          "metadata": {
            "tags": null
          },
          "name": "stderr",
          "output_type": "stream",
          "text": [
            "\r 50%|█████     | 4/8 [00:33<00:33,  8.30s/it]"
          ]
        },
        {
          "metadata": {
            "tags": null
          },
          "name": "stdout",
          "output_type": "stream",
          "text": [
            "training error:\n",
            "0.01543060418976696\n",
            "Model Done !\n",
            "harvesting states...\n",
            "fitting...\n"
          ]
        },
        {
          "metadata": {
            "tags": null
          },
          "name": "stderr",
          "output_type": "stream",
          "text": [
            "\r 62%|██████▎   | 5/8 [00:42<00:25,  8.60s/it]"
          ]
        },
        {
          "metadata": {
            "tags": null
          },
          "name": "stdout",
          "output_type": "stream",
          "text": [
            "training error:\n",
            "0.015392929737179203\n",
            "Model Done !\n",
            "harvesting states...\n",
            "fitting...\n"
          ]
        },
        {
          "metadata": {
            "tags": null
          },
          "name": "stderr",
          "output_type": "stream",
          "text": [
            "\r 75%|███████▌  | 6/8 [00:49<00:16,  8.30s/it]"
          ]
        },
        {
          "metadata": {
            "tags": null
          },
          "name": "stdout",
          "output_type": "stream",
          "text": [
            "training error:\n",
            "0.015397422150817106\n",
            "Model Done !\n",
            "harvesting states...\n",
            "fitting...\n"
          ]
        },
        {
          "metadata": {
            "tags": null
          },
          "name": "stderr",
          "output_type": "stream",
          "text": [
            "\r 88%|████████▊ | 7/8 [00:58<00:08,  8.46s/it]"
          ]
        },
        {
          "metadata": {
            "tags": null
          },
          "name": "stdout",
          "output_type": "stream",
          "text": [
            "training error:\n",
            "0.015396788073421248\n",
            "Model Done !\n",
            "harvesting states...\n",
            "fitting...\n"
          ]
        },
        {
          "metadata": {
            "tags": null
          },
          "name": "stderr",
          "output_type": "stream",
          "text": [
            "100%|██████████| 8/8 [01:07<00:00,  8.45s/it]\n"
          ]
        },
        {
          "metadata": {
            "tags": null
          },
          "name": "stdout",
          "output_type": "stream",
          "text": [
            "training error:\n",
            "0.01541063658376783\n",
            "Model Done !\n"
          ]
        },
        {
          "metadata": {
            "tags": null
          },
          "name": "stderr",
          "output_type": "stream",
          "text": [
            "Progress: 100%|██████████| 1682/1682 [00:05<00:00, 288.93it/s]\n",
            "[I 2023-09-04 09:11:45,690] Trial 57 finished with value: 0.07504763272171144 and parameters: {'n_reservoir': 679, 'sparsity': 0.4, 'spectral_radius': 0.5, 'noise': 0.006, 'look_back': 110}. Best is trial 12 with value: 0.053290075094445805.\n",
            "  0%|          | 0/8 [00:00<?, ?it/s]"
          ]
        },
        {
          "metadata": {
            "tags": null
          },
          "name": "stdout",
          "output_type": "stream",
          "text": [
            "harvesting states...\n",
            "fitting...\n"
          ]
        },
        {
          "metadata": {
            "tags": null
          },
          "name": "stderr",
          "output_type": "stream",
          "text": [
            "\r 12%|█▎        | 1/8 [00:10<01:15, 10.73s/it]"
          ]
        },
        {
          "metadata": {
            "tags": null
          },
          "name": "stdout",
          "output_type": "stream",
          "text": [
            "training error:\n",
            "0.015221266105905162\n",
            "Model Done !\n",
            "harvesting states...\n",
            "fitting...\n"
          ]
        },
        {
          "metadata": {
            "tags": null
          },
          "name": "stderr",
          "output_type": "stream",
          "text": [
            "\r 25%|██▌       | 2/8 [00:21<01:03, 10.66s/it]"
          ]
        },
        {
          "metadata": {
            "tags": null
          },
          "name": "stdout",
          "output_type": "stream",
          "text": [
            "training error:\n",
            "0.015222172066663554\n",
            "Model Done !\n",
            "harvesting states...\n",
            "fitting...\n"
          ]
        },
        {
          "metadata": {
            "tags": null
          },
          "name": "stderr",
          "output_type": "stream",
          "text": [
            "\r 38%|███▊      | 3/8 [00:31<00:51, 10.29s/it]"
          ]
        },
        {
          "metadata": {
            "tags": null
          },
          "name": "stdout",
          "output_type": "stream",
          "text": [
            "training error:\n",
            "0.015190720414264607\n",
            "Model Done !\n",
            "harvesting states...\n",
            "fitting...\n"
          ]
        },
        {
          "metadata": {
            "tags": null
          },
          "name": "stderr",
          "output_type": "stream",
          "text": [
            "\r 50%|█████     | 4/8 [00:41<00:41, 10.38s/it]"
          ]
        },
        {
          "metadata": {
            "tags": null
          },
          "name": "stdout",
          "output_type": "stream",
          "text": [
            "training error:\n",
            "0.01518998036085162\n",
            "Model Done !\n",
            "harvesting states...\n",
            "fitting...\n"
          ]
        },
        {
          "metadata": {
            "tags": null
          },
          "name": "stderr",
          "output_type": "stream",
          "text": [
            "\r 62%|██████▎   | 5/8 [00:52<00:31, 10.47s/it]"
          ]
        },
        {
          "metadata": {
            "tags": null
          },
          "name": "stdout",
          "output_type": "stream",
          "text": [
            "training error:\n",
            "0.015213182170082246\n",
            "Model Done !\n",
            "harvesting states...\n",
            "fitting...\n"
          ]
        },
        {
          "metadata": {
            "tags": null
          },
          "name": "stderr",
          "output_type": "stream",
          "text": [
            "\r 75%|███████▌  | 6/8 [01:03<00:21, 10.64s/it]"
          ]
        },
        {
          "metadata": {
            "tags": null
          },
          "name": "stdout",
          "output_type": "stream",
          "text": [
            "training error:\n",
            "0.015225757457789054\n",
            "Model Done !\n",
            "harvesting states...\n",
            "fitting...\n"
          ]
        },
        {
          "metadata": {
            "tags": null
          },
          "name": "stderr",
          "output_type": "stream",
          "text": [
            "\r 88%|████████▊ | 7/8 [01:13<00:10, 10.65s/it]"
          ]
        },
        {
          "metadata": {
            "tags": null
          },
          "name": "stdout",
          "output_type": "stream",
          "text": [
            "training error:\n",
            "0.015221398073024764\n",
            "Model Done !\n",
            "harvesting states...\n",
            "fitting...\n"
          ]
        },
        {
          "metadata": {
            "tags": null
          },
          "name": "stderr",
          "output_type": "stream",
          "text": [
            "100%|██████████| 8/8 [01:23<00:00, 10.45s/it]\n"
          ]
        },
        {
          "metadata": {
            "tags": null
          },
          "name": "stdout",
          "output_type": "stream",
          "text": [
            "training error:\n",
            "0.015180973002826339\n",
            "Model Done !\n"
          ]
        },
        {
          "metadata": {
            "tags": null
          },
          "name": "stderr",
          "output_type": "stream",
          "text": [
            "Progress: 100%|██████████| 1653/1653 [00:09<00:00, 173.59it/s]\n",
            "[I 2023-09-04 09:13:19,033] Trial 58 finished with value: 0.07574076290456269 and parameters: {'n_reservoir': 776, 'sparsity': 0.5, 'spectral_radius': 0.8, 'noise': 0.007, 'look_back': 139}. Best is trial 12 with value: 0.053290075094445805.\n",
            "  0%|          | 0/8 [00:00<?, ?it/s]"
          ]
        },
        {
          "metadata": {
            "tags": null
          },
          "name": "stdout",
          "output_type": "stream",
          "text": [
            "harvesting states...\n",
            "fitting...\n"
          ]
        },
        {
          "metadata": {
            "tags": null
          },
          "name": "stderr",
          "output_type": "stream",
          "text": [
            "\r 12%|█▎        | 1/8 [00:08<01:00,  8.66s/it]"
          ]
        },
        {
          "metadata": {
            "tags": null
          },
          "name": "stdout",
          "output_type": "stream",
          "text": [
            "training error:\n",
            "0.015684116801849547\n",
            "Model Done !\n",
            "harvesting states...\n",
            "fitting...\n"
          ]
        },
        {
          "metadata": {
            "tags": null
          },
          "name": "stderr",
          "output_type": "stream",
          "text": [
            "\r 25%|██▌       | 2/8 [00:16<00:49,  8.17s/it]"
          ]
        },
        {
          "metadata": {
            "tags": null
          },
          "name": "stdout",
          "output_type": "stream",
          "text": [
            "training error:\n",
            "0.01568555167785386\n",
            "Model Done !\n",
            "harvesting states...\n",
            "fitting...\n"
          ]
        },
        {
          "metadata": {
            "tags": null
          },
          "name": "stderr",
          "output_type": "stream",
          "text": [
            "\r 38%|███▊      | 3/8 [00:25<00:43,  8.64s/it]"
          ]
        },
        {
          "metadata": {
            "tags": null
          },
          "name": "stdout",
          "output_type": "stream",
          "text": [
            "training error:\n",
            "0.015644225283296287\n",
            "Model Done !\n",
            "harvesting states...\n",
            "fitting...\n"
          ]
        },
        {
          "metadata": {
            "tags": null
          },
          "name": "stderr",
          "output_type": "stream",
          "text": [
            "\r 50%|█████     | 4/8 [00:34<00:34,  8.73s/it]"
          ]
        },
        {
          "metadata": {
            "tags": null
          },
          "name": "stdout",
          "output_type": "stream",
          "text": [
            "training error:\n",
            "0.0156710261043591\n",
            "Model Done !\n",
            "harvesting states...\n",
            "fitting...\n"
          ]
        },
        {
          "metadata": {
            "tags": null
          },
          "name": "stderr",
          "output_type": "stream",
          "text": [
            "\r 62%|██████▎   | 5/8 [00:42<00:25,  8.54s/it]"
          ]
        },
        {
          "metadata": {
            "tags": null
          },
          "name": "stdout",
          "output_type": "stream",
          "text": [
            "training error:\n",
            "0.01565320513180739\n",
            "Model Done !\n",
            "harvesting states...\n",
            "fitting...\n"
          ]
        },
        {
          "metadata": {
            "tags": null
          },
          "name": "stderr",
          "output_type": "stream",
          "text": [
            "\r 75%|███████▌  | 6/8 [00:51<00:17,  8.74s/it]"
          ]
        },
        {
          "metadata": {
            "tags": null
          },
          "name": "stdout",
          "output_type": "stream",
          "text": [
            "training error:\n",
            "0.01564407079958596\n",
            "Model Done !\n",
            "harvesting states...\n",
            "fitting...\n"
          ]
        },
        {
          "metadata": {
            "tags": null
          },
          "name": "stderr",
          "output_type": "stream",
          "text": [
            "\r 88%|████████▊ | 7/8 [01:01<00:08,  8.89s/it]"
          ]
        },
        {
          "metadata": {
            "tags": null
          },
          "name": "stdout",
          "output_type": "stream",
          "text": [
            "training error:\n",
            "0.015676263967925937\n",
            "Model Done !\n",
            "harvesting states...\n",
            "fitting...\n"
          ]
        },
        {
          "metadata": {
            "tags": null
          },
          "name": "stderr",
          "output_type": "stream",
          "text": [
            "100%|██████████| 8/8 [01:08<00:00,  8.61s/it]\n"
          ]
        },
        {
          "metadata": {
            "tags": null
          },
          "name": "stdout",
          "output_type": "stream",
          "text": [
            "training error:\n",
            "0.015643767964955795\n",
            "Model Done !\n"
          ]
        },
        {
          "metadata": {
            "tags": null
          },
          "name": "stderr",
          "output_type": "stream",
          "text": [
            "Progress: 100%|██████████| 1722/1722 [00:07<00:00, 222.24it/s]\n",
            "[I 2023-09-04 09:14:35,877] Trial 59 finished with value: 0.06948414327518448 and parameters: {'n_reservoir': 715, 'sparsity': 0.2, 'spectral_radius': 0.3, 'noise': 0.005, 'look_back': 70}. Best is trial 12 with value: 0.053290075094445805.\n",
            "  0%|          | 0/8 [00:00<?, ?it/s]"
          ]
        },
        {
          "metadata": {
            "tags": null
          },
          "name": "stdout",
          "output_type": "stream",
          "text": [
            "harvesting states...\n",
            "fitting...\n"
          ]
        },
        {
          "metadata": {
            "tags": null
          },
          "name": "stderr",
          "output_type": "stream",
          "text": [
            "\r 12%|█▎        | 1/8 [00:06<00:44,  6.32s/it]"
          ]
        },
        {
          "metadata": {
            "tags": null
          },
          "name": "stdout",
          "output_type": "stream",
          "text": [
            "training error:\n",
            "0.015530964795775214\n",
            "Model Done !\n",
            "harvesting states...\n",
            "fitting...\n"
          ]
        },
        {
          "metadata": {
            "tags": null
          },
          "name": "stderr",
          "output_type": "stream",
          "text": [
            "\r 25%|██▌       | 2/8 [00:14<00:43,  7.19s/it]"
          ]
        },
        {
          "metadata": {
            "tags": null
          },
          "name": "stdout",
          "output_type": "stream",
          "text": [
            "training error:\n",
            "0.01555665729909577\n",
            "Model Done !\n",
            "harvesting states...\n",
            "fitting...\n"
          ]
        },
        {
          "metadata": {
            "tags": null
          },
          "name": "stderr",
          "output_type": "stream",
          "text": [
            "\r 38%|███▊      | 3/8 [00:20<00:33,  6.77s/it]"
          ]
        },
        {
          "metadata": {
            "tags": null
          },
          "name": "stdout",
          "output_type": "stream",
          "text": [
            "training error:\n",
            "0.015547472693950085\n",
            "Model Done !\n",
            "harvesting states...\n",
            "fitting...\n"
          ]
        },
        {
          "metadata": {
            "tags": null
          },
          "name": "stderr",
          "output_type": "stream",
          "text": [
            "\r 50%|█████     | 4/8 [00:28<00:28,  7.11s/it]"
          ]
        },
        {
          "metadata": {
            "tags": null
          },
          "name": "stdout",
          "output_type": "stream",
          "text": [
            "training error:\n",
            "0.015557974550221359\n",
            "Model Done !\n",
            "harvesting states...\n",
            "fitting...\n"
          ]
        },
        {
          "metadata": {
            "tags": null
          },
          "name": "stderr",
          "output_type": "stream",
          "text": [
            "\r 62%|██████▎   | 5/8 [00:34<00:20,  6.87s/it]"
          ]
        },
        {
          "metadata": {
            "tags": null
          },
          "name": "stdout",
          "output_type": "stream",
          "text": [
            "training error:\n",
            "0.015562194554004634\n",
            "Model Done !\n",
            "harvesting states...\n",
            "fitting...\n"
          ]
        },
        {
          "metadata": {
            "tags": null
          },
          "name": "stderr",
          "output_type": "stream",
          "text": [
            "\r 75%|███████▌  | 6/8 [00:42<00:14,  7.17s/it]"
          ]
        },
        {
          "metadata": {
            "tags": null
          },
          "name": "stdout",
          "output_type": "stream",
          "text": [
            "training error:\n",
            "0.015566887546343507\n",
            "Model Done !\n",
            "harvesting states...\n",
            "fitting...\n"
          ]
        },
        {
          "metadata": {
            "tags": null
          },
          "name": "stderr",
          "output_type": "stream",
          "text": [
            "\r 88%|████████▊ | 7/8 [00:48<00:06,  6.92s/it]"
          ]
        },
        {
          "metadata": {
            "tags": null
          },
          "name": "stdout",
          "output_type": "stream",
          "text": [
            "training error:\n",
            "0.015525379806589999\n",
            "Model Done !\n",
            "harvesting states...\n",
            "fitting...\n"
          ]
        },
        {
          "metadata": {
            "tags": null
          },
          "name": "stderr",
          "output_type": "stream",
          "text": [
            "100%|██████████| 8/8 [00:56<00:00,  7.02s/it]\n"
          ]
        },
        {
          "metadata": {
            "tags": null
          },
          "name": "stdout",
          "output_type": "stream",
          "text": [
            "training error:\n",
            "0.015487923807477991\n",
            "Model Done !\n"
          ]
        },
        {
          "metadata": {
            "tags": null
          },
          "name": "stderr",
          "output_type": "stream",
          "text": [
            "Progress: 100%|██████████| 1698/1698 [00:04<00:00, 345.51it/s]\n",
            "[I 2023-09-04 09:15:37,138] Trial 60 finished with value: 0.075808438900282 and parameters: {'n_reservoir': 607, 'sparsity': 0.2, 'spectral_radius': 0.2, 'noise': 0.007, 'look_back': 94}. Best is trial 12 with value: 0.053290075094445805.\n",
            "  0%|          | 0/8 [00:00<?, ?it/s]"
          ]
        },
        {
          "metadata": {
            "tags": null
          },
          "name": "stdout",
          "output_type": "stream",
          "text": [
            "harvesting states...\n",
            "fitting...\n"
          ]
        },
        {
          "metadata": {
            "tags": null
          },
          "name": "stderr",
          "output_type": "stream",
          "text": [
            "\r 12%|█▎        | 1/8 [00:10<01:14, 10.62s/it]"
          ]
        },
        {
          "metadata": {
            "tags": null
          },
          "name": "stdout",
          "output_type": "stream",
          "text": [
            "training error:\n",
            "0.01647339942614574\n",
            "Model Done !\n",
            "harvesting states...\n",
            "fitting...\n"
          ]
        },
        {
          "metadata": {
            "tags": null
          },
          "name": "stderr",
          "output_type": "stream",
          "text": [
            "\r 25%|██▌       | 2/8 [00:21<01:03, 10.54s/it]"
          ]
        },
        {
          "metadata": {
            "tags": null
          },
          "name": "stdout",
          "output_type": "stream",
          "text": [
            "training error:\n",
            "0.0227280913190817\n",
            "Model Done !\n",
            "harvesting states...\n",
            "fitting...\n"
          ]
        },
        {
          "metadata": {
            "tags": null
          },
          "name": "stderr",
          "output_type": "stream",
          "text": [
            "\r 38%|███▊      | 3/8 [00:31<00:51, 10.37s/it]"
          ]
        },
        {
          "metadata": {
            "tags": null
          },
          "name": "stdout",
          "output_type": "stream",
          "text": [
            "training error:\n",
            "0.02666544500624792\n",
            "Model Done !\n",
            "harvesting states...\n",
            "fitting...\n"
          ]
        },
        {
          "metadata": {
            "tags": null
          },
          "name": "stderr",
          "output_type": "stream",
          "text": [
            "\r 50%|█████     | 4/8 [00:40<00:39,  9.91s/it]"
          ]
        },
        {
          "metadata": {
            "tags": null
          },
          "name": "stdout",
          "output_type": "stream",
          "text": [
            "training error:\n",
            "0.029987093321766377\n",
            "Model Done !\n",
            "harvesting states...\n",
            "fitting...\n"
          ]
        },
        {
          "metadata": {
            "tags": null
          },
          "name": "stderr",
          "output_type": "stream",
          "text": [
            "\r 62%|██████▎   | 5/8 [00:50<00:30, 10.04s/it]"
          ]
        },
        {
          "metadata": {
            "tags": null
          },
          "name": "stdout",
          "output_type": "stream",
          "text": [
            "training error:\n",
            "0.03183907580071921\n",
            "Model Done !\n",
            "harvesting states...\n",
            "fitting...\n"
          ]
        },
        {
          "metadata": {
            "tags": null
          },
          "name": "stderr",
          "output_type": "stream",
          "text": [
            "\r 75%|███████▌  | 6/8 [01:01<00:20, 10.15s/it]"
          ]
        },
        {
          "metadata": {
            "tags": null
          },
          "name": "stdout",
          "output_type": "stream",
          "text": [
            "training error:\n",
            "0.03368836123466435\n",
            "Model Done !\n",
            "harvesting states...\n",
            "fitting...\n"
          ]
        },
        {
          "metadata": {
            "tags": null
          },
          "name": "stderr",
          "output_type": "stream",
          "text": [
            "\r 88%|████████▊ | 7/8 [01:11<00:10, 10.24s/it]"
          ]
        },
        {
          "metadata": {
            "tags": null
          },
          "name": "stdout",
          "output_type": "stream",
          "text": [
            "training error:\n",
            "0.03474800677925438\n",
            "Model Done !\n",
            "harvesting states...\n",
            "fitting...\n"
          ]
        },
        {
          "metadata": {
            "tags": null
          },
          "name": "stderr",
          "output_type": "stream",
          "text": [
            "100%|██████████| 8/8 [01:20<00:00, 10.05s/it]\n"
          ]
        },
        {
          "metadata": {
            "tags": null
          },
          "name": "stdout",
          "output_type": "stream",
          "text": [
            "training error:\n",
            "0.03593490756300115\n",
            "Model Done !\n"
          ]
        },
        {
          "metadata": {
            "tags": null
          },
          "name": "stderr",
          "output_type": "stream",
          "text": [
            "Progress: 100%|██████████| 1761/1761 [00:08<00:00, 203.99it/s]\n",
            "[I 2023-09-04 09:17:06,392] Trial 61 finished with value: 0.05713365658351322 and parameters: {'n_reservoir': 826, 'sparsity': 0.2, 'spectral_radius': 10.0, 'noise': 0.007, 'look_back': 31}. Best is trial 12 with value: 0.053290075094445805.\n",
            "  0%|          | 0/8 [00:00<?, ?it/s]"
          ]
        },
        {
          "metadata": {
            "tags": null
          },
          "name": "stdout",
          "output_type": "stream",
          "text": [
            "harvesting states...\n",
            "fitting...\n"
          ]
        },
        {
          "metadata": {
            "tags": null
          },
          "name": "stderr",
          "output_type": "stream",
          "text": [
            "\r 12%|█▎        | 1/8 [00:10<01:12, 10.38s/it]"
          ]
        },
        {
          "metadata": {
            "tags": null
          },
          "name": "stdout",
          "output_type": "stream",
          "text": [
            "training error:\n",
            "0.018084802402139628\n",
            "Model Done !\n",
            "harvesting states...\n",
            "fitting...\n"
          ]
        },
        {
          "metadata": {
            "tags": null
          },
          "name": "stderr",
          "output_type": "stream",
          "text": [
            "\r 25%|██▌       | 2/8 [00:20<01:02, 10.35s/it]"
          ]
        },
        {
          "metadata": {
            "tags": null
          },
          "name": "stdout",
          "output_type": "stream",
          "text": [
            "training error:\n",
            "0.024857906908492534\n",
            "Model Done !\n",
            "harvesting states...\n",
            "fitting...\n"
          ]
        },
        {
          "metadata": {
            "tags": null
          },
          "name": "stderr",
          "output_type": "stream",
          "text": [
            "\r 38%|███▊      | 3/8 [00:30<00:49,  9.95s/it]"
          ]
        },
        {
          "metadata": {
            "tags": null
          },
          "name": "stdout",
          "output_type": "stream",
          "text": [
            "training error:\n",
            "0.02875921604133035\n",
            "Model Done !\n",
            "harvesting states...\n",
            "fitting...\n"
          ]
        },
        {
          "metadata": {
            "tags": null
          },
          "name": "stderr",
          "output_type": "stream",
          "text": [
            "\r 50%|█████     | 4/8 [00:40<00:40, 10.15s/it]"
          ]
        },
        {
          "metadata": {
            "tags": null
          },
          "name": "stdout",
          "output_type": "stream",
          "text": [
            "training error:\n",
            "0.03148806872085805\n",
            "Model Done !\n",
            "harvesting states...\n",
            "fitting...\n"
          ]
        },
        {
          "metadata": {
            "tags": null
          },
          "name": "stderr",
          "output_type": "stream",
          "text": [
            "\r 62%|██████▎   | 5/8 [00:51<00:31, 10.39s/it]"
          ]
        },
        {
          "metadata": {
            "tags": null
          },
          "name": "stdout",
          "output_type": "stream",
          "text": [
            "training error:\n",
            "0.03371556360031836\n",
            "Model Done !\n",
            "harvesting states...\n",
            "fitting...\n"
          ]
        },
        {
          "metadata": {
            "tags": null
          },
          "name": "stderr",
          "output_type": "stream",
          "text": [
            "\r 75%|███████▌  | 6/8 [01:01<00:20, 10.42s/it]"
          ]
        },
        {
          "metadata": {
            "tags": null
          },
          "name": "stdout",
          "output_type": "stream",
          "text": [
            "training error:\n",
            "0.03519366287554145\n",
            "Model Done !\n",
            "harvesting states...\n",
            "fitting...\n"
          ]
        },
        {
          "metadata": {
            "tags": null
          },
          "name": "stderr",
          "output_type": "stream",
          "text": [
            "\r 88%|████████▊ | 7/8 [01:11<00:10, 10.30s/it]"
          ]
        },
        {
          "metadata": {
            "tags": null
          },
          "name": "stdout",
          "output_type": "stream",
          "text": [
            "training error:\n",
            "0.036063680202264414\n",
            "Model Done !\n",
            "harvesting states...\n",
            "fitting...\n"
          ]
        },
        {
          "metadata": {
            "tags": null
          },
          "name": "stderr",
          "output_type": "stream",
          "text": [
            "100%|██████████| 8/8 [01:22<00:00, 10.31s/it]\n"
          ]
        },
        {
          "metadata": {
            "tags": null
          },
          "name": "stdout",
          "output_type": "stream",
          "text": [
            "training error:\n",
            "0.036903047449687205\n",
            "Model Done !\n"
          ]
        },
        {
          "metadata": {
            "tags": null
          },
          "name": "stderr",
          "output_type": "stream",
          "text": [
            "Progress: 100%|██████████| 1781/1781 [00:09<00:00, 191.88it/s]\n",
            "[I 2023-09-04 09:18:38,320] Trial 62 finished with value: 0.05115138843061191 and parameters: {'n_reservoir': 851, 'sparsity': 0.2, 'spectral_radius': 10.0, 'noise': 0.007, 'look_back': 11}. Best is trial 62 with value: 0.05115138843061191.\n",
            "  0%|          | 0/8 [00:00<?, ?it/s]"
          ]
        },
        {
          "metadata": {
            "tags": null
          },
          "name": "stdout",
          "output_type": "stream",
          "text": [
            "harvesting states...\n",
            "fitting...\n"
          ]
        },
        {
          "metadata": {
            "tags": null
          },
          "name": "stderr",
          "output_type": "stream",
          "text": [
            "\r 12%|█▎        | 1/8 [00:11<01:19, 11.38s/it]"
          ]
        },
        {
          "metadata": {
            "tags": null
          },
          "name": "stdout",
          "output_type": "stream",
          "text": [
            "training error:\n",
            "0.018085294844680966\n",
            "Model Done !\n",
            "harvesting states...\n",
            "fitting...\n"
          ]
        },
        {
          "metadata": {
            "tags": null
          },
          "name": "stderr",
          "output_type": "stream",
          "text": [
            "\r 25%|██▌       | 2/8 [00:21<01:02, 10.34s/it]"
          ]
        },
        {
          "metadata": {
            "tags": null
          },
          "name": "stdout",
          "output_type": "stream",
          "text": [
            "training error:\n",
            "0.024759605056341893\n",
            "Model Done !\n",
            "harvesting states...\n",
            "fitting...\n"
          ]
        },
        {
          "metadata": {
            "tags": null
          },
          "name": "stderr",
          "output_type": "stream",
          "text": [
            "\r 38%|███▊      | 3/8 [00:31<00:51, 10.37s/it]"
          ]
        },
        {
          "metadata": {
            "tags": null
          },
          "name": "stdout",
          "output_type": "stream",
          "text": [
            "training error:\n",
            "0.0287244811459783\n",
            "Model Done !\n",
            "harvesting states...\n",
            "fitting...\n"
          ]
        },
        {
          "metadata": {
            "tags": null
          },
          "name": "stderr",
          "output_type": "stream",
          "text": [
            "\r 50%|█████     | 4/8 [00:42<00:42, 10.57s/it]"
          ]
        },
        {
          "metadata": {
            "tags": null
          },
          "name": "stdout",
          "output_type": "stream",
          "text": [
            "training error:\n",
            "0.031319266545269814\n",
            "Model Done !\n",
            "harvesting states...\n",
            "fitting...\n"
          ]
        },
        {
          "metadata": {
            "tags": null
          },
          "name": "stderr",
          "output_type": "stream",
          "text": [
            "\r 62%|██████▎   | 5/8 [00:52<00:31, 10.54s/it]"
          ]
        },
        {
          "metadata": {
            "tags": null
          },
          "name": "stdout",
          "output_type": "stream",
          "text": [
            "training error:\n",
            "0.03300759026449423\n",
            "Model Done !\n",
            "harvesting states...\n",
            "fitting...\n"
          ]
        },
        {
          "metadata": {
            "tags": null
          },
          "name": "stderr",
          "output_type": "stream",
          "text": [
            "\r 75%|███████▌  | 6/8 [01:03<00:21, 10.58s/it]"
          ]
        },
        {
          "metadata": {
            "tags": null
          },
          "name": "stdout",
          "output_type": "stream",
          "text": [
            "training error:\n",
            "0.03454434609884794\n",
            "Model Done !\n",
            "harvesting states...\n",
            "fitting...\n"
          ]
        },
        {
          "metadata": {
            "tags": null
          },
          "name": "stderr",
          "output_type": "stream",
          "text": [
            "\r 88%|████████▊ | 7/8 [01:13<00:10, 10.40s/it]"
          ]
        },
        {
          "metadata": {
            "tags": null
          },
          "name": "stdout",
          "output_type": "stream",
          "text": [
            "training error:\n",
            "0.03515722500311222\n",
            "Model Done !\n",
            "harvesting states...\n",
            "fitting...\n"
          ]
        },
        {
          "metadata": {
            "tags": null
          },
          "name": "stderr",
          "output_type": "stream",
          "text": [
            "100%|██████████| 8/8 [01:24<00:00, 10.55s/it]\n"
          ]
        },
        {
          "metadata": {
            "tags": null
          },
          "name": "stdout",
          "output_type": "stream",
          "text": [
            "training error:\n",
            "0.03622971226180115\n",
            "Model Done !\n"
          ]
        },
        {
          "metadata": {
            "tags": null
          },
          "name": "stderr",
          "output_type": "stream",
          "text": [
            "Progress: 100%|██████████| 1779/1779 [00:09<00:00, 190.03it/s]\n",
            "[I 2023-09-04 09:20:12,236] Trial 63 finished with value: 0.05532945876167574 and parameters: {'n_reservoir': 869, 'sparsity': 0.2, 'spectral_radius': 10.0, 'noise': 0.001, 'look_back': 13}. Best is trial 62 with value: 0.05115138843061191.\n",
            "  0%|          | 0/8 [00:00<?, ?it/s]"
          ]
        },
        {
          "metadata": {
            "tags": null
          },
          "name": "stdout",
          "output_type": "stream",
          "text": [
            "harvesting states...\n",
            "fitting...\n"
          ]
        },
        {
          "metadata": {
            "tags": null
          },
          "name": "stderr",
          "output_type": "stream",
          "text": [
            "\r 12%|█▎        | 1/8 [00:08<00:59,  8.57s/it]"
          ]
        },
        {
          "metadata": {
            "tags": null
          },
          "name": "stdout",
          "output_type": "stream",
          "text": [
            "training error:\n",
            "0.020867727751645054\n",
            "Model Done !\n",
            "harvesting states...\n",
            "fitting...\n"
          ]
        },
        {
          "metadata": {
            "tags": null
          },
          "name": "stderr",
          "output_type": "stream",
          "text": [
            "\r 25%|██▌       | 2/8 [00:16<00:49,  8.26s/it]"
          ]
        },
        {
          "metadata": {
            "tags": null
          },
          "name": "stdout",
          "output_type": "stream",
          "text": [
            "training error:\n",
            "0.02650596224665804\n",
            "Model Done !\n",
            "harvesting states...\n",
            "fitting...\n"
          ]
        },
        {
          "metadata": {
            "tags": null
          },
          "name": "stderr",
          "output_type": "stream",
          "text": [
            "\r 38%|███▊      | 3/8 [00:24<00:41,  8.29s/it]"
          ]
        },
        {
          "metadata": {
            "tags": null
          },
          "name": "stdout",
          "output_type": "stream",
          "text": [
            "training error:\n",
            "0.030234275527613822\n",
            "Model Done !\n",
            "harvesting states...\n",
            "fitting...\n"
          ]
        },
        {
          "metadata": {
            "tags": null
          },
          "name": "stderr",
          "output_type": "stream",
          "text": [
            "\r 50%|█████     | 4/8 [00:32<00:31,  7.99s/it]"
          ]
        },
        {
          "metadata": {
            "tags": null
          },
          "name": "stdout",
          "output_type": "stream",
          "text": [
            "training error:\n",
            "0.032731335605582626\n",
            "Model Done !\n",
            "harvesting states...\n",
            "fitting...\n"
          ]
        },
        {
          "metadata": {
            "tags": null
          },
          "name": "stderr",
          "output_type": "stream",
          "text": [
            "\r 62%|██████▎   | 5/8 [00:41<00:24,  8.32s/it]"
          ]
        },
        {
          "metadata": {
            "tags": null
          },
          "name": "stdout",
          "output_type": "stream",
          "text": [
            "training error:\n",
            "0.03459465062091328\n",
            "Model Done !\n",
            "harvesting states...\n",
            "fitting...\n"
          ]
        },
        {
          "metadata": {
            "tags": null
          },
          "name": "stderr",
          "output_type": "stream",
          "text": [
            "\r 75%|███████▌  | 6/8 [00:49<00:16,  8.32s/it]"
          ]
        },
        {
          "metadata": {
            "tags": null
          },
          "name": "stdout",
          "output_type": "stream",
          "text": [
            "training error:\n",
            "0.03598147496555861\n",
            "Model Done !\n",
            "harvesting states...\n",
            "fitting...\n"
          ]
        },
        {
          "metadata": {
            "tags": null
          },
          "name": "stderr",
          "output_type": "stream",
          "text": [
            "\r 88%|████████▊ | 7/8 [00:56<00:07,  7.98s/it]"
          ]
        },
        {
          "metadata": {
            "tags": null
          },
          "name": "stdout",
          "output_type": "stream",
          "text": [
            "training error:\n",
            "0.036930374388121974\n",
            "Model Done !\n",
            "harvesting states...\n",
            "fitting...\n"
          ]
        },
        {
          "metadata": {
            "tags": null
          },
          "name": "stderr",
          "output_type": "stream",
          "text": [
            "100%|██████████| 8/8 [01:05<00:00,  8.21s/it]\n"
          ]
        },
        {
          "metadata": {
            "tags": null
          },
          "name": "stdout",
          "output_type": "stream",
          "text": [
            "training error:\n",
            "0.037395850839174585\n",
            "Model Done !\n"
          ]
        },
        {
          "metadata": {
            "tags": null
          },
          "name": "stderr",
          "output_type": "stream",
          "text": [
            "Progress: 100%|██████████| 1782/1782 [00:05<00:00, 302.22it/s]\n",
            "[I 2023-09-04 09:21:24,015] Trial 64 finished with value: 0.05507949460593152 and parameters: {'n_reservoir': 744, 'sparsity': 0.2, 'spectral_radius': 10.0, 'noise': 0.001, 'look_back': 10}. Best is trial 62 with value: 0.05115138843061191.\n",
            "  0%|          | 0/8 [00:00<?, ?it/s]"
          ]
        },
        {
          "metadata": {
            "tags": null
          },
          "name": "stdout",
          "output_type": "stream",
          "text": [
            "harvesting states...\n",
            "fitting...\n"
          ]
        },
        {
          "metadata": {
            "tags": null
          },
          "name": "stderr",
          "output_type": "stream",
          "text": [
            "\r 12%|█▎        | 1/8 [00:10<01:12, 10.36s/it]"
          ]
        },
        {
          "metadata": {
            "tags": null
          },
          "name": "stdout",
          "output_type": "stream",
          "text": [
            "training error:\n",
            "0.017689409095937032\n",
            "Model Done !\n",
            "harvesting states...\n",
            "fitting...\n"
          ]
        },
        {
          "metadata": {
            "tags": null
          },
          "name": "stderr",
          "output_type": "stream",
          "text": [
            "\r 25%|██▌       | 2/8 [00:20<01:01, 10.29s/it]"
          ]
        },
        {
          "metadata": {
            "tags": null
          },
          "name": "stdout",
          "output_type": "stream",
          "text": [
            "training error:\n",
            "0.01806399545138064\n",
            "Model Done !\n",
            "harvesting states...\n",
            "fitting...\n"
          ]
        },
        {
          "metadata": {
            "tags": null
          },
          "name": "stderr",
          "output_type": "stream",
          "text": [
            "\r 38%|███▊      | 3/8 [00:31<00:52, 10.48s/it]"
          ]
        },
        {
          "metadata": {
            "tags": null
          },
          "name": "stdout",
          "output_type": "stream",
          "text": [
            "training error:\n",
            "0.017947691862364664\n",
            "Model Done !\n",
            "harvesting states...\n",
            "fitting...\n"
          ]
        },
        {
          "metadata": {
            "tags": null
          },
          "name": "stderr",
          "output_type": "stream",
          "text": [
            "\r 50%|█████     | 4/8 [00:40<00:39,  9.93s/it]"
          ]
        },
        {
          "metadata": {
            "tags": null
          },
          "name": "stdout",
          "output_type": "stream",
          "text": [
            "training error:\n",
            "0.018528484517364708\n",
            "Model Done !\n",
            "harvesting states...\n",
            "fitting...\n"
          ]
        },
        {
          "metadata": {
            "tags": null
          },
          "name": "stderr",
          "output_type": "stream",
          "text": [
            "\r 62%|██████▎   | 5/8 [00:51<00:30, 10.20s/it]"
          ]
        },
        {
          "metadata": {
            "tags": null
          },
          "name": "stdout",
          "output_type": "stream",
          "text": [
            "training error:\n",
            "0.01761664340318098\n",
            "Model Done !\n",
            "harvesting states...\n",
            "fitting...\n"
          ]
        },
        {
          "metadata": {
            "tags": null
          },
          "name": "stderr",
          "output_type": "stream",
          "text": [
            "\r 75%|███████▌  | 6/8 [01:01<00:20, 10.30s/it]"
          ]
        },
        {
          "metadata": {
            "tags": null
          },
          "name": "stdout",
          "output_type": "stream",
          "text": [
            "training error:\n",
            "0.018782615759489026\n",
            "Model Done !\n",
            "harvesting states...\n",
            "fitting...\n"
          ]
        },
        {
          "metadata": {
            "tags": null
          },
          "name": "stderr",
          "output_type": "stream",
          "text": [
            "\r 88%|████████▊ | 7/8 [01:11<00:10, 10.28s/it]"
          ]
        },
        {
          "metadata": {
            "tags": null
          },
          "name": "stdout",
          "output_type": "stream",
          "text": [
            "training error:\n",
            "0.016990639628328457\n",
            "Model Done !\n",
            "harvesting states...\n",
            "fitting...\n"
          ]
        },
        {
          "metadata": {
            "tags": null
          },
          "name": "stderr",
          "output_type": "stream",
          "text": [
            "100%|██████████| 8/8 [01:20<00:00, 10.12s/it]\n"
          ]
        },
        {
          "metadata": {
            "tags": null
          },
          "name": "stdout",
          "output_type": "stream",
          "text": [
            "training error:\n",
            "0.017948795936758785\n",
            "Model Done !\n"
          ]
        },
        {
          "metadata": {
            "tags": null
          },
          "name": "stderr",
          "output_type": "stream",
          "text": [
            "Progress: 100%|██████████| 1779/1779 [00:08<00:00, 199.70it/s]\n",
            "[I 2023-09-04 09:22:54,085] Trial 65 finished with value: 0.4508461705713896 and parameters: {'n_reservoir': 856, 'sparsity': 0.2, 'spectral_radius': 0.4, 'noise': 0.001, 'look_back': 13}. Best is trial 62 with value: 0.05115138843061191.\n",
            "  0%|          | 0/8 [00:00<?, ?it/s]"
          ]
        },
        {
          "metadata": {
            "tags": null
          },
          "name": "stdout",
          "output_type": "stream",
          "text": [
            "harvesting states...\n",
            "fitting...\n"
          ]
        },
        {
          "metadata": {
            "tags": null
          },
          "name": "stderr",
          "output_type": "stream",
          "text": [
            "\r 12%|█▎        | 1/8 [00:13<01:36, 13.83s/it]"
          ]
        },
        {
          "metadata": {
            "tags": null
          },
          "name": "stdout",
          "output_type": "stream",
          "text": [
            "training error:\n",
            "0.016045515730063072\n",
            "Model Done !\n",
            "harvesting states...\n",
            "fitting...\n"
          ]
        },
        {
          "metadata": {
            "tags": null
          },
          "name": "stderr",
          "output_type": "stream",
          "text": [
            "\r 25%|██▌       | 2/8 [00:27<01:22, 13.73s/it]"
          ]
        },
        {
          "metadata": {
            "tags": null
          },
          "name": "stdout",
          "output_type": "stream",
          "text": [
            "training error:\n",
            "0.021962573218765068\n",
            "Model Done !\n",
            "harvesting states...\n",
            "fitting...\n"
          ]
        },
        {
          "metadata": {
            "tags": null
          },
          "name": "stderr",
          "output_type": "stream",
          "text": [
            "\r 38%|███▊      | 3/8 [00:41<01:08, 13.69s/it]"
          ]
        },
        {
          "metadata": {
            "tags": null
          },
          "name": "stdout",
          "output_type": "stream",
          "text": [
            "training error:\n",
            "0.025747010802446083\n",
            "Model Done !\n",
            "harvesting states...\n",
            "fitting...\n"
          ]
        },
        {
          "metadata": {
            "tags": null
          },
          "name": "stderr",
          "output_type": "stream",
          "text": [
            "\r 50%|█████     | 4/8 [00:55<00:55, 13.86s/it]"
          ]
        },
        {
          "metadata": {
            "tags": null
          },
          "name": "stdout",
          "output_type": "stream",
          "text": [
            "training error:\n",
            "0.02841067696740387\n",
            "Model Done !\n",
            "harvesting states...\n",
            "fitting...\n"
          ]
        },
        {
          "metadata": {
            "tags": null
          },
          "name": "stderr",
          "output_type": "stream",
          "text": [
            "\r 62%|██████▎   | 5/8 [01:09<00:41, 13.92s/it]"
          ]
        },
        {
          "metadata": {
            "tags": null
          },
          "name": "stdout",
          "output_type": "stream",
          "text": [
            "training error:\n",
            "0.030201278674377694\n",
            "Model Done !\n",
            "harvesting states...\n",
            "fitting...\n"
          ]
        },
        {
          "metadata": {
            "tags": null
          },
          "name": "stderr",
          "output_type": "stream",
          "text": [
            "\r 75%|███████▌  | 6/8 [01:22<00:27, 13.81s/it]"
          ]
        },
        {
          "metadata": {
            "tags": null
          },
          "name": "stdout",
          "output_type": "stream",
          "text": [
            "training error:\n",
            "0.03143778579801662\n",
            "Model Done !\n",
            "harvesting states...\n",
            "fitting...\n"
          ]
        },
        {
          "metadata": {
            "tags": null
          },
          "name": "stderr",
          "output_type": "stream",
          "text": [
            "\r 88%|████████▊ | 7/8 [01:37<00:13, 13.92s/it]"
          ]
        },
        {
          "metadata": {
            "tags": null
          },
          "name": "stdout",
          "output_type": "stream",
          "text": [
            "training error:\n",
            "0.032149987152998924\n",
            "Model Done !\n",
            "harvesting states...\n",
            "fitting...\n"
          ]
        },
        {
          "metadata": {
            "tags": null
          },
          "name": "stderr",
          "output_type": "stream",
          "text": [
            "100%|██████████| 8/8 [01:51<00:00, 13.93s/it]\n"
          ]
        },
        {
          "metadata": {
            "tags": null
          },
          "name": "stdout",
          "output_type": "stream",
          "text": [
            "training error:\n",
            "0.03320486343491218\n",
            "Model Done !\n"
          ]
        },
        {
          "metadata": {
            "tags": null
          },
          "name": "stderr",
          "output_type": "stream",
          "text": [
            "Progress: 100%|██████████| 1746/1746 [00:11<00:00, 146.31it/s]\n",
            "[I 2023-09-04 09:24:57,675] Trial 66 finished with value: 0.056998317059618164 and parameters: {'n_reservoir': 999, 'sparsity': 0.2, 'spectral_radius': 10.0, 'noise': 0.001, 'look_back': 46}. Best is trial 62 with value: 0.05115138843061191.\n",
            "  0%|          | 0/8 [00:00<?, ?it/s]"
          ]
        },
        {
          "metadata": {
            "tags": null
          },
          "name": "stdout",
          "output_type": "stream",
          "text": [
            "harvesting states...\n",
            "fitting...\n"
          ]
        },
        {
          "metadata": {
            "tags": null
          },
          "name": "stderr",
          "output_type": "stream",
          "text": [
            "\r 12%|█▎        | 1/8 [00:08<01:01,  8.74s/it]"
          ]
        },
        {
          "metadata": {
            "tags": null
          },
          "name": "stdout",
          "output_type": "stream",
          "text": [
            "training error:\n",
            "0.017038805204235317\n",
            "Model Done !\n",
            "harvesting states...\n",
            "fitting...\n"
          ]
        },
        {
          "metadata": {
            "tags": null
          },
          "name": "stderr",
          "output_type": "stream",
          "text": [
            "\r 25%|██▌       | 2/8 [00:17<00:52,  8.79s/it]"
          ]
        },
        {
          "metadata": {
            "tags": null
          },
          "name": "stdout",
          "output_type": "stream",
          "text": [
            "training error:\n",
            "0.02339717515862589\n",
            "Model Done !\n",
            "harvesting states...\n",
            "fitting...\n"
          ]
        },
        {
          "metadata": {
            "tags": null
          },
          "name": "stderr",
          "output_type": "stream",
          "text": [
            "\r 38%|███▊      | 3/8 [00:25<00:40,  8.17s/it]"
          ]
        },
        {
          "metadata": {
            "tags": null
          },
          "name": "stdout",
          "output_type": "stream",
          "text": [
            "training error:\n",
            "0.027490398207386874\n",
            "Model Done !\n",
            "harvesting states...\n",
            "fitting...\n"
          ]
        },
        {
          "metadata": {
            "tags": null
          },
          "name": "stderr",
          "output_type": "stream",
          "text": [
            "\r 50%|█████     | 4/8 [00:33<00:33,  8.44s/it]"
          ]
        },
        {
          "metadata": {
            "tags": null
          },
          "name": "stdout",
          "output_type": "stream",
          "text": [
            "training error:\n",
            "0.030322442777566978\n",
            "Model Done !\n",
            "harvesting states...\n",
            "fitting...\n"
          ]
        },
        {
          "metadata": {
            "tags": null
          },
          "name": "stderr",
          "output_type": "stream",
          "text": [
            "\r 62%|██████▎   | 5/8 [00:41<00:24,  8.22s/it]"
          ]
        },
        {
          "metadata": {
            "tags": null
          },
          "name": "stdout",
          "output_type": "stream",
          "text": [
            "training error:\n",
            "0.0324126238162512\n",
            "Model Done !\n",
            "harvesting states...\n",
            "fitting...\n"
          ]
        },
        {
          "metadata": {
            "tags": null
          },
          "name": "stderr",
          "output_type": "stream",
          "text": [
            "\r 75%|███████▌  | 6/8 [00:50<00:16,  8.35s/it]"
          ]
        },
        {
          "metadata": {
            "tags": null
          },
          "name": "stdout",
          "output_type": "stream",
          "text": [
            "training error:\n",
            "0.03403777503406286\n",
            "Model Done !\n",
            "harvesting states...\n",
            "fitting...\n"
          ]
        },
        {
          "metadata": {
            "tags": null
          },
          "name": "stderr",
          "output_type": "stream",
          "text": [
            "\r 88%|████████▊ | 7/8 [00:59<00:08,  8.49s/it]"
          ]
        },
        {
          "metadata": {
            "tags": null
          },
          "name": "stdout",
          "output_type": "stream",
          "text": [
            "training error:\n",
            "0.03515624033533414\n",
            "Model Done !\n",
            "harvesting states...\n",
            "fitting...\n"
          ]
        },
        {
          "metadata": {
            "tags": null
          },
          "name": "stderr",
          "output_type": "stream",
          "text": [
            "100%|██████████| 8/8 [01:06<00:00,  8.33s/it]\n"
          ]
        },
        {
          "metadata": {
            "tags": null
          },
          "name": "stdout",
          "output_type": "stream",
          "text": [
            "training error:\n",
            "0.036214867387687054\n",
            "Model Done !\n"
          ]
        },
        {
          "metadata": {
            "tags": null
          },
          "name": "stderr",
          "output_type": "stream",
          "text": [
            "Progress: 100%|██████████| 1770/1770 [00:07<00:00, 234.68it/s]\n",
            "[I 2023-09-04 09:26:12,067] Trial 67 finished with value: 0.05405427213861985 and parameters: {'n_reservoir': 757, 'sparsity': 0.2, 'spectral_radius': 10.0, 'noise': 0.001, 'look_back': 22}. Best is trial 62 with value: 0.05115138843061191.\n",
            "  0%|          | 0/8 [00:00<?, ?it/s]"
          ]
        },
        {
          "metadata": {
            "tags": null
          },
          "name": "stdout",
          "output_type": "stream",
          "text": [
            "harvesting states...\n",
            "fitting...\n"
          ]
        },
        {
          "metadata": {
            "tags": null
          },
          "name": "stderr",
          "output_type": "stream",
          "text": [
            "\r 12%|█▎        | 1/8 [00:08<01:01,  8.84s/it]"
          ]
        },
        {
          "metadata": {
            "tags": null
          },
          "name": "stdout",
          "output_type": "stream",
          "text": [
            "training error:\n",
            "0.017035413460174162\n",
            "Model Done !\n",
            "harvesting states...\n",
            "fitting...\n"
          ]
        },
        {
          "metadata": {
            "tags": null
          },
          "name": "stderr",
          "output_type": "stream",
          "text": [
            "\r 25%|██▌       | 2/8 [00:17<00:51,  8.55s/it]"
          ]
        },
        {
          "metadata": {
            "tags": null
          },
          "name": "stdout",
          "output_type": "stream",
          "text": [
            "training error:\n",
            "0.023479128817442792\n",
            "Model Done !\n",
            "harvesting states...\n",
            "fitting...\n"
          ]
        },
        {
          "metadata": {
            "tags": null
          },
          "name": "stderr",
          "output_type": "stream",
          "text": [
            "\r 38%|███▊      | 3/8 [00:26<00:45,  9.01s/it]"
          ]
        },
        {
          "metadata": {
            "tags": null
          },
          "name": "stdout",
          "output_type": "stream",
          "text": [
            "training error:\n",
            "0.02733147730140283\n",
            "Model Done !\n",
            "harvesting states...\n",
            "fitting...\n"
          ]
        },
        {
          "metadata": {
            "tags": null
          },
          "name": "stderr",
          "output_type": "stream",
          "text": [
            "\r 50%|█████     | 4/8 [00:36<00:36,  9.24s/it]"
          ]
        },
        {
          "metadata": {
            "tags": null
          },
          "name": "stdout",
          "output_type": "stream",
          "text": [
            "training error:\n",
            "0.03059263299287811\n",
            "Model Done !\n",
            "harvesting states...\n",
            "fitting...\n"
          ]
        },
        {
          "metadata": {
            "tags": null
          },
          "name": "stderr",
          "output_type": "stream",
          "text": [
            "\r 62%|██████▎   | 5/8 [00:44<00:26,  8.89s/it]"
          ]
        },
        {
          "metadata": {
            "tags": null
          },
          "name": "stdout",
          "output_type": "stream",
          "text": [
            "training error:\n",
            "0.03218784137212168\n",
            "Model Done !\n",
            "harvesting states...\n",
            "fitting...\n"
          ]
        },
        {
          "metadata": {
            "tags": null
          },
          "name": "stderr",
          "output_type": "stream",
          "text": [
            "\r 75%|███████▌  | 6/8 [00:53<00:18,  9.00s/it]"
          ]
        },
        {
          "metadata": {
            "tags": null
          },
          "name": "stdout",
          "output_type": "stream",
          "text": [
            "training error:\n",
            "0.03371380807893178\n",
            "Model Done !\n",
            "harvesting states...\n",
            "fitting...\n"
          ]
        },
        {
          "metadata": {
            "tags": null
          },
          "name": "stderr",
          "output_type": "stream",
          "text": [
            "\r 88%|████████▊ | 7/8 [01:02<00:09,  9.05s/it]"
          ]
        },
        {
          "metadata": {
            "tags": null
          },
          "name": "stdout",
          "output_type": "stream",
          "text": [
            "training error:\n",
            "0.034773119794939265\n",
            "Model Done !\n",
            "harvesting states...\n",
            "fitting...\n"
          ]
        },
        {
          "metadata": {
            "tags": null
          },
          "name": "stderr",
          "output_type": "stream",
          "text": [
            "100%|██████████| 8/8 [01:10<00:00,  8.85s/it]\n"
          ]
        },
        {
          "metadata": {
            "tags": null
          },
          "name": "stdout",
          "output_type": "stream",
          "text": [
            "training error:\n",
            "0.03582563688634477\n",
            "Model Done !\n"
          ]
        },
        {
          "metadata": {
            "tags": null
          },
          "name": "stderr",
          "output_type": "stream",
          "text": [
            "Progress: 100%|██████████| 1771/1771 [00:08<00:00, 219.33it/s]\n",
            "[I 2023-09-04 09:27:31,144] Trial 68 finished with value: 0.06287959057761933 and parameters: {'n_reservoir': 770, 'sparsity': 0.2, 'spectral_radius': 10.0, 'noise': 0.001, 'look_back': 21}. Best is trial 62 with value: 0.05115138843061191.\n",
            "  0%|          | 0/8 [00:00<?, ?it/s]"
          ]
        },
        {
          "metadata": {
            "tags": null
          },
          "name": "stdout",
          "output_type": "stream",
          "text": [
            "harvesting states...\n",
            "fitting...\n"
          ]
        },
        {
          "metadata": {
            "tags": null
          },
          "name": "stderr",
          "output_type": "stream",
          "text": [
            "\r 12%|█▎        | 1/8 [00:09<01:04,  9.15s/it]"
          ]
        },
        {
          "metadata": {
            "tags": null
          },
          "name": "stdout",
          "output_type": "stream",
          "text": [
            "training error:\n",
            "0.016125357688901942\n",
            "Model Done !\n",
            "harvesting states...\n",
            "fitting...\n"
          ]
        },
        {
          "metadata": {
            "tags": null
          },
          "name": "stderr",
          "output_type": "stream",
          "text": [
            "\r 25%|██▌       | 2/8 [00:18<00:57,  9.56s/it]"
          ]
        },
        {
          "metadata": {
            "tags": null
          },
          "name": "stdout",
          "output_type": "stream",
          "text": [
            "training error:\n",
            "0.022237541287596405\n",
            "Model Done !\n",
            "harvesting states...\n",
            "fitting...\n"
          ]
        },
        {
          "metadata": {
            "tags": null
          },
          "name": "stderr",
          "output_type": "stream",
          "text": [
            "\r 38%|███▊      | 3/8 [00:29<00:48,  9.79s/it]"
          ]
        },
        {
          "metadata": {
            "tags": null
          },
          "name": "stdout",
          "output_type": "stream",
          "text": [
            "training error:\n",
            "0.026263027987746608\n",
            "Model Done !\n",
            "harvesting states...\n",
            "fitting...\n"
          ]
        },
        {
          "metadata": {
            "tags": null
          },
          "name": "stderr",
          "output_type": "stream",
          "text": [
            "\r 50%|█████     | 4/8 [00:39<00:39, 10.00s/it]"
          ]
        },
        {
          "metadata": {
            "tags": null
          },
          "name": "stdout",
          "output_type": "stream",
          "text": [
            "training error:\n",
            "0.028974133815744388\n",
            "Model Done !\n",
            "harvesting states...\n",
            "fitting...\n"
          ]
        },
        {
          "metadata": {
            "tags": null
          },
          "name": "stderr",
          "output_type": "stream",
          "text": [
            "\r 62%|██████▎   | 5/8 [00:48<00:28,  9.64s/it]"
          ]
        },
        {
          "metadata": {
            "tags": null
          },
          "name": "stdout",
          "output_type": "stream",
          "text": [
            "training error:\n",
            "0.030760843185776248\n",
            "Model Done !\n",
            "harvesting states...\n",
            "fitting...\n"
          ]
        },
        {
          "metadata": {
            "tags": null
          },
          "name": "stderr",
          "output_type": "stream",
          "text": [
            "\r 75%|███████▌  | 6/8 [00:58<00:19,  9.92s/it]"
          ]
        },
        {
          "metadata": {
            "tags": null
          },
          "name": "stdout",
          "output_type": "stream",
          "text": [
            "training error:\n",
            "0.032229962758326076\n",
            "Model Done !\n",
            "harvesting states...\n",
            "fitting...\n"
          ]
        },
        {
          "metadata": {
            "tags": null
          },
          "name": "stderr",
          "output_type": "stream",
          "text": [
            "\r 88%|████████▊ | 7/8 [01:09<00:10, 10.00s/it]"
          ]
        },
        {
          "metadata": {
            "tags": null
          },
          "name": "stdout",
          "output_type": "stream",
          "text": [
            "training error:\n",
            "0.03320388315967421\n",
            "Model Done !\n",
            "harvesting states...\n",
            "fitting...\n"
          ]
        },
        {
          "metadata": {
            "tags": null
          },
          "name": "stderr",
          "output_type": "stream",
          "text": [
            "100%|██████████| 8/8 [01:18<00:00,  9.86s/it]\n"
          ]
        },
        {
          "metadata": {
            "tags": null
          },
          "name": "stdout",
          "output_type": "stream",
          "text": [
            "training error:\n",
            "0.03434242805588372\n",
            "Model Done !\n"
          ]
        },
        {
          "metadata": {
            "tags": null
          },
          "name": "stderr",
          "output_type": "stream",
          "text": [
            "Progress: 100%|██████████| 1747/1747 [00:07<00:00, 238.86it/s]\n",
            "[I 2023-09-04 09:28:57,492] Trial 69 finished with value: 0.06395366908627861 and parameters: {'n_reservoir': 810, 'sparsity': 0.2, 'spectral_radius': 10.0, 'noise': 0.001, 'look_back': 45}. Best is trial 62 with value: 0.05115138843061191.\n",
            "  0%|          | 0/8 [00:00<?, ?it/s]"
          ]
        },
        {
          "metadata": {
            "tags": null
          },
          "name": "stdout",
          "output_type": "stream",
          "text": [
            "harvesting states...\n",
            "fitting...\n"
          ]
        },
        {
          "metadata": {
            "tags": null
          },
          "name": "stderr",
          "output_type": "stream",
          "text": [
            "\r 12%|█▎        | 1/8 [00:10<01:12, 10.42s/it]"
          ]
        },
        {
          "metadata": {
            "tags": null
          },
          "name": "stdout",
          "output_type": "stream",
          "text": [
            "training error:\n",
            "0.017768616231619697\n",
            "Model Done !\n",
            "harvesting states...\n",
            "fitting...\n"
          ]
        },
        {
          "metadata": {
            "tags": null
          },
          "name": "stderr",
          "output_type": "stream",
          "text": [
            "\r 25%|██▌       | 2/8 [00:20<01:03, 10.50s/it]"
          ]
        },
        {
          "metadata": {
            "tags": null
          },
          "name": "stdout",
          "output_type": "stream",
          "text": [
            "training error:\n",
            "0.01805302065382687\n",
            "Model Done !\n",
            "harvesting states...\n",
            "fitting...\n"
          ]
        },
        {
          "metadata": {
            "tags": null
          },
          "name": "stderr",
          "output_type": "stream",
          "text": [
            "\r 38%|███▊      | 3/8 [00:31<00:52, 10.47s/it]"
          ]
        },
        {
          "metadata": {
            "tags": null
          },
          "name": "stdout",
          "output_type": "stream",
          "text": [
            "training error:\n",
            "0.017729628153498857\n",
            "Model Done !\n",
            "harvesting states...\n",
            "fitting...\n"
          ]
        },
        {
          "metadata": {
            "tags": null
          },
          "name": "stderr",
          "output_type": "stream",
          "text": [
            "\r 50%|█████     | 4/8 [00:40<00:39,  9.99s/it]"
          ]
        },
        {
          "metadata": {
            "tags": null
          },
          "name": "stdout",
          "output_type": "stream",
          "text": [
            "training error:\n",
            "0.018057781385910156\n",
            "Model Done !\n",
            "harvesting states...\n",
            "fitting...\n"
          ]
        },
        {
          "metadata": {
            "tags": null
          },
          "name": "stderr",
          "output_type": "stream",
          "text": [
            "\r 62%|██████▎   | 5/8 [00:51<00:30, 10.25s/it]"
          ]
        },
        {
          "metadata": {
            "tags": null
          },
          "name": "stdout",
          "output_type": "stream",
          "text": [
            "training error:\n",
            "0.018067378626640842\n",
            "Model Done !\n",
            "harvesting states...\n",
            "fitting...\n"
          ]
        },
        {
          "metadata": {
            "tags": null
          },
          "name": "stderr",
          "output_type": "stream",
          "text": [
            "\r 75%|███████▌  | 6/8 [01:02<00:20, 10.39s/it]"
          ]
        },
        {
          "metadata": {
            "tags": null
          },
          "name": "stdout",
          "output_type": "stream",
          "text": [
            "training error:\n",
            "0.017693138978837245\n",
            "Model Done !\n",
            "harvesting states...\n",
            "fitting...\n"
          ]
        },
        {
          "metadata": {
            "tags": null
          },
          "name": "stderr",
          "output_type": "stream",
          "text": [
            "\r 88%|████████▊ | 7/8 [01:12<00:10, 10.51s/it]"
          ]
        },
        {
          "metadata": {
            "tags": null
          },
          "name": "stdout",
          "output_type": "stream",
          "text": [
            "training error:\n",
            "0.01784433563623921\n",
            "Model Done !\n",
            "harvesting states...\n",
            "fitting...\n"
          ]
        },
        {
          "metadata": {
            "tags": null
          },
          "name": "stderr",
          "output_type": "stream",
          "text": [
            "100%|██████████| 8/8 [01:24<00:00, 10.55s/it]\n"
          ]
        },
        {
          "metadata": {
            "tags": null
          },
          "name": "stdout",
          "output_type": "stream",
          "text": [
            "training error:\n",
            "0.017465349216989213\n",
            "Model Done !\n"
          ]
        },
        {
          "metadata": {
            "tags": null
          },
          "name": "stderr",
          "output_type": "stream",
          "text": [
            "Progress: 100%|██████████| 1780/1780 [00:09<00:00, 192.07it/s]\n",
            "[I 2023-09-04 09:30:31,386] Trial 70 finished with value: 0.7279430111930411 and parameters: {'n_reservoir': 857, 'sparsity': 0.1, 'spectral_radius': 0.1, 'noise': 0.001, 'look_back': 12}. Best is trial 62 with value: 0.05115138843061191.\n",
            "  0%|          | 0/8 [00:00<?, ?it/s]"
          ]
        },
        {
          "metadata": {
            "tags": null
          },
          "name": "stdout",
          "output_type": "stream",
          "text": [
            "harvesting states...\n",
            "fitting...\n"
          ]
        },
        {
          "metadata": {
            "tags": null
          },
          "name": "stderr",
          "output_type": "stream",
          "text": [
            "\r 12%|█▎        | 1/8 [00:09<01:08,  9.78s/it]"
          ]
        },
        {
          "metadata": {
            "tags": null
          },
          "name": "stdout",
          "output_type": "stream",
          "text": [
            "training error:\n",
            "0.017085983997711766\n",
            "Model Done !\n",
            "harvesting states...\n",
            "fitting...\n"
          ]
        },
        {
          "metadata": {
            "tags": null
          },
          "name": "stderr",
          "output_type": "stream",
          "text": [
            "\r 25%|██▌       | 2/8 [00:19<00:57,  9.57s/it]"
          ]
        },
        {
          "metadata": {
            "tags": null
          },
          "name": "stdout",
          "output_type": "stream",
          "text": [
            "training error:\n",
            "0.023567301371502113\n",
            "Model Done !\n",
            "harvesting states...\n",
            "fitting...\n"
          ]
        },
        {
          "metadata": {
            "tags": null
          },
          "name": "stderr",
          "output_type": "stream",
          "text": [
            "\r 38%|███▊      | 3/8 [00:27<00:43,  8.76s/it]"
          ]
        },
        {
          "metadata": {
            "tags": null
          },
          "name": "stdout",
          "output_type": "stream",
          "text": [
            "training error:\n",
            "0.02787873326866864\n",
            "Model Done !\n",
            "harvesting states...\n",
            "fitting...\n"
          ]
        },
        {
          "metadata": {
            "tags": null
          },
          "name": "stderr",
          "output_type": "stream",
          "text": [
            "\r 50%|█████     | 4/8 [00:36<00:35,  8.98s/it]"
          ]
        },
        {
          "metadata": {
            "tags": null
          },
          "name": "stdout",
          "output_type": "stream",
          "text": [
            "training error:\n",
            "0.0307389957870957\n",
            "Model Done !\n",
            "harvesting states...\n",
            "fitting...\n"
          ]
        },
        {
          "metadata": {
            "tags": null
          },
          "name": "stderr",
          "output_type": "stream",
          "text": [
            "\r 62%|██████▎   | 5/8 [00:45<00:26,  8.93s/it]"
          ]
        },
        {
          "metadata": {
            "tags": null
          },
          "name": "stdout",
          "output_type": "stream",
          "text": [
            "training error:\n",
            "0.032638706056042535\n",
            "Model Done !\n",
            "harvesting states...\n",
            "fitting...\n"
          ]
        },
        {
          "metadata": {
            "tags": null
          },
          "name": "stderr",
          "output_type": "stream",
          "text": [
            "\r 75%|███████▌  | 6/8 [00:53<00:17,  8.80s/it]"
          ]
        },
        {
          "metadata": {
            "tags": null
          },
          "name": "stdout",
          "output_type": "stream",
          "text": [
            "training error:\n",
            "0.034552969082860534\n",
            "Model Done !\n",
            "harvesting states...\n",
            "fitting...\n"
          ]
        },
        {
          "metadata": {
            "tags": null
          },
          "name": "stderr",
          "output_type": "stream",
          "text": [
            "\r 88%|████████▊ | 7/8 [01:03<00:08,  9.00s/it]"
          ]
        },
        {
          "metadata": {
            "tags": null
          },
          "name": "stdout",
          "output_type": "stream",
          "text": [
            "training error:\n",
            "0.03584887009127341\n",
            "Model Done !\n",
            "harvesting states...\n",
            "fitting...\n"
          ]
        },
        {
          "metadata": {
            "tags": null
          },
          "name": "stderr",
          "output_type": "stream",
          "text": [
            "100%|██████████| 8/8 [01:11<00:00,  8.96s/it]\n"
          ]
        },
        {
          "metadata": {
            "tags": null
          },
          "name": "stdout",
          "output_type": "stream",
          "text": [
            "training error:\n",
            "0.03698558965434578\n",
            "Model Done !\n"
          ]
        },
        {
          "metadata": {
            "tags": null
          },
          "name": "stderr",
          "output_type": "stream",
          "text": [
            "Progress: 100%|██████████| 1764/1764 [00:07<00:00, 247.52it/s]\n",
            "[I 2023-09-04 09:31:50,382] Trial 71 finished with value: 0.06891104241130132 and parameters: {'n_reservoir': 725, 'sparsity': 0.2, 'spectral_radius': 10.0, 'noise': 0.001, 'look_back': 28}. Best is trial 62 with value: 0.05115138843061191.\n",
            "  0%|          | 0/8 [00:00<?, ?it/s]"
          ]
        },
        {
          "metadata": {
            "tags": null
          },
          "name": "stdout",
          "output_type": "stream",
          "text": [
            "harvesting states...\n",
            "fitting...\n"
          ]
        },
        {
          "metadata": {
            "tags": null
          },
          "name": "stderr",
          "output_type": "stream",
          "text": [
            "\r 12%|█▎        | 1/8 [00:09<01:08,  9.82s/it]"
          ]
        },
        {
          "metadata": {
            "tags": null
          },
          "name": "stdout",
          "output_type": "stream",
          "text": [
            "training error:\n",
            "0.015924005744697545\n",
            "Model Done !\n",
            "harvesting states...\n",
            "fitting...\n"
          ]
        },
        {
          "metadata": {
            "tags": null
          },
          "name": "stderr",
          "output_type": "stream",
          "text": [
            "\r 25%|██▌       | 2/8 [00:18<00:54,  9.14s/it]"
          ]
        },
        {
          "metadata": {
            "tags": null
          },
          "name": "stdout",
          "output_type": "stream",
          "text": [
            "training error:\n",
            "0.021977222688182394\n",
            "Model Done !\n",
            "harvesting states...\n",
            "fitting...\n"
          ]
        },
        {
          "metadata": {
            "tags": null
          },
          "name": "stderr",
          "output_type": "stream",
          "text": [
            "\r 38%|███▊      | 3/8 [00:28<00:47,  9.57s/it]"
          ]
        },
        {
          "metadata": {
            "tags": null
          },
          "name": "stdout",
          "output_type": "stream",
          "text": [
            "training error:\n",
            "0.02568226572827706\n",
            "Model Done !\n",
            "harvesting states...\n",
            "fitting...\n"
          ]
        },
        {
          "metadata": {
            "tags": null
          },
          "name": "stderr",
          "output_type": "stream",
          "text": [
            "\r 50%|█████     | 4/8 [00:38<00:38,  9.68s/it]"
          ]
        },
        {
          "metadata": {
            "tags": null
          },
          "name": "stdout",
          "output_type": "stream",
          "text": [
            "training error:\n",
            "0.028445835812235858\n",
            "Model Done !\n",
            "harvesting states...\n",
            "fitting...\n"
          ]
        },
        {
          "metadata": {
            "tags": null
          },
          "name": "stderr",
          "output_type": "stream",
          "text": [
            "\r 62%|██████▎   | 5/8 [00:48<00:29,  9.77s/it]"
          ]
        },
        {
          "metadata": {
            "tags": null
          },
          "name": "stdout",
          "output_type": "stream",
          "text": [
            "training error:\n",
            "0.03062158525340339\n",
            "Model Done !\n",
            "harvesting states...\n",
            "fitting...\n"
          ]
        },
        {
          "metadata": {
            "tags": null
          },
          "name": "stderr",
          "output_type": "stream",
          "text": [
            "\r 75%|███████▌  | 6/8 [00:57<00:19,  9.68s/it]"
          ]
        },
        {
          "metadata": {
            "tags": null
          },
          "name": "stdout",
          "output_type": "stream",
          "text": [
            "training error:\n",
            "0.032255988334234605\n",
            "Model Done !\n",
            "harvesting states...\n",
            "fitting...\n"
          ]
        },
        {
          "metadata": {
            "tags": null
          },
          "name": "stderr",
          "output_type": "stream",
          "text": [
            "\r 88%|████████▊ | 7/8 [01:07<00:09,  9.81s/it]"
          ]
        },
        {
          "metadata": {
            "tags": null
          },
          "name": "stdout",
          "output_type": "stream",
          "text": [
            "training error:\n",
            "0.033510947523678856\n",
            "Model Done !\n",
            "harvesting states...\n",
            "fitting...\n"
          ]
        },
        {
          "metadata": {
            "tags": null
          },
          "name": "stderr",
          "output_type": "stream",
          "text": [
            "100%|██████████| 8/8 [01:18<00:00,  9.81s/it]\n"
          ]
        },
        {
          "metadata": {
            "tags": null
          },
          "name": "stdout",
          "output_type": "stream",
          "text": [
            "training error:\n",
            "0.03419476481838757\n",
            "Model Done !\n"
          ]
        },
        {
          "metadata": {
            "tags": null
          },
          "name": "stderr",
          "output_type": "stream",
          "text": [
            "Progress: 100%|██████████| 1734/1734 [00:07<00:00, 220.15it/s]\n",
            "[I 2023-09-04 09:33:16,902] Trial 72 finished with value: 0.05866048149691311 and parameters: {'n_reservoir': 754, 'sparsity': 0.2, 'spectral_radius': 10.0, 'noise': 0.001, 'look_back': 58}. Best is trial 62 with value: 0.05115138843061191.\n",
            "  0%|          | 0/8 [00:00<?, ?it/s]"
          ]
        },
        {
          "metadata": {
            "tags": null
          },
          "name": "stdout",
          "output_type": "stream",
          "text": [
            "harvesting states...\n",
            "fitting...\n"
          ]
        },
        {
          "metadata": {
            "tags": null
          },
          "name": "stderr",
          "output_type": "stream",
          "text": [
            "\r 12%|█▎        | 1/8 [00:13<01:31, 13.07s/it]"
          ]
        },
        {
          "metadata": {
            "tags": null
          },
          "name": "stdout",
          "output_type": "stream",
          "text": [
            "training error:\n",
            "0.016956722708047118\n",
            "Model Done !\n",
            "harvesting states...\n",
            "fitting...\n"
          ]
        },
        {
          "metadata": {
            "tags": null
          },
          "name": "stderr",
          "output_type": "stream",
          "text": [
            "\r 25%|██▌       | 2/8 [00:26<01:18, 13.08s/it]"
          ]
        },
        {
          "metadata": {
            "tags": null
          },
          "name": "stdout",
          "output_type": "stream",
          "text": [
            "training error:\n",
            "0.023161896473298648\n",
            "Model Done !\n",
            "harvesting states...\n",
            "fitting...\n"
          ]
        },
        {
          "metadata": {
            "tags": null
          },
          "name": "stderr",
          "output_type": "stream",
          "text": [
            "\r 38%|███▊      | 3/8 [00:38<01:04, 12.86s/it]"
          ]
        },
        {
          "metadata": {
            "tags": null
          },
          "name": "stdout",
          "output_type": "stream",
          "text": [
            "training error:\n",
            "0.027262317999802412\n",
            "Model Done !\n",
            "harvesting states...\n",
            "fitting...\n"
          ]
        },
        {
          "metadata": {
            "tags": null
          },
          "name": "stderr",
          "output_type": "stream",
          "text": [
            "\r 50%|█████     | 4/8 [00:51<00:50, 12.67s/it]"
          ]
        },
        {
          "metadata": {
            "tags": null
          },
          "name": "stdout",
          "output_type": "stream",
          "text": [
            "training error:\n",
            "0.029839426558209037\n",
            "Model Done !\n",
            "harvesting states...\n",
            "fitting...\n"
          ]
        },
        {
          "metadata": {
            "tags": null
          },
          "name": "stderr",
          "output_type": "stream",
          "text": [
            "\r 62%|██████▎   | 5/8 [01:03<00:38, 12.68s/it]"
          ]
        },
        {
          "metadata": {
            "tags": null
          },
          "name": "stdout",
          "output_type": "stream",
          "text": [
            "training error:\n",
            "0.03146494945363153\n",
            "Model Done !\n",
            "harvesting states...\n",
            "fitting...\n"
          ]
        },
        {
          "metadata": {
            "tags": null
          },
          "name": "stderr",
          "output_type": "stream",
          "text": [
            "\r 75%|███████▌  | 6/8 [01:16<00:25, 12.59s/it]"
          ]
        },
        {
          "metadata": {
            "tags": null
          },
          "name": "stdout",
          "output_type": "stream",
          "text": [
            "training error:\n",
            "0.03312222691648987\n",
            "Model Done !\n",
            "harvesting states...\n",
            "fitting...\n"
          ]
        },
        {
          "metadata": {
            "tags": null
          },
          "name": "stderr",
          "output_type": "stream",
          "text": [
            "\r 88%|████████▊ | 7/8 [01:28<00:12, 12.48s/it]"
          ]
        },
        {
          "metadata": {
            "tags": null
          },
          "name": "stdout",
          "output_type": "stream",
          "text": [
            "training error:\n",
            "0.03439256307806754\n",
            "Model Done !\n",
            "harvesting states...\n",
            "fitting...\n"
          ]
        },
        {
          "metadata": {
            "tags": null
          },
          "name": "stderr",
          "output_type": "stream",
          "text": [
            "100%|██████████| 8/8 [01:40<00:00, 12.62s/it]\n"
          ]
        },
        {
          "metadata": {
            "tags": null
          },
          "name": "stdout",
          "output_type": "stream",
          "text": [
            "training error:\n",
            "0.034638693293739975\n",
            "Model Done !\n"
          ]
        },
        {
          "metadata": {
            "tags": null
          },
          "name": "stderr",
          "output_type": "stream",
          "text": [
            "Progress: 100%|██████████| 1768/1768 [00:10<00:00, 170.53it/s]\n",
            "[I 2023-09-04 09:35:08,505] Trial 73 finished with value: 0.054183021499975156 and parameters: {'n_reservoir': 910, 'sparsity': 0.2, 'spectral_radius': 10.0, 'noise': 0.001, 'look_back': 24}. Best is trial 62 with value: 0.05115138843061191.\n",
            "  0%|          | 0/8 [00:00<?, ?it/s]"
          ]
        },
        {
          "metadata": {
            "tags": null
          },
          "name": "stdout",
          "output_type": "stream",
          "text": [
            "harvesting states...\n",
            "fitting...\n"
          ]
        },
        {
          "metadata": {
            "tags": null
          },
          "name": "stderr",
          "output_type": "stream",
          "text": [
            "\r 12%|█▎        | 1/8 [00:12<01:25, 12.21s/it]"
          ]
        },
        {
          "metadata": {
            "tags": null
          },
          "name": "stdout",
          "output_type": "stream",
          "text": [
            "training error:\n",
            "0.01697167072628651\n",
            "Model Done !\n",
            "harvesting states...\n",
            "fitting...\n"
          ]
        },
        {
          "metadata": {
            "tags": null
          },
          "name": "stderr",
          "output_type": "stream",
          "text": [
            "\r 25%|██▌       | 2/8 [00:24<01:14, 12.34s/it]"
          ]
        },
        {
          "metadata": {
            "tags": null
          },
          "name": "stdout",
          "output_type": "stream",
          "text": [
            "training error:\n",
            "0.023254847141516214\n",
            "Model Done !\n",
            "harvesting states...\n",
            "fitting...\n"
          ]
        },
        {
          "metadata": {
            "tags": null
          },
          "name": "stderr",
          "output_type": "stream",
          "text": [
            "\r 38%|███▊      | 3/8 [00:37<01:02, 12.46s/it]"
          ]
        },
        {
          "metadata": {
            "tags": null
          },
          "name": "stdout",
          "output_type": "stream",
          "text": [
            "training error:\n",
            "0.02699633282396897\n",
            "Model Done !\n",
            "harvesting states...\n",
            "fitting...\n"
          ]
        },
        {
          "metadata": {
            "tags": null
          },
          "name": "stderr",
          "output_type": "stream",
          "text": [
            "\r 50%|█████     | 4/8 [00:50<00:50, 12.59s/it]"
          ]
        },
        {
          "metadata": {
            "tags": null
          },
          "name": "stdout",
          "output_type": "stream",
          "text": [
            "training error:\n",
            "0.029594005124570437\n",
            "Model Done !\n",
            "harvesting states...\n",
            "fitting...\n"
          ]
        },
        {
          "metadata": {
            "tags": null
          },
          "name": "stderr",
          "output_type": "stream",
          "text": [
            "\r 62%|██████▎   | 5/8 [01:02<00:38, 12.67s/it]"
          ]
        },
        {
          "metadata": {
            "tags": null
          },
          "name": "stdout",
          "output_type": "stream",
          "text": [
            "training error:\n",
            "0.03145341239038122\n",
            "Model Done !\n",
            "harvesting states...\n",
            "fitting...\n"
          ]
        },
        {
          "metadata": {
            "tags": null
          },
          "name": "stderr",
          "output_type": "stream",
          "text": [
            "\r 75%|███████▌  | 6/8 [01:15<00:25, 12.74s/it]"
          ]
        },
        {
          "metadata": {
            "tags": null
          },
          "name": "stdout",
          "output_type": "stream",
          "text": [
            "training error:\n",
            "0.03236722493299705\n",
            "Model Done !\n",
            "harvesting states...\n",
            "fitting...\n"
          ]
        },
        {
          "metadata": {
            "tags": null
          },
          "name": "stderr",
          "output_type": "stream",
          "text": [
            "\r 88%|████████▊ | 7/8 [01:28<00:12, 12.64s/it]"
          ]
        },
        {
          "metadata": {
            "tags": null
          },
          "name": "stdout",
          "output_type": "stream",
          "text": [
            "training error:\n",
            "0.03343156168198899\n",
            "Model Done !\n",
            "harvesting states...\n",
            "fitting...\n"
          ]
        },
        {
          "metadata": {
            "tags": null
          },
          "name": "stderr",
          "output_type": "stream",
          "text": [
            "100%|██████████| 8/8 [01:41<00:00, 12.64s/it]\n"
          ]
        },
        {
          "metadata": {
            "tags": null
          },
          "name": "stdout",
          "output_type": "stream",
          "text": [
            "training error:\n",
            "0.03443415722493168\n",
            "Model Done !\n"
          ]
        },
        {
          "metadata": {
            "tags": null
          },
          "name": "stderr",
          "output_type": "stream",
          "text": [
            "Progress: 100%|██████████| 1769/1769 [00:10<00:00, 160.83it/s]\n",
            "[I 2023-09-04 09:37:00,883] Trial 74 finished with value: 0.05344246718379067 and parameters: {'n_reservoir': 902, 'sparsity': 0.2, 'spectral_radius': 10.0, 'noise': 0.001, 'look_back': 23}. Best is trial 62 with value: 0.05115138843061191.\n",
            "  0%|          | 0/8 [00:00<?, ?it/s]"
          ]
        },
        {
          "metadata": {
            "tags": null
          },
          "name": "stdout",
          "output_type": "stream",
          "text": [
            "harvesting states...\n",
            "fitting...\n"
          ]
        },
        {
          "metadata": {
            "tags": null
          },
          "name": "stderr",
          "output_type": "stream",
          "text": [
            "\r 12%|█▎        | 1/8 [00:12<01:26, 12.35s/it]"
          ]
        },
        {
          "metadata": {
            "tags": null
          },
          "name": "stdout",
          "output_type": "stream",
          "text": [
            "training error:\n",
            "0.020047454513258463\n",
            "Model Done !\n",
            "harvesting states...\n",
            "fitting...\n"
          ]
        },
        {
          "metadata": {
            "tags": null
          },
          "name": "stderr",
          "output_type": "stream",
          "text": [
            "\r 25%|██▌       | 2/8 [00:25<01:16, 12.70s/it]"
          ]
        },
        {
          "metadata": {
            "tags": null
          },
          "name": "stdout",
          "output_type": "stream",
          "text": [
            "training error:\n",
            "0.021614654883591905\n",
            "Model Done !\n",
            "harvesting states...\n",
            "fitting...\n"
          ]
        },
        {
          "metadata": {
            "tags": null
          },
          "name": "stderr",
          "output_type": "stream",
          "text": [
            "\r 38%|███▊      | 3/8 [00:38<01:04, 12.81s/it]"
          ]
        },
        {
          "metadata": {
            "tags": null
          },
          "name": "stdout",
          "output_type": "stream",
          "text": [
            "training error:\n",
            "0.01596622671027412\n",
            "Model Done !\n",
            "harvesting states...\n",
            "fitting...\n"
          ]
        },
        {
          "metadata": {
            "tags": null
          },
          "name": "stderr",
          "output_type": "stream",
          "text": [
            "\r 50%|█████     | 4/8 [00:50<00:50, 12.74s/it]"
          ]
        },
        {
          "metadata": {
            "tags": null
          },
          "name": "stdout",
          "output_type": "stream",
          "text": [
            "training error:\n",
            "0.01663468649494114\n",
            "Model Done !\n",
            "harvesting states...\n",
            "fitting...\n"
          ]
        },
        {
          "metadata": {
            "tags": null
          },
          "name": "stderr",
          "output_type": "stream",
          "text": [
            "\r 62%|██████▎   | 5/8 [01:03<00:38, 12.75s/it]"
          ]
        },
        {
          "metadata": {
            "tags": null
          },
          "name": "stdout",
          "output_type": "stream",
          "text": [
            "training error:\n",
            "0.015980750946055538\n",
            "Model Done !\n",
            "harvesting states...\n",
            "fitting...\n"
          ]
        },
        {
          "metadata": {
            "tags": null
          },
          "name": "stderr",
          "output_type": "stream",
          "text": [
            "\r 75%|███████▌  | 6/8 [01:16<00:25, 12.84s/it]"
          ]
        },
        {
          "metadata": {
            "tags": null
          },
          "name": "stdout",
          "output_type": "stream",
          "text": [
            "training error:\n",
            "0.01603039603945369\n",
            "Model Done !\n",
            "harvesting states...\n",
            "fitting...\n"
          ]
        },
        {
          "metadata": {
            "tags": null
          },
          "name": "stderr",
          "output_type": "stream",
          "text": [
            "\r 88%|████████▊ | 7/8 [01:29<00:12, 12.85s/it]"
          ]
        },
        {
          "metadata": {
            "tags": null
          },
          "name": "stdout",
          "output_type": "stream",
          "text": [
            "training error:\n",
            "0.0162516542616621\n",
            "Model Done !\n",
            "harvesting states...\n",
            "fitting...\n"
          ]
        },
        {
          "metadata": {
            "tags": null
          },
          "name": "stderr",
          "output_type": "stream",
          "text": [
            "100%|██████████| 8/8 [01:42<00:00, 12.80s/it]\n"
          ]
        },
        {
          "metadata": {
            "tags": null
          },
          "name": "stdout",
          "output_type": "stream",
          "text": [
            "training error:\n",
            "0.01599473197109367\n",
            "Model Done !\n"
          ]
        },
        {
          "metadata": {
            "tags": null
          },
          "name": "stderr",
          "output_type": "stream",
          "text": [
            "Progress: 100%|██████████| 1754/1754 [00:11<00:00, 157.91it/s]\n",
            "[I 2023-09-04 09:38:54,587] Trial 75 finished with value: 0.1015410381127606 and parameters: {'n_reservoir': 906, 'sparsity': 0.2, 'spectral_radius': 1.25, 'noise': 0.001, 'look_back': 38}. Best is trial 62 with value: 0.05115138843061191.\n",
            "  0%|          | 0/8 [00:00<?, ?it/s]"
          ]
        },
        {
          "metadata": {
            "tags": null
          },
          "name": "stdout",
          "output_type": "stream",
          "text": [
            "harvesting states...\n",
            "fitting...\n"
          ]
        },
        {
          "metadata": {
            "tags": null
          },
          "name": "stderr",
          "output_type": "stream",
          "text": [
            "\r 12%|█▎        | 1/8 [00:14<01:39, 14.20s/it]"
          ]
        },
        {
          "metadata": {
            "tags": null
          },
          "name": "stdout",
          "output_type": "stream",
          "text": [
            "training error:\n",
            "0.015576248877980054\n",
            "Model Done !\n",
            "harvesting states...\n",
            "fitting...\n"
          ]
        },
        {
          "metadata": {
            "tags": null
          },
          "name": "stderr",
          "output_type": "stream",
          "text": [
            "\r 25%|██▌       | 2/8 [00:29<01:28, 14.72s/it]"
          ]
        },
        {
          "metadata": {
            "tags": null
          },
          "name": "stdout",
          "output_type": "stream",
          "text": [
            "training error:\n",
            "0.021281965339708834\n",
            "Model Done !\n",
            "harvesting states...\n",
            "fitting...\n"
          ]
        },
        {
          "metadata": {
            "tags": null
          },
          "name": "stderr",
          "output_type": "stream",
          "text": [
            "\r 38%|███▊      | 3/8 [00:43<01:13, 14.70s/it]"
          ]
        },
        {
          "metadata": {
            "tags": null
          },
          "name": "stdout",
          "output_type": "stream",
          "text": [
            "training error:\n",
            "0.025092113561138447\n",
            "Model Done !\n",
            "harvesting states...\n",
            "fitting...\n"
          ]
        },
        {
          "metadata": {
            "tags": null
          },
          "name": "stderr",
          "output_type": "stream",
          "text": [
            "\r 50%|█████     | 4/8 [01:00<01:01, 15.35s/it]"
          ]
        },
        {
          "metadata": {
            "tags": null
          },
          "name": "stdout",
          "output_type": "stream",
          "text": [
            "training error:\n",
            "0.027648252098016034\n",
            "Model Done !\n",
            "harvesting states...\n",
            "fitting...\n"
          ]
        },
        {
          "metadata": {
            "tags": null
          },
          "name": "stderr",
          "output_type": "stream",
          "text": [
            "\r 62%|██████▎   | 5/8 [01:14<00:45, 15.03s/it]"
          ]
        },
        {
          "metadata": {
            "tags": null
          },
          "name": "stdout",
          "output_type": "stream",
          "text": [
            "training error:\n",
            "0.029081031892009307\n",
            "Model Done !\n",
            "harvesting states...\n",
            "fitting...\n"
          ]
        },
        {
          "metadata": {
            "tags": null
          },
          "name": "stderr",
          "output_type": "stream",
          "text": [
            "\r 75%|███████▌  | 6/8 [01:29<00:29, 14.77s/it]"
          ]
        },
        {
          "metadata": {
            "tags": null
          },
          "name": "stdout",
          "output_type": "stream",
          "text": [
            "training error:\n",
            "0.03075843890119285\n",
            "Model Done !\n",
            "harvesting states...\n",
            "fitting...\n"
          ]
        },
        {
          "metadata": {
            "tags": null
          },
          "name": "stderr",
          "output_type": "stream",
          "text": [
            "\r 88%|████████▊ | 7/8 [01:43<00:14, 14.71s/it]"
          ]
        },
        {
          "metadata": {
            "tags": null
          },
          "name": "stdout",
          "output_type": "stream",
          "text": [
            "training error:\n",
            "0.03142295924098843\n",
            "Model Done !\n",
            "harvesting states...\n",
            "fitting...\n"
          ]
        },
        {
          "metadata": {
            "tags": null
          },
          "name": "stderr",
          "output_type": "stream",
          "text": [
            "100%|██████████| 8/8 [01:58<00:00, 14.81s/it]\n"
          ]
        },
        {
          "metadata": {
            "tags": null
          },
          "name": "stdout",
          "output_type": "stream",
          "text": [
            "training error:\n",
            "0.03234022241288111\n",
            "Model Done !\n"
          ]
        },
        {
          "metadata": {
            "tags": null
          },
          "name": "stderr",
          "output_type": "stream",
          "text": [
            "Progress: 100%|██████████| 1712/1712 [00:13<00:00, 128.95it/s]\n",
            "[I 2023-09-04 09:41:06,516] Trial 76 finished with value: 0.06186568421574545 and parameters: {'n_reservoir': 962, 'sparsity': 0.2, 'spectral_radius': 10.0, 'noise': 0.001, 'look_back': 80}. Best is trial 62 with value: 0.05115138843061191.\n",
            "  0%|          | 0/8 [00:00<?, ?it/s]"
          ]
        },
        {
          "metadata": {
            "tags": null
          },
          "name": "stdout",
          "output_type": "stream",
          "text": [
            "harvesting states...\n",
            "fitting...\n"
          ]
        },
        {
          "metadata": {
            "tags": null
          },
          "name": "stderr",
          "output_type": "stream",
          "text": [
            "\r 12%|█▎        | 1/8 [00:12<01:29, 12.78s/it]"
          ]
        },
        {
          "metadata": {
            "tags": null
          },
          "name": "stdout",
          "output_type": "stream",
          "text": [
            "training error:\n",
            "0.018759671302770543\n",
            "Model Done !\n",
            "harvesting states...\n",
            "fitting...\n"
          ]
        },
        {
          "metadata": {
            "tags": null
          },
          "name": "stderr",
          "output_type": "stream",
          "text": [
            "\r 25%|██▌       | 2/8 [00:25<01:15, 12.64s/it]"
          ]
        },
        {
          "metadata": {
            "tags": null
          },
          "name": "stdout",
          "output_type": "stream",
          "text": [
            "training error:\n",
            "0.01898215933641061\n",
            "Model Done !\n",
            "harvesting states...\n",
            "fitting...\n"
          ]
        },
        {
          "metadata": {
            "tags": null
          },
          "name": "stderr",
          "output_type": "stream",
          "text": [
            "\r 38%|███▊      | 3/8 [00:37<01:03, 12.61s/it]"
          ]
        },
        {
          "metadata": {
            "tags": null
          },
          "name": "stdout",
          "output_type": "stream",
          "text": [
            "training error:\n",
            "0.018344579002275756\n",
            "Model Done !\n",
            "harvesting states...\n",
            "fitting...\n"
          ]
        },
        {
          "metadata": {
            "tags": null
          },
          "name": "stderr",
          "output_type": "stream",
          "text": [
            "\r 50%|█████     | 4/8 [00:49<00:48, 12.04s/it]"
          ]
        },
        {
          "metadata": {
            "tags": null
          },
          "name": "stdout",
          "output_type": "stream",
          "text": [
            "training error:\n",
            "0.016972615531366465\n",
            "Model Done !\n",
            "harvesting states...\n",
            "fitting...\n"
          ]
        },
        {
          "metadata": {
            "tags": null
          },
          "name": "stderr",
          "output_type": "stream",
          "text": [
            "\r 62%|██████▎   | 5/8 [01:00<00:35, 11.67s/it]"
          ]
        },
        {
          "metadata": {
            "tags": null
          },
          "name": "stdout",
          "output_type": "stream",
          "text": [
            "training error:\n",
            "0.016547804841650117\n",
            "Model Done !\n",
            "harvesting states...\n",
            "fitting...\n"
          ]
        },
        {
          "metadata": {
            "tags": null
          },
          "name": "stderr",
          "output_type": "stream",
          "text": [
            "\r 75%|███████▌  | 6/8 [01:11<00:23, 11.67s/it]"
          ]
        },
        {
          "metadata": {
            "tags": null
          },
          "name": "stdout",
          "output_type": "stream",
          "text": [
            "training error:\n",
            "0.017184765568922695\n",
            "Model Done !\n",
            "harvesting states...\n",
            "fitting...\n"
          ]
        },
        {
          "metadata": {
            "tags": null
          },
          "name": "stderr",
          "output_type": "stream",
          "text": [
            "\r 88%|████████▊ | 7/8 [01:23<00:11, 11.69s/it]"
          ]
        },
        {
          "metadata": {
            "tags": null
          },
          "name": "stdout",
          "output_type": "stream",
          "text": [
            "training error:\n",
            "0.016309112440075442\n",
            "Model Done !\n",
            "harvesting states...\n",
            "fitting...\n"
          ]
        },
        {
          "metadata": {
            "tags": null
          },
          "name": "stderr",
          "output_type": "stream",
          "text": [
            "100%|██████████| 8/8 [01:35<00:00, 11.99s/it]\n"
          ]
        },
        {
          "metadata": {
            "tags": null
          },
          "name": "stdout",
          "output_type": "stream",
          "text": [
            "training error:\n",
            "0.01829256133123321\n",
            "Model Done !\n"
          ]
        },
        {
          "metadata": {
            "tags": null
          },
          "name": "stderr",
          "output_type": "stream",
          "text": [
            "Progress: 100%|██████████| 1769/1769 [00:11<00:00, 155.22it/s]\n",
            "[I 2023-09-04 09:42:53,999] Trial 77 finished with value: 0.190105449683329 and parameters: {'n_reservoir': 918, 'sparsity': 0.01, 'spectral_radius': 0.9, 'noise': 0.001, 'look_back': 23}. Best is trial 62 with value: 0.05115138843061191.\n",
            "  0%|          | 0/8 [00:00<?, ?it/s]"
          ]
        },
        {
          "metadata": {
            "tags": null
          },
          "name": "stdout",
          "output_type": "stream",
          "text": [
            "harvesting states...\n"
          ]
        },
        {
          "metadata": {
            "tags": null
          },
          "name": "stderr",
          "output_type": "stream",
          "text": [
            "\r 12%|█▎        | 1/8 [00:00<00:03,  2.13it/s]"
          ]
        },
        {
          "metadata": {
            "tags": null
          },
          "name": "stdout",
          "output_type": "stream",
          "text": [
            "fitting...\n",
            "training error:\n",
            "0.016522815034339076\n",
            "Model Done !\n",
            "harvesting states...\n"
          ]
        },
        {
          "metadata": {
            "tags": null
          },
          "name": "stderr",
          "output_type": "stream",
          "text": [
            "\r 25%|██▌       | 2/8 [00:00<00:02,  2.07it/s]"
          ]
        },
        {
          "metadata": {
            "tags": null
          },
          "name": "stdout",
          "output_type": "stream",
          "text": [
            "fitting...\n",
            "training error:\n",
            "0.023298878829922227\n",
            "Model Done !\n",
            "harvesting states...\n"
          ]
        },
        {
          "metadata": {
            "tags": null
          },
          "name": "stderr",
          "output_type": "stream",
          "text": [
            "\r 38%|███▊      | 3/8 [00:01<00:02,  2.09it/s]"
          ]
        },
        {
          "metadata": {
            "tags": null
          },
          "name": "stdout",
          "output_type": "stream",
          "text": [
            "fitting...\n",
            "training error:\n",
            "0.028427596232166348\n",
            "Model Done !\n",
            "harvesting states...\n"
          ]
        },
        {
          "metadata": {
            "tags": null
          },
          "name": "stderr",
          "output_type": "stream",
          "text": [
            "\r 50%|█████     | 4/8 [00:01<00:01,  2.04it/s]"
          ]
        },
        {
          "metadata": {
            "tags": null
          },
          "name": "stdout",
          "output_type": "stream",
          "text": [
            "fitting...\n",
            "training error:\n",
            "0.03283492901172425\n",
            "Model Done !\n",
            "harvesting states...\n"
          ]
        },
        {
          "metadata": {
            "tags": null
          },
          "name": "stderr",
          "output_type": "stream",
          "text": [
            "\r 62%|██████▎   | 5/8 [00:02<00:01,  2.01it/s]"
          ]
        },
        {
          "metadata": {
            "tags": null
          },
          "name": "stdout",
          "output_type": "stream",
          "text": [
            "fitting...\n",
            "training error:\n",
            "0.03660966001441941\n",
            "Model Done !\n",
            "harvesting states...\n"
          ]
        },
        {
          "metadata": {
            "tags": null
          },
          "name": "stderr",
          "output_type": "stream",
          "text": [
            "\r 75%|███████▌  | 6/8 [00:02<00:01,  1.95it/s]"
          ]
        },
        {
          "metadata": {
            "tags": null
          },
          "name": "stdout",
          "output_type": "stream",
          "text": [
            "fitting...\n",
            "training error:\n",
            "0.04003654455936512\n",
            "Model Done !\n",
            "harvesting states...\n"
          ]
        },
        {
          "metadata": {
            "tags": null
          },
          "name": "stderr",
          "output_type": "stream",
          "text": [
            "\r 88%|████████▊ | 7/8 [00:03<00:00,  1.97it/s]"
          ]
        },
        {
          "metadata": {
            "tags": null
          },
          "name": "stdout",
          "output_type": "stream",
          "text": [
            "fitting...\n",
            "training error:\n",
            "0.04304870303975683\n",
            "Model Done !\n",
            "harvesting states...\n"
          ]
        },
        {
          "metadata": {
            "tags": null
          },
          "name": "stderr",
          "output_type": "stream",
          "text": [
            "100%|██████████| 8/8 [00:04<00:00,  1.99it/s]\n"
          ]
        },
        {
          "metadata": {
            "tags": null
          },
          "name": "stdout",
          "output_type": "stream",
          "text": [
            "fitting...\n",
            "training error:\n",
            "0.0459191865444981\n",
            "Model Done !\n"
          ]
        },
        {
          "metadata": {
            "tags": null
          },
          "name": "stderr",
          "output_type": "stream",
          "text": [
            "Progress: 100%|██████████| 1748/1748 [00:00<00:00, 1939.93it/s]\n",
            "[I 2023-09-04 09:42:59,051] Trial 78 finished with value: 0.06331027187914649 and parameters: {'n_reservoir': 49, 'sparsity': 0.2, 'spectral_radius': 10.0, 'noise': 0.001, 'look_back': 44}. Best is trial 62 with value: 0.05115138843061191.\n",
            "  0%|          | 0/8 [00:00<?, ?it/s]"
          ]
        },
        {
          "metadata": {
            "tags": null
          },
          "name": "stdout",
          "output_type": "stream",
          "text": [
            "harvesting states...\n",
            "fitting...\n"
          ]
        },
        {
          "metadata": {
            "tags": null
          },
          "name": "stderr",
          "output_type": "stream",
          "text": [
            "\r 12%|█▎        | 1/8 [00:11<01:17, 11.04s/it]"
          ]
        },
        {
          "metadata": {
            "tags": null
          },
          "name": "stdout",
          "output_type": "stream",
          "text": [
            "training error:\n",
            "0.015621281043162578\n",
            "Model Done !\n",
            "harvesting states...\n",
            "fitting...\n"
          ]
        },
        {
          "metadata": {
            "tags": null
          },
          "name": "stderr",
          "output_type": "stream",
          "text": [
            "\r 25%|██▌       | 2/8 [00:22<01:08, 11.39s/it]"
          ]
        },
        {
          "metadata": {
            "tags": null
          },
          "name": "stdout",
          "output_type": "stream",
          "text": [
            "training error:\n",
            "0.015631080320001347\n",
            "Model Done !\n",
            "harvesting states...\n",
            "fitting...\n"
          ]
        },
        {
          "metadata": {
            "tags": null
          },
          "name": "stderr",
          "output_type": "stream",
          "text": [
            "\r 38%|███▊      | 3/8 [00:32<00:54, 10.89s/it]"
          ]
        },
        {
          "metadata": {
            "tags": null
          },
          "name": "stdout",
          "output_type": "stream",
          "text": [
            "training error:\n",
            "0.01564957989121649\n",
            "Model Done !\n",
            "harvesting states...\n",
            "fitting...\n"
          ]
        },
        {
          "metadata": {
            "tags": null
          },
          "name": "stderr",
          "output_type": "stream",
          "text": [
            "\r 50%|█████     | 4/8 [00:43<00:43, 10.93s/it]"
          ]
        },
        {
          "metadata": {
            "tags": null
          },
          "name": "stdout",
          "output_type": "stream",
          "text": [
            "training error:\n",
            "0.015712163143769494\n",
            "Model Done !\n",
            "harvesting states...\n",
            "fitting...\n"
          ]
        },
        {
          "metadata": {
            "tags": null
          },
          "name": "stderr",
          "output_type": "stream",
          "text": [
            "\r 62%|██████▎   | 5/8 [00:55<00:33, 11.16s/it]"
          ]
        },
        {
          "metadata": {
            "tags": null
          },
          "name": "stdout",
          "output_type": "stream",
          "text": [
            "training error:\n",
            "0.01564289009068316\n",
            "Model Done !\n",
            "harvesting states...\n",
            "fitting...\n"
          ]
        },
        {
          "metadata": {
            "tags": null
          },
          "name": "stderr",
          "output_type": "stream",
          "text": [
            "\r 75%|███████▌  | 6/8 [01:07<00:22, 11.28s/it]"
          ]
        },
        {
          "metadata": {
            "tags": null
          },
          "name": "stdout",
          "output_type": "stream",
          "text": [
            "training error:\n",
            "0.0156545024584787\n",
            "Model Done !\n",
            "harvesting states...\n",
            "fitting...\n"
          ]
        },
        {
          "metadata": {
            "tags": null
          },
          "name": "stderr",
          "output_type": "stream",
          "text": [
            "\r 88%|████████▊ | 7/8 [01:18<00:11, 11.40s/it]"
          ]
        },
        {
          "metadata": {
            "tags": null
          },
          "name": "stdout",
          "output_type": "stream",
          "text": [
            "training error:\n",
            "0.015631755752908157\n",
            "Model Done !\n",
            "harvesting states...\n",
            "fitting...\n"
          ]
        },
        {
          "metadata": {
            "tags": null
          },
          "name": "stderr",
          "output_type": "stream",
          "text": [
            "100%|██████████| 8/8 [01:30<00:00, 11.28s/it]\n"
          ]
        },
        {
          "metadata": {
            "tags": null
          },
          "name": "stdout",
          "output_type": "stream",
          "text": [
            "training error:\n",
            "0.015644918425329443\n",
            "Model Done !\n"
          ]
        },
        {
          "metadata": {
            "tags": null
          },
          "name": "stderr",
          "output_type": "stream",
          "text": [
            "Progress: 100%|██████████| 1721/1721 [00:09<00:00, 184.76it/s]\n",
            "[I 2023-09-04 09:44:38,784] Trial 79 finished with value: 0.07369867816185423 and parameters: {'n_reservoir': 795, 'sparsity': 0.5, 'spectral_radius': 1, 'noise': 0.001, 'look_back': 71}. Best is trial 62 with value: 0.05115138843061191.\n",
            "  0%|          | 0/8 [00:00<?, ?it/s]"
          ]
        },
        {
          "metadata": {
            "tags": null
          },
          "name": "stdout",
          "output_type": "stream",
          "text": [
            "harvesting states...\n",
            "fitting...\n"
          ]
        },
        {
          "metadata": {
            "tags": null
          },
          "name": "stderr",
          "output_type": "stream",
          "text": [
            "\r 12%|█▎        | 1/8 [00:11<01:18, 11.15s/it]"
          ]
        },
        {
          "metadata": {
            "tags": null
          },
          "name": "stdout",
          "output_type": "stream",
          "text": [
            "training error:\n",
            "0.01782450124958928\n",
            "Model Done !\n",
            "harvesting states...\n",
            "fitting...\n"
          ]
        },
        {
          "metadata": {
            "tags": null
          },
          "name": "stderr",
          "output_type": "stream",
          "text": [
            "\r 25%|██▌       | 2/8 [00:22<01:08, 11.34s/it]"
          ]
        },
        {
          "metadata": {
            "tags": null
          },
          "name": "stdout",
          "output_type": "stream",
          "text": [
            "training error:\n",
            "0.017775956060670492\n",
            "Model Done !\n",
            "harvesting states...\n",
            "fitting...\n"
          ]
        },
        {
          "metadata": {
            "tags": null
          },
          "name": "stderr",
          "output_type": "stream",
          "text": [
            "\r 38%|███▊      | 3/8 [00:33<00:55, 11.18s/it]"
          ]
        },
        {
          "metadata": {
            "tags": null
          },
          "name": "stdout",
          "output_type": "stream",
          "text": [
            "training error:\n",
            "0.01807124189768136\n",
            "Model Done !\n",
            "harvesting states...\n",
            "fitting...\n"
          ]
        },
        {
          "metadata": {
            "tags": null
          },
          "name": "stderr",
          "output_type": "stream",
          "text": [
            "\r 50%|█████     | 4/8 [00:44<00:43, 10.94s/it]"
          ]
        },
        {
          "metadata": {
            "tags": null
          },
          "name": "stdout",
          "output_type": "stream",
          "text": [
            "training error:\n",
            "0.018526809127652834\n",
            "Model Done !\n",
            "harvesting states...\n",
            "fitting...\n"
          ]
        },
        {
          "metadata": {
            "tags": null
          },
          "name": "stderr",
          "output_type": "stream",
          "text": [
            "\r 62%|██████▎   | 5/8 [00:54<00:31, 10.64s/it]"
          ]
        },
        {
          "metadata": {
            "tags": null
          },
          "name": "stdout",
          "output_type": "stream",
          "text": [
            "training error:\n",
            "0.018160132582729614\n",
            "Model Done !\n",
            "harvesting states...\n",
            "fitting...\n"
          ]
        },
        {
          "metadata": {
            "tags": null
          },
          "name": "stderr",
          "output_type": "stream",
          "text": [
            "\r 75%|███████▌  | 6/8 [01:06<00:22, 11.10s/it]"
          ]
        },
        {
          "metadata": {
            "tags": null
          },
          "name": "stdout",
          "output_type": "stream",
          "text": [
            "training error:\n",
            "0.01891641419596255\n",
            "Model Done !\n",
            "harvesting states...\n",
            "fitting...\n"
          ]
        },
        {
          "metadata": {
            "tags": null
          },
          "name": "stderr",
          "output_type": "stream",
          "text": [
            "\r 88%|████████▊ | 7/8 [01:17<00:11, 11.09s/it]"
          ]
        },
        {
          "metadata": {
            "tags": null
          },
          "name": "stdout",
          "output_type": "stream",
          "text": [
            "training error:\n",
            "0.017737571483173932\n",
            "Model Done !\n",
            "harvesting states...\n",
            "fitting...\n"
          ]
        },
        {
          "metadata": {
            "tags": null
          },
          "name": "stderr",
          "output_type": "stream",
          "text": [
            "100%|██████████| 8/8 [01:28<00:00, 11.10s/it]\n"
          ]
        },
        {
          "metadata": {
            "tags": null
          },
          "name": "stdout",
          "output_type": "stream",
          "text": [
            "training error:\n",
            "0.0174058345940656\n",
            "Model Done !\n"
          ]
        },
        {
          "metadata": {
            "tags": null
          },
          "name": "stderr",
          "output_type": "stream",
          "text": [
            "Progress: 100%|██████████| 1782/1782 [00:09<00:00, 190.77it/s]\n",
            "[I 2023-09-04 09:46:17,220] Trial 80 finished with value: 2.1890378012151093 and parameters: {'n_reservoir': 839, 'sparsity': 0.3, 'spectral_radius': 0.5, 'noise': 0.001, 'look_back': 10}. Best is trial 62 with value: 0.05115138843061191.\n",
            "  0%|          | 0/8 [00:00<?, ?it/s]"
          ]
        },
        {
          "metadata": {
            "tags": null
          },
          "name": "stdout",
          "output_type": "stream",
          "text": [
            "harvesting states...\n",
            "fitting...\n"
          ]
        },
        {
          "metadata": {
            "tags": null
          },
          "name": "stderr",
          "output_type": "stream",
          "text": [
            "\r 12%|█▎        | 1/8 [00:13<01:34, 13.54s/it]"
          ]
        },
        {
          "metadata": {
            "tags": null
          },
          "name": "stdout",
          "output_type": "stream",
          "text": [
            "training error:\n",
            "0.016939648164162057\n",
            "Model Done !\n",
            "harvesting states...\n",
            "fitting...\n"
          ]
        },
        {
          "metadata": {
            "tags": null
          },
          "name": "stderr",
          "output_type": "stream",
          "text": [
            "\r 25%|██▌       | 2/8 [00:26<01:19, 13.27s/it]"
          ]
        },
        {
          "metadata": {
            "tags": null
          },
          "name": "stdout",
          "output_type": "stream",
          "text": [
            "training error:\n",
            "0.02326710306001063\n",
            "Model Done !\n",
            "harvesting states...\n",
            "fitting...\n"
          ]
        },
        {
          "metadata": {
            "tags": null
          },
          "name": "stderr",
          "output_type": "stream",
          "text": [
            "\r 38%|███▊      | 3/8 [00:40<01:07, 13.52s/it]"
          ]
        },
        {
          "metadata": {
            "tags": null
          },
          "name": "stdout",
          "output_type": "stream",
          "text": [
            "training error:\n",
            "0.02681031359358353\n",
            "Model Done !\n",
            "harvesting states...\n",
            "fitting...\n"
          ]
        },
        {
          "metadata": {
            "tags": null
          },
          "name": "stderr",
          "output_type": "stream",
          "text": [
            "\r 50%|█████     | 4/8 [00:52<00:52, 13.07s/it]"
          ]
        },
        {
          "metadata": {
            "tags": null
          },
          "name": "stdout",
          "output_type": "stream",
          "text": [
            "training error:\n",
            "0.02950342383604277\n",
            "Model Done !\n",
            "harvesting states...\n",
            "fitting...\n"
          ]
        },
        {
          "metadata": {
            "tags": null
          },
          "name": "stderr",
          "output_type": "stream",
          "text": [
            "\r 62%|██████▎   | 5/8 [01:05<00:38, 12.99s/it]"
          ]
        },
        {
          "metadata": {
            "tags": null
          },
          "name": "stdout",
          "output_type": "stream",
          "text": [
            "training error:\n",
            "0.031151526885199576\n",
            "Model Done !\n",
            "harvesting states...\n",
            "fitting...\n"
          ]
        },
        {
          "metadata": {
            "tags": null
          },
          "name": "stderr",
          "output_type": "stream",
          "text": [
            "\r 75%|███████▌  | 6/8 [01:18<00:25, 12.78s/it]"
          ]
        },
        {
          "metadata": {
            "tags": null
          },
          "name": "stdout",
          "output_type": "stream",
          "text": [
            "training error:\n",
            "0.032604010668858804\n",
            "Model Done !\n",
            "harvesting states...\n",
            "fitting...\n"
          ]
        },
        {
          "metadata": {
            "tags": null
          },
          "name": "stderr",
          "output_type": "stream",
          "text": [
            "\r 88%|████████▊ | 7/8 [01:31<00:12, 12.89s/it]"
          ]
        },
        {
          "metadata": {
            "tags": null
          },
          "name": "stdout",
          "output_type": "stream",
          "text": [
            "training error:\n",
            "0.03337325888972564\n",
            "Model Done !\n",
            "harvesting states...\n",
            "fitting...\n"
          ]
        },
        {
          "metadata": {
            "tags": null
          },
          "name": "stderr",
          "output_type": "stream",
          "text": [
            "100%|██████████| 8/8 [01:44<00:00, 13.03s/it]\n"
          ]
        },
        {
          "metadata": {
            "tags": null
          },
          "name": "stdout",
          "output_type": "stream",
          "text": [
            "training error:\n",
            "0.03335763513540221\n",
            "Model Done !\n"
          ]
        },
        {
          "metadata": {
            "tags": null
          },
          "name": "stderr",
          "output_type": "stream",
          "text": [
            "Progress: 100%|██████████| 1767/1767 [00:12<00:00, 144.96it/s]\n",
            "[I 2023-09-04 09:48:13,899] Trial 81 finished with value: 0.06066123763385436 and parameters: {'n_reservoir': 937, 'sparsity': 0.2, 'spectral_radius': 10.0, 'noise': 0.003, 'look_back': 25}. Best is trial 62 with value: 0.05115138843061191.\n",
            "  0%|          | 0/8 [00:00<?, ?it/s]"
          ]
        },
        {
          "metadata": {
            "tags": null
          },
          "name": "stdout",
          "output_type": "stream",
          "text": [
            "harvesting states...\n",
            "fitting...\n"
          ]
        },
        {
          "metadata": {
            "tags": null
          },
          "name": "stderr",
          "output_type": "stream",
          "text": [
            "\r 12%|█▎        | 1/8 [00:10<01:14, 10.60s/it]"
          ]
        },
        {
          "metadata": {
            "tags": null
          },
          "name": "stdout",
          "output_type": "stream",
          "text": [
            "training error:\n",
            "0.015917928554783526\n",
            "Model Done !\n",
            "harvesting states...\n",
            "fitting...\n"
          ]
        },
        {
          "metadata": {
            "tags": null
          },
          "name": "stderr",
          "output_type": "stream",
          "text": [
            "\r 25%|██▌       | 2/8 [00:20<01:01, 10.32s/it]"
          ]
        },
        {
          "metadata": {
            "tags": null
          },
          "name": "stdout",
          "output_type": "stream",
          "text": [
            "training error:\n",
            "0.021953874040812765\n",
            "Model Done !\n",
            "harvesting states...\n",
            "fitting...\n"
          ]
        },
        {
          "metadata": {
            "tags": null
          },
          "name": "stderr",
          "output_type": "stream",
          "text": [
            "\r 38%|███▊      | 3/8 [00:30<00:49,  9.87s/it]"
          ]
        },
        {
          "metadata": {
            "tags": null
          },
          "name": "stdout",
          "output_type": "stream",
          "text": [
            "training error:\n",
            "0.025791127331690818\n",
            "Model Done !\n",
            "harvesting states...\n",
            "fitting...\n"
          ]
        },
        {
          "metadata": {
            "tags": null
          },
          "name": "stderr",
          "output_type": "stream",
          "text": [
            "\r 50%|█████     | 4/8 [00:40<00:40, 10.07s/it]"
          ]
        },
        {
          "metadata": {
            "tags": null
          },
          "name": "stdout",
          "output_type": "stream",
          "text": [
            "training error:\n",
            "0.028579769774365327\n",
            "Model Done !\n",
            "harvesting states...\n",
            "fitting...\n"
          ]
        },
        {
          "metadata": {
            "tags": null
          },
          "name": "stderr",
          "output_type": "stream",
          "text": [
            "\r 62%|██████▎   | 5/8 [00:51<00:30, 10.33s/it]"
          ]
        },
        {
          "metadata": {
            "tags": null
          },
          "name": "stdout",
          "output_type": "stream",
          "text": [
            "training error:\n",
            "0.030612476042755955\n",
            "Model Done !\n",
            "harvesting states...\n",
            "fitting...\n"
          ]
        },
        {
          "metadata": {
            "tags": null
          },
          "name": "stderr",
          "output_type": "stream",
          "text": [
            "\r 75%|███████▌  | 6/8 [01:01<00:20, 10.39s/it]"
          ]
        },
        {
          "metadata": {
            "tags": null
          },
          "name": "stdout",
          "output_type": "stream",
          "text": [
            "training error:\n",
            "0.03208743100145859\n",
            "Model Done !\n",
            "harvesting states...\n",
            "fitting...\n"
          ]
        },
        {
          "metadata": {
            "tags": null
          },
          "name": "stderr",
          "output_type": "stream",
          "text": [
            "\r 88%|████████▊ | 7/8 [01:12<00:10, 10.56s/it]"
          ]
        },
        {
          "metadata": {
            "tags": null
          },
          "name": "stdout",
          "output_type": "stream",
          "text": [
            "training error:\n",
            "0.033509859271135076\n",
            "Model Done !\n",
            "harvesting states...\n",
            "fitting...\n"
          ]
        },
        {
          "metadata": {
            "tags": null
          },
          "name": "stderr",
          "output_type": "stream",
          "text": [
            "100%|██████████| 8/8 [01:22<00:00, 10.26s/it]\n"
          ]
        },
        {
          "metadata": {
            "tags": null
          },
          "name": "stdout",
          "output_type": "stream",
          "text": [
            "training error:\n",
            "0.03396279330672455\n",
            "Model Done !\n"
          ]
        },
        {
          "metadata": {
            "tags": null
          },
          "name": "stderr",
          "output_type": "stream",
          "text": [
            "Progress: 100%|██████████| 1741/1741 [00:09<00:00, 175.49it/s]\n",
            "[I 2023-09-04 09:49:46,051] Trial 82 finished with value: 0.0637300371459185 and parameters: {'n_reservoir': 801, 'sparsity': 0.2, 'spectral_radius': 10.0, 'noise': 0.009, 'look_back': 51}. Best is trial 62 with value: 0.05115138843061191.\n",
            "  0%|          | 0/8 [00:00<?, ?it/s]"
          ]
        },
        {
          "metadata": {
            "tags": null
          },
          "name": "stdout",
          "output_type": "stream",
          "text": [
            "harvesting states...\n",
            "fitting...\n"
          ]
        },
        {
          "metadata": {
            "tags": null
          },
          "name": "stderr",
          "output_type": "stream",
          "text": [
            "\r 12%|█▎        | 1/8 [00:11<01:20, 11.49s/it]"
          ]
        },
        {
          "metadata": {
            "tags": null
          },
          "name": "stdout",
          "output_type": "stream",
          "text": [
            "training error:\n",
            "0.016687917058023794\n",
            "Model Done !\n",
            "harvesting states...\n",
            "fitting...\n"
          ]
        },
        {
          "metadata": {
            "tags": null
          },
          "name": "stderr",
          "output_type": "stream",
          "text": [
            "\r 25%|██▌       | 2/8 [00:22<01:07, 11.31s/it]"
          ]
        },
        {
          "metadata": {
            "tags": null
          },
          "name": "stdout",
          "output_type": "stream",
          "text": [
            "training error:\n",
            "0.016477336035086478\n",
            "Model Done !\n",
            "harvesting states...\n",
            "fitting...\n"
          ]
        },
        {
          "metadata": {
            "tags": null
          },
          "name": "stderr",
          "output_type": "stream",
          "text": [
            "\r 38%|███▊      | 3/8 [00:33<00:56, 11.28s/it]"
          ]
        },
        {
          "metadata": {
            "tags": null
          },
          "name": "stdout",
          "output_type": "stream",
          "text": [
            "training error:\n",
            "0.016314368383702704\n",
            "Model Done !\n",
            "harvesting states...\n",
            "fitting...\n"
          ]
        },
        {
          "metadata": {
            "tags": null
          },
          "name": "stderr",
          "output_type": "stream",
          "text": [
            "\r 50%|█████     | 4/8 [00:44<00:44, 11.07s/it]"
          ]
        },
        {
          "metadata": {
            "tags": null
          },
          "name": "stdout",
          "output_type": "stream",
          "text": [
            "training error:\n",
            "0.016959061167559387\n",
            "Model Done !\n",
            "harvesting states...\n",
            "fitting...\n"
          ]
        },
        {
          "metadata": {
            "tags": null
          },
          "name": "stderr",
          "output_type": "stream",
          "text": [
            "\r 62%|██████▎   | 5/8 [00:55<00:33, 11.16s/it]"
          ]
        },
        {
          "metadata": {
            "tags": null
          },
          "name": "stdout",
          "output_type": "stream",
          "text": [
            "training error:\n",
            "0.01626454454514722\n",
            "Model Done !\n",
            "harvesting states...\n",
            "fitting...\n"
          ]
        },
        {
          "metadata": {
            "tags": null
          },
          "name": "stderr",
          "output_type": "stream",
          "text": [
            "\r 75%|███████▌  | 6/8 [01:07<00:22, 11.18s/it]"
          ]
        },
        {
          "metadata": {
            "tags": null
          },
          "name": "stdout",
          "output_type": "stream",
          "text": [
            "training error:\n",
            "0.016546857038227808\n",
            "Model Done !\n",
            "harvesting states...\n",
            "fitting...\n"
          ]
        },
        {
          "metadata": {
            "tags": null
          },
          "name": "stderr",
          "output_type": "stream",
          "text": [
            "\r 88%|████████▊ | 7/8 [01:18<00:11, 11.32s/it]"
          ]
        },
        {
          "metadata": {
            "tags": null
          },
          "name": "stdout",
          "output_type": "stream",
          "text": [
            "training error:\n",
            "0.017003207365675573\n",
            "Model Done !\n",
            "harvesting states...\n",
            "fitting...\n"
          ]
        },
        {
          "metadata": {
            "tags": null
          },
          "name": "stderr",
          "output_type": "stream",
          "text": [
            "100%|██████████| 8/8 [01:29<00:00, 11.23s/it]\n"
          ]
        },
        {
          "metadata": {
            "tags": null
          },
          "name": "stdout",
          "output_type": "stream",
          "text": [
            "training error:\n",
            "0.01626594361128123\n",
            "Model Done !\n"
          ]
        },
        {
          "metadata": {
            "tags": null
          },
          "name": "stderr",
          "output_type": "stream",
          "text": [
            "Progress: 100%|██████████| 1757/1757 [00:10<00:00, 171.66it/s]\n",
            "[I 2023-09-04 09:51:26,387] Trial 83 finished with value: 0.13479264524156404 and parameters: {'n_reservoir': 870, 'sparsity': 0.2, 'spectral_radius': 0.6, 'noise': 0.001, 'look_back': 35}. Best is trial 62 with value: 0.05115138843061191.\n",
            "  0%|          | 0/8 [00:00<?, ?it/s]"
          ]
        },
        {
          "metadata": {
            "tags": null
          },
          "name": "stdout",
          "output_type": "stream",
          "text": [
            "harvesting states...\n",
            "fitting...\n"
          ]
        },
        {
          "metadata": {
            "tags": null
          },
          "name": "stderr",
          "output_type": "stream",
          "text": [
            "\r 12%|█▎        | 1/8 [00:11<01:17, 11.00s/it]"
          ]
        },
        {
          "metadata": {
            "tags": null
          },
          "name": "stdout",
          "output_type": "stream",
          "text": [
            "training error:\n",
            "0.016924901821739696\n",
            "Model Done !\n",
            "harvesting states...\n",
            "fitting...\n"
          ]
        },
        {
          "metadata": {
            "tags": null
          },
          "name": "stderr",
          "output_type": "stream",
          "text": [
            "\r 25%|██▌       | 2/8 [00:23<01:09, 11.59s/it]"
          ]
        },
        {
          "metadata": {
            "tags": null
          },
          "name": "stdout",
          "output_type": "stream",
          "text": [
            "training error:\n",
            "0.02326864116657703\n",
            "Model Done !\n",
            "harvesting states...\n",
            "fitting...\n"
          ]
        },
        {
          "metadata": {
            "tags": null
          },
          "name": "stderr",
          "output_type": "stream",
          "text": [
            "\r 38%|███▊      | 3/8 [00:34<00:57, 11.55s/it]"
          ]
        },
        {
          "metadata": {
            "tags": null
          },
          "name": "stdout",
          "output_type": "stream",
          "text": [
            "training error:\n",
            "0.026974365186826867\n",
            "Model Done !\n",
            "harvesting states...\n",
            "fitting...\n"
          ]
        },
        {
          "metadata": {
            "tags": null
          },
          "name": "stderr",
          "output_type": "stream",
          "text": [
            "\r 50%|█████     | 4/8 [00:46<00:47, 11.82s/it]"
          ]
        },
        {
          "metadata": {
            "tags": null
          },
          "name": "stdout",
          "output_type": "stream",
          "text": [
            "training error:\n",
            "0.029381018045941402\n",
            "Model Done !\n",
            "harvesting states...\n",
            "fitting...\n"
          ]
        },
        {
          "metadata": {
            "tags": null
          },
          "name": "stderr",
          "output_type": "stream",
          "text": [
            "\r 62%|██████▎   | 5/8 [00:58<00:35, 11.97s/it]"
          ]
        },
        {
          "metadata": {
            "tags": null
          },
          "name": "stdout",
          "output_type": "stream",
          "text": [
            "training error:\n",
            "0.031142689614586376\n",
            "Model Done !\n",
            "harvesting states...\n",
            "fitting...\n"
          ]
        },
        {
          "metadata": {
            "tags": null
          },
          "name": "stderr",
          "output_type": "stream",
          "text": [
            "\r 75%|███████▌  | 6/8 [01:11<00:24, 12.04s/it]"
          ]
        },
        {
          "metadata": {
            "tags": null
          },
          "name": "stdout",
          "output_type": "stream",
          "text": [
            "training error:\n",
            "0.03227206074846389\n",
            "Model Done !\n",
            "harvesting states...\n",
            "fitting...\n"
          ]
        },
        {
          "metadata": {
            "tags": null
          },
          "name": "stderr",
          "output_type": "stream",
          "text": [
            "\r 88%|████████▊ | 7/8 [01:23<00:12, 12.12s/it]"
          ]
        },
        {
          "metadata": {
            "tags": null
          },
          "name": "stdout",
          "output_type": "stream",
          "text": [
            "training error:\n",
            "0.033002244032893334\n",
            "Model Done !\n",
            "harvesting states...\n",
            "fitting...\n"
          ]
        },
        {
          "metadata": {
            "tags": null
          },
          "name": "stderr",
          "output_type": "stream",
          "text": [
            "100%|██████████| 8/8 [01:35<00:00, 11.95s/it]\n"
          ]
        },
        {
          "metadata": {
            "tags": null
          },
          "name": "stdout",
          "output_type": "stream",
          "text": [
            "training error:\n",
            "0.033745302269615814\n",
            "Model Done !\n"
          ]
        },
        {
          "metadata": {
            "tags": null
          },
          "name": "stderr",
          "output_type": "stream",
          "text": [
            "Progress: 100%|██████████| 1770/1770 [00:09<00:00, 184.01it/s]\n",
            "[I 2023-09-04 09:53:11,857] Trial 84 finished with value: 0.06473107992183048 and parameters: {'n_reservoir': 893, 'sparsity': 0.2, 'spectral_radius': 10.0, 'noise': 0.008, 'look_back': 22}. Best is trial 62 with value: 0.05115138843061191.\n",
            "  0%|          | 0/8 [00:00<?, ?it/s]"
          ]
        },
        {
          "metadata": {
            "tags": null
          },
          "name": "stdout",
          "output_type": "stream",
          "text": [
            "harvesting states...\n",
            "fitting...\n"
          ]
        },
        {
          "metadata": {
            "tags": null
          },
          "name": "stderr",
          "output_type": "stream",
          "text": [
            "\r 12%|█▎        | 1/8 [00:14<01:42, 14.60s/it]"
          ]
        },
        {
          "metadata": {
            "tags": null
          },
          "name": "stdout",
          "output_type": "stream",
          "text": [
            "training error:\n",
            "0.015612488342030136\n",
            "Model Done !\n",
            "harvesting states...\n",
            "fitting...\n"
          ]
        },
        {
          "metadata": {
            "tags": null
          },
          "name": "stderr",
          "output_type": "stream",
          "text": [
            "\r 25%|██▌       | 2/8 [00:29<01:26, 14.49s/it]"
          ]
        },
        {
          "metadata": {
            "tags": null
          },
          "name": "stdout",
          "output_type": "stream",
          "text": [
            "training error:\n",
            "0.015629170606686872\n",
            "Model Done !\n",
            "harvesting states...\n",
            "fitting...\n"
          ]
        },
        {
          "metadata": {
            "tags": null
          },
          "name": "stderr",
          "output_type": "stream",
          "text": [
            "\r 38%|███▊      | 3/8 [00:43<01:11, 14.34s/it]"
          ]
        },
        {
          "metadata": {
            "tags": null
          },
          "name": "stdout",
          "output_type": "stream",
          "text": [
            "training error:\n",
            "0.01573303330560002\n",
            "Model Done !\n",
            "harvesting states...\n",
            "fitting...\n"
          ]
        },
        {
          "metadata": {
            "tags": null
          },
          "name": "stderr",
          "output_type": "stream",
          "text": [
            "\r 50%|█████     | 4/8 [00:57<00:57, 14.32s/it]"
          ]
        },
        {
          "metadata": {
            "tags": null
          },
          "name": "stdout",
          "output_type": "stream",
          "text": [
            "training error:\n",
            "0.01576796203876441\n",
            "Model Done !\n",
            "harvesting states...\n",
            "fitting...\n"
          ]
        },
        {
          "metadata": {
            "tags": null
          },
          "name": "stderr",
          "output_type": "stream",
          "text": [
            "\r 62%|██████▎   | 5/8 [01:11<00:42, 14.14s/it]"
          ]
        },
        {
          "metadata": {
            "tags": null
          },
          "name": "stdout",
          "output_type": "stream",
          "text": [
            "training error:\n",
            "0.01574468305965461\n",
            "Model Done !\n",
            "harvesting states...\n",
            "fitting...\n"
          ]
        },
        {
          "metadata": {
            "tags": null
          },
          "name": "stderr",
          "output_type": "stream",
          "text": [
            "\r 75%|███████▌  | 6/8 [01:25<00:28, 14.26s/it]"
          ]
        },
        {
          "metadata": {
            "tags": null
          },
          "name": "stdout",
          "output_type": "stream",
          "text": [
            "training error:\n",
            "0.015833952398994034\n",
            "Model Done !\n",
            "harvesting states...\n",
            "fitting...\n"
          ]
        },
        {
          "metadata": {
            "tags": null
          },
          "name": "stderr",
          "output_type": "stream",
          "text": [
            "\r 88%|████████▊ | 7/8 [01:40<00:14, 14.26s/it]"
          ]
        },
        {
          "metadata": {
            "tags": null
          },
          "name": "stdout",
          "output_type": "stream",
          "text": [
            "training error:\n",
            "0.015743071578820295\n",
            "Model Done !\n",
            "harvesting states...\n",
            "fitting...\n"
          ]
        },
        {
          "metadata": {
            "tags": null
          },
          "name": "stderr",
          "output_type": "stream",
          "text": [
            "100%|██████████| 8/8 [01:54<00:00, 14.31s/it]\n"
          ]
        },
        {
          "metadata": {
            "tags": null
          },
          "name": "stdout",
          "output_type": "stream",
          "text": [
            "training error:\n",
            "0.015879473168177272\n",
            "Model Done !\n"
          ]
        },
        {
          "metadata": {
            "tags": null
          },
          "name": "stderr",
          "output_type": "stream",
          "text": [
            "Progress: 100%|██████████| 1728/1728 [00:13<00:00, 130.19it/s]\n",
            "[I 2023-09-04 09:55:19,869] Trial 85 finished with value: 0.08104985042812428 and parameters: {'n_reservoir': 971, 'sparsity': 0.2, 'spectral_radius': 0.7, 'noise': 0.003, 'look_back': 64}. Best is trial 62 with value: 0.05115138843061191.\n",
            "  0%|          | 0/8 [00:00<?, ?it/s]"
          ]
        },
        {
          "metadata": {
            "tags": null
          },
          "name": "stdout",
          "output_type": "stream",
          "text": [
            "harvesting states...\n",
            "fitting...\n"
          ]
        },
        {
          "metadata": {
            "tags": null
          },
          "name": "stderr",
          "output_type": "stream",
          "text": [
            "\r 12%|█▎        | 1/8 [00:10<01:16, 10.86s/it]"
          ]
        },
        {
          "metadata": {
            "tags": null
          },
          "name": "stdout",
          "output_type": "stream",
          "text": [
            "training error:\n",
            "0.016050302969138334\n",
            "Model Done !\n",
            "harvesting states...\n",
            "fitting...\n"
          ]
        },
        {
          "metadata": {
            "tags": null
          },
          "name": "stderr",
          "output_type": "stream",
          "text": [
            "\r 25%|██▌       | 2/8 [00:21<01:04, 10.73s/it]"
          ]
        },
        {
          "metadata": {
            "tags": null
          },
          "name": "stdout",
          "output_type": "stream",
          "text": [
            "training error:\n",
            "0.016008783671262374\n",
            "Model Done !\n",
            "harvesting states...\n",
            "fitting...\n"
          ]
        },
        {
          "metadata": {
            "tags": null
          },
          "name": "stderr",
          "output_type": "stream",
          "text": [
            "\r 38%|███▊      | 3/8 [00:31<00:52, 10.59s/it]"
          ]
        },
        {
          "metadata": {
            "tags": null
          },
          "name": "stdout",
          "output_type": "stream",
          "text": [
            "training error:\n",
            "0.01610014564884259\n",
            "Model Done !\n",
            "harvesting states...\n",
            "fitting...\n"
          ]
        },
        {
          "metadata": {
            "tags": null
          },
          "name": "stderr",
          "output_type": "stream",
          "text": [
            "\r 50%|█████     | 4/8 [00:42<00:42, 10.69s/it]"
          ]
        },
        {
          "metadata": {
            "tags": null
          },
          "name": "stdout",
          "output_type": "stream",
          "text": [
            "training error:\n",
            "0.01601192324306039\n",
            "Model Done !\n",
            "harvesting states...\n",
            "fitting...\n"
          ]
        },
        {
          "metadata": {
            "tags": null
          },
          "name": "stderr",
          "output_type": "stream",
          "text": [
            "\r 62%|██████▎   | 5/8 [00:53<00:31, 10.66s/it]"
          ]
        },
        {
          "metadata": {
            "tags": null
          },
          "name": "stdout",
          "output_type": "stream",
          "text": [
            "training error:\n",
            "0.016041361466959798\n",
            "Model Done !\n",
            "harvesting states...\n",
            "fitting...\n"
          ]
        },
        {
          "metadata": {
            "tags": null
          },
          "name": "stderr",
          "output_type": "stream",
          "text": [
            "\r 75%|███████▌  | 6/8 [01:04<00:21, 10.71s/it]"
          ]
        },
        {
          "metadata": {
            "tags": null
          },
          "name": "stdout",
          "output_type": "stream",
          "text": [
            "training error:\n",
            "0.016041065968931296\n",
            "Model Done !\n",
            "harvesting states...\n",
            "fitting...\n"
          ]
        },
        {
          "metadata": {
            "tags": null
          },
          "name": "stderr",
          "output_type": "stream",
          "text": [
            "\r 88%|████████▊ | 7/8 [01:14<00:10, 10.60s/it]"
          ]
        },
        {
          "metadata": {
            "tags": null
          },
          "name": "stdout",
          "output_type": "stream",
          "text": [
            "training error:\n",
            "0.016141692123173807\n",
            "Model Done !\n",
            "harvesting states...\n",
            "fitting...\n"
          ]
        },
        {
          "metadata": {
            "tags": null
          },
          "name": "stderr",
          "output_type": "stream",
          "text": [
            "100%|██████████| 8/8 [01:25<00:00, 10.69s/it]\n"
          ]
        },
        {
          "metadata": {
            "tags": null
          },
          "name": "stdout",
          "output_type": "stream",
          "text": [
            "training error:\n",
            "0.016002787803954983\n",
            "Model Done !\n"
          ]
        },
        {
          "metadata": {
            "tags": null
          },
          "name": "stderr",
          "output_type": "stream",
          "text": [
            "Progress: 100%|██████████| 1751/1751 [00:10<00:00, 169.63it/s]\n",
            "[I 2023-09-04 09:56:55,932] Trial 86 finished with value: 0.09211598101466435 and parameters: {'n_reservoir': 845, 'sparsity': 0.2, 'spectral_radius': 0.3, 'noise': 0.005, 'look_back': 41}. Best is trial 62 with value: 0.05115138843061191.\n",
            "  0%|          | 0/8 [00:00<?, ?it/s]"
          ]
        },
        {
          "metadata": {
            "tags": null
          },
          "name": "stdout",
          "output_type": "stream",
          "text": [
            "harvesting states...\n",
            "fitting...\n"
          ]
        },
        {
          "metadata": {
            "tags": null
          },
          "name": "stderr",
          "output_type": "stream",
          "text": [
            "\r 12%|█▎        | 1/8 [00:07<00:53,  7.58s/it]"
          ]
        },
        {
          "metadata": {
            "tags": null
          },
          "name": "stdout",
          "output_type": "stream",
          "text": [
            "training error:\n",
            "0.01811778676032799\n",
            "Model Done !\n",
            "harvesting states...\n",
            "fitting...\n"
          ]
        },
        {
          "metadata": {
            "tags": null
          },
          "name": "stderr",
          "output_type": "stream",
          "text": [
            "\r 25%|██▌       | 2/8 [00:13<00:40,  6.81s/it]"
          ]
        },
        {
          "metadata": {
            "tags": null
          },
          "name": "stdout",
          "output_type": "stream",
          "text": [
            "training error:\n",
            "0.017905724322763335\n",
            "Model Done !\n",
            "harvesting states...\n",
            "fitting...\n"
          ]
        },
        {
          "metadata": {
            "tags": null
          },
          "name": "stderr",
          "output_type": "stream",
          "text": [
            "\r 38%|███▊      | 3/8 [00:21<00:35,  7.18s/it]"
          ]
        },
        {
          "metadata": {
            "tags": null
          },
          "name": "stdout",
          "output_type": "stream",
          "text": [
            "training error:\n",
            "0.017892522278429794\n",
            "Model Done !\n",
            "harvesting states...\n",
            "fitting...\n"
          ]
        },
        {
          "metadata": {
            "tags": null
          },
          "name": "stderr",
          "output_type": "stream",
          "text": [
            "\r 50%|█████     | 4/8 [00:27<00:27,  6.87s/it]"
          ]
        },
        {
          "metadata": {
            "tags": null
          },
          "name": "stdout",
          "output_type": "stream",
          "text": [
            "training error:\n",
            "0.01791818931898522\n",
            "Model Done !\n",
            "harvesting states...\n",
            "fitting...\n"
          ]
        },
        {
          "metadata": {
            "tags": null
          },
          "name": "stderr",
          "output_type": "stream",
          "text": [
            "\r 62%|██████▎   | 5/8 [00:35<00:21,  7.16s/it]"
          ]
        },
        {
          "metadata": {
            "tags": null
          },
          "name": "stdout",
          "output_type": "stream",
          "text": [
            "training error:\n",
            "0.01789721883089426\n",
            "Model Done !\n",
            "harvesting states...\n",
            "fitting...\n"
          ]
        },
        {
          "metadata": {
            "tags": null
          },
          "name": "stderr",
          "output_type": "stream",
          "text": [
            "\r 75%|███████▌  | 6/8 [00:42<00:13,  6.99s/it]"
          ]
        },
        {
          "metadata": {
            "tags": null
          },
          "name": "stdout",
          "output_type": "stream",
          "text": [
            "training error:\n",
            "0.017880093303018436\n",
            "Model Done !\n",
            "harvesting states...\n",
            "fitting...\n"
          ]
        },
        {
          "metadata": {
            "tags": null
          },
          "name": "stderr",
          "output_type": "stream",
          "text": [
            "\r 88%|████████▊ | 7/8 [00:50<00:07,  7.27s/it]"
          ]
        },
        {
          "metadata": {
            "tags": null
          },
          "name": "stdout",
          "output_type": "stream",
          "text": [
            "training error:\n",
            "0.017822152082361094\n",
            "Model Done !\n",
            "harvesting states...\n",
            "fitting...\n"
          ]
        },
        {
          "metadata": {
            "tags": null
          },
          "name": "stderr",
          "output_type": "stream",
          "text": [
            "100%|██████████| 8/8 [00:56<00:00,  7.04s/it]\n"
          ]
        },
        {
          "metadata": {
            "tags": null
          },
          "name": "stdout",
          "output_type": "stream",
          "text": [
            "training error:\n",
            "0.017859237719709993\n",
            "Model Done !\n"
          ]
        },
        {
          "metadata": {
            "tags": null
          },
          "name": "stderr",
          "output_type": "stream",
          "text": [
            "Progress: 100%|██████████| 1782/1782 [00:07<00:00, 254.03it/s]\n",
            "[I 2023-09-04 09:57:59,404] Trial 87 finished with value: 0.08001066486759931 and parameters: {'n_reservoir': 659, 'sparsity': 0.2, 'spectral_radius': 0.2, 'noise': 0.004, 'look_back': 10}. Best is trial 62 with value: 0.05115138843061191.\n",
            "  0%|          | 0/8 [00:00<?, ?it/s]"
          ]
        },
        {
          "metadata": {
            "tags": null
          },
          "name": "stdout",
          "output_type": "stream",
          "text": [
            "harvesting states...\n",
            "fitting...\n"
          ]
        },
        {
          "metadata": {
            "tags": null
          },
          "name": "stderr",
          "output_type": "stream",
          "text": [
            "\r 12%|█▎        | 1/8 [00:13<01:33, 13.42s/it]"
          ]
        },
        {
          "metadata": {
            "tags": null
          },
          "name": "stdout",
          "output_type": "stream",
          "text": [
            "training error:\n",
            "0.015749360121696615\n",
            "Model Done !\n",
            "harvesting states...\n",
            "fitting...\n"
          ]
        },
        {
          "metadata": {
            "tags": null
          },
          "name": "stderr",
          "output_type": "stream",
          "text": [
            "\r 25%|██▌       | 2/8 [00:25<01:17, 12.85s/it]"
          ]
        },
        {
          "metadata": {
            "tags": null
          },
          "name": "stdout",
          "output_type": "stream",
          "text": [
            "training error:\n",
            "0.016168259162124176\n",
            "Model Done !\n",
            "harvesting states...\n",
            "fitting...\n"
          ]
        },
        {
          "metadata": {
            "tags": null
          },
          "name": "stderr",
          "output_type": "stream",
          "text": [
            "\r 38%|███▊      | 3/8 [00:38<01:03, 12.68s/it]"
          ]
        },
        {
          "metadata": {
            "tags": null
          },
          "name": "stdout",
          "output_type": "stream",
          "text": [
            "training error:\n",
            "0.01591825900131724\n",
            "Model Done !\n",
            "harvesting states...\n",
            "fitting...\n"
          ]
        },
        {
          "metadata": {
            "tags": null
          },
          "name": "stderr",
          "output_type": "stream",
          "text": [
            "\r 50%|█████     | 4/8 [00:51<00:51, 12.81s/it]"
          ]
        },
        {
          "metadata": {
            "tags": null
          },
          "name": "stdout",
          "output_type": "stream",
          "text": [
            "training error:\n",
            "0.01573627594983766\n",
            "Model Done !\n",
            "harvesting states...\n",
            "fitting...\n"
          ]
        },
        {
          "metadata": {
            "tags": null
          },
          "name": "stderr",
          "output_type": "stream",
          "text": [
            "\r 62%|██████▎   | 5/8 [01:03<00:38, 12.68s/it]"
          ]
        },
        {
          "metadata": {
            "tags": null
          },
          "name": "stdout",
          "output_type": "stream",
          "text": [
            "training error:\n",
            "0.015732890291933064\n",
            "Model Done !\n",
            "harvesting states...\n",
            "fitting...\n"
          ]
        },
        {
          "metadata": {
            "tags": null
          },
          "name": "stderr",
          "output_type": "stream",
          "text": [
            "\r 75%|███████▌  | 6/8 [01:16<00:25, 12.57s/it]"
          ]
        },
        {
          "metadata": {
            "tags": null
          },
          "name": "stdout",
          "output_type": "stream",
          "text": [
            "training error:\n",
            "0.015654021630875377\n",
            "Model Done !\n",
            "harvesting states...\n",
            "fitting...\n"
          ]
        },
        {
          "metadata": {
            "tags": null
          },
          "name": "stderr",
          "output_type": "stream",
          "text": [
            "\r 88%|████████▊ | 7/8 [01:28<00:12, 12.53s/it]"
          ]
        },
        {
          "metadata": {
            "tags": null
          },
          "name": "stdout",
          "output_type": "stream",
          "text": [
            "training error:\n",
            "0.015667557274992507\n",
            "Model Done !\n",
            "harvesting states...\n",
            "fitting...\n"
          ]
        },
        {
          "metadata": {
            "tags": null
          },
          "name": "stderr",
          "output_type": "stream",
          "text": [
            "100%|██████████| 8/8 [01:41<00:00, 12.68s/it]\n"
          ]
        },
        {
          "metadata": {
            "tags": null
          },
          "name": "stdout",
          "output_type": "stream",
          "text": [
            "training error:\n",
            "0.015700470009224712\n",
            "Model Done !\n"
          ]
        },
        {
          "metadata": {
            "tags": null
          },
          "name": "stderr",
          "output_type": "stream",
          "text": [
            "Progress: 100%|██████████| 1737/1737 [00:12<00:00, 143.07it/s]\n",
            "[I 2023-09-04 09:59:53,162] Trial 88 finished with value: 0.08105656710860709 and parameters: {'n_reservoir': 933, 'sparsity': 0.1, 'spectral_radius': 0.8, 'noise': 0.001, 'look_back': 55}. Best is trial 62 with value: 0.05115138843061191.\n",
            "  0%|          | 0/8 [00:00<?, ?it/s]"
          ]
        },
        {
          "metadata": {
            "tags": null
          },
          "name": "stdout",
          "output_type": "stream",
          "text": [
            "harvesting states...\n",
            "fitting...\n"
          ]
        },
        {
          "metadata": {
            "tags": null
          },
          "name": "stderr",
          "output_type": "stream",
          "text": [
            "\r 12%|█▎        | 1/8 [00:09<01:03,  9.01s/it]"
          ]
        },
        {
          "metadata": {
            "tags": null
          },
          "name": "stdout",
          "output_type": "stream",
          "text": [
            "training error:\n",
            "0.01708509842264947\n",
            "Model Done !\n",
            "harvesting states...\n",
            "fitting...\n"
          ]
        },
        {
          "metadata": {
            "tags": null
          },
          "name": "stderr",
          "output_type": "stream",
          "text": [
            "\r 25%|██▌       | 2/8 [00:18<00:54,  9.02s/it]"
          ]
        },
        {
          "metadata": {
            "tags": null
          },
          "name": "stdout",
          "output_type": "stream",
          "text": [
            "training error:\n",
            "0.023472699987371344\n",
            "Model Done !\n",
            "harvesting states...\n",
            "fitting...\n"
          ]
        },
        {
          "metadata": {
            "tags": null
          },
          "name": "stderr",
          "output_type": "stream",
          "text": [
            "\r 38%|███▊      | 3/8 [00:26<00:43,  8.60s/it]"
          ]
        },
        {
          "metadata": {
            "tags": null
          },
          "name": "stdout",
          "output_type": "stream",
          "text": [
            "training error:\n",
            "0.02744220009058031\n",
            "Model Done !\n",
            "harvesting states...\n",
            "fitting...\n"
          ]
        },
        {
          "output_type": "stream",
          "name": "stderr",
          "text": [
            "\r 50%|█████     | 4/8 [00:35<00:35,  8.80s/it]"
          ]
        },
        {
          "output_type": "stream",
          "name": "stdout",
          "text": [
            "training error:\n",
            "0.030301941265653477\n",
            "Model Done !\n",
            "harvesting states...\n",
            "fitting...\n"
          ]
        },
        {
          "output_type": "stream",
          "name": "stderr",
          "text": [
            "\r 62%|██████▎   | 5/8 [00:43<00:26,  8.71s/it]"
          ]
        },
        {
          "output_type": "stream",
          "name": "stdout",
          "text": [
            "training error:\n",
            "0.03238609322781905\n",
            "Model Done !\n",
            "harvesting states...\n",
            "fitting...\n"
          ]
        },
        {
          "output_type": "stream",
          "name": "stderr",
          "text": [
            "\r 75%|███████▌  | 6/8 [00:51<00:16,  8.35s/it]"
          ]
        },
        {
          "output_type": "stream",
          "name": "stdout",
          "text": [
            "training error:\n",
            "0.03370041353499845\n",
            "Model Done !\n",
            "harvesting states...\n",
            "fitting...\n"
          ]
        },
        {
          "output_type": "stream",
          "name": "stderr",
          "text": [
            "\r 88%|████████▊ | 7/8 [01:00<00:08,  8.53s/it]"
          ]
        },
        {
          "output_type": "stream",
          "name": "stdout",
          "text": [
            "training error:\n",
            "0.035218198701273795\n",
            "Model Done !\n",
            "harvesting states...\n",
            "fitting...\n"
          ]
        },
        {
          "output_type": "stream",
          "name": "stderr",
          "text": [
            "100%|██████████| 8/8 [01:09<00:00,  8.70s/it]\n"
          ]
        },
        {
          "output_type": "stream",
          "name": "stdout",
          "text": [
            "training error:\n",
            "0.03605470367473491\n",
            "Model Done !\n"
          ]
        },
        {
          "output_type": "stream",
          "name": "stderr",
          "text": [
            "Progress: 100%|██████████| 1769/1769 [00:07<00:00, 245.10it/s]\n",
            "[I 2023-09-04 10:01:10,206] Trial 89 finished with value: 0.06503708468678061 and parameters: {'n_reservoir': 745, 'sparsity': 0.2, 'spectral_radius': 10.0, 'noise': 0.003, 'look_back': 23}. Best is trial 62 with value: 0.05115138843061191.\n",
            "  0%|          | 0/8 [00:00<?, ?it/s]"
          ]
        },
        {
          "output_type": "stream",
          "name": "stdout",
          "text": [
            "harvesting states...\n",
            "fitting...\n"
          ]
        },
        {
          "output_type": "stream",
          "name": "stderr",
          "text": [
            "\r 12%|█▎        | 1/8 [00:10<01:12, 10.35s/it]"
          ]
        },
        {
          "output_type": "stream",
          "name": "stdout",
          "text": [
            "training error:\n",
            "0.01550559654308404\n",
            "Model Done !\n",
            "harvesting states...\n",
            "fitting...\n"
          ]
        },
        {
          "output_type": "stream",
          "name": "stderr",
          "text": [
            "\r 25%|██▌       | 2/8 [00:20<01:02, 10.43s/it]"
          ]
        },
        {
          "output_type": "stream",
          "name": "stdout",
          "text": [
            "training error:\n",
            "0.01553901438434542\n",
            "Model Done !\n",
            "harvesting states...\n",
            "fitting...\n"
          ]
        },
        {
          "output_type": "stream",
          "name": "stderr",
          "text": [
            "\r 38%|███▊      | 3/8 [00:31<00:52, 10.47s/it]"
          ]
        },
        {
          "output_type": "stream",
          "name": "stdout",
          "text": [
            "training error:\n",
            "0.015601179498529698\n",
            "Model Done !\n",
            "harvesting states...\n",
            "fitting...\n"
          ]
        },
        {
          "output_type": "stream",
          "name": "stderr",
          "text": [
            "\r 50%|█████     | 4/8 [00:41<00:42, 10.50s/it]"
          ]
        },
        {
          "output_type": "stream",
          "name": "stdout",
          "text": [
            "training error:\n",
            "0.015632110279285315\n",
            "Model Done !\n",
            "harvesting states...\n",
            "fitting...\n"
          ]
        },
        {
          "output_type": "stream",
          "name": "stderr",
          "text": [
            "\r 62%|██████▎   | 5/8 [00:51<00:31, 10.35s/it]"
          ]
        },
        {
          "output_type": "stream",
          "name": "stdout",
          "text": [
            "training error:\n",
            "0.015553891243029038\n",
            "Model Done !\n",
            "harvesting states...\n",
            "fitting...\n"
          ]
        },
        {
          "output_type": "stream",
          "name": "stderr",
          "text": [
            "\r 75%|███████▌  | 6/8 [01:01<00:20, 10.17s/it]"
          ]
        },
        {
          "output_type": "stream",
          "name": "stdout",
          "text": [
            "training error:\n",
            "0.015502326032935105\n",
            "Model Done !\n",
            "harvesting states...\n",
            "fitting...\n"
          ]
        },
        {
          "output_type": "stream",
          "name": "stderr",
          "text": [
            "\r 88%|████████▊ | 7/8 [01:12<00:10, 10.45s/it]"
          ]
        },
        {
          "output_type": "stream",
          "name": "stdout",
          "text": [
            "training error:\n",
            "0.015508745155668692\n",
            "Model Done !\n",
            "harvesting states...\n",
            "fitting...\n"
          ]
        },
        {
          "output_type": "stream",
          "name": "stderr",
          "text": [
            "100%|██████████| 8/8 [01:23<00:00, 10.42s/it]\n"
          ]
        },
        {
          "output_type": "stream",
          "name": "stdout",
          "text": [
            "training error:\n",
            "0.015486876545699121\n",
            "Model Done !\n"
          ]
        },
        {
          "output_type": "stream",
          "name": "stderr",
          "text": [
            "Progress: 100%|██████████| 1711/1711 [00:09<00:00, 181.12it/s]\n",
            "[I 2023-09-04 10:02:43,255] Trial 90 finished with value: 0.0730490740705191 and parameters: {'n_reservoir': 817, 'sparsity': 0.2, 'spectral_radius': 0.4, 'noise': 0.001, 'look_back': 81}. Best is trial 62 with value: 0.05115138843061191.\n",
            "  0%|          | 0/8 [00:00<?, ?it/s]"
          ]
        },
        {
          "output_type": "stream",
          "name": "stdout",
          "text": [
            "harvesting states...\n",
            "fitting...\n"
          ]
        },
        {
          "output_type": "stream",
          "name": "stderr",
          "text": [
            "\r 12%|█▎        | 1/8 [00:09<01:06,  9.48s/it]"
          ]
        },
        {
          "output_type": "stream",
          "name": "stdout",
          "text": [
            "training error:\n",
            "0.015533083928029044\n",
            "Model Done !\n",
            "harvesting states...\n",
            "fitting...\n"
          ]
        },
        {
          "output_type": "stream",
          "name": "stderr",
          "text": [
            "\r 25%|██▌       | 2/8 [00:17<00:53,  8.84s/it]"
          ]
        },
        {
          "output_type": "stream",
          "name": "stdout",
          "text": [
            "training error:\n",
            "0.02153396219275881\n",
            "Model Done !\n",
            "harvesting states...\n",
            "fitting...\n"
          ]
        },
        {
          "output_type": "stream",
          "name": "stderr",
          "text": [
            "\r 38%|███▊      | 3/8 [00:27<00:46,  9.36s/it]"
          ]
        },
        {
          "output_type": "stream",
          "name": "stdout",
          "text": [
            "training error:\n",
            "0.025284023612947234\n",
            "Model Done !\n",
            "harvesting states...\n",
            "fitting...\n"
          ]
        },
        {
          "output_type": "stream",
          "name": "stderr",
          "text": [
            "\r 50%|█████     | 4/8 [00:37<00:37,  9.46s/it]"
          ]
        },
        {
          "output_type": "stream",
          "name": "stdout",
          "text": [
            "training error:\n",
            "0.02819224453460962\n",
            "Model Done !\n",
            "harvesting states...\n",
            "fitting...\n"
          ]
        },
        {
          "output_type": "stream",
          "name": "stderr",
          "text": [
            "\r 62%|██████▎   | 5/8 [00:47<00:29,  9.71s/it]"
          ]
        },
        {
          "output_type": "stream",
          "name": "stdout",
          "text": [
            "training error:\n",
            "0.030457074107583523\n",
            "Model Done !\n",
            "harvesting states...\n",
            "fitting...\n"
          ]
        },
        {
          "output_type": "stream",
          "name": "stderr",
          "text": [
            "\r 75%|███████▌  | 6/8 [00:56<00:19,  9.51s/it]"
          ]
        },
        {
          "output_type": "stream",
          "name": "stdout",
          "text": [
            "training error:\n",
            "0.03194738257257516\n",
            "Model Done !\n",
            "harvesting states...\n",
            "fitting...\n"
          ]
        },
        {
          "output_type": "stream",
          "name": "stderr",
          "text": [
            "\r 88%|████████▊ | 7/8 [01:06<00:09,  9.58s/it]"
          ]
        },
        {
          "output_type": "stream",
          "name": "stdout",
          "text": [
            "training error:\n",
            "0.033350142192891764\n",
            "Model Done !\n",
            "harvesting states...\n",
            "fitting...\n"
          ]
        },
        {
          "output_type": "stream",
          "name": "stderr",
          "text": [
            "100%|██████████| 8/8 [01:16<00:00,  9.55s/it]\n"
          ]
        },
        {
          "output_type": "stream",
          "name": "stdout",
          "text": [
            "training error:\n",
            "0.03437043824446288\n",
            "Model Done !\n"
          ]
        },
        {
          "output_type": "stream",
          "name": "stderr",
          "text": [
            "Progress: 100%|██████████| 1693/1693 [00:08<00:00, 201.57it/s]\n",
            "[I 2023-09-04 10:04:08,257] Trial 91 finished with value: 0.056796818072977984 and parameters: {'n_reservoir': 760, 'sparsity': 0.2, 'spectral_radius': 10.0, 'noise': 0.007, 'look_back': 99}. Best is trial 62 with value: 0.05115138843061191.\n",
            "  0%|          | 0/8 [00:00<?, ?it/s]"
          ]
        },
        {
          "output_type": "stream",
          "name": "stdout",
          "text": [
            "harvesting states...\n",
            "fitting...\n"
          ]
        },
        {
          "output_type": "stream",
          "name": "stderr",
          "text": [
            "\r 12%|█▎        | 1/8 [00:07<00:49,  7.08s/it]"
          ]
        },
        {
          "output_type": "stream",
          "name": "stdout",
          "text": [
            "training error:\n",
            "0.01650693047676938\n",
            "Model Done !\n",
            "harvesting states...\n",
            "fitting...\n"
          ]
        },
        {
          "output_type": "stream",
          "name": "stderr",
          "text": [
            "\r 25%|██▌       | 2/8 [00:14<00:45,  7.55s/it]"
          ]
        },
        {
          "output_type": "stream",
          "name": "stdout",
          "text": [
            "training error:\n",
            "0.022830304806679826\n",
            "Model Done !\n",
            "harvesting states...\n",
            "fitting...\n"
          ]
        },
        {
          "output_type": "stream",
          "name": "stderr",
          "text": [
            "\r 38%|███▊      | 3/8 [00:22<00:38,  7.76s/it]"
          ]
        },
        {
          "output_type": "stream",
          "name": "stdout",
          "text": [
            "training error:\n",
            "0.027056485768426675\n",
            "Model Done !\n",
            "harvesting states...\n",
            "fitting...\n"
          ]
        },
        {
          "output_type": "stream",
          "name": "stderr",
          "text": [
            "\r 50%|█████     | 4/8 [00:30<00:30,  7.51s/it]"
          ]
        },
        {
          "output_type": "stream",
          "name": "stdout",
          "text": [
            "training error:\n",
            "0.030228226877175537\n",
            "Model Done !\n",
            "harvesting states...\n",
            "fitting...\n"
          ]
        },
        {
          "output_type": "stream",
          "name": "stderr",
          "text": [
            "\r 62%|██████▎   | 5/8 [00:38<00:23,  7.71s/it]"
          ]
        },
        {
          "output_type": "stream",
          "name": "stdout",
          "text": [
            "training error:\n",
            "0.032194747574735644\n",
            "Model Done !\n",
            "harvesting states...\n",
            "fitting...\n"
          ]
        },
        {
          "output_type": "stream",
          "name": "stderr",
          "text": [
            "\r 75%|███████▌  | 6/8 [00:45<00:14,  7.43s/it]"
          ]
        },
        {
          "output_type": "stream",
          "name": "stdout",
          "text": [
            "training error:\n",
            "0.033955169740940504\n",
            "Model Done !\n",
            "harvesting states...\n",
            "fitting...\n"
          ]
        },
        {
          "output_type": "stream",
          "name": "stderr",
          "text": [
            "\r 88%|████████▊ | 7/8 [00:52<00:07,  7.55s/it]"
          ]
        },
        {
          "output_type": "stream",
          "name": "stdout",
          "text": [
            "training error:\n",
            "0.035139570078765885\n",
            "Model Done !\n",
            "harvesting states...\n",
            "fitting...\n"
          ]
        },
        {
          "output_type": "stream",
          "name": "stderr",
          "text": [
            "100%|██████████| 8/8 [01:00<00:00,  7.58s/it]\n"
          ]
        },
        {
          "output_type": "stream",
          "name": "stdout",
          "text": [
            "training error:\n",
            "0.035818401837812715\n",
            "Model Done !\n"
          ]
        },
        {
          "output_type": "stream",
          "name": "stderr",
          "text": [
            "Progress: 100%|██████████| 1759/1759 [00:05<00:00, 303.84it/s]\n",
            "[I 2023-09-04 10:05:14,869] Trial 92 finished with value: 0.06466587179520422 and parameters: {'n_reservoir': 706, 'sparsity': 0.2, 'spectral_radius': 10.0, 'noise': 0.001, 'look_back': 33}. Best is trial 62 with value: 0.05115138843061191.\n",
            "  0%|          | 0/8 [00:00<?, ?it/s]"
          ]
        },
        {
          "output_type": "stream",
          "name": "stdout",
          "text": [
            "harvesting states...\n",
            "fitting...\n"
          ]
        },
        {
          "output_type": "stream",
          "name": "stderr",
          "text": [
            "\r 12%|█▎        | 1/8 [00:10<01:14, 10.65s/it]"
          ]
        },
        {
          "output_type": "stream",
          "name": "stdout",
          "text": [
            "training error:\n",
            "0.018055658430261586\n",
            "Model Done !\n",
            "harvesting states...\n",
            "fitting...\n"
          ]
        },
        {
          "output_type": "stream",
          "name": "stderr",
          "text": [
            "\r 25%|██▌       | 2/8 [00:21<01:02, 10.48s/it]"
          ]
        },
        {
          "output_type": "stream",
          "name": "stdout",
          "text": [
            "training error:\n",
            "0.024632638507928087\n",
            "Model Done !\n",
            "harvesting states...\n",
            "fitting...\n"
          ]
        },
        {
          "output_type": "stream",
          "name": "stderr",
          "text": [
            "\r 38%|███▊      | 3/8 [00:31<00:52, 10.54s/it]"
          ]
        },
        {
          "output_type": "stream",
          "name": "stdout",
          "text": [
            "training error:\n",
            "0.02829244042051635\n",
            "Model Done !\n",
            "harvesting states...\n",
            "fitting...\n"
          ]
        },
        {
          "output_type": "stream",
          "name": "stderr",
          "text": [
            "\r 50%|█████     | 4/8 [00:41<00:41, 10.41s/it]"
          ]
        },
        {
          "output_type": "stream",
          "name": "stdout",
          "text": [
            "training error:\n",
            "0.030576043444585657\n",
            "Model Done !\n",
            "harvesting states...\n",
            "fitting...\n"
          ]
        },
        {
          "output_type": "stream",
          "name": "stderr",
          "text": [
            "\r 62%|██████▎   | 5/8 [00:51<00:30, 10.30s/it]"
          ]
        },
        {
          "output_type": "stream",
          "name": "stdout",
          "text": [
            "training error:\n",
            "0.03238907231405654\n",
            "Model Done !\n",
            "harvesting states...\n",
            "fitting...\n"
          ]
        },
        {
          "output_type": "stream",
          "name": "stderr",
          "text": [
            "\r 75%|███████▌  | 6/8 [01:02<00:20, 10.33s/it]"
          ]
        },
        {
          "output_type": "stream",
          "name": "stdout",
          "text": [
            "training error:\n",
            "0.033904540239532106\n",
            "Model Done !\n",
            "harvesting states...\n",
            "fitting...\n"
          ]
        },
        {
          "output_type": "stream",
          "name": "stderr",
          "text": [
            "\r 88%|████████▊ | 7/8 [01:13<00:10, 10.47s/it]"
          ]
        },
        {
          "output_type": "stream",
          "name": "stdout",
          "text": [
            "training error:\n",
            "0.03447816120468308\n",
            "Model Done !\n",
            "harvesting states...\n",
            "fitting...\n"
          ]
        },
        {
          "output_type": "stream",
          "name": "stderr",
          "text": [
            "100%|██████████| 8/8 [01:23<00:00, 10.47s/it]\n"
          ]
        },
        {
          "output_type": "stream",
          "name": "stdout",
          "text": [
            "training error:\n",
            "0.03556263200888907\n",
            "Model Done !\n"
          ]
        },
        {
          "output_type": "stream",
          "name": "stderr",
          "text": [
            "Progress: 100%|██████████| 1773/1773 [00:10<00:00, 177.18it/s]\n",
            "[I 2023-09-04 10:06:48,863] Trial 93 finished with value: 0.06374337819608376 and parameters: {'n_reservoir': 871, 'sparsity': 0.2, 'spectral_radius': 10.0, 'noise': 0.003, 'look_back': 19}. Best is trial 62 with value: 0.05115138843061191.\n",
            "  0%|          | 0/8 [00:00<?, ?it/s]"
          ]
        },
        {
          "output_type": "stream",
          "name": "stdout",
          "text": [
            "harvesting states...\n",
            "fitting...\n"
          ]
        },
        {
          "output_type": "stream",
          "name": "stderr",
          "text": [
            "\r 12%|█▎        | 1/8 [00:08<00:57,  8.28s/it]"
          ]
        },
        {
          "output_type": "stream",
          "name": "stdout",
          "text": [
            "training error:\n",
            "0.015882717405225635\n",
            "Model Done !\n",
            "harvesting states...\n",
            "fitting...\n"
          ]
        },
        {
          "output_type": "stream",
          "name": "stderr",
          "text": [
            "\r 25%|██▌       | 2/8 [00:17<00:52,  8.76s/it]"
          ]
        },
        {
          "output_type": "stream",
          "name": "stdout",
          "text": [
            "training error:\n",
            "0.015967947596436462\n",
            "Model Done !\n",
            "harvesting states...\n",
            "fitting...\n"
          ]
        },
        {
          "output_type": "stream",
          "name": "stderr",
          "text": [
            "\r 38%|███▊      | 3/8 [00:26<00:44,  8.96s/it]"
          ]
        },
        {
          "output_type": "stream",
          "name": "stdout",
          "text": [
            "training error:\n",
            "0.015938818927978923\n",
            "Model Done !\n",
            "harvesting states...\n",
            "fitting...\n"
          ]
        },
        {
          "output_type": "stream",
          "name": "stderr",
          "text": [
            "\r 50%|█████     | 4/8 [00:36<00:36,  9.18s/it]"
          ]
        },
        {
          "output_type": "stream",
          "name": "stdout",
          "text": [
            "training error:\n",
            "0.016137441896315073\n",
            "Model Done !\n",
            "harvesting states...\n",
            "fitting...\n"
          ]
        },
        {
          "output_type": "stream",
          "name": "stderr",
          "text": [
            "\r 62%|██████▎   | 5/8 [00:44<00:26,  8.98s/it]"
          ]
        },
        {
          "output_type": "stream",
          "name": "stdout",
          "text": [
            "training error:\n",
            "0.015922611900059207\n",
            "Model Done !\n",
            "harvesting states...\n",
            "fitting...\n"
          ]
        },
        {
          "output_type": "stream",
          "name": "stderr",
          "text": [
            "\r 75%|███████▌  | 6/8 [00:54<00:18,  9.17s/it]"
          ]
        },
        {
          "output_type": "stream",
          "name": "stdout",
          "text": [
            "training error:\n",
            "0.01595513708783806\n",
            "Model Done !\n",
            "harvesting states...\n",
            "fitting...\n"
          ]
        },
        {
          "output_type": "stream",
          "name": "stderr",
          "text": [
            "\r 88%|████████▊ | 7/8 [01:03<00:09,  9.31s/it]"
          ]
        },
        {
          "output_type": "stream",
          "name": "stdout",
          "text": [
            "training error:\n",
            "0.016003509779252113\n",
            "Model Done !\n",
            "harvesting states...\n",
            "fitting...\n"
          ]
        },
        {
          "output_type": "stream",
          "name": "stderr",
          "text": [
            "100%|██████████| 8/8 [01:13<00:00,  9.16s/it]\n"
          ]
        },
        {
          "output_type": "stream",
          "name": "stdout",
          "text": [
            "training error:\n",
            "0.01595271819882063\n",
            "Model Done !\n"
          ]
        },
        {
          "output_type": "stream",
          "name": "stderr",
          "text": [
            "Progress: 100%|██████████| 1742/1742 [00:07<00:00, 244.05it/s]\n",
            "[I 2023-09-04 10:08:09,482] Trial 94 finished with value: 0.08369359905263297 and parameters: {'n_reservoir': 781, 'sparsity': 0.2, 'spectral_radius': 1.1, 'noise': 0.007, 'look_back': 50}. Best is trial 62 with value: 0.05115138843061191.\n",
            "  0%|          | 0/8 [00:00<?, ?it/s]"
          ]
        },
        {
          "output_type": "stream",
          "name": "stdout",
          "text": [
            "harvesting states...\n",
            "fitting...\n"
          ]
        },
        {
          "output_type": "stream",
          "name": "stderr",
          "text": [
            "\r 12%|█▎        | 1/8 [00:09<01:07,  9.65s/it]"
          ]
        },
        {
          "output_type": "stream",
          "name": "stdout",
          "text": [
            "training error:\n",
            "0.01638981374812886\n",
            "Model Done !\n",
            "harvesting states...\n",
            "fitting...\n"
          ]
        },
        {
          "output_type": "stream",
          "name": "stderr",
          "text": [
            "\r 25%|██▌       | 2/8 [00:19<00:58,  9.79s/it]"
          ]
        },
        {
          "output_type": "stream",
          "name": "stdout",
          "text": [
            "training error:\n",
            "0.02272097731064412\n",
            "Model Done !\n",
            "harvesting states...\n",
            "fitting...\n"
          ]
        },
        {
          "output_type": "stream",
          "name": "stderr",
          "text": [
            "\r 38%|███▊      | 3/8 [00:29<00:49,  9.87s/it]"
          ]
        },
        {
          "output_type": "stream",
          "name": "stdout",
          "text": [
            "training error:\n",
            "0.026779224477308187\n",
            "Model Done !\n",
            "harvesting states...\n",
            "fitting...\n"
          ]
        },
        {
          "output_type": "stream",
          "name": "stderr",
          "text": [
            "\r 50%|█████     | 4/8 [00:38<00:38,  9.55s/it]"
          ]
        },
        {
          "output_type": "stream",
          "name": "stdout",
          "text": [
            "training error:\n",
            "0.029590031389722927\n",
            "Model Done !\n",
            "harvesting states...\n",
            "fitting...\n"
          ]
        },
        {
          "output_type": "stream",
          "name": "stderr",
          "text": [
            "\r 62%|██████▎   | 5/8 [00:48<00:29,  9.70s/it]"
          ]
        },
        {
          "output_type": "stream",
          "name": "stdout",
          "text": [
            "training error:\n",
            "0.031593005103076145\n",
            "Model Done !\n",
            "harvesting states...\n",
            "fitting...\n"
          ]
        },
        {
          "output_type": "stream",
          "name": "stderr",
          "text": [
            "\r 75%|███████▌  | 6/8 [00:58<00:19,  9.78s/it]"
          ]
        },
        {
          "output_type": "stream",
          "name": "stdout",
          "text": [
            "training error:\n",
            "0.033138169296319527\n",
            "Model Done !\n",
            "harvesting states...\n",
            "fitting...\n"
          ]
        },
        {
          "output_type": "stream",
          "name": "stderr",
          "text": [
            "\r 88%|████████▊ | 7/8 [01:08<00:09,  9.98s/it]"
          ]
        },
        {
          "output_type": "stream",
          "name": "stdout",
          "text": [
            "training error:\n",
            "0.03414154823623276\n",
            "Model Done !\n",
            "harvesting states...\n",
            "fitting...\n"
          ]
        },
        {
          "output_type": "stream",
          "name": "stderr",
          "text": [
            "100%|██████████| 8/8 [01:19<00:00,  9.88s/it]\n"
          ]
        },
        {
          "output_type": "stream",
          "name": "stdout",
          "text": [
            "training error:\n",
            "0.03567721416291967\n",
            "Model Done !\n"
          ]
        },
        {
          "output_type": "stream",
          "name": "stderr",
          "text": [
            "Progress: 100%|██████████| 1755/1755 [00:08<00:00, 218.13it/s]\n",
            "[I 2023-09-04 10:09:36,741] Trial 95 finished with value: 0.05498205712928804 and parameters: {'n_reservoir': 836, 'sparsity': 0.2, 'spectral_radius': 10.0, 'noise': 0.009, 'look_back': 37}. Best is trial 62 with value: 0.05115138843061191.\n",
            "  0%|          | 0/8 [00:00<?, ?it/s]"
          ]
        },
        {
          "output_type": "stream",
          "name": "stdout",
          "text": [
            "harvesting states...\n",
            "fitting...\n"
          ]
        },
        {
          "output_type": "stream",
          "name": "stderr",
          "text": [
            "\r 12%|█▎        | 1/8 [00:10<01:11, 10.20s/it]"
          ]
        },
        {
          "output_type": "stream",
          "name": "stdout",
          "text": [
            "training error:\n",
            "0.016454617348799567\n",
            "Model Done !\n",
            "harvesting states...\n",
            "fitting...\n"
          ]
        },
        {
          "output_type": "stream",
          "name": "stderr",
          "text": [
            "\r 25%|██▌       | 2/8 [00:19<00:59,  9.93s/it]"
          ]
        },
        {
          "output_type": "stream",
          "name": "stdout",
          "text": [
            "training error:\n",
            "0.02265257446872378\n",
            "Model Done !\n",
            "harvesting states...\n",
            "fitting...\n"
          ]
        },
        {
          "output_type": "stream",
          "name": "stderr",
          "text": [
            "\r 38%|███▊      | 3/8 [00:29<00:48,  9.79s/it]"
          ]
        },
        {
          "output_type": "stream",
          "name": "stdout",
          "text": [
            "training error:\n",
            "0.026454270403365437\n",
            "Model Done !\n",
            "harvesting states...\n",
            "fitting...\n"
          ]
        },
        {
          "output_type": "stream",
          "name": "stderr",
          "text": [
            "\r 50%|█████     | 4/8 [00:39<00:39,  9.94s/it]"
          ]
        },
        {
          "output_type": "stream",
          "name": "stdout",
          "text": [
            "training error:\n",
            "0.0292103391739632\n",
            "Model Done !\n",
            "harvesting states...\n",
            "fitting...\n"
          ]
        },
        {
          "output_type": "stream",
          "name": "stderr",
          "text": [
            "\r 62%|██████▎   | 5/8 [00:48<00:28,  9.62s/it]"
          ]
        },
        {
          "output_type": "stream",
          "name": "stdout",
          "text": [
            "training error:\n",
            "0.031196215023786205\n",
            "Model Done !\n",
            "harvesting states...\n",
            "fitting...\n"
          ]
        },
        {
          "output_type": "stream",
          "name": "stderr",
          "text": [
            "\r 75%|███████▌  | 6/8 [00:58<00:19,  9.67s/it]"
          ]
        },
        {
          "output_type": "stream",
          "name": "stdout",
          "text": [
            "training error:\n",
            "0.03268522998390599\n",
            "Model Done !\n",
            "harvesting states...\n",
            "fitting...\n"
          ]
        },
        {
          "output_type": "stream",
          "name": "stderr",
          "text": [
            "\r 88%|████████▊ | 7/8 [01:08<00:09,  9.79s/it]"
          ]
        },
        {
          "output_type": "stream",
          "name": "stdout",
          "text": [
            "training error:\n",
            "0.03365461719584691\n",
            "Model Done !\n",
            "harvesting states...\n",
            "fitting...\n"
          ]
        },
        {
          "output_type": "stream",
          "name": "stderr",
          "text": [
            "100%|██████████| 8/8 [01:18<00:00,  9.85s/it]\n"
          ]
        },
        {
          "output_type": "stream",
          "name": "stdout",
          "text": [
            "training error:\n",
            "0.034244836322245384\n",
            "Model Done !\n"
          ]
        },
        {
          "output_type": "stream",
          "name": "stderr",
          "text": [
            "Progress: 100%|██████████| 1756/1756 [00:08<00:00, 214.04it/s]\n",
            "[I 2023-09-04 10:11:03,968] Trial 96 finished with value: 0.06082034441643527 and parameters: {'n_reservoir': 833, 'sparsity': 0.01, 'spectral_radius': 10.0, 'noise': 0.009, 'look_back': 36}. Best is trial 62 with value: 0.05115138843061191.\n",
            "  0%|          | 0/8 [00:00<?, ?it/s]"
          ]
        },
        {
          "output_type": "stream",
          "name": "stdout",
          "text": [
            "harvesting states...\n",
            "fitting...\n"
          ]
        },
        {
          "output_type": "stream",
          "name": "stderr",
          "text": [
            "\r 12%|█▎        | 1/8 [00:11<01:19, 11.33s/it]"
          ]
        },
        {
          "output_type": "stream",
          "name": "stdout",
          "text": [
            "training error:\n",
            "0.015681000648449267\n",
            "Model Done !\n",
            "harvesting states...\n",
            "fitting...\n"
          ]
        },
        {
          "output_type": "stream",
          "name": "stderr",
          "text": [
            "\r 25%|██▌       | 2/8 [00:22<01:08, 11.50s/it]"
          ]
        },
        {
          "output_type": "stream",
          "name": "stdout",
          "text": [
            "training error:\n",
            "0.021827135109860858\n",
            "Model Done !\n",
            "harvesting states...\n",
            "fitting...\n"
          ]
        },
        {
          "output_type": "stream",
          "name": "stderr",
          "text": [
            "\r 38%|███▊      | 3/8 [00:34<00:57, 11.40s/it]"
          ]
        },
        {
          "output_type": "stream",
          "name": "stdout",
          "text": [
            "training error:\n",
            "0.02547778805904386\n",
            "Model Done !\n",
            "harvesting states...\n",
            "fitting...\n"
          ]
        },
        {
          "output_type": "stream",
          "name": "stderr",
          "text": [
            "\r 50%|█████     | 4/8 [00:45<00:45, 11.39s/it]"
          ]
        },
        {
          "output_type": "stream",
          "name": "stdout",
          "text": [
            "training error:\n",
            "0.0282558837857467\n",
            "Model Done !\n",
            "harvesting states...\n",
            "fitting...\n"
          ]
        },
        {
          "output_type": "stream",
          "name": "stderr",
          "text": [
            "\r 62%|██████▎   | 5/8 [00:57<00:34, 11.41s/it]"
          ]
        },
        {
          "output_type": "stream",
          "name": "stdout",
          "text": [
            "training error:\n",
            "0.030290038871580428\n",
            "Model Done !\n",
            "harvesting states...\n",
            "fitting...\n"
          ]
        },
        {
          "output_type": "stream",
          "name": "stderr",
          "text": [
            "\r 75%|███████▌  | 6/8 [01:08<00:22, 11.48s/it]"
          ]
        },
        {
          "output_type": "stream",
          "name": "stdout",
          "text": [
            "training error:\n",
            "0.031562776303521084\n",
            "Model Done !\n",
            "harvesting states...\n",
            "fitting...\n"
          ]
        },
        {
          "output_type": "stream",
          "name": "stderr",
          "text": [
            "\r 88%|████████▊ | 7/8 [01:20<00:11, 11.58s/it]"
          ]
        },
        {
          "output_type": "stream",
          "name": "stdout",
          "text": [
            "training error:\n",
            "0.03225037531468052\n",
            "Model Done !\n",
            "harvesting states...\n",
            "fitting...\n"
          ]
        },
        {
          "output_type": "stream",
          "name": "stderr",
          "text": [
            "100%|██████████| 8/8 [01:31<00:00, 11.49s/it]\n"
          ]
        },
        {
          "output_type": "stream",
          "name": "stdout",
          "text": [
            "training error:\n",
            "0.032985341607721874\n",
            "Model Done !\n"
          ]
        },
        {
          "output_type": "stream",
          "name": "stderr",
          "text": [
            "Progress: 100%|██████████| 1725/1725 [00:10<00:00, 157.74it/s]\n",
            "[I 2023-09-04 10:12:47,051] Trial 97 finished with value: 0.06269632656983902 and parameters: {'n_reservoir': 895, 'sparsity': 0.2, 'spectral_radius': 10.0, 'noise': 0.009, 'look_back': 67}. Best is trial 62 with value: 0.05115138843061191.\n",
            "  0%|          | 0/8 [00:00<?, ?it/s]"
          ]
        },
        {
          "output_type": "stream",
          "name": "stdout",
          "text": [
            "harvesting states...\n",
            "fitting...\n"
          ]
        },
        {
          "output_type": "stream",
          "name": "stderr",
          "text": [
            "\r 12%|█▎        | 1/8 [00:11<01:21, 11.70s/it]"
          ]
        },
        {
          "output_type": "stream",
          "name": "stdout",
          "text": [
            "training error:\n",
            "0.0169414244942221\n",
            "Model Done !\n",
            "harvesting states...\n",
            "fitting...\n"
          ]
        },
        {
          "output_type": "stream",
          "name": "stderr",
          "text": [
            "\r 25%|██▌       | 2/8 [00:22<01:08, 11.46s/it]"
          ]
        },
        {
          "output_type": "stream",
          "name": "stdout",
          "text": [
            "training error:\n",
            "0.023264242107754348\n",
            "Model Done !\n",
            "harvesting states...\n",
            "fitting...\n"
          ]
        },
        {
          "output_type": "stream",
          "name": "stderr",
          "text": [
            "\r 38%|███▊      | 3/8 [00:34<00:57, 11.49s/it]"
          ]
        },
        {
          "output_type": "stream",
          "name": "stdout",
          "text": [
            "training error:\n",
            "0.02710162437934077\n",
            "Model Done !\n",
            "harvesting states...\n",
            "fitting...\n"
          ]
        },
        {
          "output_type": "stream",
          "name": "stderr",
          "text": [
            "\r 50%|█████     | 4/8 [00:45<00:45, 11.25s/it]"
          ]
        },
        {
          "output_type": "stream",
          "name": "stdout",
          "text": [
            "training error:\n",
            "0.029908792935056785\n",
            "Model Done !\n",
            "harvesting states...\n",
            "fitting...\n"
          ]
        },
        {
          "output_type": "stream",
          "name": "stderr",
          "text": [
            "\r 62%|██████▎   | 5/8 [00:57<00:34, 11.52s/it]"
          ]
        },
        {
          "output_type": "stream",
          "name": "stdout",
          "text": [
            "training error:\n",
            "0.031430909783730136\n",
            "Model Done !\n",
            "harvesting states...\n",
            "fitting...\n"
          ]
        },
        {
          "output_type": "stream",
          "name": "stderr",
          "text": [
            "\r 75%|███████▌  | 6/8 [01:09<00:23, 11.62s/it]"
          ]
        },
        {
          "output_type": "stream",
          "name": "stdout",
          "text": [
            "training error:\n",
            "0.032895755541010346\n",
            "Model Done !\n",
            "harvesting states...\n",
            "fitting...\n"
          ]
        },
        {
          "output_type": "stream",
          "name": "stderr",
          "text": [
            "\r 88%|████████▊ | 7/8 [01:20<00:11, 11.52s/it]"
          ]
        },
        {
          "output_type": "stream",
          "name": "stdout",
          "text": [
            "training error:\n",
            "0.03415784899913753\n",
            "Model Done !\n",
            "harvesting states...\n",
            "fitting...\n"
          ]
        },
        {
          "output_type": "stream",
          "name": "stderr",
          "text": [
            "100%|██████████| 8/8 [01:32<00:00, 11.56s/it]\n"
          ]
        },
        {
          "output_type": "stream",
          "name": "stdout",
          "text": [
            "training error:\n",
            "0.034709969649461964\n",
            "Model Done !\n"
          ]
        },
        {
          "output_type": "stream",
          "name": "stderr",
          "text": [
            "Progress: 100%|██████████| 1771/1771 [00:10<00:00, 162.67it/s]\n",
            "[I 2023-09-04 10:14:30,612] Trial 98 finished with value: 0.06553389325037733 and parameters: {'n_reservoir': 912, 'sparsity': 0.5, 'spectral_radius': 10.0, 'noise': 0.009, 'look_back': 21}. Best is trial 62 with value: 0.05115138843061191.\n",
            "  0%|          | 0/8 [00:00<?, ?it/s]"
          ]
        },
        {
          "output_type": "stream",
          "name": "stdout",
          "text": [
            "harvesting states...\n",
            "fitting...\n"
          ]
        },
        {
          "output_type": "stream",
          "name": "stderr",
          "text": [
            "\r 12%|█▎        | 1/8 [00:10<01:10, 10.00s/it]"
          ]
        },
        {
          "output_type": "stream",
          "name": "stdout",
          "text": [
            "training error:\n",
            "0.01579415821945473\n",
            "Model Done !\n",
            "harvesting states...\n",
            "fitting...\n"
          ]
        },
        {
          "output_type": "stream",
          "name": "stderr",
          "text": [
            "\r 25%|██▌       | 2/8 [00:19<00:58,  9.75s/it]"
          ]
        },
        {
          "output_type": "stream",
          "name": "stdout",
          "text": [
            "training error:\n",
            "0.015774890654546403\n",
            "Model Done !\n",
            "harvesting states...\n",
            "fitting...\n"
          ]
        },
        {
          "output_type": "stream",
          "name": "stderr",
          "text": [
            "\r 38%|███▊      | 3/8 [00:28<00:47,  9.56s/it]"
          ]
        },
        {
          "output_type": "stream",
          "name": "stdout",
          "text": [
            "training error:\n",
            "0.015778345084571366\n",
            "Model Done !\n",
            "harvesting states...\n",
            "fitting...\n"
          ]
        },
        {
          "output_type": "stream",
          "name": "stderr",
          "text": [
            "\r 50%|█████     | 4/8 [00:38<00:37,  9.47s/it]"
          ]
        },
        {
          "output_type": "stream",
          "name": "stdout",
          "text": [
            "training error:\n",
            "0.015771481852657487\n",
            "Model Done !\n",
            "harvesting states...\n",
            "fitting...\n"
          ]
        },
        {
          "output_type": "stream",
          "name": "stderr",
          "text": [
            "\r 62%|██████▎   | 5/8 [00:47<00:28,  9.57s/it]"
          ]
        },
        {
          "output_type": "stream",
          "name": "stdout",
          "text": [
            "training error:\n",
            "0.015675153747072255\n",
            "Model Done !\n",
            "harvesting states...\n",
            "fitting...\n"
          ]
        },
        {
          "output_type": "stream",
          "name": "stderr",
          "text": [
            "\r 75%|███████▌  | 6/8 [00:57<00:19,  9.61s/it]"
          ]
        },
        {
          "output_type": "stream",
          "name": "stdout",
          "text": [
            "training error:\n",
            "0.015691721223118165\n",
            "Model Done !\n",
            "harvesting states...\n",
            "fitting...\n"
          ]
        },
        {
          "output_type": "stream",
          "name": "stderr",
          "text": [
            "\r 88%|████████▊ | 7/8 [01:07<00:09,  9.62s/it]"
          ]
        },
        {
          "output_type": "stream",
          "name": "stdout",
          "text": [
            "training error:\n",
            "0.01568780186921019\n",
            "Model Done !\n",
            "harvesting states...\n",
            "fitting...\n"
          ]
        },
        {
          "output_type": "stream",
          "name": "stderr",
          "text": [
            "100%|██████████| 8/8 [01:16<00:00,  9.62s/it]\n"
          ]
        },
        {
          "output_type": "stream",
          "name": "stdout",
          "text": [
            "training error:\n",
            "0.0156960376385674\n",
            "Model Done !\n"
          ]
        },
        {
          "output_type": "stream",
          "name": "stderr",
          "text": [
            "Progress: 100%|██████████| 1735/1735 [00:09<00:00, 192.57it/s]\n",
            "[I 2023-09-04 10:15:56,729] Trial 99 finished with value: 0.0718979819121846 and parameters: {'n_reservoir': 788, 'sparsity': 0.2, 'spectral_radius': 0.1, 'noise': 0.002, 'look_back': 57}. Best is trial 62 with value: 0.05115138843061191.\n"
          ]
        },
        {
          "output_type": "stream",
          "name": "stdout",
          "text": [
            "done\n",
            "ESN HyperParameters Tuning Elapsed Time : 8783.76615 seconds\n",
            "Best Parameters:  {'n_reservoir': 851, 'sparsity': 0.2, 'spectral_radius': 10.0, 'noise': 0.007, 'look_back': 11}\n",
            "Best Loss:  0.05115138843061191\n"
          ]
        }
      ]
    },
    {
      "cell_type": "markdown",
      "source": [
        "#### Horizon = 2"
      ],
      "metadata": {
        "id": "Cw5pe-a-FAGV"
      }
    },
    {
      "cell_type": "code",
      "source": [
        "horizon = 2\n",
        "node1_delay = df[['node1_delay']]\n",
        "node1_delay_dataset = node1_delay.values\n",
        "window_size, slide_size = smooth_ASAP(node1_delay_dataset, resolution=50)\n",
        "print(\"Window Size: \", window_size)\n",
        "\n",
        "denoised_node1_delay_dataset = moving_average(node1_delay_dataset, window_size)\n",
        "\n",
        "# split into train and test sets\n",
        "train_size = int(len(denoised_node1_delay_dataset) * 0.9)\n",
        "test_size = len(denoised_node1_delay_dataset) - train_size\n",
        "train, test = denoised_node1_delay_dataset[0:train_size], denoised_node1_delay_dataset[train_size:]\n",
        "\n",
        "print(len(train), len(test))\n",
        "\n",
        "# reshape into X=t and Y=t+1\n",
        "trainX, trainY = create_multistep_dataset(train, look_back, horizon)\n",
        "testX, testY = create_multistep_dataset(test, look_back, horizon)\n",
        "\n",
        "# reshape input to be [samples, time steps, features]\n",
        "# trainX = np.reshape(trainX, (trainX.shape[0], 1, trainX.shape[1]))\n",
        "# testX = np.reshape(testX, (testX.shape[0], 1, testX.shape[1]))\n",
        "\n",
        "models, training_elapsed_time = direct_multistep_strategy('esn', trainX, trainY)\n",
        "\n",
        "print(\"ESN Model Training Elapsed Time : %.5f\" % (training_elapsed_time), \"seconds\")\n",
        "\n",
        "# make predictions\n",
        "testPredict, predictions_elapsed_time = make_predictions(models, testX, horizon, model='esn')\n",
        "testPredict = np.array(testPredict)\n",
        "\n",
        "testRMSE = np.sqrt(mean_squared_error(testY, testPredict[:len(testY), :]))\n",
        "testMAE = mean_absolute_error(testY, testPredict[:len(testY), :])\n",
        "\n",
        "print('ESN Test RMSE : %.5f' % (testRMSE))\n",
        "print('ESN Test MAE : %.5f' % (testMAE))\n",
        "print(\"ESN Elapsed Time To generate Predictions : %.5f\" % (predictions_elapsed_time), \"seconds\")"
      ],
      "metadata": {
        "colab": {
          "base_uri": "https://localhost:8080/"
        },
        "id": "YUmTL3Sc1Hlj",
        "outputId": "5f29b477-c969-4786-b402-9421c1ece370"
      },
      "execution_count": null,
      "outputs": [
        {
          "output_type": "stream",
          "name": "stdout",
          "text": [
            "Window Size:  10\n",
            "17991 2000\n"
          ]
        },
        {
          "output_type": "stream",
          "name": "stderr",
          "text": [
            "\r  0%|          | 0/2 [00:00<?, ?it/s]"
          ]
        },
        {
          "output_type": "stream",
          "name": "stdout",
          "text": [
            "harvesting states...\n",
            "fitting...\n"
          ]
        },
        {
          "output_type": "stream",
          "name": "stderr",
          "text": [
            "\r 50%|█████     | 1/2 [00:17<00:17, 17.14s/it]"
          ]
        },
        {
          "output_type": "stream",
          "name": "stdout",
          "text": [
            "training error:\n",
            "0.018156348819546513\n",
            "Model Done !\n",
            "harvesting states...\n",
            "fitting...\n"
          ]
        },
        {
          "output_type": "stream",
          "name": "stderr",
          "text": [
            "100%|██████████| 2/2 [00:43<00:00, 21.67s/it]\n"
          ]
        },
        {
          "output_type": "stream",
          "name": "stdout",
          "text": [
            "training error:\n",
            "0.025000998108130043\n",
            "Model Done !\n",
            "All Models Done !\n",
            "ESN Model Training Elapsed Time : 38.46772 seconds\n"
          ]
        },
        {
          "output_type": "stream",
          "name": "stderr",
          "text": [
            "Progress: 100%|██████████| 1988/1988 [00:06<00:00, 302.48it/s]"
          ]
        },
        {
          "output_type": "stream",
          "name": "stdout",
          "text": [
            "ESN Test RMSE : 0.02580\n",
            "ESN Test MAE : 0.02054\n",
            "ESN Elapsed Time To generate Predictions : 6.59113 seconds\n"
          ]
        },
        {
          "output_type": "stream",
          "name": "stderr",
          "text": [
            "\n"
          ]
        }
      ]
    },
    {
      "cell_type": "markdown",
      "source": [
        "#### Horizon = 4"
      ],
      "metadata": {
        "id": "BiJepcpayspG"
      }
    },
    {
      "cell_type": "code",
      "source": [
        "horizon = 4\n",
        "node1_delay = df[['node1_delay']]\n",
        "node1_delay_dataset = node1_delay.values\n",
        "window_size, slide_size = smooth_ASAP(node1_delay_dataset, resolution=50)\n",
        "print(\"Window Size: \", window_size)\n",
        "\n",
        "denoised_node1_delay_dataset = moving_average(node1_delay_dataset, window_size)\n",
        "\n",
        "# split into train and test sets\n",
        "train_size = int(len(denoised_node1_delay_dataset) * 0.9)\n",
        "test_size = len(denoised_node1_delay_dataset) - train_size\n",
        "train, test = denoised_node1_delay_dataset[0:train_size], denoised_node1_delay_dataset[train_size:]\n",
        "\n",
        "print(len(train), len(test))\n",
        "\n",
        "# reshape into X=t and Y=t+1\n",
        "trainX, trainY = create_multistep_dataset(train, look_back, horizon)\n",
        "testX, testY = create_multistep_dataset(test, look_back, horizon)\n",
        "\n",
        "# reshape input to be [samples, time steps, features]\n",
        "# trainX = np.reshape(trainX, (trainX.shape[0], 1, trainX.shape[1]))\n",
        "# testX = np.reshape(testX, (testX.shape[0], 1, testX.shape[1]))\n",
        "\n",
        "models, training_elapsed_time = direct_multistep_strategy('esn', trainX, trainY)\n",
        "\n",
        "print(\"ESN Model Training Elapsed Time : %.5f\" % (training_elapsed_time), \"seconds\")\n",
        "\n",
        "# make predictions\n",
        "testPredict, predictions_elapsed_time = make_predictions(models, testX, horizon, model='esn')\n",
        "testPredict = np.array(testPredict)\n",
        "\n",
        "testRMSE = np.sqrt(mean_squared_error(testY, testPredict[:len(testY), :]))\n",
        "testMAE = mean_absolute_error(testY, testPredict[:len(testY), :])\n",
        "\n",
        "print('ESN Test RMSE : %.5f' % (testRMSE))\n",
        "print('ESN Test MAE : %.5f' % (testMAE))\n",
        "print(\"ESN Elapsed Time To generate Predictions : %.5f\" % (predictions_elapsed_time), \"seconds\")"
      ],
      "metadata": {
        "colab": {
          "base_uri": "https://localhost:8080/"
        },
        "id": "YNl-g7krFNnP",
        "outputId": "06550720-9617-4b1d-b154-8922f245ff58"
      },
      "execution_count": null,
      "outputs": [
        {
          "output_type": "stream",
          "name": "stdout",
          "text": [
            "Window Size:  10\n",
            "17991 2000\n"
          ]
        },
        {
          "output_type": "stream",
          "name": "stderr",
          "text": [
            "\r  0%|          | 0/4 [00:00<?, ?it/s]"
          ]
        },
        {
          "output_type": "stream",
          "name": "stdout",
          "text": [
            "harvesting states...\n",
            "fitting...\n"
          ]
        },
        {
          "output_type": "stream",
          "name": "stderr",
          "text": [
            "\r 25%|██▌       | 1/4 [00:27<01:22, 27.38s/it]"
          ]
        },
        {
          "output_type": "stream",
          "name": "stdout",
          "text": [
            "training error:\n",
            "0.018157014100490414\n",
            "Model Done !\n",
            "harvesting states...\n",
            "fitting...\n"
          ]
        },
        {
          "output_type": "stream",
          "name": "stderr",
          "text": [
            "\r 50%|█████     | 2/4 [00:54<00:54, 27.32s/it]"
          ]
        },
        {
          "output_type": "stream",
          "name": "stdout",
          "text": [
            "training error:\n",
            "0.02500237664848875\n",
            "Model Done !\n",
            "harvesting states...\n",
            "fitting...\n"
          ]
        },
        {
          "output_type": "stream",
          "name": "stderr",
          "text": [
            "\r 75%|███████▌  | 3/4 [01:21<00:26, 26.94s/it]"
          ]
        },
        {
          "output_type": "stream",
          "name": "stdout",
          "text": [
            "training error:\n",
            "0.028952147801461773\n",
            "Model Done !\n",
            "harvesting states...\n",
            "fitting...\n"
          ]
        },
        {
          "output_type": "stream",
          "name": "stderr",
          "text": [
            "100%|██████████| 4/4 [01:41<00:00, 25.44s/it]\n"
          ]
        },
        {
          "output_type": "stream",
          "name": "stdout",
          "text": [
            "training error:\n",
            "0.03170037742927435\n",
            "Model Done !\n",
            "All Models Done !\n",
            "ESN Model Training Elapsed Time : 92.34987 seconds\n"
          ]
        },
        {
          "output_type": "stream",
          "name": "stderr",
          "text": [
            "Progress: 100%|██████████| 1986/1986 [00:07<00:00, 269.69it/s]"
          ]
        },
        {
          "output_type": "stream",
          "name": "stdout",
          "text": [
            "ESN Test RMSE : 0.04105\n",
            "ESN Test MAE : 0.03081\n",
            "ESN Elapsed Time To generate Predictions : 7.37398 seconds\n"
          ]
        },
        {
          "output_type": "stream",
          "name": "stderr",
          "text": [
            "\n"
          ]
        }
      ]
    },
    {
      "cell_type": "markdown",
      "source": [
        "#### Horizon = 6"
      ],
      "metadata": {
        "id": "ywnEiKjey0O4"
      }
    },
    {
      "cell_type": "code",
      "source": [
        "horizon = 6\n",
        "node1_delay = df[['node1_delay']]\n",
        "node1_delay_dataset = node1_delay.values\n",
        "window_size, slide_size = smooth_ASAP(node1_delay_dataset, resolution=50)\n",
        "print(\"Window Size: \", window_size)\n",
        "\n",
        "denoised_node1_delay_dataset = moving_average(node1_delay_dataset, window_size)\n",
        "\n",
        "# split into train and test sets\n",
        "train_size = int(len(denoised_node1_delay_dataset) * 0.9)\n",
        "test_size = len(denoised_node1_delay_dataset) - train_size\n",
        "train, test = denoised_node1_delay_dataset[0:train_size], denoised_node1_delay_dataset[train_size:]\n",
        "\n",
        "print(len(train), len(test))\n",
        "\n",
        "# reshape into X=t and Y=t+1\n",
        "trainX, trainY = create_multistep_dataset(train, look_back, horizon)\n",
        "testX, testY = create_multistep_dataset(test, look_back, horizon)\n",
        "\n",
        "# reshape input to be [samples, time steps, features]\n",
        "# trainX = np.reshape(trainX, (trainX.shape[0], 1, trainX.shape[1]))\n",
        "# testX = np.reshape(testX, (testX.shape[0], 1, testX.shape[1]))\n",
        "\n",
        "models, training_elapsed_time = direct_multistep_strategy('esn', trainX, trainY)\n",
        "\n",
        "print(\"ESN Model Training Elapsed Time : %.5f\" % (training_elapsed_time), \"seconds\")\n",
        "\n",
        "# make predictions\n",
        "testPredict, predictions_elapsed_time = make_predictions(models, testX, horizon, model='esn')\n",
        "testPredict = np.array(testPredict)\n",
        "\n",
        "testRMSE = np.sqrt(mean_squared_error(testY, testPredict[:len(testY), :]))\n",
        "testMAE = mean_absolute_error(testY, testPredict[:len(testY), :])\n",
        "\n",
        "print('ESN Test RMSE : %.5f' % (testRMSE))\n",
        "print('ESN Test MAE : %.5f' % (testMAE))\n",
        "print(\"ESN Elapsed Time To generate Predictions : %.5f\" % (predictions_elapsed_time), \"seconds\")"
      ],
      "metadata": {
        "colab": {
          "base_uri": "https://localhost:8080/"
        },
        "id": "FFhCsgbByzP4",
        "outputId": "9c1436fb-2c41-4623-9c6b-a5732f83ca84"
      },
      "execution_count": null,
      "outputs": [
        {
          "output_type": "stream",
          "name": "stdout",
          "text": [
            "Window Size:  10\n",
            "17991 2000\n"
          ]
        },
        {
          "output_type": "stream",
          "name": "stderr",
          "text": [
            "\r  0%|          | 0/6 [00:00<?, ?it/s]"
          ]
        },
        {
          "output_type": "stream",
          "name": "stdout",
          "text": [
            "harvesting states...\n",
            "fitting...\n"
          ]
        },
        {
          "output_type": "stream",
          "name": "stderr",
          "text": [
            "\r 17%|█▋        | 1/6 [00:19<01:39, 19.82s/it]"
          ]
        },
        {
          "output_type": "stream",
          "name": "stdout",
          "text": [
            "training error:\n",
            "0.018157869540880132\n",
            "Model Done !\n",
            "harvesting states...\n",
            "fitting...\n"
          ]
        },
        {
          "output_type": "stream",
          "name": "stderr",
          "text": [
            "\r 33%|███▎      | 2/6 [00:40<01:20, 20.15s/it]"
          ]
        },
        {
          "output_type": "stream",
          "name": "stdout",
          "text": [
            "training error:\n",
            "0.02500345400303256\n",
            "Model Done !\n",
            "harvesting states...\n",
            "fitting...\n"
          ]
        },
        {
          "output_type": "stream",
          "name": "stderr",
          "text": [
            "\r 50%|█████     | 3/6 [00:59<00:58, 19.58s/it]"
          ]
        },
        {
          "output_type": "stream",
          "name": "stdout",
          "text": [
            "training error:\n",
            "0.028953346364041548\n",
            "Model Done !\n",
            "harvesting states...\n",
            "fitting...\n"
          ]
        },
        {
          "output_type": "stream",
          "name": "stderr",
          "text": [
            "\r 67%|██████▋   | 4/6 [01:10<00:32, 16.45s/it]"
          ]
        },
        {
          "output_type": "stream",
          "name": "stdout",
          "text": [
            "training error:\n",
            "0.03170074242188401\n",
            "Model Done !\n",
            "harvesting states...\n",
            "fitting...\n"
          ]
        },
        {
          "output_type": "stream",
          "name": "stderr",
          "text": [
            "\r 83%|████████▎ | 5/6 [01:23<00:14, 14.97s/it]"
          ]
        },
        {
          "output_type": "stream",
          "name": "stdout",
          "text": [
            "training error:\n",
            "0.03394545597790527\n",
            "Model Done !\n",
            "harvesting states...\n",
            "fitting...\n"
          ]
        },
        {
          "output_type": "stream",
          "name": "stderr",
          "text": [
            "100%|██████████| 6/6 [01:35<00:00, 15.87s/it]\n"
          ]
        },
        {
          "output_type": "stream",
          "name": "stdout",
          "text": [
            "training error:\n",
            "0.03539025162136759\n",
            "Model Done !\n",
            "All Models Done !\n",
            "ESN Model Training Elapsed Time : 86.36717 seconds\n"
          ]
        },
        {
          "output_type": "stream",
          "name": "stderr",
          "text": [
            "Progress: 100%|██████████| 1984/1984 [00:05<00:00, 361.28it/s]"
          ]
        },
        {
          "output_type": "stream",
          "name": "stdout",
          "text": [
            "ESN Test RMSE : 0.05138\n",
            "ESN Test MAE : 0.03874\n",
            "ESN Elapsed Time To generate Predictions : 5.49849 seconds\n"
          ]
        },
        {
          "output_type": "stream",
          "name": "stderr",
          "text": [
            "\n"
          ]
        }
      ]
    },
    {
      "cell_type": "markdown",
      "source": [
        "#### Horizon = 8"
      ],
      "metadata": {
        "id": "jokrCjgXy5s3"
      }
    },
    {
      "cell_type": "code",
      "source": [
        "horizon = 8\n",
        "node1_delay = df[['node1_delay']]\n",
        "node1_delay_dataset = node1_delay.values\n",
        "window_size, slide_size = smooth_ASAP(node1_delay_dataset, resolution=50)\n",
        "print(\"Window Size: \", window_size)\n",
        "\n",
        "denoised_node1_delay_dataset = moving_average(node1_delay_dataset, window_size)\n",
        "\n",
        "# split into train and test sets\n",
        "train_size = int(len(denoised_node1_delay_dataset) * 0.9)\n",
        "test_size = len(denoised_node1_delay_dataset) - train_size\n",
        "train, test = denoised_node1_delay_dataset[0:train_size], denoised_node1_delay_dataset[train_size:]\n",
        "\n",
        "print(len(train), len(test))\n",
        "\n",
        "# reshape into X=t and Y=t+1\n",
        "trainX, trainY = create_multistep_dataset(train, look_back, horizon)\n",
        "testX, testY = create_multistep_dataset(test, look_back, horizon)\n",
        "\n",
        "# reshape input to be [samples, time steps, features]\n",
        "# trainX = np.reshape(trainX, (trainX.shape[0], 1, trainX.shape[1]))\n",
        "# testX = np.reshape(testX, (testX.shape[0], 1, testX.shape[1]))\n",
        "\n",
        "models, training_elapsed_time = direct_multistep_strategy('esn', trainX, trainY)\n",
        "\n",
        "print(\"ESN Model Training Elapsed Time : %.5f\" % (training_elapsed_time), \"seconds\")\n",
        "\n",
        "# make predictions\n",
        "testPredict, predictions_elapsed_time = make_predictions(models, testX, horizon, model='esn')\n",
        "testPredict = np.array(testPredict)\n",
        "\n",
        "testRMSE = np.sqrt(mean_squared_error(testY, testPredict[:len(testY), :]))\n",
        "testMAE = mean_absolute_error(testY, testPredict[:len(testY), :])\n",
        "\n",
        "print('ESN Test RMSE : %.5f' % (testRMSE))\n",
        "print('ESN Test MAE : %.5f' % (testMAE))\n",
        "print(\"ESN Elapsed Time To generate Predictions : %.5f\" % (predictions_elapsed_time), \"seconds\")"
      ],
      "metadata": {
        "colab": {
          "base_uri": "https://localhost:8080/"
        },
        "id": "QbeUF-5by4_-",
        "outputId": "eee22779-a8dc-420e-ff12-b3279ccb10d7"
      },
      "execution_count": null,
      "outputs": [
        {
          "output_type": "stream",
          "name": "stdout",
          "text": [
            "Window Size:  10\n",
            "17991 2000\n"
          ]
        },
        {
          "output_type": "stream",
          "name": "stderr",
          "text": [
            "\r  0%|          | 0/8 [00:00<?, ?it/s]"
          ]
        },
        {
          "output_type": "stream",
          "name": "stdout",
          "text": [
            "harvesting states...\n",
            "fitting...\n"
          ]
        },
        {
          "output_type": "stream",
          "name": "stderr",
          "text": [
            "\r 12%|█▎        | 1/8 [00:12<01:27, 12.44s/it]"
          ]
        },
        {
          "output_type": "stream",
          "name": "stdout",
          "text": [
            "training error:\n",
            "0.01815686742975528\n",
            "Model Done !\n",
            "harvesting states...\n",
            "fitting...\n"
          ]
        },
        {
          "output_type": "stream",
          "name": "stderr",
          "text": [
            "\r 25%|██▌       | 2/8 [00:24<01:13, 12.21s/it]"
          ]
        },
        {
          "output_type": "stream",
          "name": "stdout",
          "text": [
            "training error:\n",
            "0.025001827163190896\n",
            "Model Done !\n",
            "harvesting states...\n",
            "fitting...\n"
          ]
        },
        {
          "output_type": "stream",
          "name": "stderr",
          "text": [
            "\r 38%|███▊      | 3/8 [00:36<01:00, 12.02s/it]"
          ]
        },
        {
          "output_type": "stream",
          "name": "stdout",
          "text": [
            "training error:\n",
            "0.028954188074113565\n",
            "Model Done !\n",
            "harvesting states...\n",
            "fitting...\n"
          ]
        },
        {
          "output_type": "stream",
          "name": "stderr",
          "text": [
            "\r 50%|█████     | 4/8 [00:48<00:47, 11.91s/it]"
          ]
        },
        {
          "output_type": "stream",
          "name": "stdout",
          "text": [
            "training error:\n",
            "0.0317015845803958\n",
            "Model Done !\n",
            "harvesting states...\n",
            "fitting...\n"
          ]
        },
        {
          "output_type": "stream",
          "name": "stderr",
          "text": [
            "\r 62%|██████▎   | 5/8 [00:59<00:35, 11.91s/it]"
          ]
        },
        {
          "output_type": "stream",
          "name": "stdout",
          "text": [
            "training error:\n",
            "0.0339452700798532\n",
            "Model Done !\n",
            "harvesting states...\n",
            "fitting...\n"
          ]
        },
        {
          "output_type": "stream",
          "name": "stderr",
          "text": [
            "\r 75%|███████▌  | 6/8 [01:11<00:23, 11.83s/it]"
          ]
        },
        {
          "output_type": "stream",
          "name": "stdout",
          "text": [
            "training error:\n",
            "0.03538656473218189\n",
            "Model Done !\n",
            "harvesting states...\n",
            "fitting...\n"
          ]
        },
        {
          "output_type": "stream",
          "name": "stderr",
          "text": [
            "\r 88%|████████▊ | 7/8 [01:23<00:11, 12.00s/it]"
          ]
        },
        {
          "output_type": "stream",
          "name": "stdout",
          "text": [
            "training error:\n",
            "0.036302305056767854\n",
            "Model Done !\n",
            "harvesting states...\n",
            "fitting...\n"
          ]
        },
        {
          "output_type": "stream",
          "name": "stderr",
          "text": [
            "100%|██████████| 8/8 [01:35<00:00, 11.93s/it]\n"
          ]
        },
        {
          "output_type": "stream",
          "name": "stdout",
          "text": [
            "training error:\n",
            "0.037084636807682946\n",
            "Model Done !\n",
            "All Models Done !\n",
            "ESN Model Training Elapsed Time : 85.93120 seconds\n"
          ]
        },
        {
          "output_type": "stream",
          "name": "stderr",
          "text": [
            "Progress: 100%|██████████| 1982/1982 [00:09<00:00, 210.80it/s]"
          ]
        },
        {
          "output_type": "stream",
          "name": "stdout",
          "text": [
            "ESN Test RMSE : 0.06094\n",
            "ESN Test MAE : 0.04711\n",
            "ESN Elapsed Time To generate Predictions : 9.40888 seconds\n"
          ]
        },
        {
          "output_type": "stream",
          "name": "stderr",
          "text": [
            "\n"
          ]
        }
      ]
    },
    {
      "cell_type": "markdown",
      "source": [
        "#### Horizon = 10"
      ],
      "metadata": {
        "id": "HTG6uLWyzA0L"
      }
    },
    {
      "cell_type": "code",
      "source": [
        "horizon = 10\n",
        "node1_delay = df[['node1_delay']]\n",
        "node1_delay_dataset = node1_delay.values\n",
        "window_size, slide_size = smooth_ASAP(node1_delay_dataset, resolution=50)\n",
        "print(\"Window Size: \", window_size)\n",
        "\n",
        "denoised_node1_delay_dataset = moving_average(node1_delay_dataset, window_size)\n",
        "\n",
        "# split into train and test sets\n",
        "train_size = int(len(denoised_node1_delay_dataset) * 0.9)\n",
        "test_size = len(denoised_node1_delay_dataset) - train_size\n",
        "train, test = denoised_node1_delay_dataset[0:train_size], denoised_node1_delay_dataset[train_size:]\n",
        "\n",
        "print(len(train), len(test))\n",
        "\n",
        "# reshape into X=t and Y=t+1\n",
        "trainX, trainY = create_multistep_dataset(train, look_back, horizon)\n",
        "testX, testY = create_multistep_dataset(test, look_back, horizon)\n",
        "\n",
        "# reshape input to be [samples, time steps, features]\n",
        "# trainX = np.reshape(trainX, (trainX.shape[0], 1, trainX.shape[1]))\n",
        "# testX = np.reshape(testX, (testX.shape[0], 1, testX.shape[1]))\n",
        "\n",
        "models, training_elapsed_time = direct_multistep_strategy('esn', trainX, trainY)\n",
        "\n",
        "print(\"ESN Model Training Elapsed Time : %.5f\" % (training_elapsed_time), \"seconds\")\n",
        "\n",
        "# make predictions\n",
        "testPredict, predictions_elapsed_time = make_predictions(models, testX, horizon, model='esn')\n",
        "testPredict = np.array(testPredict)\n",
        "\n",
        "testRMSE = np.sqrt(mean_squared_error(testY, testPredict[:len(testY), :]))\n",
        "testMAE = mean_absolute_error(testY, testPredict[:len(testY), :])\n",
        "\n",
        "print('ESN Test RMSE : %.5f' % (testRMSE))\n",
        "print('ESN Test MAE : %.5f' % (testMAE))\n",
        "print(\"ESN Elapsed Time To generate Predictions : %.5f\" % (predictions_elapsed_time), \"seconds\")"
      ],
      "metadata": {
        "colab": {
          "base_uri": "https://localhost:8080/"
        },
        "id": "Aw8O5obIy_1u",
        "outputId": "fb91ba79-4afe-47ab-e67c-154e8d54da16"
      },
      "execution_count": null,
      "outputs": [
        {
          "output_type": "stream",
          "name": "stdout",
          "text": [
            "Window Size:  10\n",
            "17991 2000\n"
          ]
        },
        {
          "output_type": "stream",
          "name": "stderr",
          "text": [
            "\r  0%|          | 0/10 [00:00<?, ?it/s]"
          ]
        },
        {
          "output_type": "stream",
          "name": "stdout",
          "text": [
            "harvesting states...\n",
            "fitting...\n"
          ]
        },
        {
          "output_type": "stream",
          "name": "stderr",
          "text": [
            "\r 10%|█         | 1/10 [00:12<01:50, 12.24s/it]"
          ]
        },
        {
          "output_type": "stream",
          "name": "stdout",
          "text": [
            "training error:\n",
            "0.018156818769159738\n",
            "Model Done !\n",
            "harvesting states...\n",
            "fitting...\n"
          ]
        },
        {
          "output_type": "stream",
          "name": "stderr",
          "text": [
            "\r 20%|██        | 2/10 [00:23<01:34, 11.80s/it]"
          ]
        },
        {
          "output_type": "stream",
          "name": "stdout",
          "text": [
            "training error:\n",
            "0.025001838033269667\n",
            "Model Done !\n",
            "harvesting states...\n",
            "fitting...\n"
          ]
        },
        {
          "output_type": "stream",
          "name": "stderr",
          "text": [
            "\r 30%|███       | 3/10 [00:35<01:21, 11.68s/it]"
          ]
        },
        {
          "output_type": "stream",
          "name": "stdout",
          "text": [
            "training error:\n",
            "0.02895092004928651\n",
            "Model Done !\n",
            "harvesting states...\n",
            "fitting...\n"
          ]
        },
        {
          "output_type": "stream",
          "name": "stderr",
          "text": [
            "\r 40%|████      | 4/10 [00:47<01:10, 11.77s/it]"
          ]
        },
        {
          "output_type": "stream",
          "name": "stdout",
          "text": [
            "training error:\n",
            "0.0317008473597202\n",
            "Model Done !\n",
            "harvesting states...\n",
            "fitting...\n"
          ]
        },
        {
          "output_type": "stream",
          "name": "stderr",
          "text": [
            "\r 50%|█████     | 5/10 [00:57<00:56, 11.32s/it]"
          ]
        },
        {
          "output_type": "stream",
          "name": "stdout",
          "text": [
            "training error:\n",
            "0.03394416705812023\n",
            "Model Done !\n",
            "harvesting states...\n",
            "fitting...\n"
          ]
        },
        {
          "output_type": "stream",
          "name": "stderr",
          "text": [
            "\r 60%|██████    | 6/10 [01:09<00:45, 11.45s/it]"
          ]
        },
        {
          "output_type": "stream",
          "name": "stdout",
          "text": [
            "training error:\n",
            "0.03538308004716232\n",
            "Model Done !\n",
            "harvesting states...\n",
            "fitting...\n"
          ]
        },
        {
          "output_type": "stream",
          "name": "stderr",
          "text": [
            "\r 70%|███████   | 7/10 [01:21<00:34, 11.64s/it]"
          ]
        },
        {
          "output_type": "stream",
          "name": "stdout",
          "text": [
            "training error:\n",
            "0.036302840018700544\n",
            "Model Done !\n",
            "harvesting states...\n",
            "fitting...\n"
          ]
        },
        {
          "output_type": "stream",
          "name": "stderr",
          "text": [
            "\r 80%|████████  | 8/10 [01:33<00:23, 11.81s/it]"
          ]
        },
        {
          "output_type": "stream",
          "name": "stdout",
          "text": [
            "training error:\n",
            "0.037086252484157305\n",
            "Model Done !\n",
            "harvesting states...\n",
            "fitting...\n"
          ]
        },
        {
          "output_type": "stream",
          "name": "stderr",
          "text": [
            "\r 90%|█████████ | 9/10 [01:45<00:11, 11.91s/it]"
          ]
        },
        {
          "output_type": "stream",
          "name": "stdout",
          "text": [
            "training error:\n",
            "0.03792990446133284\n",
            "Model Done !\n",
            "harvesting states...\n",
            "fitting...\n"
          ]
        },
        {
          "output_type": "stream",
          "name": "stderr",
          "text": [
            "100%|██████████| 10/10 [01:57<00:00, 11.72s/it]\n"
          ]
        },
        {
          "output_type": "stream",
          "name": "stdout",
          "text": [
            "training error:\n",
            "0.037571013323241136\n",
            "Model Done !\n",
            "All Models Done !\n",
            "ESN Model Training Elapsed Time : 105.46155 seconds\n"
          ]
        },
        {
          "output_type": "stream",
          "name": "stderr",
          "text": [
            "Progress: 100%|██████████| 1980/1980 [00:12<00:00, 161.86it/s]"
          ]
        },
        {
          "output_type": "stream",
          "name": "stdout",
          "text": [
            "ESN Test RMSE : 0.06152\n",
            "ESN Test MAE : 0.04689\n",
            "ESN Elapsed Time To generate Predictions : 12.24648 seconds\n"
          ]
        },
        {
          "output_type": "stream",
          "name": "stderr",
          "text": [
            "\n"
          ]
        }
      ]
    },
    {
      "cell_type": "code",
      "source": [],
      "metadata": {
        "id": "1aOME9F6zGfM"
      },
      "execution_count": null,
      "outputs": []
    }
  ]
}